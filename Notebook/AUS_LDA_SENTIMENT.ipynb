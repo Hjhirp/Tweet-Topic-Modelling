{
  "nbformat": 4,
  "nbformat_minor": 0,
  "metadata": {
    "colab": {
      "provenance": [],
      "include_colab_link": true
    },
    "kernelspec": {
      "name": "python3",
      "display_name": "Python 3"
    },
    "language_info": {
      "name": "python"
    }
  },
  "cells": [
    {
      "cell_type": "markdown",
      "metadata": {
        "id": "view-in-github",
        "colab_type": "text"
      },
      "source": [
        "<a href=\"https://colab.research.google.com/github/Hjhirp/Tweet-Topic-Modelling/blob/main/Notebook/AUS_LDA_SENTIMENT.ipynb\" target=\"_parent\"><img src=\"https://colab.research.google.com/assets/colab-badge.svg\" alt=\"Open In Colab\"/></a>"
      ]
    },
    {
      "cell_type": "markdown",
      "source": [
        "<h1> Importing Libraries </h1>"
      ],
      "metadata": {
        "id": "Sy7M7kC4WR_3"
      }
    },
    {
      "cell_type": "code",
      "execution_count": null,
      "metadata": {
        "colab": {
          "base_uri": "https://localhost:8080/"
        },
        "id": "ZeM6sYjZV_AD",
        "outputId": "e9741af6-a7c7-431a-8792-057b9067cb8a"
      },
      "outputs": [
        {
          "output_type": "stream",
          "name": "stdout",
          "text": [
            "Requirement already satisfied: pyLDAvis in /usr/local/lib/python3.7/dist-packages (3.3.1)\n",
            "Requirement already satisfied: scipy in /usr/local/lib/python3.7/dist-packages (from pyLDAvis) (1.4.1)\n",
            "Requirement already satisfied: funcy in /usr/local/lib/python3.7/dist-packages (from pyLDAvis) (1.17)\n",
            "Requirement already satisfied: setuptools in /usr/local/lib/python3.7/dist-packages (from pyLDAvis) (57.4.0)\n",
            "Requirement already satisfied: jinja2 in /usr/local/lib/python3.7/dist-packages (from pyLDAvis) (2.11.3)\n",
            "Requirement already satisfied: pandas>=1.2.0 in /usr/local/lib/python3.7/dist-packages (from pyLDAvis) (1.3.1)\n",
            "Requirement already satisfied: numexpr in /usr/local/lib/python3.7/dist-packages (from pyLDAvis) (2.8.1)\n",
            "Requirement already satisfied: numpy>=1.20.0 in /usr/local/lib/python3.7/dist-packages (from pyLDAvis) (1.21.5)\n",
            "Requirement already satisfied: sklearn in /usr/local/lib/python3.7/dist-packages (from pyLDAvis) (0.0)\n",
            "Requirement already satisfied: joblib in /usr/local/lib/python3.7/dist-packages (from pyLDAvis) (1.1.0)\n",
            "Requirement already satisfied: scikit-learn in /usr/local/lib/python3.7/dist-packages (from pyLDAvis) (1.0.2)\n",
            "Requirement already satisfied: gensim in /usr/local/lib/python3.7/dist-packages (from pyLDAvis) (3.6.0)\n",
            "Requirement already satisfied: future in /usr/local/lib/python3.7/dist-packages (from pyLDAvis) (0.16.0)\n",
            "Requirement already satisfied: pytz>=2017.3 in /usr/local/lib/python3.7/dist-packages (from pandas>=1.2.0->pyLDAvis) (2018.9)\n",
            "Requirement already satisfied: python-dateutil>=2.7.3 in /usr/local/lib/python3.7/dist-packages (from pandas>=1.2.0->pyLDAvis) (2.8.2)\n",
            "Requirement already satisfied: six>=1.5 in /usr/local/lib/python3.7/dist-packages (from python-dateutil>=2.7.3->pandas>=1.2.0->pyLDAvis) (1.15.0)\n",
            "Requirement already satisfied: smart-open>=1.2.1 in /usr/local/lib/python3.7/dist-packages (from gensim->pyLDAvis) (5.2.1)\n",
            "Requirement already satisfied: MarkupSafe>=0.23 in /usr/local/lib/python3.7/dist-packages (from jinja2->pyLDAvis) (2.0.1)\n",
            "Requirement already satisfied: packaging in /usr/local/lib/python3.7/dist-packages (from numexpr->pyLDAvis) (21.3)\n",
            "Requirement already satisfied: pyparsing!=3.0.5,>=2.0.2 in /usr/local/lib/python3.7/dist-packages (from packaging->numexpr->pyLDAvis) (3.0.6)\n",
            "Requirement already satisfied: threadpoolctl>=2.0.0 in /usr/local/lib/python3.7/dist-packages (from scikit-learn->pyLDAvis) (3.0.0)\n"
          ]
        }
      ],
      "source": [
        "!pip install pyLDAvis"
      ]
    },
    {
      "cell_type": "code",
      "source": [
        "#!wget https://github.com/bhushaaan/omdena_aus/blob/916166635c829f40d2e8d7428fb743e29af71d19/Twitterabuse.csv"
      ],
      "metadata": {
        "id": "c9R89x2SWEHQ"
      },
      "execution_count": null,
      "outputs": []
    },
    {
      "cell_type": "code",
      "source": [
        "#https://www.machinelearningplus.com/nlp/topic-modeling-gensim-python/#1introduction\n",
        "import numpy as np\n",
        "import pandas as pd\n",
        "import json\n",
        "import glob\n",
        "\n",
        "#Gensim\n",
        "import gensim\n",
        "import gensim.corpora as corpora\n",
        "from gensim.utils import simple_preprocess\n",
        "from gensim.models import CoherenceModel\n",
        "\n",
        "#spacy\n",
        "import spacy\n",
        "from nltk.corpus import stopwords\n",
        "\n",
        "#vis\n",
        "import pyLDAvis\n",
        "import pyLDAvis.sklearn\n",
        "pyLDAvis.enable_notebook()\n",
        "\n",
        "import warnings\n",
        "warnings.filterwarnings(\"ignore\", category=DeprecationWarning)\n",
        "\n",
        "import nltk\n",
        "nltk.download('stopwords')\n",
        "\n",
        "import gensim\n",
        "from gensim.corpora import Dictionary\n",
        "\n",
        "from IPython.display import clear_output\n",
        "\n",
        "import pyLDAvis.gensim_models as gensim_models\n",
        "from gensim.models.coherencemodel import CoherenceModel"
      ],
      "metadata": {
        "colab": {
          "base_uri": "https://localhost:8080/"
        },
        "id": "uf-NZokrWE3s",
        "outputId": "c68e1405-3061-4857-f9fe-791bfcc8002b"
      },
      "execution_count": null,
      "outputs": [
        {
          "output_type": "stream",
          "name": "stdout",
          "text": [
            "[nltk_data] Downloading package stopwords to /root/nltk_data...\n",
            "[nltk_data]   Package stopwords is already up-to-date!\n"
          ]
        },
        {
          "output_type": "stream",
          "name": "stderr",
          "text": [
            "/usr/local/lib/python3.7/dist-packages/past/types/oldstr.py:5: DeprecationWarning: Using or importing the ABCs from 'collections' instead of from 'collections.abc' is deprecated since Python 3.3,and in 3.9 it will stop working\n",
            "  from collections import Iterable\n"
          ]
        }
      ]
    },
    {
      "cell_type": "markdown",
      "source": [
        "<h1> Preparing data and storing in df dataframe </h1>"
      ],
      "metadata": {
        "id": "bNBZAEJyWfML"
      }
    },
    {
      "cell_type": "code",
      "source": [
        "df = pd.read_csv('Twitterabuse.csv', error_bad_lines=False, engine=\"python\", encoding=\"ISO-8859-1\")\n",
        "#df = pd.read_csv(\"temp.csv\", sep=\";\")\n",
        "df"
      ],
      "metadata": {
        "colab": {
          "base_uri": "https://localhost:8080/",
          "height": 1000
        },
        "id": "Qp0BSKyTWE57",
        "outputId": "e5741a13-bfef-47b3-de60-e47be65ce8d0"
      },
      "execution_count": null,
      "outputs": [
        {
          "output_type": "stream",
          "name": "stderr",
          "text": [
            "/usr/local/lib/python3.7/dist-packages/IPython/core/interactiveshell.py:2882: FutureWarning: The error_bad_lines argument has been deprecated and will be removed in a future version.\n",
            "\n",
            "\n",
            "  exec(code_obj, self.user_global_ns, self.user_ns)\n"
          ]
        },
        {
          "output_type": "execute_result",
          "data": {
            "text/html": [
              "\n",
              "  <div id=\"df-686665fe-ecd3-49d7-92f2-0d820b69fe46\">\n",
              "    <div class=\"colab-df-container\">\n",
              "      <div>\n",
              "<style scoped>\n",
              "    .dataframe tbody tr th:only-of-type {\n",
              "        vertical-align: middle;\n",
              "    }\n",
              "\n",
              "    .dataframe tbody tr th {\n",
              "        vertical-align: top;\n",
              "    }\n",
              "\n",
              "    .dataframe thead th {\n",
              "        text-align: right;\n",
              "    }\n",
              "</style>\n",
              "<table border=\"1\" class=\"dataframe\">\n",
              "  <thead>\n",
              "    <tr style=\"text-align: right;\">\n",
              "      <th></th>\n",
              "      <th>Unnamed: 0</th>\n",
              "      <th>url</th>\n",
              "      <th>date</th>\n",
              "      <th>content</th>\n",
              "      <th>renderedContent</th>\n",
              "      <th>id</th>\n",
              "      <th>user</th>\n",
              "      <th>replyCount</th>\n",
              "      <th>retweetCount</th>\n",
              "      <th>likeCount</th>\n",
              "      <th>quoteCount</th>\n",
              "      <th>conversationId</th>\n",
              "      <th>lang</th>\n",
              "      <th>source</th>\n",
              "      <th>sourceUrl</th>\n",
              "      <th>sourceLabel</th>\n",
              "      <th>outlinks</th>\n",
              "      <th>tcooutlinks</th>\n",
              "      <th>media</th>\n",
              "      <th>retweetedTweet</th>\n",
              "      <th>quotedTweet</th>\n",
              "      <th>inReplyToTweetId</th>\n",
              "      <th>inReplyToUser</th>\n",
              "      <th>mentionedUsers</th>\n",
              "      <th>coordinates</th>\n",
              "      <th>place</th>\n",
              "      <th>hashtags</th>\n",
              "      <th>cashtags</th>\n",
              "    </tr>\n",
              "  </thead>\n",
              "  <tbody>\n",
              "    <tr>\n",
              "      <th>0</th>\n",
              "      <td>0</td>\n",
              "      <td>https://twitter.com/martyps/status/14766877858...</td>\n",
              "      <td>2021-12-30 22:52:58+00:00</td>\n",
              "      <td>@TrakkyD @NSWHealth abuse was hurled at scient...</td>\n",
              "      <td>@TrakkyD @NSWHealth abuse was hurled at scient...</td>\n",
              "      <td>1476687785872420864</td>\n",
              "      <td>{'username': 'martyps', 'id': 17335098, 'displ...</td>\n",
              "      <td>0</td>\n",
              "      <td>0</td>\n",
              "      <td>0</td>\n",
              "      <td>0</td>\n",
              "      <td>1476674512187846665</td>\n",
              "      <td>en</td>\n",
              "      <td>&lt;a href=\"http://twitter.com/download/iphone\" r...</td>\n",
              "      <td>http://twitter.com/download/iphone</td>\n",
              "      <td>Twitter for iPhone</td>\n",
              "      <td>NaN</td>\n",
              "      <td>NaN</td>\n",
              "      <td>NaN</td>\n",
              "      <td>NaN</td>\n",
              "      <td>NaN</td>\n",
              "      <td>1.476685e+18</td>\n",
              "      <td>{'username': 'TrakkyD', 'id': 1137233693548748...</td>\n",
              "      <td>[{'username': 'TrakkyD', 'id': 113723369354874...</td>\n",
              "      <td>{'longitude': 150.520928608, 'latitude': -34.1...</td>\n",
              "      <td>{'fullName': 'Sydney, New South Wales', 'name'...</td>\n",
              "      <td>NaN</td>\n",
              "      <td>NaN</td>\n",
              "    </tr>\n",
              "    <tr>\n",
              "      <th>1</th>\n",
              "      <td>1</td>\n",
              "      <td>https://twitter.com/AlliC19/status/14766814294...</td>\n",
              "      <td>2021-12-30 22:27:42+00:00</td>\n",
              "      <td>@crakeka1 It is interesting as many attack oth...</td>\n",
              "      <td>@crakeka1 It is interesting as many attack oth...</td>\n",
              "      <td>1476681429400449034</td>\n",
              "      <td>{'username': 'AlliC19', 'id': 1903049988, 'dis...</td>\n",
              "      <td>1</td>\n",
              "      <td>0</td>\n",
              "      <td>1</td>\n",
              "      <td>0</td>\n",
              "      <td>1476676731851329536</td>\n",
              "      <td>en</td>\n",
              "      <td>&lt;a href=\"http://twitter.com/download/android\" ...</td>\n",
              "      <td>http://twitter.com/download/android</td>\n",
              "      <td>Twitter for Android</td>\n",
              "      <td>NaN</td>\n",
              "      <td>NaN</td>\n",
              "      <td>NaN</td>\n",
              "      <td>NaN</td>\n",
              "      <td>NaN</td>\n",
              "      <td>1.476677e+18</td>\n",
              "      <td>{'username': 'crakeka1', 'id': 2723185873, 'di...</td>\n",
              "      <td>[{'username': 'crakeka1', 'id': 2723185873, 'd...</td>\n",
              "      <td>{'longitude': 144.593741856, 'latitude': -38.4...</td>\n",
              "      <td>{'fullName': 'Melbourne, Victoria', 'name': 'M...</td>\n",
              "      <td>NaN</td>\n",
              "      <td>NaN</td>\n",
              "    </tr>\n",
              "    <tr>\n",
              "      <th>2</th>\n",
              "      <td>2</td>\n",
              "      <td>https://twitter.com/mikjcal/status/14766793839...</td>\n",
              "      <td>2021-12-30 22:19:35+00:00</td>\n",
              "      <td>@chadfelixg No wonder LGBTQ would feel mentall...</td>\n",
              "      <td>@chadfelixg No wonder LGBTQ would feel mentall...</td>\n",
              "      <td>1476679383964217352</td>\n",
              "      <td>{'username': 'mikjcal', 'id': 8096509038001561...</td>\n",
              "      <td>0</td>\n",
              "      <td>0</td>\n",
              "      <td>1</td>\n",
              "      <td>0</td>\n",
              "      <td>1476676718610030598</td>\n",
              "      <td>en</td>\n",
              "      <td>&lt;a href=\"http://twitter.com/download/iphone\" r...</td>\n",
              "      <td>http://twitter.com/download/iphone</td>\n",
              "      <td>Twitter for iPhone</td>\n",
              "      <td>NaN</td>\n",
              "      <td>NaN</td>\n",
              "      <td>NaN</td>\n",
              "      <td>NaN</td>\n",
              "      <td>NaN</td>\n",
              "      <td>1.476677e+18</td>\n",
              "      <td>{'username': 'chadfelixg', 'id': 17626317, 'di...</td>\n",
              "      <td>[{'username': 'chadfelixg', 'id': 17626317, 'd...</td>\n",
              "      <td>{'longitude': 144.593741856, 'latitude': -38.4...</td>\n",
              "      <td>{'fullName': 'Melbourne, Victoria', 'name': 'M...</td>\n",
              "      <td>NaN</td>\n",
              "      <td>NaN</td>\n",
              "    </tr>\n",
              "    <tr>\n",
              "      <th>3</th>\n",
              "      <td>3</td>\n",
              "      <td>https://twitter.com/AweCentiQue/status/1476483...</td>\n",
              "      <td>2021-12-30 09:20:47+00:00</td>\n",
              "      <td>@thesayno7 @Anne_Ruston @JElliotMP @JulianHill...</td>\n",
              "      <td>@thesayno7 @Anne_Ruston @JElliotMP @JulianHill...</td>\n",
              "      <td>1476483394041090051</td>\n",
              "      <td>{'username': 'AweCentiQue', 'id': 140039824775...</td>\n",
              "      <td>0</td>\n",
              "      <td>1</td>\n",
              "      <td>1</td>\n",
              "      <td>0</td>\n",
              "      <td>1450303683481116680</td>\n",
              "      <td>en</td>\n",
              "      <td>&lt;a href=\"http://twitter.com/download/android\" ...</td>\n",
              "      <td>http://twitter.com/download/android</td>\n",
              "      <td>Twitter for Android</td>\n",
              "      <td>NaN</td>\n",
              "      <td>NaN</td>\n",
              "      <td>NaN</td>\n",
              "      <td>NaN</td>\n",
              "      <td>NaN</td>\n",
              "      <td>1.450824e+18</td>\n",
              "      <td>{'username': 'thesayno7', 'id': 11853666428694...</td>\n",
              "      <td>[{'username': 'thesayno7', 'id': 1185366642869...</td>\n",
              "      <td>{'longitude': 152.668522848, 'latitude': -27.7...</td>\n",
              "      <td>{'fullName': 'Brisbane, Queensland', 'name': '...</td>\n",
              "      <td>NaN</td>\n",
              "      <td>NaN</td>\n",
              "    </tr>\n",
              "    <tr>\n",
              "      <th>4</th>\n",
              "      <td>4</td>\n",
              "      <td>https://twitter.com/Kuvlotik/status/1476424899...</td>\n",
              "      <td>2021-12-30 05:28:21+00:00</td>\n",
              "      <td>@marie19705 @ScottMorrisonMP 2/\\ndivides inste...</td>\n",
              "      <td>@marie19705 @ScottMorrisonMP 2/\\ndivides inste...</td>\n",
              "      <td>1476424899249926145</td>\n",
              "      <td>{'username': 'Kuvlotik', 'id': 93730228, 'disp...</td>\n",
              "      <td>1</td>\n",
              "      <td>0</td>\n",
              "      <td>1</td>\n",
              "      <td>0</td>\n",
              "      <td>1476116833002409984</td>\n",
              "      <td>en</td>\n",
              "      <td>&lt;a href=\"http://twitter.com/download/iphone\" r...</td>\n",
              "      <td>http://twitter.com/download/iphone</td>\n",
              "      <td>Twitter for iPhone</td>\n",
              "      <td>NaN</td>\n",
              "      <td>NaN</td>\n",
              "      <td>NaN</td>\n",
              "      <td>NaN</td>\n",
              "      <td>NaN</td>\n",
              "      <td>1.476422e+18</td>\n",
              "      <td>{'username': 'Kuvlotik', 'id': 93730228, 'disp...</td>\n",
              "      <td>[{'username': 'marie19705', 'id': 48946651, 'd...</td>\n",
              "      <td>{'longitude': 151.468376, 'latitude': -30.6589...</td>\n",
              "      <td>{'fullName': 'Uralla, New South Wales', 'name'...</td>\n",
              "      <td>NaN</td>\n",
              "      <td>NaN</td>\n",
              "    </tr>\n",
              "    <tr>\n",
              "      <th>...</th>\n",
              "      <td>...</td>\n",
              "      <td>...</td>\n",
              "      <td>...</td>\n",
              "      <td>...</td>\n",
              "      <td>...</td>\n",
              "      <td>...</td>\n",
              "      <td>...</td>\n",
              "      <td>...</td>\n",
              "      <td>...</td>\n",
              "      <td>...</td>\n",
              "      <td>...</td>\n",
              "      <td>...</td>\n",
              "      <td>...</td>\n",
              "      <td>...</td>\n",
              "      <td>...</td>\n",
              "      <td>...</td>\n",
              "      <td>...</td>\n",
              "      <td>...</td>\n",
              "      <td>...</td>\n",
              "      <td>...</td>\n",
              "      <td>...</td>\n",
              "      <td>...</td>\n",
              "      <td>...</td>\n",
              "      <td>...</td>\n",
              "      <td>...</td>\n",
              "      <td>...</td>\n",
              "      <td>...</td>\n",
              "      <td>...</td>\n",
              "    </tr>\n",
              "    <tr>\n",
              "      <th>95</th>\n",
              "      <td>95</td>\n",
              "      <td>https://twitter.com/Michael61058663/status/147...</td>\n",
              "      <td>2021-12-20 18:36:09+00:00</td>\n",
              "      <td>@ToniC8 Taking cheap shots is basically gutles...</td>\n",
              "      <td>@ToniC8 Taking cheap shots is basically gutles...</td>\n",
              "      <td>1472999277899120640</td>\n",
              "      <td>{'username': 'Michael61058663', 'id': 14281003...</td>\n",
              "      <td>0</td>\n",
              "      <td>0</td>\n",
              "      <td>1</td>\n",
              "      <td>0</td>\n",
              "      <td>1472972372210819079</td>\n",
              "      <td>en</td>\n",
              "      <td>&lt;a href=\"http://twitter.com/download/iphone\" r...</td>\n",
              "      <td>http://twitter.com/download/iphone</td>\n",
              "      <td>Twitter for iPhone</td>\n",
              "      <td>NaN</td>\n",
              "      <td>NaN</td>\n",
              "      <td>NaN</td>\n",
              "      <td>NaN</td>\n",
              "      <td>NaN</td>\n",
              "      <td>1.472972e+18</td>\n",
              "      <td>{'username': 'ToniC8', 'id': 366575137, 'displ...</td>\n",
              "      <td>[{'username': 'ToniC8', 'id': 366575137, 'disp...</td>\n",
              "      <td>{'longitude': 138.44212992, 'latitude': -35.34...</td>\n",
              "      <td>{'fullName': 'Adelaide, South Australia', 'nam...</td>\n",
              "      <td>NaN</td>\n",
              "      <td>NaN</td>\n",
              "    </tr>\n",
              "    <tr>\n",
              "      <th>96</th>\n",
              "      <td>96</td>\n",
              "      <td>https://twitter.com/reoreilly1/status/14729881...</td>\n",
              "      <td>2021-12-20 17:51:47+00:00</td>\n",
              "      <td>@TheblueTake @thereminfan @DLulabele Donât 2...</td>\n",
              "      <td>@TheblueTake @thereminfan @DLulabele Donât 2...</td>\n",
              "      <td>1472988113727225857</td>\n",
              "      <td>{'username': 'reoreilly1', 'id': 9214869766073...</td>\n",
              "      <td>0</td>\n",
              "      <td>0</td>\n",
              "      <td>2</td>\n",
              "      <td>0</td>\n",
              "      <td>1472741758278647817</td>\n",
              "      <td>en</td>\n",
              "      <td>&lt;a href=\"http://twitter.com/download/iphone\" r...</td>\n",
              "      <td>http://twitter.com/download/iphone</td>\n",
              "      <td>Twitter for iPhone</td>\n",
              "      <td>NaN</td>\n",
              "      <td>NaN</td>\n",
              "      <td>NaN</td>\n",
              "      <td>NaN</td>\n",
              "      <td>NaN</td>\n",
              "      <td>1.472771e+18</td>\n",
              "      <td>{'username': 'TheblueTake', 'id': 133590859012...</td>\n",
              "      <td>[{'username': 'TheblueTake', 'id': 13359085901...</td>\n",
              "      <td>{'longitude': 150.520928608, 'latitude': -34.1...</td>\n",
              "      <td>{'fullName': 'Sydney, New South Wales', 'name'...</td>\n",
              "      <td>NaN</td>\n",
              "      <td>NaN</td>\n",
              "    </tr>\n",
              "    <tr>\n",
              "      <th>97</th>\n",
              "      <td>97</td>\n",
              "      <td>https://twitter.com/AnnikaCorbert/status/14728...</td>\n",
              "      <td>2021-12-20 10:57:50+00:00</td>\n",
              "      <td>Of course Right wing parties will funnel votes...</td>\n",
              "      <td>Of course Right wing parties will funnel votes...</td>\n",
              "      <td>1472883937865125896</td>\n",
              "      <td>{'username': 'AnnikaCorbert', 'id': 2761178294...</td>\n",
              "      <td>1</td>\n",
              "      <td>1</td>\n",
              "      <td>0</td>\n",
              "      <td>0</td>\n",
              "      <td>1472883937865125896</td>\n",
              "      <td>en</td>\n",
              "      <td>&lt;a href=\"http://twitter.com/download/android\" ...</td>\n",
              "      <td>http://twitter.com/download/android</td>\n",
              "      <td>Twitter for Android</td>\n",
              "      <td>['https://twitter.com/PRGuy17/status/147281915...</td>\n",
              "      <td>['https://t.co/VFrDz2jzcg']</td>\n",
              "      <td>NaN</td>\n",
              "      <td>NaN</td>\n",
              "      <td>{'url': 'https://twitter.com/PRGuy17/status/14...</td>\n",
              "      <td>NaN</td>\n",
              "      <td>NaN</td>\n",
              "      <td>NaN</td>\n",
              "      <td>{'longitude': 144.994895616, 'latitude': -36.5...</td>\n",
              "      <td>{'fullName': 'Rushworth, Victoria', 'name': 'R...</td>\n",
              "      <td>NaN</td>\n",
              "      <td>NaN</td>\n",
              "    </tr>\n",
              "    <tr>\n",
              "      <th>98</th>\n",
              "      <td>98</td>\n",
              "      <td>https://twitter.com/ThibThibaut14/status/14728...</td>\n",
              "      <td>2021-12-20 10:39:05+00:00</td>\n",
              "      <td>@mancunienfl Wooooooooooooo les stats c'est tr...</td>\n",
              "      <td>@mancunienfl Wooooooooooooo les stats c'est tr...</td>\n",
              "      <td>1472879220288208897</td>\n",
              "      <td>{'username': 'ThibThibaut14', 'id': 932875050,...</td>\n",
              "      <td>0</td>\n",
              "      <td>0</td>\n",
              "      <td>1</td>\n",
              "      <td>0</td>\n",
              "      <td>1472802896030969860</td>\n",
              "      <td>fr</td>\n",
              "      <td>&lt;a href=\"http://twitter.com/download/android\" ...</td>\n",
              "      <td>http://twitter.com/download/android</td>\n",
              "      <td>Twitter for Android</td>\n",
              "      <td>NaN</td>\n",
              "      <td>NaN</td>\n",
              "      <td>NaN</td>\n",
              "      <td>NaN</td>\n",
              "      <td>NaN</td>\n",
              "      <td>1.472879e+18</td>\n",
              "      <td>{'username': 'mancunienfl', 'id': 893338602213...</td>\n",
              "      <td>[{'username': 'mancunienfl', 'id': 89333860221...</td>\n",
              "      <td>{'longitude': 129.001336997342, 'latitude': -3...</td>\n",
              "      <td>{'fullName': 'South Australia, Australia', 'na...</td>\n",
              "      <td>NaN</td>\n",
              "      <td>NaN</td>\n",
              "    </tr>\n",
              "    <tr>\n",
              "      <th>99</th>\n",
              "      <td>99</td>\n",
              "      <td>https://twitter.com/JansenBasil/status/1472876...</td>\n",
              "      <td>2021-12-20 10:29:06+00:00</td>\n",
              "      <td>@FloralEssence22 That's child abuse</td>\n",
              "      <td>@FloralEssence22 That's child abuse</td>\n",
              "      <td>1472876707904249856</td>\n",
              "      <td>{'username': 'JansenBasil', 'id': 1199031211, ...</td>\n",
              "      <td>0</td>\n",
              "      <td>0</td>\n",
              "      <td>2</td>\n",
              "      <td>0</td>\n",
              "      <td>1472689916496605186</td>\n",
              "      <td>en</td>\n",
              "      <td>&lt;a href=\"http://twitter.com/download/android\" ...</td>\n",
              "      <td>http://twitter.com/download/android</td>\n",
              "      <td>Twitter for Android</td>\n",
              "      <td>NaN</td>\n",
              "      <td>NaN</td>\n",
              "      <td>NaN</td>\n",
              "      <td>NaN</td>\n",
              "      <td>NaN</td>\n",
              "      <td>1.472690e+18</td>\n",
              "      <td>{'username': 'FloralEssence22', 'id': 14456771...</td>\n",
              "      <td>[{'username': 'FloralEssence22', 'id': 1445677...</td>\n",
              "      <td>{'longitude': 115.617614368, 'latitude': -32.6...</td>\n",
              "      <td>{'fullName': 'Perth, Western Australia', 'name...</td>\n",
              "      <td>NaN</td>\n",
              "      <td>NaN</td>\n",
              "    </tr>\n",
              "  </tbody>\n",
              "</table>\n",
              "<p>100 rows × 28 columns</p>\n",
              "</div>\n",
              "      <button class=\"colab-df-convert\" onclick=\"convertToInteractive('df-686665fe-ecd3-49d7-92f2-0d820b69fe46')\"\n",
              "              title=\"Convert this dataframe to an interactive table.\"\n",
              "              style=\"display:none;\">\n",
              "        \n",
              "  <svg xmlns=\"http://www.w3.org/2000/svg\" height=\"24px\"viewBox=\"0 0 24 24\"\n",
              "       width=\"24px\">\n",
              "    <path d=\"M0 0h24v24H0V0z\" fill=\"none\"/>\n",
              "    <path d=\"M18.56 5.44l.94 2.06.94-2.06 2.06-.94-2.06-.94-.94-2.06-.94 2.06-2.06.94zm-11 1L8.5 8.5l.94-2.06 2.06-.94-2.06-.94L8.5 2.5l-.94 2.06-2.06.94zm10 10l.94 2.06.94-2.06 2.06-.94-2.06-.94-.94-2.06-.94 2.06-2.06.94z\"/><path d=\"M17.41 7.96l-1.37-1.37c-.4-.4-.92-.59-1.43-.59-.52 0-1.04.2-1.43.59L10.3 9.45l-7.72 7.72c-.78.78-.78 2.05 0 2.83L4 21.41c.39.39.9.59 1.41.59.51 0 1.02-.2 1.41-.59l7.78-7.78 2.81-2.81c.8-.78.8-2.07 0-2.86zM5.41 20L4 18.59l7.72-7.72 1.47 1.35L5.41 20z\"/>\n",
              "  </svg>\n",
              "      </button>\n",
              "      \n",
              "  <style>\n",
              "    .colab-df-container {\n",
              "      display:flex;\n",
              "      flex-wrap:wrap;\n",
              "      gap: 12px;\n",
              "    }\n",
              "\n",
              "    .colab-df-convert {\n",
              "      background-color: #E8F0FE;\n",
              "      border: none;\n",
              "      border-radius: 50%;\n",
              "      cursor: pointer;\n",
              "      display: none;\n",
              "      fill: #1967D2;\n",
              "      height: 32px;\n",
              "      padding: 0 0 0 0;\n",
              "      width: 32px;\n",
              "    }\n",
              "\n",
              "    .colab-df-convert:hover {\n",
              "      background-color: #E2EBFA;\n",
              "      box-shadow: 0px 1px 2px rgba(60, 64, 67, 0.3), 0px 1px 3px 1px rgba(60, 64, 67, 0.15);\n",
              "      fill: #174EA6;\n",
              "    }\n",
              "\n",
              "    [theme=dark] .colab-df-convert {\n",
              "      background-color: #3B4455;\n",
              "      fill: #D2E3FC;\n",
              "    }\n",
              "\n",
              "    [theme=dark] .colab-df-convert:hover {\n",
              "      background-color: #434B5C;\n",
              "      box-shadow: 0px 1px 3px 1px rgba(0, 0, 0, 0.15);\n",
              "      filter: drop-shadow(0px 1px 2px rgba(0, 0, 0, 0.3));\n",
              "      fill: #FFFFFF;\n",
              "    }\n",
              "  </style>\n",
              "\n",
              "      <script>\n",
              "        const buttonEl =\n",
              "          document.querySelector('#df-686665fe-ecd3-49d7-92f2-0d820b69fe46 button.colab-df-convert');\n",
              "        buttonEl.style.display =\n",
              "          google.colab.kernel.accessAllowed ? 'block' : 'none';\n",
              "\n",
              "        async function convertToInteractive(key) {\n",
              "          const element = document.querySelector('#df-686665fe-ecd3-49d7-92f2-0d820b69fe46');\n",
              "          const dataTable =\n",
              "            await google.colab.kernel.invokeFunction('convertToInteractive',\n",
              "                                                     [key], {});\n",
              "          if (!dataTable) return;\n",
              "\n",
              "          const docLinkHtml = 'Like what you see? Visit the ' +\n",
              "            '<a target=\"_blank\" href=https://colab.research.google.com/notebooks/data_table.ipynb>data table notebook</a>'\n",
              "            + ' to learn more about interactive tables.';\n",
              "          element.innerHTML = '';\n",
              "          dataTable['output_type'] = 'display_data';\n",
              "          await google.colab.output.renderOutput(dataTable, element);\n",
              "          const docLink = document.createElement('div');\n",
              "          docLink.innerHTML = docLinkHtml;\n",
              "          element.appendChild(docLink);\n",
              "        }\n",
              "      </script>\n",
              "    </div>\n",
              "  </div>\n",
              "  "
            ],
            "text/plain": [
              "    Unnamed: 0  ... cashtags\n",
              "0            0  ...      NaN\n",
              "1            1  ...      NaN\n",
              "2            2  ...      NaN\n",
              "3            3  ...      NaN\n",
              "4            4  ...      NaN\n",
              "..         ...  ...      ...\n",
              "95          95  ...      NaN\n",
              "96          96  ...      NaN\n",
              "97          97  ...      NaN\n",
              "98          98  ...      NaN\n",
              "99          99  ...      NaN\n",
              "\n",
              "[100 rows x 28 columns]"
            ]
          },
          "metadata": {},
          "execution_count": 4
        }
      ]
    },
    {
      "cell_type": "markdown",
      "source": [
        "<h1> Finding Null values </h1>"
      ],
      "metadata": {
        "id": "s_yChEC4X4H2"
      }
    },
    {
      "cell_type": "code",
      "source": [
        "df.isnull().sum()"
      ],
      "metadata": {
        "colab": {
          "base_uri": "https://localhost:8080/"
        },
        "id": "RSULqOlfWE8r",
        "outputId": "fd40985c-04a9-4f61-b5b7-7a677d217157"
      },
      "execution_count": null,
      "outputs": [
        {
          "output_type": "execute_result",
          "data": {
            "text/plain": [
              "Unnamed: 0            0\n",
              "url                   0\n",
              "date                  0\n",
              "content               0\n",
              "renderedContent       0\n",
              "id                    0\n",
              "user                  0\n",
              "replyCount            0\n",
              "retweetCount          0\n",
              "likeCount             0\n",
              "quoteCount            0\n",
              "conversationId        0\n",
              "lang                  0\n",
              "source                0\n",
              "sourceUrl             0\n",
              "sourceLabel           0\n",
              "outlinks             76\n",
              "tcooutlinks          76\n",
              "media                93\n",
              "retweetedTweet      100\n",
              "quotedTweet          85\n",
              "inReplyToTweetId     38\n",
              "inReplyToUser        38\n",
              "mentionedUsers       38\n",
              "coordinates           0\n",
              "place                 0\n",
              "hashtags             91\n",
              "cashtags            100\n",
              "dtype: int64"
            ]
          },
          "metadata": {},
          "execution_count": 5
        }
      ]
    },
    {
      "cell_type": "code",
      "source": [
        "df = df.drop(['Unnamed: 0','id','conversationId','inReplyToTweetId','inReplyToUser','mentionedUsers','cashtags','hashtags','sourceLabel','inReplyToTweetId'], axis= 'columns')\n",
        "df = df.drop(['sourceUrl','source'], axis = 'columns')\n",
        "df.head()"
      ],
      "metadata": {
        "colab": {
          "base_uri": "https://localhost:8080/",
          "height": 565
        },
        "id": "_3g0Mzs9WE_L",
        "outputId": "708f488d-912d-4630-fbfb-13306f7b6810"
      },
      "execution_count": null,
      "outputs": [
        {
          "output_type": "execute_result",
          "data": {
            "text/html": [
              "\n",
              "  <div id=\"df-0c7acfba-998f-4f86-b19f-7f4d88bb647e\">\n",
              "    <div class=\"colab-df-container\">\n",
              "      <div>\n",
              "<style scoped>\n",
              "    .dataframe tbody tr th:only-of-type {\n",
              "        vertical-align: middle;\n",
              "    }\n",
              "\n",
              "    .dataframe tbody tr th {\n",
              "        vertical-align: top;\n",
              "    }\n",
              "\n",
              "    .dataframe thead th {\n",
              "        text-align: right;\n",
              "    }\n",
              "</style>\n",
              "<table border=\"1\" class=\"dataframe\">\n",
              "  <thead>\n",
              "    <tr style=\"text-align: right;\">\n",
              "      <th></th>\n",
              "      <th>url</th>\n",
              "      <th>date</th>\n",
              "      <th>content</th>\n",
              "      <th>renderedContent</th>\n",
              "      <th>user</th>\n",
              "      <th>replyCount</th>\n",
              "      <th>retweetCount</th>\n",
              "      <th>likeCount</th>\n",
              "      <th>quoteCount</th>\n",
              "      <th>lang</th>\n",
              "      <th>outlinks</th>\n",
              "      <th>tcooutlinks</th>\n",
              "      <th>media</th>\n",
              "      <th>retweetedTweet</th>\n",
              "      <th>quotedTweet</th>\n",
              "      <th>coordinates</th>\n",
              "      <th>place</th>\n",
              "    </tr>\n",
              "  </thead>\n",
              "  <tbody>\n",
              "    <tr>\n",
              "      <th>0</th>\n",
              "      <td>https://twitter.com/martyps/status/14766877858...</td>\n",
              "      <td>2021-12-30 22:52:58+00:00</td>\n",
              "      <td>@TrakkyD @NSWHealth abuse was hurled at scient...</td>\n",
              "      <td>@TrakkyD @NSWHealth abuse was hurled at scient...</td>\n",
              "      <td>{'username': 'martyps', 'id': 17335098, 'displ...</td>\n",
              "      <td>0</td>\n",
              "      <td>0</td>\n",
              "      <td>0</td>\n",
              "      <td>0</td>\n",
              "      <td>en</td>\n",
              "      <td>NaN</td>\n",
              "      <td>NaN</td>\n",
              "      <td>NaN</td>\n",
              "      <td>NaN</td>\n",
              "      <td>NaN</td>\n",
              "      <td>{'longitude': 150.520928608, 'latitude': -34.1...</td>\n",
              "      <td>{'fullName': 'Sydney, New South Wales', 'name'...</td>\n",
              "    </tr>\n",
              "    <tr>\n",
              "      <th>1</th>\n",
              "      <td>https://twitter.com/AlliC19/status/14766814294...</td>\n",
              "      <td>2021-12-30 22:27:42+00:00</td>\n",
              "      <td>@crakeka1 It is interesting as many attack oth...</td>\n",
              "      <td>@crakeka1 It is interesting as many attack oth...</td>\n",
              "      <td>{'username': 'AlliC19', 'id': 1903049988, 'dis...</td>\n",
              "      <td>1</td>\n",
              "      <td>0</td>\n",
              "      <td>1</td>\n",
              "      <td>0</td>\n",
              "      <td>en</td>\n",
              "      <td>NaN</td>\n",
              "      <td>NaN</td>\n",
              "      <td>NaN</td>\n",
              "      <td>NaN</td>\n",
              "      <td>NaN</td>\n",
              "      <td>{'longitude': 144.593741856, 'latitude': -38.4...</td>\n",
              "      <td>{'fullName': 'Melbourne, Victoria', 'name': 'M...</td>\n",
              "    </tr>\n",
              "    <tr>\n",
              "      <th>2</th>\n",
              "      <td>https://twitter.com/mikjcal/status/14766793839...</td>\n",
              "      <td>2021-12-30 22:19:35+00:00</td>\n",
              "      <td>@chadfelixg No wonder LGBTQ would feel mentall...</td>\n",
              "      <td>@chadfelixg No wonder LGBTQ would feel mentall...</td>\n",
              "      <td>{'username': 'mikjcal', 'id': 8096509038001561...</td>\n",
              "      <td>0</td>\n",
              "      <td>0</td>\n",
              "      <td>1</td>\n",
              "      <td>0</td>\n",
              "      <td>en</td>\n",
              "      <td>NaN</td>\n",
              "      <td>NaN</td>\n",
              "      <td>NaN</td>\n",
              "      <td>NaN</td>\n",
              "      <td>NaN</td>\n",
              "      <td>{'longitude': 144.593741856, 'latitude': -38.4...</td>\n",
              "      <td>{'fullName': 'Melbourne, Victoria', 'name': 'M...</td>\n",
              "    </tr>\n",
              "    <tr>\n",
              "      <th>3</th>\n",
              "      <td>https://twitter.com/AweCentiQue/status/1476483...</td>\n",
              "      <td>2021-12-30 09:20:47+00:00</td>\n",
              "      <td>@thesayno7 @Anne_Ruston @JElliotMP @JulianHill...</td>\n",
              "      <td>@thesayno7 @Anne_Ruston @JElliotMP @JulianHill...</td>\n",
              "      <td>{'username': 'AweCentiQue', 'id': 140039824775...</td>\n",
              "      <td>0</td>\n",
              "      <td>1</td>\n",
              "      <td>1</td>\n",
              "      <td>0</td>\n",
              "      <td>en</td>\n",
              "      <td>NaN</td>\n",
              "      <td>NaN</td>\n",
              "      <td>NaN</td>\n",
              "      <td>NaN</td>\n",
              "      <td>NaN</td>\n",
              "      <td>{'longitude': 152.668522848, 'latitude': -27.7...</td>\n",
              "      <td>{'fullName': 'Brisbane, Queensland', 'name': '...</td>\n",
              "    </tr>\n",
              "    <tr>\n",
              "      <th>4</th>\n",
              "      <td>https://twitter.com/Kuvlotik/status/1476424899...</td>\n",
              "      <td>2021-12-30 05:28:21+00:00</td>\n",
              "      <td>@marie19705 @ScottMorrisonMP 2/\\ndivides inste...</td>\n",
              "      <td>@marie19705 @ScottMorrisonMP 2/\\ndivides inste...</td>\n",
              "      <td>{'username': 'Kuvlotik', 'id': 93730228, 'disp...</td>\n",
              "      <td>1</td>\n",
              "      <td>0</td>\n",
              "      <td>1</td>\n",
              "      <td>0</td>\n",
              "      <td>en</td>\n",
              "      <td>NaN</td>\n",
              "      <td>NaN</td>\n",
              "      <td>NaN</td>\n",
              "      <td>NaN</td>\n",
              "      <td>NaN</td>\n",
              "      <td>{'longitude': 151.468376, 'latitude': -30.6589...</td>\n",
              "      <td>{'fullName': 'Uralla, New South Wales', 'name'...</td>\n",
              "    </tr>\n",
              "  </tbody>\n",
              "</table>\n",
              "</div>\n",
              "      <button class=\"colab-df-convert\" onclick=\"convertToInteractive('df-0c7acfba-998f-4f86-b19f-7f4d88bb647e')\"\n",
              "              title=\"Convert this dataframe to an interactive table.\"\n",
              "              style=\"display:none;\">\n",
              "        \n",
              "  <svg xmlns=\"http://www.w3.org/2000/svg\" height=\"24px\"viewBox=\"0 0 24 24\"\n",
              "       width=\"24px\">\n",
              "    <path d=\"M0 0h24v24H0V0z\" fill=\"none\"/>\n",
              "    <path d=\"M18.56 5.44l.94 2.06.94-2.06 2.06-.94-2.06-.94-.94-2.06-.94 2.06-2.06.94zm-11 1L8.5 8.5l.94-2.06 2.06-.94-2.06-.94L8.5 2.5l-.94 2.06-2.06.94zm10 10l.94 2.06.94-2.06 2.06-.94-2.06-.94-.94-2.06-.94 2.06-2.06.94z\"/><path d=\"M17.41 7.96l-1.37-1.37c-.4-.4-.92-.59-1.43-.59-.52 0-1.04.2-1.43.59L10.3 9.45l-7.72 7.72c-.78.78-.78 2.05 0 2.83L4 21.41c.39.39.9.59 1.41.59.51 0 1.02-.2 1.41-.59l7.78-7.78 2.81-2.81c.8-.78.8-2.07 0-2.86zM5.41 20L4 18.59l7.72-7.72 1.47 1.35L5.41 20z\"/>\n",
              "  </svg>\n",
              "      </button>\n",
              "      \n",
              "  <style>\n",
              "    .colab-df-container {\n",
              "      display:flex;\n",
              "      flex-wrap:wrap;\n",
              "      gap: 12px;\n",
              "    }\n",
              "\n",
              "    .colab-df-convert {\n",
              "      background-color: #E8F0FE;\n",
              "      border: none;\n",
              "      border-radius: 50%;\n",
              "      cursor: pointer;\n",
              "      display: none;\n",
              "      fill: #1967D2;\n",
              "      height: 32px;\n",
              "      padding: 0 0 0 0;\n",
              "      width: 32px;\n",
              "    }\n",
              "\n",
              "    .colab-df-convert:hover {\n",
              "      background-color: #E2EBFA;\n",
              "      box-shadow: 0px 1px 2px rgba(60, 64, 67, 0.3), 0px 1px 3px 1px rgba(60, 64, 67, 0.15);\n",
              "      fill: #174EA6;\n",
              "    }\n",
              "\n",
              "    [theme=dark] .colab-df-convert {\n",
              "      background-color: #3B4455;\n",
              "      fill: #D2E3FC;\n",
              "    }\n",
              "\n",
              "    [theme=dark] .colab-df-convert:hover {\n",
              "      background-color: #434B5C;\n",
              "      box-shadow: 0px 1px 3px 1px rgba(0, 0, 0, 0.15);\n",
              "      filter: drop-shadow(0px 1px 2px rgba(0, 0, 0, 0.3));\n",
              "      fill: #FFFFFF;\n",
              "    }\n",
              "  </style>\n",
              "\n",
              "      <script>\n",
              "        const buttonEl =\n",
              "          document.querySelector('#df-0c7acfba-998f-4f86-b19f-7f4d88bb647e button.colab-df-convert');\n",
              "        buttonEl.style.display =\n",
              "          google.colab.kernel.accessAllowed ? 'block' : 'none';\n",
              "\n",
              "        async function convertToInteractive(key) {\n",
              "          const element = document.querySelector('#df-0c7acfba-998f-4f86-b19f-7f4d88bb647e');\n",
              "          const dataTable =\n",
              "            await google.colab.kernel.invokeFunction('convertToInteractive',\n",
              "                                                     [key], {});\n",
              "          if (!dataTable) return;\n",
              "\n",
              "          const docLinkHtml = 'Like what you see? Visit the ' +\n",
              "            '<a target=\"_blank\" href=https://colab.research.google.com/notebooks/data_table.ipynb>data table notebook</a>'\n",
              "            + ' to learn more about interactive tables.';\n",
              "          element.innerHTML = '';\n",
              "          dataTable['output_type'] = 'display_data';\n",
              "          await google.colab.output.renderOutput(dataTable, element);\n",
              "          const docLink = document.createElement('div');\n",
              "          docLink.innerHTML = docLinkHtml;\n",
              "          element.appendChild(docLink);\n",
              "        }\n",
              "      </script>\n",
              "    </div>\n",
              "  </div>\n",
              "  "
            ],
            "text/plain": [
              "                                                 url  ...                                              place\n",
              "0  https://twitter.com/martyps/status/14766877858...  ...  {'fullName': 'Sydney, New South Wales', 'name'...\n",
              "1  https://twitter.com/AlliC19/status/14766814294...  ...  {'fullName': 'Melbourne, Victoria', 'name': 'M...\n",
              "2  https://twitter.com/mikjcal/status/14766793839...  ...  {'fullName': 'Melbourne, Victoria', 'name': 'M...\n",
              "3  https://twitter.com/AweCentiQue/status/1476483...  ...  {'fullName': 'Brisbane, Queensland', 'name': '...\n",
              "4  https://twitter.com/Kuvlotik/status/1476424899...  ...  {'fullName': 'Uralla, New South Wales', 'name'...\n",
              "\n",
              "[5 rows x 17 columns]"
            ]
          },
          "metadata": {},
          "execution_count": 6
        }
      ]
    },
    {
      "cell_type": "code",
      "source": [
        "#df1 = df.dropna(inplace =True)\n",
        "#df1\n",
        "df"
      ],
      "metadata": {
        "id": "A6k9zRZ4WFBv",
        "colab": {
          "base_uri": "https://localhost:8080/",
          "height": 1000
        },
        "outputId": "aa52ab88-2cb2-4710-a900-6b1835d3b74e"
      },
      "execution_count": null,
      "outputs": [
        {
          "output_type": "execute_result",
          "data": {
            "text/html": [
              "\n",
              "  <div id=\"df-0fee355d-68df-4d79-ba33-0d3bdfe288a8\">\n",
              "    <div class=\"colab-df-container\">\n",
              "      <div>\n",
              "<style scoped>\n",
              "    .dataframe tbody tr th:only-of-type {\n",
              "        vertical-align: middle;\n",
              "    }\n",
              "\n",
              "    .dataframe tbody tr th {\n",
              "        vertical-align: top;\n",
              "    }\n",
              "\n",
              "    .dataframe thead th {\n",
              "        text-align: right;\n",
              "    }\n",
              "</style>\n",
              "<table border=\"1\" class=\"dataframe\">\n",
              "  <thead>\n",
              "    <tr style=\"text-align: right;\">\n",
              "      <th></th>\n",
              "      <th>url</th>\n",
              "      <th>date</th>\n",
              "      <th>content</th>\n",
              "      <th>renderedContent</th>\n",
              "      <th>user</th>\n",
              "      <th>replyCount</th>\n",
              "      <th>retweetCount</th>\n",
              "      <th>likeCount</th>\n",
              "      <th>quoteCount</th>\n",
              "      <th>lang</th>\n",
              "      <th>outlinks</th>\n",
              "      <th>tcooutlinks</th>\n",
              "      <th>media</th>\n",
              "      <th>retweetedTweet</th>\n",
              "      <th>quotedTweet</th>\n",
              "      <th>coordinates</th>\n",
              "      <th>place</th>\n",
              "    </tr>\n",
              "  </thead>\n",
              "  <tbody>\n",
              "    <tr>\n",
              "      <th>0</th>\n",
              "      <td>https://twitter.com/martyps/status/14766877858...</td>\n",
              "      <td>2021-12-30 22:52:58+00:00</td>\n",
              "      <td>@TrakkyD @NSWHealth abuse was hurled at scient...</td>\n",
              "      <td>@TrakkyD @NSWHealth abuse was hurled at scient...</td>\n",
              "      <td>{'username': 'martyps', 'id': 17335098, 'displ...</td>\n",
              "      <td>0</td>\n",
              "      <td>0</td>\n",
              "      <td>0</td>\n",
              "      <td>0</td>\n",
              "      <td>en</td>\n",
              "      <td>NaN</td>\n",
              "      <td>NaN</td>\n",
              "      <td>NaN</td>\n",
              "      <td>NaN</td>\n",
              "      <td>NaN</td>\n",
              "      <td>{'longitude': 150.520928608, 'latitude': -34.1...</td>\n",
              "      <td>{'fullName': 'Sydney, New South Wales', 'name'...</td>\n",
              "    </tr>\n",
              "    <tr>\n",
              "      <th>1</th>\n",
              "      <td>https://twitter.com/AlliC19/status/14766814294...</td>\n",
              "      <td>2021-12-30 22:27:42+00:00</td>\n",
              "      <td>@crakeka1 It is interesting as many attack oth...</td>\n",
              "      <td>@crakeka1 It is interesting as many attack oth...</td>\n",
              "      <td>{'username': 'AlliC19', 'id': 1903049988, 'dis...</td>\n",
              "      <td>1</td>\n",
              "      <td>0</td>\n",
              "      <td>1</td>\n",
              "      <td>0</td>\n",
              "      <td>en</td>\n",
              "      <td>NaN</td>\n",
              "      <td>NaN</td>\n",
              "      <td>NaN</td>\n",
              "      <td>NaN</td>\n",
              "      <td>NaN</td>\n",
              "      <td>{'longitude': 144.593741856, 'latitude': -38.4...</td>\n",
              "      <td>{'fullName': 'Melbourne, Victoria', 'name': 'M...</td>\n",
              "    </tr>\n",
              "    <tr>\n",
              "      <th>2</th>\n",
              "      <td>https://twitter.com/mikjcal/status/14766793839...</td>\n",
              "      <td>2021-12-30 22:19:35+00:00</td>\n",
              "      <td>@chadfelixg No wonder LGBTQ would feel mentall...</td>\n",
              "      <td>@chadfelixg No wonder LGBTQ would feel mentall...</td>\n",
              "      <td>{'username': 'mikjcal', 'id': 8096509038001561...</td>\n",
              "      <td>0</td>\n",
              "      <td>0</td>\n",
              "      <td>1</td>\n",
              "      <td>0</td>\n",
              "      <td>en</td>\n",
              "      <td>NaN</td>\n",
              "      <td>NaN</td>\n",
              "      <td>NaN</td>\n",
              "      <td>NaN</td>\n",
              "      <td>NaN</td>\n",
              "      <td>{'longitude': 144.593741856, 'latitude': -38.4...</td>\n",
              "      <td>{'fullName': 'Melbourne, Victoria', 'name': 'M...</td>\n",
              "    </tr>\n",
              "    <tr>\n",
              "      <th>3</th>\n",
              "      <td>https://twitter.com/AweCentiQue/status/1476483...</td>\n",
              "      <td>2021-12-30 09:20:47+00:00</td>\n",
              "      <td>@thesayno7 @Anne_Ruston @JElliotMP @JulianHill...</td>\n",
              "      <td>@thesayno7 @Anne_Ruston @JElliotMP @JulianHill...</td>\n",
              "      <td>{'username': 'AweCentiQue', 'id': 140039824775...</td>\n",
              "      <td>0</td>\n",
              "      <td>1</td>\n",
              "      <td>1</td>\n",
              "      <td>0</td>\n",
              "      <td>en</td>\n",
              "      <td>NaN</td>\n",
              "      <td>NaN</td>\n",
              "      <td>NaN</td>\n",
              "      <td>NaN</td>\n",
              "      <td>NaN</td>\n",
              "      <td>{'longitude': 152.668522848, 'latitude': -27.7...</td>\n",
              "      <td>{'fullName': 'Brisbane, Queensland', 'name': '...</td>\n",
              "    </tr>\n",
              "    <tr>\n",
              "      <th>4</th>\n",
              "      <td>https://twitter.com/Kuvlotik/status/1476424899...</td>\n",
              "      <td>2021-12-30 05:28:21+00:00</td>\n",
              "      <td>@marie19705 @ScottMorrisonMP 2/\\ndivides inste...</td>\n",
              "      <td>@marie19705 @ScottMorrisonMP 2/\\ndivides inste...</td>\n",
              "      <td>{'username': 'Kuvlotik', 'id': 93730228, 'disp...</td>\n",
              "      <td>1</td>\n",
              "      <td>0</td>\n",
              "      <td>1</td>\n",
              "      <td>0</td>\n",
              "      <td>en</td>\n",
              "      <td>NaN</td>\n",
              "      <td>NaN</td>\n",
              "      <td>NaN</td>\n",
              "      <td>NaN</td>\n",
              "      <td>NaN</td>\n",
              "      <td>{'longitude': 151.468376, 'latitude': -30.6589...</td>\n",
              "      <td>{'fullName': 'Uralla, New South Wales', 'name'...</td>\n",
              "    </tr>\n",
              "    <tr>\n",
              "      <th>...</th>\n",
              "      <td>...</td>\n",
              "      <td>...</td>\n",
              "      <td>...</td>\n",
              "      <td>...</td>\n",
              "      <td>...</td>\n",
              "      <td>...</td>\n",
              "      <td>...</td>\n",
              "      <td>...</td>\n",
              "      <td>...</td>\n",
              "      <td>...</td>\n",
              "      <td>...</td>\n",
              "      <td>...</td>\n",
              "      <td>...</td>\n",
              "      <td>...</td>\n",
              "      <td>...</td>\n",
              "      <td>...</td>\n",
              "      <td>...</td>\n",
              "    </tr>\n",
              "    <tr>\n",
              "      <th>95</th>\n",
              "      <td>https://twitter.com/Michael61058663/status/147...</td>\n",
              "      <td>2021-12-20 18:36:09+00:00</td>\n",
              "      <td>@ToniC8 Taking cheap shots is basically gutles...</td>\n",
              "      <td>@ToniC8 Taking cheap shots is basically gutles...</td>\n",
              "      <td>{'username': 'Michael61058663', 'id': 14281003...</td>\n",
              "      <td>0</td>\n",
              "      <td>0</td>\n",
              "      <td>1</td>\n",
              "      <td>0</td>\n",
              "      <td>en</td>\n",
              "      <td>NaN</td>\n",
              "      <td>NaN</td>\n",
              "      <td>NaN</td>\n",
              "      <td>NaN</td>\n",
              "      <td>NaN</td>\n",
              "      <td>{'longitude': 138.44212992, 'latitude': -35.34...</td>\n",
              "      <td>{'fullName': 'Adelaide, South Australia', 'nam...</td>\n",
              "    </tr>\n",
              "    <tr>\n",
              "      <th>96</th>\n",
              "      <td>https://twitter.com/reoreilly1/status/14729881...</td>\n",
              "      <td>2021-12-20 17:51:47+00:00</td>\n",
              "      <td>@TheblueTake @thereminfan @DLulabele Donât 2...</td>\n",
              "      <td>@TheblueTake @thereminfan @DLulabele Donât 2...</td>\n",
              "      <td>{'username': 'reoreilly1', 'id': 9214869766073...</td>\n",
              "      <td>0</td>\n",
              "      <td>0</td>\n",
              "      <td>2</td>\n",
              "      <td>0</td>\n",
              "      <td>en</td>\n",
              "      <td>NaN</td>\n",
              "      <td>NaN</td>\n",
              "      <td>NaN</td>\n",
              "      <td>NaN</td>\n",
              "      <td>NaN</td>\n",
              "      <td>{'longitude': 150.520928608, 'latitude': -34.1...</td>\n",
              "      <td>{'fullName': 'Sydney, New South Wales', 'name'...</td>\n",
              "    </tr>\n",
              "    <tr>\n",
              "      <th>97</th>\n",
              "      <td>https://twitter.com/AnnikaCorbert/status/14728...</td>\n",
              "      <td>2021-12-20 10:57:50+00:00</td>\n",
              "      <td>Of course Right wing parties will funnel votes...</td>\n",
              "      <td>Of course Right wing parties will funnel votes...</td>\n",
              "      <td>{'username': 'AnnikaCorbert', 'id': 2761178294...</td>\n",
              "      <td>1</td>\n",
              "      <td>1</td>\n",
              "      <td>0</td>\n",
              "      <td>0</td>\n",
              "      <td>en</td>\n",
              "      <td>['https://twitter.com/PRGuy17/status/147281915...</td>\n",
              "      <td>['https://t.co/VFrDz2jzcg']</td>\n",
              "      <td>NaN</td>\n",
              "      <td>NaN</td>\n",
              "      <td>{'url': 'https://twitter.com/PRGuy17/status/14...</td>\n",
              "      <td>{'longitude': 144.994895616, 'latitude': -36.5...</td>\n",
              "      <td>{'fullName': 'Rushworth, Victoria', 'name': 'R...</td>\n",
              "    </tr>\n",
              "    <tr>\n",
              "      <th>98</th>\n",
              "      <td>https://twitter.com/ThibThibaut14/status/14728...</td>\n",
              "      <td>2021-12-20 10:39:05+00:00</td>\n",
              "      <td>@mancunienfl Wooooooooooooo les stats c'est tr...</td>\n",
              "      <td>@mancunienfl Wooooooooooooo les stats c'est tr...</td>\n",
              "      <td>{'username': 'ThibThibaut14', 'id': 932875050,...</td>\n",
              "      <td>0</td>\n",
              "      <td>0</td>\n",
              "      <td>1</td>\n",
              "      <td>0</td>\n",
              "      <td>fr</td>\n",
              "      <td>NaN</td>\n",
              "      <td>NaN</td>\n",
              "      <td>NaN</td>\n",
              "      <td>NaN</td>\n",
              "      <td>NaN</td>\n",
              "      <td>{'longitude': 129.001336997342, 'latitude': -3...</td>\n",
              "      <td>{'fullName': 'South Australia, Australia', 'na...</td>\n",
              "    </tr>\n",
              "    <tr>\n",
              "      <th>99</th>\n",
              "      <td>https://twitter.com/JansenBasil/status/1472876...</td>\n",
              "      <td>2021-12-20 10:29:06+00:00</td>\n",
              "      <td>@FloralEssence22 That's child abuse</td>\n",
              "      <td>@FloralEssence22 That's child abuse</td>\n",
              "      <td>{'username': 'JansenBasil', 'id': 1199031211, ...</td>\n",
              "      <td>0</td>\n",
              "      <td>0</td>\n",
              "      <td>2</td>\n",
              "      <td>0</td>\n",
              "      <td>en</td>\n",
              "      <td>NaN</td>\n",
              "      <td>NaN</td>\n",
              "      <td>NaN</td>\n",
              "      <td>NaN</td>\n",
              "      <td>NaN</td>\n",
              "      <td>{'longitude': 115.617614368, 'latitude': -32.6...</td>\n",
              "      <td>{'fullName': 'Perth, Western Australia', 'name...</td>\n",
              "    </tr>\n",
              "  </tbody>\n",
              "</table>\n",
              "<p>100 rows × 17 columns</p>\n",
              "</div>\n",
              "      <button class=\"colab-df-convert\" onclick=\"convertToInteractive('df-0fee355d-68df-4d79-ba33-0d3bdfe288a8')\"\n",
              "              title=\"Convert this dataframe to an interactive table.\"\n",
              "              style=\"display:none;\">\n",
              "        \n",
              "  <svg xmlns=\"http://www.w3.org/2000/svg\" height=\"24px\"viewBox=\"0 0 24 24\"\n",
              "       width=\"24px\">\n",
              "    <path d=\"M0 0h24v24H0V0z\" fill=\"none\"/>\n",
              "    <path d=\"M18.56 5.44l.94 2.06.94-2.06 2.06-.94-2.06-.94-.94-2.06-.94 2.06-2.06.94zm-11 1L8.5 8.5l.94-2.06 2.06-.94-2.06-.94L8.5 2.5l-.94 2.06-2.06.94zm10 10l.94 2.06.94-2.06 2.06-.94-2.06-.94-.94-2.06-.94 2.06-2.06.94z\"/><path d=\"M17.41 7.96l-1.37-1.37c-.4-.4-.92-.59-1.43-.59-.52 0-1.04.2-1.43.59L10.3 9.45l-7.72 7.72c-.78.78-.78 2.05 0 2.83L4 21.41c.39.39.9.59 1.41.59.51 0 1.02-.2 1.41-.59l7.78-7.78 2.81-2.81c.8-.78.8-2.07 0-2.86zM5.41 20L4 18.59l7.72-7.72 1.47 1.35L5.41 20z\"/>\n",
              "  </svg>\n",
              "      </button>\n",
              "      \n",
              "  <style>\n",
              "    .colab-df-container {\n",
              "      display:flex;\n",
              "      flex-wrap:wrap;\n",
              "      gap: 12px;\n",
              "    }\n",
              "\n",
              "    .colab-df-convert {\n",
              "      background-color: #E8F0FE;\n",
              "      border: none;\n",
              "      border-radius: 50%;\n",
              "      cursor: pointer;\n",
              "      display: none;\n",
              "      fill: #1967D2;\n",
              "      height: 32px;\n",
              "      padding: 0 0 0 0;\n",
              "      width: 32px;\n",
              "    }\n",
              "\n",
              "    .colab-df-convert:hover {\n",
              "      background-color: #E2EBFA;\n",
              "      box-shadow: 0px 1px 2px rgba(60, 64, 67, 0.3), 0px 1px 3px 1px rgba(60, 64, 67, 0.15);\n",
              "      fill: #174EA6;\n",
              "    }\n",
              "\n",
              "    [theme=dark] .colab-df-convert {\n",
              "      background-color: #3B4455;\n",
              "      fill: #D2E3FC;\n",
              "    }\n",
              "\n",
              "    [theme=dark] .colab-df-convert:hover {\n",
              "      background-color: #434B5C;\n",
              "      box-shadow: 0px 1px 3px 1px rgba(0, 0, 0, 0.15);\n",
              "      filter: drop-shadow(0px 1px 2px rgba(0, 0, 0, 0.3));\n",
              "      fill: #FFFFFF;\n",
              "    }\n",
              "  </style>\n",
              "\n",
              "      <script>\n",
              "        const buttonEl =\n",
              "          document.querySelector('#df-0fee355d-68df-4d79-ba33-0d3bdfe288a8 button.colab-df-convert');\n",
              "        buttonEl.style.display =\n",
              "          google.colab.kernel.accessAllowed ? 'block' : 'none';\n",
              "\n",
              "        async function convertToInteractive(key) {\n",
              "          const element = document.querySelector('#df-0fee355d-68df-4d79-ba33-0d3bdfe288a8');\n",
              "          const dataTable =\n",
              "            await google.colab.kernel.invokeFunction('convertToInteractive',\n",
              "                                                     [key], {});\n",
              "          if (!dataTable) return;\n",
              "\n",
              "          const docLinkHtml = 'Like what you see? Visit the ' +\n",
              "            '<a target=\"_blank\" href=https://colab.research.google.com/notebooks/data_table.ipynb>data table notebook</a>'\n",
              "            + ' to learn more about interactive tables.';\n",
              "          element.innerHTML = '';\n",
              "          dataTable['output_type'] = 'display_data';\n",
              "          await google.colab.output.renderOutput(dataTable, element);\n",
              "          const docLink = document.createElement('div');\n",
              "          docLink.innerHTML = docLinkHtml;\n",
              "          element.appendChild(docLink);\n",
              "        }\n",
              "      </script>\n",
              "    </div>\n",
              "  </div>\n",
              "  "
            ],
            "text/plain": [
              "                                                  url  ...                                              place\n",
              "0   https://twitter.com/martyps/status/14766877858...  ...  {'fullName': 'Sydney, New South Wales', 'name'...\n",
              "1   https://twitter.com/AlliC19/status/14766814294...  ...  {'fullName': 'Melbourne, Victoria', 'name': 'M...\n",
              "2   https://twitter.com/mikjcal/status/14766793839...  ...  {'fullName': 'Melbourne, Victoria', 'name': 'M...\n",
              "3   https://twitter.com/AweCentiQue/status/1476483...  ...  {'fullName': 'Brisbane, Queensland', 'name': '...\n",
              "4   https://twitter.com/Kuvlotik/status/1476424899...  ...  {'fullName': 'Uralla, New South Wales', 'name'...\n",
              "..                                                ...  ...                                                ...\n",
              "95  https://twitter.com/Michael61058663/status/147...  ...  {'fullName': 'Adelaide, South Australia', 'nam...\n",
              "96  https://twitter.com/reoreilly1/status/14729881...  ...  {'fullName': 'Sydney, New South Wales', 'name'...\n",
              "97  https://twitter.com/AnnikaCorbert/status/14728...  ...  {'fullName': 'Rushworth, Victoria', 'name': 'R...\n",
              "98  https://twitter.com/ThibThibaut14/status/14728...  ...  {'fullName': 'South Australia, Australia', 'na...\n",
              "99  https://twitter.com/JansenBasil/status/1472876...  ...  {'fullName': 'Perth, Western Australia', 'name...\n",
              "\n",
              "[100 rows x 17 columns]"
            ]
          },
          "metadata": {},
          "execution_count": 7
        }
      ]
    },
    {
      "cell_type": "code",
      "source": [
        "stop_words = stopwords.words(\"english\")"
      ],
      "metadata": {
        "id": "AbriYNZLWFEE"
      },
      "execution_count": null,
      "outputs": []
    },
    {
      "cell_type": "markdown",
      "source": [
        "<h1> Functions to clean Text via REGEX </h1>"
      ],
      "metadata": {
        "id": "GUFD1KKdYYID"
      }
    },
    {
      "cell_type": "code",
      "source": [
        "import re\n",
        "\"\"\"Functions to clean text using Regex\"\"\"\n",
        "ip_addr_regex = re.compile(r'\\b(?:[0-9]{1,3}\\.){3}[0-9]{1,3}\\b')\n",
        "emoji_pattern = re.compile(\"[\"\n",
        "        u\"\\U0001F600-\\U0001F64F\"  # emoticons\n",
        "        u\"\\U0001F300-\\U0001F5FF\"  # symbols & pictographs\n",
        "        u\"\\U0001F680-\\U0001F6FF\"  # transport & map symbols\n",
        "        u\"\\U0001F1E0-\\U0001F1FF\"  # flags (iOS)\n",
        "                           \"]+\", flags=re.UNICODE)\n",
        "\n",
        "def regex_cleaning(phrase):\n",
        "    # specific\n",
        "    phrase = re.sub(r\"won\\'t\", \"will not\", phrase)\n",
        "    phrase = re.sub(r\"can\\'t\", \"can not\", phrase)\n",
        "\n",
        "    # general\n",
        "    phrase = re.sub(r\"n\\'t\", \" not\", phrase)\n",
        "    phrase = re.sub(r\"\\'re\", \" are\", phrase)\n",
        "    phrase = re.sub(r\"\\'s\", \" is\", phrase)\n",
        "    phrase = re.sub(r\"\\'d\", \" would\", phrase)\n",
        "    phrase = re.sub(r\"\\'ll\", \" will\", phrase)\n",
        "    phrase = re.sub(r\"\\'t\", \" not\", phrase)\n",
        "    phrase = re.sub(r\"\\'ve\", \" have\", phrase)\n",
        "    phrase = re.sub(r\"\\'m\", \" am\", phrase)\n",
        "    phrase = re.sub(r\"[^a-zA-Z0-9]+\", \" \", phrase)\n",
        "    phrase = re.sub(r\"\\r\\n\", \"\", phrase)            # Removing additional line\n",
        "    phrase = re.sub(r\"\\n\", \"\", phrase)              # Removing additional line\n",
        "    phrase = re.sub(r\"\\S*@\\S*\\s?\", \"\", phrase)      # Removing email-addresses\n",
        "    phrase = re.sub(r'http\\S+', '', phrase)         # Removing website links\n",
        "    phrase = re.sub(ip_addr_regex, \"\", phrase)      # Removing IP address link.\n",
        "    phrase = emoji_pattern.sub(r'', phrase)         # Removing Emojis\n",
        "\n",
        "    return phrase.lower()\n",
        "\n",
        "df['cleaned_text'] = df['renderedContent'].apply(regex_cleaning)"
      ],
      "metadata": {
        "id": "7GIZK_DeWFGd"
      },
      "execution_count": null,
      "outputs": []
    },
    {
      "cell_type": "code",
      "source": [
        "df.head()"
      ],
      "metadata": {
        "colab": {
          "base_uri": "https://localhost:8080/",
          "height": 565
        },
        "id": "MbA-gyJFYd3Y",
        "outputId": "ae615b0b-56e8-4623-cf70-473742f6b958"
      },
      "execution_count": null,
      "outputs": [
        {
          "output_type": "execute_result",
          "data": {
            "text/html": [
              "\n",
              "  <div id=\"df-eca96e52-797a-419d-81c6-a7e56e1d0462\">\n",
              "    <div class=\"colab-df-container\">\n",
              "      <div>\n",
              "<style scoped>\n",
              "    .dataframe tbody tr th:only-of-type {\n",
              "        vertical-align: middle;\n",
              "    }\n",
              "\n",
              "    .dataframe tbody tr th {\n",
              "        vertical-align: top;\n",
              "    }\n",
              "\n",
              "    .dataframe thead th {\n",
              "        text-align: right;\n",
              "    }\n",
              "</style>\n",
              "<table border=\"1\" class=\"dataframe\">\n",
              "  <thead>\n",
              "    <tr style=\"text-align: right;\">\n",
              "      <th></th>\n",
              "      <th>url</th>\n",
              "      <th>date</th>\n",
              "      <th>content</th>\n",
              "      <th>renderedContent</th>\n",
              "      <th>user</th>\n",
              "      <th>replyCount</th>\n",
              "      <th>retweetCount</th>\n",
              "      <th>likeCount</th>\n",
              "      <th>quoteCount</th>\n",
              "      <th>lang</th>\n",
              "      <th>outlinks</th>\n",
              "      <th>tcooutlinks</th>\n",
              "      <th>media</th>\n",
              "      <th>retweetedTweet</th>\n",
              "      <th>quotedTweet</th>\n",
              "      <th>coordinates</th>\n",
              "      <th>place</th>\n",
              "      <th>cleaned_text</th>\n",
              "    </tr>\n",
              "  </thead>\n",
              "  <tbody>\n",
              "    <tr>\n",
              "      <th>0</th>\n",
              "      <td>https://twitter.com/martyps/status/14766877858...</td>\n",
              "      <td>2021-12-30 22:52:58+00:00</td>\n",
              "      <td>@TrakkyD @NSWHealth abuse was hurled at scient...</td>\n",
              "      <td>@TrakkyD @NSWHealth abuse was hurled at scient...</td>\n",
              "      <td>{'username': 'martyps', 'id': 17335098, 'displ...</td>\n",
              "      <td>0</td>\n",
              "      <td>0</td>\n",
              "      <td>0</td>\n",
              "      <td>0</td>\n",
              "      <td>en</td>\n",
              "      <td>NaN</td>\n",
              "      <td>NaN</td>\n",
              "      <td>NaN</td>\n",
              "      <td>NaN</td>\n",
              "      <td>NaN</td>\n",
              "      <td>{'longitude': 150.520928608, 'latitude': -34.1...</td>\n",
              "      <td>{'fullName': 'Sydney, New South Wales', 'name'...</td>\n",
              "      <td>trakkyd nswhealth abuse was hurled at scienti...</td>\n",
              "    </tr>\n",
              "    <tr>\n",
              "      <th>1</th>\n",
              "      <td>https://twitter.com/AlliC19/status/14766814294...</td>\n",
              "      <td>2021-12-30 22:27:42+00:00</td>\n",
              "      <td>@crakeka1 It is interesting as many attack oth...</td>\n",
              "      <td>@crakeka1 It is interesting as many attack oth...</td>\n",
              "      <td>{'username': 'AlliC19', 'id': 1903049988, 'dis...</td>\n",
              "      <td>1</td>\n",
              "      <td>0</td>\n",
              "      <td>1</td>\n",
              "      <td>0</td>\n",
              "      <td>en</td>\n",
              "      <td>NaN</td>\n",
              "      <td>NaN</td>\n",
              "      <td>NaN</td>\n",
              "      <td>NaN</td>\n",
              "      <td>NaN</td>\n",
              "      <td>{'longitude': 144.593741856, 'latitude': -38.4...</td>\n",
              "      <td>{'fullName': 'Melbourne, Victoria', 'name': 'M...</td>\n",
              "      <td>crakeka1 it is interesting as many attack oth...</td>\n",
              "    </tr>\n",
              "    <tr>\n",
              "      <th>2</th>\n",
              "      <td>https://twitter.com/mikjcal/status/14766793839...</td>\n",
              "      <td>2021-12-30 22:19:35+00:00</td>\n",
              "      <td>@chadfelixg No wonder LGBTQ would feel mentall...</td>\n",
              "      <td>@chadfelixg No wonder LGBTQ would feel mentall...</td>\n",
              "      <td>{'username': 'mikjcal', 'id': 8096509038001561...</td>\n",
              "      <td>0</td>\n",
              "      <td>0</td>\n",
              "      <td>1</td>\n",
              "      <td>0</td>\n",
              "      <td>en</td>\n",
              "      <td>NaN</td>\n",
              "      <td>NaN</td>\n",
              "      <td>NaN</td>\n",
              "      <td>NaN</td>\n",
              "      <td>NaN</td>\n",
              "      <td>{'longitude': 144.593741856, 'latitude': -38.4...</td>\n",
              "      <td>{'fullName': 'Melbourne, Victoria', 'name': 'M...</td>\n",
              "      <td>chadfelixg no wonder lgbtq would feel mentall...</td>\n",
              "    </tr>\n",
              "    <tr>\n",
              "      <th>3</th>\n",
              "      <td>https://twitter.com/AweCentiQue/status/1476483...</td>\n",
              "      <td>2021-12-30 09:20:47+00:00</td>\n",
              "      <td>@thesayno7 @Anne_Ruston @JElliotMP @JulianHill...</td>\n",
              "      <td>@thesayno7 @Anne_Ruston @JElliotMP @JulianHill...</td>\n",
              "      <td>{'username': 'AweCentiQue', 'id': 140039824775...</td>\n",
              "      <td>0</td>\n",
              "      <td>1</td>\n",
              "      <td>1</td>\n",
              "      <td>0</td>\n",
              "      <td>en</td>\n",
              "      <td>NaN</td>\n",
              "      <td>NaN</td>\n",
              "      <td>NaN</td>\n",
              "      <td>NaN</td>\n",
              "      <td>NaN</td>\n",
              "      <td>{'longitude': 152.668522848, 'latitude': -27.7...</td>\n",
              "      <td>{'fullName': 'Brisbane, Queensland', 'name': '...</td>\n",
              "      <td>thesayno7 anne ruston jelliotmp julianhillmp ...</td>\n",
              "    </tr>\n",
              "    <tr>\n",
              "      <th>4</th>\n",
              "      <td>https://twitter.com/Kuvlotik/status/1476424899...</td>\n",
              "      <td>2021-12-30 05:28:21+00:00</td>\n",
              "      <td>@marie19705 @ScottMorrisonMP 2/\\ndivides inste...</td>\n",
              "      <td>@marie19705 @ScottMorrisonMP 2/\\ndivides inste...</td>\n",
              "      <td>{'username': 'Kuvlotik', 'id': 93730228, 'disp...</td>\n",
              "      <td>1</td>\n",
              "      <td>0</td>\n",
              "      <td>1</td>\n",
              "      <td>0</td>\n",
              "      <td>en</td>\n",
              "      <td>NaN</td>\n",
              "      <td>NaN</td>\n",
              "      <td>NaN</td>\n",
              "      <td>NaN</td>\n",
              "      <td>NaN</td>\n",
              "      <td>{'longitude': 151.468376, 'latitude': -30.6589...</td>\n",
              "      <td>{'fullName': 'Uralla, New South Wales', 'name'...</td>\n",
              "      <td>marie19705 scottmorrisonmp 2 divides instead ...</td>\n",
              "    </tr>\n",
              "  </tbody>\n",
              "</table>\n",
              "</div>\n",
              "      <button class=\"colab-df-convert\" onclick=\"convertToInteractive('df-eca96e52-797a-419d-81c6-a7e56e1d0462')\"\n",
              "              title=\"Convert this dataframe to an interactive table.\"\n",
              "              style=\"display:none;\">\n",
              "        \n",
              "  <svg xmlns=\"http://www.w3.org/2000/svg\" height=\"24px\"viewBox=\"0 0 24 24\"\n",
              "       width=\"24px\">\n",
              "    <path d=\"M0 0h24v24H0V0z\" fill=\"none\"/>\n",
              "    <path d=\"M18.56 5.44l.94 2.06.94-2.06 2.06-.94-2.06-.94-.94-2.06-.94 2.06-2.06.94zm-11 1L8.5 8.5l.94-2.06 2.06-.94-2.06-.94L8.5 2.5l-.94 2.06-2.06.94zm10 10l.94 2.06.94-2.06 2.06-.94-2.06-.94-.94-2.06-.94 2.06-2.06.94z\"/><path d=\"M17.41 7.96l-1.37-1.37c-.4-.4-.92-.59-1.43-.59-.52 0-1.04.2-1.43.59L10.3 9.45l-7.72 7.72c-.78.78-.78 2.05 0 2.83L4 21.41c.39.39.9.59 1.41.59.51 0 1.02-.2 1.41-.59l7.78-7.78 2.81-2.81c.8-.78.8-2.07 0-2.86zM5.41 20L4 18.59l7.72-7.72 1.47 1.35L5.41 20z\"/>\n",
              "  </svg>\n",
              "      </button>\n",
              "      \n",
              "  <style>\n",
              "    .colab-df-container {\n",
              "      display:flex;\n",
              "      flex-wrap:wrap;\n",
              "      gap: 12px;\n",
              "    }\n",
              "\n",
              "    .colab-df-convert {\n",
              "      background-color: #E8F0FE;\n",
              "      border: none;\n",
              "      border-radius: 50%;\n",
              "      cursor: pointer;\n",
              "      display: none;\n",
              "      fill: #1967D2;\n",
              "      height: 32px;\n",
              "      padding: 0 0 0 0;\n",
              "      width: 32px;\n",
              "    }\n",
              "\n",
              "    .colab-df-convert:hover {\n",
              "      background-color: #E2EBFA;\n",
              "      box-shadow: 0px 1px 2px rgba(60, 64, 67, 0.3), 0px 1px 3px 1px rgba(60, 64, 67, 0.15);\n",
              "      fill: #174EA6;\n",
              "    }\n",
              "\n",
              "    [theme=dark] .colab-df-convert {\n",
              "      background-color: #3B4455;\n",
              "      fill: #D2E3FC;\n",
              "    }\n",
              "\n",
              "    [theme=dark] .colab-df-convert:hover {\n",
              "      background-color: #434B5C;\n",
              "      box-shadow: 0px 1px 3px 1px rgba(0, 0, 0, 0.15);\n",
              "      filter: drop-shadow(0px 1px 2px rgba(0, 0, 0, 0.3));\n",
              "      fill: #FFFFFF;\n",
              "    }\n",
              "  </style>\n",
              "\n",
              "      <script>\n",
              "        const buttonEl =\n",
              "          document.querySelector('#df-eca96e52-797a-419d-81c6-a7e56e1d0462 button.colab-df-convert');\n",
              "        buttonEl.style.display =\n",
              "          google.colab.kernel.accessAllowed ? 'block' : 'none';\n",
              "\n",
              "        async function convertToInteractive(key) {\n",
              "          const element = document.querySelector('#df-eca96e52-797a-419d-81c6-a7e56e1d0462');\n",
              "          const dataTable =\n",
              "            await google.colab.kernel.invokeFunction('convertToInteractive',\n",
              "                                                     [key], {});\n",
              "          if (!dataTable) return;\n",
              "\n",
              "          const docLinkHtml = 'Like what you see? Visit the ' +\n",
              "            '<a target=\"_blank\" href=https://colab.research.google.com/notebooks/data_table.ipynb>data table notebook</a>'\n",
              "            + ' to learn more about interactive tables.';\n",
              "          element.innerHTML = '';\n",
              "          dataTable['output_type'] = 'display_data';\n",
              "          await google.colab.output.renderOutput(dataTable, element);\n",
              "          const docLink = document.createElement('div');\n",
              "          docLink.innerHTML = docLinkHtml;\n",
              "          element.appendChild(docLink);\n",
              "        }\n",
              "      </script>\n",
              "    </div>\n",
              "  </div>\n",
              "  "
            ],
            "text/plain": [
              "                                                 url  ...                                       cleaned_text\n",
              "0  https://twitter.com/martyps/status/14766877858...  ...   trakkyd nswhealth abuse was hurled at scienti...\n",
              "1  https://twitter.com/AlliC19/status/14766814294...  ...   crakeka1 it is interesting as many attack oth...\n",
              "2  https://twitter.com/mikjcal/status/14766793839...  ...   chadfelixg no wonder lgbtq would feel mentall...\n",
              "3  https://twitter.com/AweCentiQue/status/1476483...  ...   thesayno7 anne ruston jelliotmp julianhillmp ...\n",
              "4  https://twitter.com/Kuvlotik/status/1476424899...  ...   marie19705 scottmorrisonmp 2 divides instead ...\n",
              "\n",
              "[5 rows x 18 columns]"
            ]
          },
          "metadata": {},
          "execution_count": 10
        }
      ]
    },
    {
      "cell_type": "markdown",
      "source": [
        "<h1> Using Lemmatization to clean words for analysis, SpaCy YT free link to understand paramaeters down below: </h1>\n",
        "<href> https://www.youtube.com/watch?v=THduWAnG97k </href>\n"
      ],
      "metadata": {
        "id": "KaGpujfjbrwK"
      }
    },
    {
      "cell_type": "code",
      "source": [
        "def lemmatization(texts, allowed_postags=[\"NOUN\", \"ADJ\", \"VERB\", \"ADV\"]):\n",
        "    nlp = spacy.load(\"en_core_web_sm\") #loading english words to nlp\n",
        "    texts_out = []\n",
        "    for text in texts:\n",
        "        doc = nlp(text)\n",
        "        new_text = []\n",
        "        for token in doc:\n",
        "            if token.pos_ in allowed_postags:\n",
        "                new_text.append(token.lemma_)\n",
        "        final = \" \".join(new_text)\n",
        "        texts_out.append(final)\n",
        "    return (texts_out)\n",
        "df['cleaned_text1'] = lemmatization(df.cleaned_text)"
      ],
      "metadata": {
        "id": "WszYcDojYd6O"
      },
      "execution_count": null,
      "outputs": []
    },
    {
      "cell_type": "code",
      "source": [
        "print (df['cleaned_text1'][0][0:70])"
      ],
      "metadata": {
        "colab": {
          "base_uri": "https://localhost:8080/"
        },
        "id": "X9Y7LGtGlbAr",
        "outputId": "9c2a9ea8-41c0-41de-93ec-e7470bbf4160"
      },
      "execution_count": null,
      "outputs": [
        {
          "output_type": "stream",
          "name": "stdout",
          "text": [
            "trakkyd abuse hurl scientist much more knowledgeable people abuse\n"
          ]
        }
      ]
    },
    {
      "cell_type": "markdown",
      "source": [
        "<h1> Tokenization of words using Gensim's Simple Preprocess tool</h1>"
      ],
      "metadata": {
        "id": "hlIl7i2uj7p3"
      }
    },
    {
      "cell_type": "code",
      "source": [
        "def gen_words(texts):\n",
        "    final = []\n",
        "    for text in texts:\n",
        "        new = gensim.utils.simple_preprocess(text, deacc=True)\n",
        "        final.append(new)\n",
        "    return (final)\n",
        "\n",
        "df['cleaned_text2'] = gen_words(df['cleaned_text1'])\n",
        "\n",
        "print (df['cleaned_text2'][0][0:40])"
      ],
      "metadata": {
        "colab": {
          "base_uri": "https://localhost:8080/"
        },
        "id": "szp0MJ-IYd8s",
        "outputId": "9bcb430a-6d62-42fb-c446-19955404d9dc"
      },
      "execution_count": null,
      "outputs": [
        {
          "output_type": "stream",
          "name": "stdout",
          "text": [
            "['trakkyd', 'abuse', 'hurl', 'scientist', 'much', 'more', 'knowledgeable', 'people', 'abuse']\n"
          ]
        }
      ]
    },
    {
      "cell_type": "markdown",
      "source": [
        "<H1> Bigrams and Trigrams, Link given below (SKIP TO 11:00)</H1> https://www.youtube.com/watch?v=dnHsiC4Mlhg"
      ],
      "metadata": {
        "id": "TH0BzbbhngG6"
      }
    },
    {
      "cell_type": "code",
      "source": [
        "#BIGRAMS AND TRIGRAMS\n",
        "bigram_phrases = gensim.models.Phrases(df['cleaned_text2'], min_count=5, threshold=100)\n",
        "trigram_phrases = gensim.models.Phrases(bigram_phrases[df['cleaned_text2']], threshold=100)\n",
        "\n",
        "bigram = gensim.models.phrases.Phraser(bigram_phrases)\n",
        "trigram = gensim.models.phrases.Phraser(trigram_phrases)\n",
        "\n",
        "def make_bigrams(texts):\n",
        "    return([bigram[doc] for doc in texts])\n",
        "\n",
        "def make_trigrams(texts):\n",
        "    return ([trigram[bigram[doc]] for doc in texts])\n",
        "\n",
        "data_bigrams = make_bigrams(df['cleaned_text2'])\n",
        "df['cleaned_text2'] = make_trigrams(data_bigrams)"
      ],
      "metadata": {
        "colab": {
          "base_uri": "https://localhost:8080/"
        },
        "id": "pnOwnzWvYd_G",
        "outputId": "b92f2448-597b-4aef-be35-df12127da7b1"
      },
      "execution_count": null,
      "outputs": [
        {
          "output_type": "stream",
          "name": "stderr",
          "text": [
            "/usr/local/lib/python3.7/dist-packages/gensim/models/phrases.py:598: UserWarning: For a faster implementation, use the gensim.models.phrases.Phraser class\n",
            "  warnings.warn(\"For a faster implementation, use the gensim.models.phrases.Phraser class\")\n"
          ]
        }
      ]
    },
    {
      "cell_type": "code",
      "source": [
        "print (df['cleaned_text2'])"
      ],
      "metadata": {
        "colab": {
          "base_uri": "https://localhost:8080/"
        },
        "id": "jY4ZW9zzYeBh",
        "outputId": "d8193b99-6bec-469a-f179-507d57fa2a78"
      },
      "execution_count": null,
      "outputs": [
        {
          "output_type": "stream",
          "name": "stdout",
          "text": [
            "0     [trakkyd, abuse, hurl, scientist, much, more, ...\n",
            "1     [crakeka, interesting, many, attack, other, po...\n",
            "2     [wonder, would, feel, mentally, fuke, when, re...\n",
            "3     [thesayno, immoral, act, claim, sexual, assaul...\n",
            "4     [scottmorrisonmp, divide, instead, unify, go, ...\n",
            "                            ...                        \n",
            "95    [tonic, take, cheap, shot, basically, gutless,...\n",
            "96    [thebluetake, nd, guess, psychological, abuse,...\n",
            "97    [of, course, right, wing, party, will, funnel,...\n",
            "98                                             [autant]\n",
            "99                        [floralessence, child, abuse]\n",
            "Name: cleaned_text2, Length: 100, dtype: object\n"
          ]
        }
      ]
    },
    {
      "cell_type": "markdown",
      "source": [
        "<h1> Using Vader for Sentiment Analysis on lemmatized words, not list, i.e. Sentiment of word, +ve or -ve </h1>"
      ],
      "metadata": {
        "id": "GBGDb6S_tiH0"
      }
    },
    {
      "cell_type": "code",
      "source": [
        "nltk.download('vader_lexicon')\n",
        "from nltk.sentiment.vader import SentimentIntensityAnalyzer\n",
        "sentimentAnalyser = SentimentIntensityAnalyzer()"
      ],
      "metadata": {
        "colab": {
          "base_uri": "https://localhost:8080/"
        },
        "id": "fSAXzPmXYeD3",
        "outputId": "415aaca4-1983-4014-a032-191136ff03f0"
      },
      "execution_count": null,
      "outputs": [
        {
          "output_type": "stream",
          "name": "stdout",
          "text": [
            "[nltk_data] Downloading package vader_lexicon to /root/nltk_data...\n",
            "[nltk_data]   Package vader_lexicon is already up-to-date!\n"
          ]
        },
        {
          "output_type": "stream",
          "name": "stderr",
          "text": [
            "/usr/local/lib/python3.7/dist-packages/nltk/twitter/__init__.py:20: UserWarning: The twython library has not been installed. Some functionality from the twitter package will not be available.\n",
            "  warnings.warn(\"The twython library has not been installed. \"\n"
          ]
        }
      ]
    },
    {
      "cell_type": "code",
      "source": [
        "df['LabelFromVADER'] = df['cleaned_text1'].apply(lambda review: \"pos\" if sentimentAnalyser.polarity_scores(review)['compound'] > 0.5 else \"neg\")"
      ],
      "metadata": {
        "id": "TL17gZvoYeGT"
      },
      "execution_count": null,
      "outputs": []
    },
    {
      "cell_type": "markdown",
      "source": [
        "<h1> TF IDF very nice link: https://www.youtube.com/watch?v=i74DVqMsRWY&list=PL2VXyKi-KpYttggRATQVmgFcQst3z6OlX&index=6 </h1>"
      ],
      "metadata": {
        "id": "8dzCcKx6IJDa"
      }
    },
    {
      "cell_type": "code",
      "source": [
        "#TF-IDF REMOVAL\n",
        "from gensim.models import TfidfModel\n",
        "\n",
        "id2word = corpora.Dictionary(df['cleaned_text2']) #converting trigram bigram cleaned data into corpora dictionary with tokens assigned unique id\n",
        "\n",
        "texts = df['cleaned_text2'].copy()\n",
        "\n",
        "corpus = [id2word.doc2bow(text) for text in texts] #collecting id2word in form of Bag Of Words (bow)\n",
        "print (corpus[0][0:20])\n",
        "\n",
        "tfidf = TfidfModel(corpus, id2word=id2word) #starting tf-idf model\n",
        "\n",
        "low_value = 0.03 #lowest threshold, if the word appears with this frequency, it is using a lot of space and maybe also delimitting words which are important to corpus\n",
        "words  = []\n",
        "words_missing_in_tfidf = []\n",
        "for i in range(0, len(corpus)):\n",
        "    bow = corpus[i]\n",
        "    low_value_words = [] #reinitialize to be safe. You can skip this.\n",
        "    tfidf_ids = [id for id, value in tfidf[bow]]\n",
        "    bow_ids = [id for id, value in bow]\n",
        "    low_value_words = [id for id, value in tfidf[bow] if value < low_value]\n",
        "    drops = low_value_words+words_missing_in_tfidf #drops words which are so frequent, present everywhere\n",
        "    for item in drops:\n",
        "        words.append(id2word[item])\n",
        "    words_missing_in_tfidf = [id for id in bow_ids if id not in tfidf_ids] # The words with tf-idf socre 0 will be missing\n",
        "\n",
        "    new_bow = [b for b in bow if b[0] not in low_value_words and b[0] not in words_missing_in_tfidf]\n",
        "    corpus[i] = new_bow"
      ],
      "metadata": {
        "colab": {
          "base_uri": "https://localhost:8080/"
        },
        "id": "eaNYUktvYeI8",
        "outputId": "3535ccf7-5114-4212-f41d-b1a8ddd750d6"
      },
      "execution_count": null,
      "outputs": [
        {
          "output_type": "stream",
          "name": "stdout",
          "text": [
            "[(0, 2), (1, 1), (2, 1), (3, 1), (4, 1), (5, 1), (6, 1), (7, 1)]\n"
          ]
        }
      ]
    },
    {
      "cell_type": "code",
      "source": [
        "#LDA MODEL generation/declaration\n",
        "lda_model = gensim.models.ldamodel.LdaModel(corpus=corpus[:-1], #running till 2nd last object in list\n",
        "                                           id2word=id2word,\n",
        "                                           num_topics=10,\n",
        "                                           random_state=100,\n",
        "                                           update_every=1,\n",
        "                                           chunksize=100,\n",
        "                                           passes=10,\n",
        "                                           alpha=\"auto\")"
      ],
      "metadata": {
        "id": "_0qTt-7tYeKu"
      },
      "execution_count": null,
      "outputs": []
    },
    {
      "cell_type": "code",
      "source": [
        "#testing on document till 2nd last word\n",
        "test_doc = corpus[-1]\n",
        "vector = lda_model[test_doc] #converting to vector\n",
        "print(vector) # stores output in different opics, degree to relevance to that topic\n",
        "\n",
        "def Sort(sub_li):\n",
        "  sub_li.sort(key = lambda x: x[1])\n",
        "  sub_li.reverse()\n",
        "  return (sub_li)\n",
        "\n",
        "new_vector = Sort(vector)\n",
        "for i in range(10):\n",
        "  print(\"\")\n",
        "  print(new_vector)\n",
        ""
      ],
      "metadata": {
        "colab": {
          "base_uri": "https://localhost:8080/"
        },
        "id": "GN_hB4XWSM51",
        "outputId": "0c066768-fedf-4e1b-9a65-56829777d58e"
      },
      "execution_count": null,
      "outputs": [
        {
          "output_type": "stream",
          "name": "stdout",
          "text": [
            "[(0, 0.014672863), (1, 0.017461771), (2, 0.02279082), (3, 0.017564747), (4, 0.021553554), (5, 0.018766757), (6, 0.019256433), (7, 0.018479375), (8, 0.018239545), (9, 0.83121413)]\n",
            "\n",
            "[(9, 0.83121413), (2, 0.02279082), (4, 0.021553554), (6, 0.019256433), (5, 0.018766757), (7, 0.018479375), (8, 0.018239545), (3, 0.017564747), (1, 0.017461771), (0, 0.014672863)]\n",
            "\n",
            "[(9, 0.83121413), (2, 0.02279082), (4, 0.021553554), (6, 0.019256433), (5, 0.018766757), (7, 0.018479375), (8, 0.018239545), (3, 0.017564747), (1, 0.017461771), (0, 0.014672863)]\n",
            "\n",
            "[(9, 0.83121413), (2, 0.02279082), (4, 0.021553554), (6, 0.019256433), (5, 0.018766757), (7, 0.018479375), (8, 0.018239545), (3, 0.017564747), (1, 0.017461771), (0, 0.014672863)]\n",
            "\n",
            "[(9, 0.83121413), (2, 0.02279082), (4, 0.021553554), (6, 0.019256433), (5, 0.018766757), (7, 0.018479375), (8, 0.018239545), (3, 0.017564747), (1, 0.017461771), (0, 0.014672863)]\n",
            "\n",
            "[(9, 0.83121413), (2, 0.02279082), (4, 0.021553554), (6, 0.019256433), (5, 0.018766757), (7, 0.018479375), (8, 0.018239545), (3, 0.017564747), (1, 0.017461771), (0, 0.014672863)]\n",
            "\n",
            "[(9, 0.83121413), (2, 0.02279082), (4, 0.021553554), (6, 0.019256433), (5, 0.018766757), (7, 0.018479375), (8, 0.018239545), (3, 0.017564747), (1, 0.017461771), (0, 0.014672863)]\n",
            "\n",
            "[(9, 0.83121413), (2, 0.02279082), (4, 0.021553554), (6, 0.019256433), (5, 0.018766757), (7, 0.018479375), (8, 0.018239545), (3, 0.017564747), (1, 0.017461771), (0, 0.014672863)]\n",
            "\n",
            "[(9, 0.83121413), (2, 0.02279082), (4, 0.021553554), (6, 0.019256433), (5, 0.018766757), (7, 0.018479375), (8, 0.018239545), (3, 0.017564747), (1, 0.017461771), (0, 0.014672863)]\n",
            "\n",
            "[(9, 0.83121413), (2, 0.02279082), (4, 0.021553554), (6, 0.019256433), (5, 0.018766757), (7, 0.018479375), (8, 0.018239545), (3, 0.017564747), (1, 0.017461771), (0, 0.014672863)]\n",
            "\n",
            "[(9, 0.83121413), (2, 0.02279082), (4, 0.021553554), (6, 0.019256433), (5, 0.018766757), (7, 0.018479375), (8, 0.018239545), (3, 0.017564747), (1, 0.017461771), (0, 0.014672863)]\n"
          ]
        }
      ]
    },
    {
      "cell_type": "code",
      "source": [
        "lda_model.save(\"test_model.model\") #saving MODEL for further use"
      ],
      "metadata": {
        "id": "HIpmSJDBSimF"
      },
      "execution_count": null,
      "outputs": []
    },
    {
      "cell_type": "code",
      "source": [
        "new_model = gensim.models.ldamodel.LdaModel.load(\"test_model.model\") #new model for this exercise"
      ],
      "metadata": {
        "id": "mzzG52tIVl_4"
      },
      "execution_count": null,
      "outputs": []
    },
    {
      "cell_type": "code",
      "source": [
        "test_doc = corpus[-1]\n",
        "vector = new_model[test_doc] #converting to vector\n",
        "print(vector) # stores output in different topics, degree to relevance to that topic\n",
        "\n",
        "def Sort(sub_li):\n",
        "  sub_li.sort(key = lambda x: x[1])\n",
        "  sub_li.reverse()\n",
        "  return (sub_li)\n",
        "\n",
        "new_vector = Sort(vector)\n",
        "for i in range(10):\n",
        "  print(\"\")\n",
        "  print(new_vector)"
      ],
      "metadata": {
        "colab": {
          "base_uri": "https://localhost:8080/"
        },
        "id": "IarfeDK-V9z3",
        "outputId": "edc975ea-5bef-4580-8b04-49a3ef4a19da"
      },
      "execution_count": null,
      "outputs": [
        {
          "output_type": "stream",
          "name": "stdout",
          "text": [
            "[(0, 0.014672863), (1, 0.017461771), (2, 0.02279082), (3, 0.017564747), (4, 0.021553554), (5, 0.018766757), (6, 0.019256433), (7, 0.018479375), (8, 0.018239545), (9, 0.83121413)]\n",
            "\n",
            "[(9, 0.83121413), (2, 0.02279082), (4, 0.021553554), (6, 0.019256433), (5, 0.018766757), (7, 0.018479375), (8, 0.018239545), (3, 0.017564747), (1, 0.017461771), (0, 0.014672863)]\n",
            "\n",
            "[(9, 0.83121413), (2, 0.02279082), (4, 0.021553554), (6, 0.019256433), (5, 0.018766757), (7, 0.018479375), (8, 0.018239545), (3, 0.017564747), (1, 0.017461771), (0, 0.014672863)]\n",
            "\n",
            "[(9, 0.83121413), (2, 0.02279082), (4, 0.021553554), (6, 0.019256433), (5, 0.018766757), (7, 0.018479375), (8, 0.018239545), (3, 0.017564747), (1, 0.017461771), (0, 0.014672863)]\n",
            "\n",
            "[(9, 0.83121413), (2, 0.02279082), (4, 0.021553554), (6, 0.019256433), (5, 0.018766757), (7, 0.018479375), (8, 0.018239545), (3, 0.017564747), (1, 0.017461771), (0, 0.014672863)]\n",
            "\n",
            "[(9, 0.83121413), (2, 0.02279082), (4, 0.021553554), (6, 0.019256433), (5, 0.018766757), (7, 0.018479375), (8, 0.018239545), (3, 0.017564747), (1, 0.017461771), (0, 0.014672863)]\n",
            "\n",
            "[(9, 0.83121413), (2, 0.02279082), (4, 0.021553554), (6, 0.019256433), (5, 0.018766757), (7, 0.018479375), (8, 0.018239545), (3, 0.017564747), (1, 0.017461771), (0, 0.014672863)]\n",
            "\n",
            "[(9, 0.83121413), (2, 0.02279082), (4, 0.021553554), (6, 0.019256433), (5, 0.018766757), (7, 0.018479375), (8, 0.018239545), (3, 0.017564747), (1, 0.017461771), (0, 0.014672863)]\n",
            "\n",
            "[(9, 0.83121413), (2, 0.02279082), (4, 0.021553554), (6, 0.019256433), (5, 0.018766757), (7, 0.018479375), (8, 0.018239545), (3, 0.017564747), (1, 0.017461771), (0, 0.014672863)]\n",
            "\n",
            "[(9, 0.83121413), (2, 0.02279082), (4, 0.021553554), (6, 0.019256433), (5, 0.018766757), (7, 0.018479375), (8, 0.018239545), (3, 0.017564747), (1, 0.017461771), (0, 0.014672863)]\n",
            "\n",
            "[(9, 0.83121413), (2, 0.02279082), (4, 0.021553554), (6, 0.019256433), (5, 0.018766757), (7, 0.018479375), (8, 0.018239545), (3, 0.017564747), (1, 0.017461771), (0, 0.014672863)]\n"
          ]
        }
      ]
    },
    {
      "cell_type": "markdown",
      "source": [
        "<h1> Visualization of the textual data </h1>"
      ],
      "metadata": {
        "id": "6wBtZBRFShwk"
      }
    },
    {
      "cell_type": "code",
      "source": [
        "#!pip install pandas --upgrade\n",
        "#!pip install pandas==1.3.1\n",
        "pyLDAvis.enable_notebook()\n",
        "vis = gensim_models.prepare(new_model, corpus, id2word, mds=\"mmds\", R=30)\n",
        "vis"
      ],
      "metadata": {
        "colab": {
          "base_uri": "https://localhost:8080/",
          "height": 1000
        },
        "id": "nyqAuSm_YeMt",
        "outputId": "52e61cb3-9e46-47ee-aad5-a9e49c811c18"
      },
      "execution_count": null,
      "outputs": [
        {
          "output_type": "stream",
          "name": "stdout",
          "text": [
            "Requirement already satisfied: pandas in /usr/local/lib/python3.7/dist-packages (1.3.1)\n",
            "Collecting pandas\n",
            "  Using cached pandas-1.3.5-cp37-cp37m-manylinux_2_17_x86_64.manylinux2014_x86_64.whl (11.3 MB)\n",
            "Requirement already satisfied: pytz>=2017.3 in /usr/local/lib/python3.7/dist-packages (from pandas) (2018.9)\n",
            "Requirement already satisfied: numpy>=1.17.3 in /usr/local/lib/python3.7/dist-packages (from pandas) (1.21.5)\n",
            "Requirement already satisfied: python-dateutil>=2.7.3 in /usr/local/lib/python3.7/dist-packages (from pandas) (2.8.2)\n",
            "Requirement already satisfied: six>=1.5 in /usr/local/lib/python3.7/dist-packages (from python-dateutil>=2.7.3->pandas) (1.15.0)\n",
            "Installing collected packages: pandas\n",
            "  Attempting uninstall: pandas\n",
            "    Found existing installation: pandas 1.3.1\n",
            "    Uninstalling pandas-1.3.1:\n",
            "      Successfully uninstalled pandas-1.3.1\n",
            "\u001b[31mERROR: pip's dependency resolver does not currently take into account all the packages that are installed. This behaviour is the source of the following dependency conflicts.\n",
            "google-colab 1.0.0 requires pandas~=1.1.0; python_version >= \"3.0\", but you have pandas 1.3.5 which is incompatible.\u001b[0m\n",
            "Successfully installed pandas-1.3.5\n"
          ]
        },
        {
          "output_type": "display_data",
          "data": {
            "application/vnd.colab-display-data+json": {
              "pip_warning": {
                "packages": [
                  "pandas"
                ]
              }
            }
          },
          "metadata": {}
        },
        {
          "output_type": "stream",
          "name": "stdout",
          "text": [
            "Collecting pandas==1.3.1\n",
            "  Using cached pandas-1.3.1-cp37-cp37m-manylinux_2_17_x86_64.manylinux2014_x86_64.whl (11.5 MB)\n",
            "Requirement already satisfied: numpy>=1.17.3 in /usr/local/lib/python3.7/dist-packages (from pandas==1.3.1) (1.21.5)\n",
            "Requirement already satisfied: python-dateutil>=2.7.3 in /usr/local/lib/python3.7/dist-packages (from pandas==1.3.1) (2.8.2)\n",
            "Requirement already satisfied: pytz>=2017.3 in /usr/local/lib/python3.7/dist-packages (from pandas==1.3.1) (2018.9)\n",
            "Requirement already satisfied: six>=1.5 in /usr/local/lib/python3.7/dist-packages (from python-dateutil>=2.7.3->pandas==1.3.1) (1.15.0)\n",
            "Installing collected packages: pandas\n",
            "  Attempting uninstall: pandas\n",
            "    Found existing installation: pandas 1.3.5\n",
            "    Uninstalling pandas-1.3.5:\n",
            "      Successfully uninstalled pandas-1.3.5\n",
            "\u001b[31mERROR: pip's dependency resolver does not currently take into account all the packages that are installed. This behaviour is the source of the following dependency conflicts.\n",
            "google-colab 1.0.0 requires pandas~=1.1.0; python_version >= \"3.0\", but you have pandas 1.3.1 which is incompatible.\u001b[0m\n",
            "Successfully installed pandas-1.3.1\n"
          ]
        },
        {
          "output_type": "display_data",
          "data": {
            "application/vnd.colab-display-data+json": {
              "pip_warning": {
                "packages": [
                  "pandas"
                ]
              }
            }
          },
          "metadata": {}
        },
        {
          "output_type": "stream",
          "name": "stderr",
          "text": [
            "/usr/local/lib/python3.7/dist-packages/pyLDAvis/_prepare.py:247: FutureWarning: In a future version of pandas all arguments of DataFrame.drop except for the argument 'labels' will be keyword-only\n",
            "  by='saliency', ascending=False).head(R).drop('saliency', 1)\n"
          ]
        },
        {
          "output_type": "execute_result",
          "data": {
            "text/html": [
              "\n",
              "<link rel=\"stylesheet\" type=\"text/css\" href=\"https://cdn.jsdelivr.net/gh/bmabey/pyLDAvis@3.3.1/pyLDAvis/js/ldavis.v1.0.0.css\">\n",
              "\n",
              "\n",
              "<div id=\"ldavis_el2411402231686249767911553352\"></div>\n",
              "<script type=\"text/javascript\">\n",
              "\n",
              "var ldavis_el2411402231686249767911553352_data = {\"mdsDat\": {\"x\": [-0.19237820884830567, -0.05844210252552393, -0.15883462263701292, 0.08536234091150915, 0.1965774880834568, 0.1532186914436173, 0.05357975858690627, -0.034109228832465636, -0.06435027228489473, 0.019376156102713385], \"y\": [-0.08828965064448961, 0.19095370917824298, 0.08445462178281155, -0.15922141350885455, -0.05138510704905413, 0.08222103869308957, 0.13040328235824353, -0.15765814076440857, -0.010538248045460778, -0.020940092000119974], \"topics\": [1, 2, 3, 4, 5, 6, 7, 8, 9, 10], \"cluster\": [1, 1, 1, 1, 1, 1, 1, 1, 1, 1], \"Freq\": [18.78804836823153, 14.308430632978556, 12.363648153833513, 12.048968219084228, 10.317035995350563, 8.736770454460405, 7.336983868632297, 7.143477929967259, 4.916372709183619, 4.040263668278025]}, \"tinfo\": {\"Term\": [\"sexual\", \"know\", \"amp\", \"survivor\", \"hero\", \"child\", \"re\", \"power\", \"guilty\", \"matter\", \"find\", \"girl\", \"say\", \"financier\", \"lure\", \"go\", \"work\", \"public\", \"dog\", \"ignore\", \"block\", \"feel\", \"get\", \"hate\", \"right\", \"when\", \"twitter\", \"thank\", \"other\", \"neighbour\", \"experience\", \"customer\", \"online\", \"pedo\", \"ve\", \"test\", \"pretty\", \"elderly\", \"risk\", \"mobile\", \"next\", \"voice\", \"end\", \"church\", \"likely\", \"own\", \"coach\", \"ground\", \"mrglangford\", \"pricy\", \"accessible\", \"expensive\", \"free\", \"low\", \"physical\", \"rapid\", \"retail\", \"scared\", \"stock\", \"violence\", \"when\", \"moron\", \"staff\", \"torture\", \"hate\", \"child\", \"call\", \"should\", \"say\", \"protect\", \"die\", \"com\", \"other\", \"face\", \"re\", \"twitter\", \"people\", \"time\", \"now\", \"see\", \"day\", \"alcohol\", \"autistic\", \"old\", \"attack\", \"chronic\", \"thread\", \"same\", \"yet\", \"pregnancy\", \"dark\", \"escape\", \"recently\", \"vile\", \"stay\", \"crakeka\", \"hit\", \"dismiss\", \"unhinged\", \"profit\", \"gaol\", \"rewinde\", \"appal\", \"mental\", \"gt\", \"selective\", \"scapegoate\", \"cptsd\", \"act\", \"hatred\", \"let\", \"drug\", \"pain\", \"will\", \"little\", \"poor\", \"bad\", \"even\", \"charge\", \"other\", \"want\", \"very\", \"many\", \"twitter\", \"right\", \"just\", \"so\", \"child\", \"time\", \"amp\", \"say\", \"sexual\", \"people\", \"most\", \"dv\", \"block\", \"guess\", \"family\", \"open\", \"respect\", \"religious\", \"like\", \"teenager\", \"information\", \"pass\", \"impact\", \"recommendation\", \"australian\", \"indigenous\", \"adylady\", \"veteran\", \"implement\", \"accuse\", \"virtually\", \"fest\", \"fellow\", \"engage\", \"dozen\", \"brodie\", \"testify\", \"alone\", \"declare\", \"clergy\", \"celebrate\", \"know\", \"moral\", \"friend\", \"as\", \"feel\", \"get\", \"support\", \"people\", \"year\", \"child\", \"many\", \"use\", \"well\", \"twitter\", \"right\", \"time\", \"amp\", \"com\", \"sexual\", \"need\", \"so\", \"co\", \"sure\", \"shit\", \"want\", \"far\", \"ever\", \"product\", \"level\", \"healthcare\", \"alternative\", \"epicvoiceguy\", \"plant\", \"sale\", \"unfounded\", \"base\", \"palaszczuk\", \"frontline\", \"bother\", \"law\", \"misuse\", \"capitalism\", \"intimidate\", \"appreciate\", \"consent\", \"ruin\", \"empathy\", \"gaslighte\", \"confront\", \"equate\", \"shell\", \"basket\", \"anti\", \"boycott\", \"degrade\", \"cheap\", \"suffer\", \"animal\", \"worker\", \"can\", \"would\", \"woman\", \"here\", \"support\", \"now\", \"protect\", \"thank\", \"face\", \"status\", \"sexual\", \"co\", \"call\", \"people\", \"should\", \"survivor\", \"com\", \"twitter\", \"child\", \"make\", \"right\", \"keep\", \"year\", \"unfortunately\", \"military\", \"dictatorship\", \"occupation\", \"democracy\", \"shameful\", \"pancasila\", \"colonial\", \"witch\", \"house\", \"evil\", \"forbid\", \"merry\", \"hug\", \"ad\", \"blood\", \"ask\", \"happy\", \"plight\", \"asap\", \"truth\", \"archie\", \"pixie\", \"applemusic\", \"believe\", \"threat\", \"thankyou\", \"subscription\", \"cancel\", \"recommend\", \"dog\", \"wish\", \"school\", \"live\", \"try\", \"well\", \"see\", \"time\", \"status\", \"twitter\", \"com\", \"lie\", \"learn\", \"lot\", \"co\", \"safe\", \"more\", \"bad\", \"amp\", \"hand\", \"white\", \"matter\", \"illegal\", \"kind\", \"tell\", \"openly\", \"dominate\", \"higgin\", \"misogyny\", \"brittany\", \"kidcowboy\", \"male\", \"platform\", \"group\", \"high\", \"offensive\", \"direct\", \"horse\", \"regard\", \"fact\", \"pile\", \"character\", \"condone\", \"chicken\", \"walk\", \"responsible\", \"roost\", \"force\", \"home\", \"armed\", \"gender\", \"tool\", \"watch\", \"orchestrate\", \"famous\", \"matter\", \"much\", \"no\", \"how\", \"future\", \"speak\", \"where\", \"charge\", \"only\", \"behaviour\", \"give\", \"very\", \"say\", \"need\", \"get\", \"see\", \"want\", \"look\", \"amp\", \"sexual\", \"survivor\", \"well\", \"woman\", \"may\", \"comment\", \"rape\", \"person\", \"financier\", \"lure\", \"away\", \"girl\", \"find\", \"guilty\", \"ableism\", \"deputy\", \"awareness\", \"medical\", \"professional\", \"disable\", \"sharing\", \"inexcusable\", \"raise\", \"beautiful\", \"rot\", \"downright\", \"wear\", \"shop\", \"new\", \"sake\", \"respectful\", \"iso\", \"relax\", \"patient\", \"negative\", \"ain\", \"ok\", \"despicable\", \"sexual\", \"go\", \"right\", \"so\", \"survivor\", \"people\", \"com\", \"poor\", \"twitter\", \"far\", \"pm\", \"dog\", \"moron\", \"name\", \"often\", \"hand\", \"shit\", \"too\", \"blatant\", \"trauma\", \"lay\", \"win\", \"quiet\", \"defense\", \"sector\", \"warrior\", \"once\", \"leave\", \"necessity\", \"whistle\", \"diabolical\", \"shock\", \"blower\", \"climate\", \"activist\", \"frighten\", \"blanket\", \"fill\", \"neglect\", \"society\", \"funny\", \"wire\", \"cross\", \"barnaby\", \"depp\", \"trash\", \"hear\", \"swimming\", \"fun\", \"rru\", \"country\", \"point\", \"amp\", \"go\", \"use\", \"make\", \"twitter\", \"people\", \"just\", \"call\", \"say\", \"sexual\", \"common\", \"court\", \"silence\", \"bit\", \"care\", \"much\", \"shit\", \"now\", \"do\", \"power\", \"verbal\", \"doesn\", \"speech\", \"freedom\", \"coupdelecrivai\", \"hi\", \"ballon\", \"action\", \"lordmcbain\", \"tactic\", \"scare\", \"together\", \"abhor\", \"preference\", \"last\", \"arrogantly\", \"air\", \"catapult\", \"election\", \"swinging\", \"dostribution\", \"current\", \"campaign\", \"ausfedpolice\", \"xc\", \"constitution\", \"access\", \"wscsexn\", \"certificate\", \"public\", \"know\", \"survivor\", \"amp\", \"com\", \"twitter\", \"sexual\", \"voter\", \"process\", \"matter\", \"bad\", \"money\", \"look\", \"really\", \"meagrebone\", \"say\", \"apparently\", \"ppl\", \"here\", \"actually\", \"hero\", \"neighbour\", \"reflect\", \"ppe\", \"acceptance\", \"forgiveness\", \"sentiment\", \"accept\", \"summer\", \"clinic\", \"contact\", \"forgave\", \"optimistic\", \"job\", \"establish\", \"mum\", \"penultimate\", \"fever\", \"healing\", \"full\", \"police\", \"enough\", \"proof\", \"completely\", \"ignore\", \"work\", \"yesterday\", \"mask\", \"wait\", \"reality\", \"re\", \"sexual\", \"say\", \"survivor\", \"people\", \"thank\", \"child\", \"day\", \"continue\", \"finally\", \"path\", \"healthcare\"], \"Freq\": [11.0, 4.0, 7.0, 6.0, 1.0, 13.0, 4.0, 1.0, 3.0, 3.0, 3.0, 2.0, 9.0, 2.0, 2.0, 4.0, 2.0, 3.0, 3.0, 1.0, 3.0, 6.0, 5.0, 4.0, 5.0, 4.0, 10.0, 3.0, 6.0, 1.0, 3.140840630014173, 2.374781740036588, 2.3723848375149257, 2.370256805165663, 1.6087233959882867, 1.6087231230236447, 1.6087231230236447, 1.6087229865413237, 1.6087229865413237, 1.6077990012280534, 1.6077340356432506, 1.6070214614452323, 1.6060394711455306, 1.6056212893139412, 1.6054677467027996, 2.3723818349038637, 0.8426645742518621, 0.8426645742518621, 0.8426645742518621, 0.8426645742518621, 0.8426645742518621, 0.8426645742518621, 0.8426645742518621, 0.8426645742518621, 0.8426645742518621, 0.8426645742518621, 0.8426645742518621, 0.8426645742518621, 0.8426645742518621, 0.8426645742518621, 2.374781740036588, 1.6087231230236447, 1.6087231230236447, 1.6087225770943607, 2.372404763933794, 6.204088330885009, 2.372248628158553, 2.3720048707332206, 3.138425165896853, 1.6087233959882867, 1.6037879222957494, 3.1400495784815714, 2.3702961120741155, 1.6064404562046721, 1.6091440345016543, 1.6090617356620824, 1.6088047394516116, 1.6087233959882867, 1.6087233959882867, 1.6087233959882867, 1.6080090475200952, 2.2032864647234267, 2.2032864647234267, 2.2032864647234267, 1.4925488719872653, 1.4925488719872653, 1.4923725881155894, 2.2032864647234267, 0.781811383192066, 0.7818112792511039, 0.7818112792511039, 0.7818112792511039, 0.7818112792511039, 0.7818112792511039, 0.7818112792511039, 0.7818112792511039, 0.7818112792511039, 0.7818112792511039, 0.7818112792511039, 0.7818112792511039, 0.7818112792511039, 0.7818112792511039, 0.7818112792511039, 0.7818112792511039, 0.7818112792511039, 0.7818112792511039, 0.7818112792511039, 0.7818112792511039, 0.7818112792511039, 0.7818112792511039, 0.7818112792511039, 1.4925488719872653, 1.4925488719872653, 2.200212514711079, 1.4925488719872653, 2.2051929498497698, 2.203286672605351, 1.4900716470381792, 1.4925544847992172, 2.2074486766086783, 2.2085581424378455, 1.492554172976331, 1.501767915618331, 2.1991440016209687, 1.4957482787408347, 1.4925490798691894, 1.497858696034765, 2.20470359580033, 1.4925488719872653, 1.487935972090465, 1.4942265830560857, 1.4963647525868897, 1.4925490798691894, 0.7886505945555081, 1.4281393464722905, 2.1171465322694405, 2.1150398680442586, 2.11184232968542, 0.7500297651442167, 0.7500297651442167, 0.7500297651442167, 0.7500297651442167, 0.7500297651442167, 0.7500296753307691, 0.7500296753307691, 0.7500296753307691, 0.7500296753307691, 0.7500296753307691, 0.7500296753307691, 0.7500296753307691, 0.7500296753307691, 0.7500296753307691, 0.7500296753307691, 0.7500296753307691, 0.7500296753307691, 0.7500296753307691, 0.7500296753307691, 0.7500296753307691, 0.7500295855173216, 0.7500295855173216, 0.7498563802837668, 0.7498122369743074, 0.7498066236338371, 0.7498047824581627, 2.798489487521916, 1.431874867381813, 1.4301543111675477, 1.4312322521647607, 2.7925264134868413, 2.112049619122311, 1.4270181153933696, 3.4775756104649456, 1.4303326806743353, 2.7965547262353, 1.4296677917222966, 1.4312282105596221, 1.431874867381813, 2.112805489096694, 1.4296174961916817, 1.431874867381813, 1.429859273992423, 1.430909552447798, 1.431612522301588, 0.7522486961788065, 0.7516911792032858, 0.7514682173198012, 0.7501315237802642, 0.7500298549576642, 0.7500298549576642, 0.7500297651442167, 2.0856356899631012, 1.4128499468183051, 1.4064225389539122, 1.412849771763279, 0.7400642912010219, 0.7400642912010219, 0.7400642912010219, 0.7400642912010219, 0.7400642912010219, 0.7400642912010219, 0.7400642912010219, 0.7400642912010219, 0.7400642912010219, 0.7400642036735089, 0.7400642036735089, 0.7400642036735089, 0.7400642036735089, 0.7400642912010219, 0.7400642036735089, 0.7400642036735089, 0.7400642912010219, 0.7400642036735089, 0.7400642036735089, 0.7400642036735089, 0.7400642036735089, 0.7400642912010219, 0.7400642912010219, 0.7400642036735089, 0.7400642036735089, 0.7400642036735089, 1.412849771763279, 2.085635514908075, 1.4128501218733311, 2.076981669694717, 2.085635514908075, 2.085635514908075, 1.4128501218733311, 1.417641903101717, 2.087366634060799, 1.412849596708253, 1.4128501218733311, 1.4128501218733311, 1.412849771763279, 2.0856360400731533, 1.4128501218733311, 1.4128501218733311, 2.0856362151281793, 1.4072752319858586, 1.4128501218733311, 1.4128499468183051, 1.4128499468183051, 1.413985791354906, 0.7423714289170016, 0.7422919539351696, 0.7418365482848702, 0.7414730465232532, 1.351326782979959, 1.3504074927680054, 0.7078377994462494, 0.7078377994462494, 0.7078377994462494, 0.7078377994462494, 0.7078377994462494, 0.7078377994462494, 0.7078377994462494, 0.7078377994462494, 0.7078377994462494, 0.7078377994462494, 0.7078377994462494, 0.7078377994462494, 0.7078377994462494, 0.7078377994462494, 0.7078377994462494, 0.7078377994462494, 0.7078377994462494, 0.7078377994462494, 0.7078377994462494, 0.7078377994462494, 0.7078377994462494, 0.7078377994462494, 0.7078377994462494, 0.7078377994462494, 0.7078377994462494, 0.7078377994462494, 0.7078377994462494, 0.7078377245000393, 1.9911691087733276, 1.351326782979959, 1.3490806450660306, 1.9948155416750384, 1.1464371102983053, 1.3500840249256125, 1.348572209977339, 1.3513266330875389, 0.7087191668759389, 0.7086854410814356, 0.7085301525342997, 0.7078378743924594, 0.7078378743924594, 0.7078378743924594, 0.7078378743924594, 0.7078378743924594, 0.7078377994462494, 0.7078377994462494, 0.7078377994462494, 0.7078377994462494, 0.7078377994462494, 0.7078377994462494, 0.7078377994462494, 0.7078377994462494, 0.7078377994462494, 0.6638124755239132, 0.6638124755239132, 0.6638124755239132, 0.6638124755239132, 0.6638124755239132, 0.6638124755239132, 0.6638124755239132, 0.6638124755239132, 0.6638124120572515, 0.6638124120572515, 0.6638124755239132, 0.6638124755239132, 0.6638124120572515, 0.6638124120572515, 0.6638124120572515, 0.6638124120572515, 0.6638124120572515, 0.6638124120572515, 0.6638124120572515, 0.6638124120572515, 0.6638124755239132, 0.6638124120572515, 0.6638124120572515, 0.6638124120572515, 0.6638124120572515, 0.6638124120572515, 0.6638124120572515, 0.6638124120572515, 0.6638124120572515, 0.6638124120572515, 1.8687003284424784, 1.2663770838404191, 1.2663227563780035, 1.265757776155546, 1.2640521730890082, 1.2672700597705446, 1.267278437369889, 1.2672736139035998, 1.265290661525431, 1.267278437369889, 1.2661944267880452, 1.2672738677702466, 1.8707444626825267, 1.26615355425791, 1.2661003691954051, 1.2663264374443821, 1.267278437369889, 0.664373140013375, 0.6638125389905749, 0.6638125389905749, 0.6638125389905749, 0.6638125389905749, 0.6638125389905749, 0.6638124755239132, 0.6638124755239132, 0.6638124755239132, 0.6638124755239132, 1.7363487273059832, 1.7363484075169657, 1.1766270202444422, 1.7363487273059832, 1.7363481943242876, 1.7363484075169657, 0.6178878116405778, 0.6178878649387474, 0.6178878116405778, 0.6178878116405778, 0.6178878116405778, 0.6178878116405778, 0.6178878116405778, 0.6178878116405778, 0.6178878116405778, 0.6178878116405778, 0.6178877583424083, 0.6178465588573381, 0.6178440005451992, 0.6178433609671645, 0.617842934581808, 0.6178388839209213, 0.6178365920996303, 0.6178364322051216, 0.6178303029156221, 0.6178292369522309, 0.6178204960524231, 0.6168774915383908, 0.6168634208216268, 0.6167846994251861, 2.856625191819294, 1.179533049641554, 1.1752906219408845, 1.1754077713175783, 1.176250948360024, 1.1795445620461789, 0.6187264583386108, 0.6179915298785424, 0.6178883446222735, 0.6178878649387474, 0.6178878649387474, 0.6178878649387474, 0.6178878649387474, 0.6178878649387474, 0.6178878116405778, 0.6178878116405778, 0.6178878116405778, 0.6178878116405778, 0.6178878116405778, 0.6178878116405778, 0.6087424468436691, 0.6087424468436691, 0.6087424468436691, 0.6087424468436691, 0.6087424468436691, 0.6087424468436691, 0.6087424468436691, 0.6087424468436691, 0.6087424468436691, 0.6087424468436691, 0.6087424468436691, 0.6087424468436691, 0.6087424468436691, 0.6087424468436691, 0.6087424468436691, 0.6087424468436691, 0.6087423430587066, 0.6087423430587066, 0.6087423430587066, 0.6087423430587066, 0.6087423430587066, 0.6087423430587066, 0.6087423430587066, 0.6087423430587066, 0.6087423430587066, 0.6087423430587066, 0.6087423430587066, 0.6087423430587066, 0.6087422911662254, 0.6087422911662254, 1.1635076838774732, 1.162011000932758, 1.71549340393715, 1.1613785353710706, 1.1620296822260143, 1.1638311816056943, 1.1619130279281251, 1.1637822988883404, 0.6131420989754467, 0.6105725389805274, 0.6099499329902809, 0.6098615082022012, 0.6096385262101951, 0.6087424987361504, 0.6087424987361504, 0.6087424987361504, 0.6087424987361504, 0.6087424468436691, 0.6087424468436691, 0.6087424468436691, 0.6087424468436691, 1.4300111102330932, 0.9704244775263697, 0.5083177518325949, 0.5083176446903396, 0.5083176446903396, 0.5083175732621693, 0.5083173232635736, 0.5083172518354034, 0.5083165732677865, 0.5081182172391301, 0.5080644675410516, 0.5080532890324146, 0.5080473604942878, 0.5080353248476084, 0.5080224320628866, 0.5080198249346741, 0.5080166463811, 0.5080074321471437, 0.5080016464653572, 0.5079962179244217, 0.5079391468164287, 0.5079302182951532, 0.5079234326189839, 0.5078958256312001, 0.5063743698917703, 0.5062950489087589, 0.5062181921976193, 0.50620965653128, 0.5061694424714551, 0.5061601210952436, 0.9681145619301436, 0.9684431315130818, 0.9704244775263697, 0.9727268217365543, 0.9704244060981996, 0.973118248109272, 0.9704246203827102, 0.5128219765315721, 0.5124665499566371, 0.5098829930403596, 0.5090715690268425, 0.5085339649038023, 0.50831778754668, 0.50831778754668, 0.50831778754668, 0.5083177518325949, 0.5083177518325949, 0.5083177518325949, 0.5083176804044247, 0.5083175375480843, 1.2937223998221914, 0.8758494336599523, 0.45906281922373154, 0.45906276052422723, 0.45906276052422723, 0.45906276052422723, 0.45906276052422723, 0.45906276052422723, 0.45906276052422723, 0.45906276052422723, 0.45906276052422723, 0.45906276052422723, 0.45906276052422723, 0.45906276052422723, 0.45906276052422723, 0.45906276052422723, 0.45906276052422723, 0.45906276052422723, 0.45906276052422723, 0.45906276052422723, 0.4588458658558511, 0.4587796234652523, 0.45877442855912204, 0.45875353153559245, 0.87626649363798, 0.8763925801732093, 0.45906276052422723, 0.45906281922373154, 0.45906276052422723, 0.45906281922373154, 0.8763926975722178, 0.46345817940596074, 0.45956126606446657, 0.45906296597249224, 0.4590628485734837, 0.45906281922373154, 0.45906281922373154, 0.45906281922373154, 0.45906276052422723, 0.45906276052422723, 0.45906276052422723, 0.45906276052422723], \"Total\": [11.0, 4.0, 7.0, 6.0, 1.0, 13.0, 4.0, 1.0, 3.0, 3.0, 3.0, 2.0, 9.0, 2.0, 2.0, 4.0, 2.0, 3.0, 3.0, 1.0, 3.0, 6.0, 5.0, 4.0, 5.0, 4.0, 10.0, 3.0, 6.0, 1.0, 3.671528764247761, 2.9054699044359293, 2.9048045517357926, 2.9042137864502555, 2.139411426457107, 2.1394111433378575, 2.139411162057053, 2.1394110249434766, 2.1394110490747034, 2.1391647245851053, 2.1392907610538248, 2.1389573352330693, 2.139217543208722, 2.1390333674651374, 2.1391761681390538, 3.5866488484546006, 1.3733525470533394, 1.3733525470533394, 1.3733525470533394, 1.3733525470533394, 1.3733525470533394, 1.3733525470533394, 1.3733525470533394, 1.3733525470533394, 1.3733525470533394, 1.3733525470533394, 1.3733525470533394, 1.3733525470533394, 1.3733525470533394, 1.3733525470533394, 4.0048285432261785, 2.7011275567256865, 2.8501488937734814, 2.850148717994233, 4.557206471507947, 13.961960326137172, 5.365763557162726, 5.563156446495369, 9.017292844070738, 3.4849827656482977, 3.4931617941994904, 9.774058070455931, 6.780037322629808, 4.087840750320624, 4.882150672999058, 10.897546305388273, 12.882756127512494, 6.764699053682145, 5.916451414114582, 5.314364688604851, 4.621871492675673, 2.7395066370701793, 2.739506645323142, 2.739506704614007, 2.0287690170502355, 2.028769027239286, 2.0287299462558552, 3.412292369832788, 1.3180314721564534, 1.3180313615532202, 1.3180313615532202, 1.3180313615532202, 1.3180313615532202, 1.3180313615532202, 1.3180313615532202, 1.3180313652219393, 1.3180313652219393, 1.3180313652219393, 1.318031366017481, 1.318031366017481, 1.3180313670236898, 1.3180313671665607, 1.3180313680397804, 1.3180313680397804, 1.3180313699841473, 1.3180313708352798, 1.3180313709903562, 1.3180313716308214, 1.318031371707828, 1.3180313720064467, 1.3180313728996296, 2.5821712328631037, 2.6319796310760406, 4.02348466281795, 2.7948277136105784, 4.626130448573675, 5.214396948900633, 3.1272764387534213, 3.235701817197618, 6.780037322629808, 7.2709869772867615, 3.917506147194566, 4.158073295787031, 10.897546305388273, 5.189002184441896, 5.347113893468401, 5.666321950938889, 13.961960326137172, 6.764699053682145, 7.988261496154459, 9.017292844070738, 11.48245886296421, 12.882756127512494, 4.084744011438693, 1.9709346742135547, 3.1160409317843594, 3.256607171743178, 3.4186856452681766, 1.2891390846135178, 1.2891391049234049, 1.2891391167554707, 1.2891391194173094, 1.2891391415393683, 1.2891389984687893, 1.289138999264331, 1.2891390154079045, 1.2891390387333006, 1.289139049196277, 1.2891390517259207, 1.2891390564100589, 1.2891390577264221, 1.2891390584438938, 1.2891390603767252, 1.2891390678810297, 1.289139069693202, 1.2891390892167571, 1.2891391077887773, 1.2891391101864347, 1.2891390309821362, 1.289139057599316, 1.2891604351829968, 1.2891659378461386, 1.2891665015169746, 1.2891668204951505, 4.970568943381785, 2.6437699751342048, 2.6816671444730775, 2.7370068714258053, 6.139032946659115, 5.175364754912648, 3.31649113015519, 12.882756127512494, 3.9714460679206467, 13.961960326137172, 4.158073295787031, 4.554567672697678, 4.627312958105581, 10.897546305388273, 5.189002184441896, 6.764699053682145, 7.988261496154459, 9.774058070455931, 11.48245886296421, 4.297439492536672, 5.666321950938889, 5.060482812326698, 2.515346293905614, 3.0770433514460427, 7.2709869772867615, 3.327651780193403, 2.625651107560732, 1.952865268286711, 1.9525853112527385, 2.3701950020091274, 1.2800795581206, 1.2800795581206, 1.2800795581206, 1.2800795581206, 1.2800795581206, 1.2800795628047381, 1.2800796002620842, 1.2800796126596776, 1.2800796151893215, 1.280079470593087, 1.280079470593087, 1.280079474261806, 1.2800794745597532, 1.2800796272226875, 1.2800794782284723, 1.2800794810463134, 1.2800796332994733, 1.2800794827027375, 1.2800794839176293, 1.2800794839176293, 1.2800794839176293, 1.2800796369681922, 1.2800796396302856, 1.2800794882600954, 1.2800794904041894, 1.2800794905799004, 2.515156063693698, 3.9532404545716346, 2.6636030200791008, 4.571196576387766, 4.838899461283109, 5.267569384674392, 3.0968177417329983, 3.31649113015519, 5.916451414114582, 3.4849827656482977, 3.6137686990737814, 4.087840750320624, 4.753688295949523, 11.48245886296421, 5.060482812326698, 5.365763557162726, 12.882756127512494, 5.563156446495369, 6.497968382441439, 9.774058070455931, 10.897546305388273, 13.961960326137172, 5.3108941735682835, 5.189002184441896, 1.9619010138457553, 3.9714460679206467, 1.8942718247407562, 1.89421471316416, 1.2507827431200376, 1.2507827561144436, 1.25078275985991, 1.2507827628650736, 1.2507827711649198, 1.2507827739818556, 1.25078278886544, 1.2507827900145196, 1.250782790512114, 1.250782790512114, 1.2507827944787804, 1.2507827944787804, 1.2507827944787804, 1.2507828000921208, 1.250782803617969, 1.2507828037608397, 1.250782806588431, 1.2507828086222659, 1.250782810114279, 1.2507828102571499, 1.2507828106443106, 1.2507828122909848, 1.250782815118576, 1.2507828157276195, 1.25078283189315, 1.250782838302032, 1.2507828531073002, 1.250782823275896, 3.6530453249048667, 2.4476741025267503, 2.659575690878418, 4.579834229905574, 2.6308747777781085, 4.627312958105581, 5.314364688604851, 6.764699053682145, 4.753688295949523, 10.897546305388273, 9.774058070455931, 1.8039592051439703, 1.9235685507631592, 3.0676487826705143, 5.060482812326698, 1.9235685056694969, 3.791174395569277, 5.214396948900633, 7.988261496154459, 2.365719424786501, 1.7130809245804466, 3.52280894898831, 1.7137778920871272, 1.9235684929038934, 2.7275792659850278, 1.2107597426436576, 1.2107597473277958, 1.2107597622460773, 1.2107597632614964, 1.210759767725757, 1.210759771571764, 1.2107597799246212, 1.2107597799246212, 1.2107596643817449, 1.2107596643817449, 1.2107597828414258, 1.2107597835933401, 1.210759669065883, 1.2107596698522145, 1.2107596699950853, 1.2107596729118901, 1.210759674459346, 1.2107596858931835, 1.2107596875307585, 1.210759689728769, 1.2107598058575983, 1.2107596915409409, 1.2107596967571161, 1.2107596969769936, 1.210759701618542, 1.210759706160481, 1.2107597097956884, 1.2107597097956884, 1.2107597127892404, 1.2107597127892404, 3.52280894898831, 2.3674168225740457, 2.457122968027407, 2.4866551997441464, 2.4874305375534465, 2.496033451108422, 3.0873904119785696, 3.235701817197618, 3.2522556155456965, 3.2621073839349366, 3.2617063068396837, 3.917506147194566, 9.017292844070738, 4.297439492536672, 5.175364754912648, 5.314364688604851, 7.2709869772867615, 2.090369696431054, 7.988261496154459, 11.48245886296421, 6.497968382441439, 4.627312958105581, 5.267569384674392, 3.097893475696263, 1.9761910730355656, 2.6587405293773667, 2.564986380501549, 2.291164943851971, 2.291164813352614, 1.7315241347291472, 2.9730828796821105, 3.0019022421159787, 3.057023102419547, 1.1690100542712296, 1.169010161069296, 1.1690100656651938, 1.1690100719842162, 1.169010075830223, 1.1690100805143613, 1.1690100841830802, 1.16901009730815, 1.1690101028678328, 1.1690101448680488, 1.1690101103080348, 1.1690251111522592, 1.1690260715028042, 1.1690262989398905, 1.169026417179662, 1.169027985044574, 1.1690287852453332, 1.1690287770271386, 1.1690311038724535, 1.1690313821043883, 1.1690346244332603, 1.1692781025675252, 1.1692818762010537, 1.1693028335143987, 11.48245886296421, 4.285272404475853, 5.189002184441896, 5.666321950938889, 6.497968382441439, 12.882756127512494, 9.774058070455931, 4.626130448573675, 10.897546305388273, 3.327651780193403, 2.3256522927833574, 3.6530453249048667, 2.7011275567256865, 1.8508554125657088, 1.8797477127061517, 2.365719424786501, 3.0770433514460427, 1.841795796060931, 1.6312802117519094, 1.8417958638794238, 1.160696069416804, 1.1606960775497839, 1.160696078565203, 1.1606960861566764, 1.1606960888534714, 1.160696091770276, 1.1606961006855374, 1.160696106840384, 1.160696108012554, 1.1606961104429798, 1.1606961142889867, 1.1606961145088641, 1.1606961189731249, 1.1606961189731249, 1.160696123657263, 1.1606961301535732, 1.160696004725186, 1.1606960086918523, 1.1606960097176928, 1.1606960151881622, 1.1606960349331983, 1.1606960450878059, 1.1606960468329037, 1.1606960497293546, 1.1606960507011463, 1.1606960592312914, 1.1606960787106806, 1.1606960825113857, 1.1606960535143545, 1.1606960568813356, 2.3573652082445458, 2.3869148805710085, 7.988261496154459, 4.285272404475853, 4.554567672697678, 5.3108941735682835, 10.897546305388273, 12.882756127512494, 5.347113893468401, 5.365763557162726, 9.017292844070738, 11.48245886296421, 1.8040478749259117, 2.637492569782411, 1.804096682953494, 2.3659485204449315, 1.8425413527582748, 2.3674168225740457, 3.0770433514460427, 5.916451414114582, 1.6229085314297729, 1.9948026068567337, 1.531508152295086, 1.069400951612465, 1.0694009950325407, 1.0694010070845972, 1.0694010273092844, 1.069401091221082, 1.0694011136917045, 1.0694013528153938, 1.0694918955285115, 1.0695164764680356, 1.0695215955770254, 1.0695241780007465, 1.0695296840362083, 1.0695355844281922, 1.0695367471575987, 1.0695382506218825, 1.0695424062155419, 1.0695450760779512, 1.0695475371124177, 1.0695736224197931, 1.0695776820122562, 1.06958081041565, 1.0695932495447908, 1.0703250474138453, 1.0703627814196635, 1.0703993850392444, 1.070403400148471, 1.070422522834841, 1.0704269222635585, 3.5749130216343645, 4.970568943381785, 6.497968382441439, 7.988261496154459, 9.774058070455931, 10.897546305388273, 11.48245886296421, 1.7776934407345881, 1.777883394131903, 3.52280894898831, 5.214396948900633, 1.672851562387119, 2.090369696431054, 1.672866863642163, 1.834700347759987, 9.017292844070738, 1.63155203118363, 1.7801385546691026, 3.0968177417329983, 2.546197447279964, 1.859283389855757, 1.4421958110366453, 1.0246236839242298, 1.0246236296889861, 1.02462363387553, 1.0246236373574664, 1.0246236382075957, 1.024623639126122, 1.0246236419645978, 1.0246236539216276, 1.024623655178881, 1.0246236609479693, 1.0246236653232756, 1.0246236656321075, 1.0246236681617513, 1.0246236736322207, 1.0246236775988873, 1.0246236775988873, 1.0246236830693567, 1.0246236887793354, 1.0247205011021596, 1.0247499624927938, 1.024752305534587, 1.0247616237572723, 1.9954760735887134, 2.1526912212635514, 1.5863528910540095, 1.586355028449626, 1.6278530109627811, 1.6283368071227813, 4.882150672999058, 11.48245886296421, 9.017292844070738, 6.497968382441439, 12.882756127512494, 3.6137686990737814, 13.961960326137172, 4.621871492675673, 2.340665033729641, 1.7064688978107023, 1.7353613387855271, 2.3701950020091274], \"Category\": [\"Default\", \"Default\", \"Default\", \"Default\", \"Default\", \"Default\", \"Default\", \"Default\", \"Default\", \"Default\", \"Default\", \"Default\", \"Default\", \"Default\", \"Default\", \"Default\", \"Default\", \"Default\", \"Default\", \"Default\", \"Default\", \"Default\", \"Default\", \"Default\", \"Default\", \"Default\", \"Default\", \"Default\", \"Default\", \"Default\", \"Topic1\", \"Topic1\", \"Topic1\", \"Topic1\", \"Topic1\", \"Topic1\", \"Topic1\", \"Topic1\", \"Topic1\", \"Topic1\", \"Topic1\", \"Topic1\", \"Topic1\", \"Topic1\", \"Topic1\", \"Topic1\", \"Topic1\", \"Topic1\", \"Topic1\", \"Topic1\", \"Topic1\", \"Topic1\", \"Topic1\", \"Topic1\", \"Topic1\", \"Topic1\", \"Topic1\", \"Topic1\", \"Topic1\", \"Topic1\", \"Topic1\", \"Topic1\", \"Topic1\", \"Topic1\", \"Topic1\", \"Topic1\", \"Topic1\", \"Topic1\", \"Topic1\", \"Topic1\", \"Topic1\", \"Topic1\", \"Topic1\", \"Topic1\", \"Topic1\", \"Topic1\", \"Topic1\", \"Topic1\", \"Topic1\", \"Topic1\", \"Topic1\", \"Topic2\", \"Topic2\", \"Topic2\", \"Topic2\", \"Topic2\", \"Topic2\", \"Topic2\", \"Topic2\", \"Topic2\", \"Topic2\", \"Topic2\", \"Topic2\", \"Topic2\", \"Topic2\", \"Topic2\", \"Topic2\", \"Topic2\", \"Topic2\", \"Topic2\", \"Topic2\", \"Topic2\", \"Topic2\", \"Topic2\", \"Topic2\", \"Topic2\", \"Topic2\", \"Topic2\", \"Topic2\", \"Topic2\", \"Topic2\", \"Topic2\", \"Topic2\", \"Topic2\", \"Topic2\", \"Topic2\", \"Topic2\", \"Topic2\", \"Topic2\", \"Topic2\", \"Topic2\", \"Topic2\", \"Topic2\", \"Topic2\", \"Topic2\", \"Topic2\", \"Topic2\", \"Topic2\", \"Topic2\", \"Topic2\", \"Topic2\", \"Topic2\", \"Topic2\", \"Topic2\", \"Topic3\", \"Topic3\", \"Topic3\", \"Topic3\", \"Topic3\", \"Topic3\", \"Topic3\", \"Topic3\", \"Topic3\", \"Topic3\", \"Topic3\", \"Topic3\", \"Topic3\", \"Topic3\", \"Topic3\", \"Topic3\", \"Topic3\", \"Topic3\", \"Topic3\", \"Topic3\", \"Topic3\", \"Topic3\", \"Topic3\", \"Topic3\", \"Topic3\", \"Topic3\", \"Topic3\", \"Topic3\", \"Topic3\", \"Topic3\", \"Topic3\", \"Topic3\", \"Topic3\", \"Topic3\", \"Topic3\", \"Topic3\", \"Topic3\", \"Topic3\", \"Topic3\", \"Topic3\", \"Topic3\", \"Topic3\", \"Topic3\", \"Topic3\", \"Topic3\", \"Topic3\", \"Topic3\", \"Topic3\", \"Topic3\", \"Topic3\", \"Topic3\", \"Topic3\", \"Topic3\", \"Topic3\", \"Topic3\", \"Topic3\", \"Topic4\", \"Topic4\", \"Topic4\", \"Topic4\", \"Topic4\", \"Topic4\", \"Topic4\", \"Topic4\", \"Topic4\", \"Topic4\", \"Topic4\", \"Topic4\", \"Topic4\", \"Topic4\", \"Topic4\", \"Topic4\", \"Topic4\", \"Topic4\", \"Topic4\", \"Topic4\", \"Topic4\", \"Topic4\", \"Topic4\", \"Topic4\", \"Topic4\", \"Topic4\", \"Topic4\", \"Topic4\", \"Topic4\", \"Topic4\", \"Topic4\", \"Topic4\", \"Topic4\", \"Topic4\", \"Topic4\", \"Topic4\", \"Topic4\", \"Topic4\", \"Topic4\", \"Topic4\", \"Topic4\", \"Topic4\", \"Topic4\", \"Topic4\", \"Topic4\", \"Topic4\", \"Topic4\", \"Topic4\", \"Topic4\", \"Topic4\", \"Topic4\", \"Topic4\", \"Topic4\", \"Topic4\", \"Topic4\", \"Topic4\", \"Topic5\", \"Topic5\", \"Topic5\", \"Topic5\", \"Topic5\", \"Topic5\", \"Topic5\", \"Topic5\", \"Topic5\", \"Topic5\", \"Topic5\", \"Topic5\", \"Topic5\", \"Topic5\", \"Topic5\", \"Topic5\", \"Topic5\", \"Topic5\", \"Topic5\", \"Topic5\", \"Topic5\", \"Topic5\", \"Topic5\", \"Topic5\", \"Topic5\", \"Topic5\", \"Topic5\", \"Topic5\", \"Topic5\", \"Topic5\", \"Topic5\", \"Topic5\", \"Topic5\", \"Topic5\", \"Topic5\", \"Topic5\", \"Topic5\", \"Topic5\", \"Topic5\", \"Topic5\", \"Topic5\", \"Topic5\", \"Topic5\", \"Topic5\", \"Topic5\", \"Topic5\", \"Topic5\", \"Topic5\", \"Topic5\", \"Topic5\", \"Topic5\", \"Topic5\", \"Topic5\", \"Topic5\", \"Topic5\", \"Topic6\", \"Topic6\", \"Topic6\", \"Topic6\", \"Topic6\", \"Topic6\", \"Topic6\", \"Topic6\", \"Topic6\", \"Topic6\", \"Topic6\", \"Topic6\", \"Topic6\", \"Topic6\", \"Topic6\", \"Topic6\", \"Topic6\", \"Topic6\", \"Topic6\", \"Topic6\", \"Topic6\", \"Topic6\", \"Topic6\", \"Topic6\", \"Topic6\", \"Topic6\", \"Topic6\", \"Topic6\", \"Topic6\", \"Topic6\", \"Topic6\", \"Topic6\", \"Topic6\", \"Topic6\", \"Topic6\", \"Topic6\", \"Topic6\", \"Topic6\", \"Topic6\", \"Topic6\", \"Topic6\", \"Topic6\", \"Topic6\", \"Topic6\", \"Topic6\", \"Topic6\", \"Topic6\", \"Topic6\", \"Topic6\", \"Topic6\", \"Topic6\", \"Topic6\", \"Topic6\", \"Topic6\", \"Topic6\", \"Topic6\", \"Topic6\", \"Topic7\", \"Topic7\", \"Topic7\", \"Topic7\", \"Topic7\", \"Topic7\", \"Topic7\", \"Topic7\", \"Topic7\", \"Topic7\", \"Topic7\", \"Topic7\", \"Topic7\", \"Topic7\", \"Topic7\", \"Topic7\", \"Topic7\", \"Topic7\", \"Topic7\", \"Topic7\", \"Topic7\", \"Topic7\", \"Topic7\", \"Topic7\", \"Topic7\", \"Topic7\", \"Topic7\", \"Topic7\", \"Topic7\", \"Topic7\", \"Topic7\", \"Topic7\", \"Topic7\", \"Topic7\", \"Topic7\", \"Topic7\", \"Topic7\", \"Topic7\", \"Topic7\", \"Topic7\", \"Topic7\", \"Topic7\", \"Topic7\", \"Topic7\", \"Topic7\", \"Topic7\", \"Topic7\", \"Topic7\", \"Topic7\", \"Topic7\", \"Topic8\", \"Topic8\", \"Topic8\", \"Topic8\", \"Topic8\", \"Topic8\", \"Topic8\", \"Topic8\", \"Topic8\", \"Topic8\", \"Topic8\", \"Topic8\", \"Topic8\", \"Topic8\", \"Topic8\", \"Topic8\", \"Topic8\", \"Topic8\", \"Topic8\", \"Topic8\", \"Topic8\", \"Topic8\", \"Topic8\", \"Topic8\", \"Topic8\", \"Topic8\", \"Topic8\", \"Topic8\", \"Topic8\", \"Topic8\", \"Topic8\", \"Topic8\", \"Topic8\", \"Topic8\", \"Topic8\", \"Topic8\", \"Topic8\", \"Topic8\", \"Topic8\", \"Topic8\", \"Topic8\", \"Topic8\", \"Topic8\", \"Topic8\", \"Topic8\", \"Topic8\", \"Topic8\", \"Topic8\", \"Topic8\", \"Topic8\", \"Topic8\", \"Topic9\", \"Topic9\", \"Topic9\", \"Topic9\", \"Topic9\", \"Topic9\", \"Topic9\", \"Topic9\", \"Topic9\", \"Topic9\", \"Topic9\", \"Topic9\", \"Topic9\", \"Topic9\", \"Topic9\", \"Topic9\", \"Topic9\", \"Topic9\", \"Topic9\", \"Topic9\", \"Topic9\", \"Topic9\", \"Topic9\", \"Topic9\", \"Topic9\", \"Topic9\", \"Topic9\", \"Topic9\", \"Topic9\", \"Topic9\", \"Topic9\", \"Topic9\", \"Topic9\", \"Topic9\", \"Topic9\", \"Topic9\", \"Topic9\", \"Topic9\", \"Topic9\", \"Topic9\", \"Topic9\", \"Topic9\", \"Topic9\", \"Topic9\", \"Topic9\", \"Topic9\", \"Topic9\", \"Topic9\", \"Topic9\", \"Topic9\", \"Topic10\", \"Topic10\", \"Topic10\", \"Topic10\", \"Topic10\", \"Topic10\", \"Topic10\", \"Topic10\", \"Topic10\", \"Topic10\", \"Topic10\", \"Topic10\", \"Topic10\", \"Topic10\", \"Topic10\", \"Topic10\", \"Topic10\", \"Topic10\", \"Topic10\", \"Topic10\", \"Topic10\", \"Topic10\", \"Topic10\", \"Topic10\", \"Topic10\", \"Topic10\", \"Topic10\", \"Topic10\", \"Topic10\", \"Topic10\", \"Topic10\", \"Topic10\", \"Topic10\", \"Topic10\", \"Topic10\", \"Topic10\", \"Topic10\", \"Topic10\", \"Topic10\", \"Topic10\", \"Topic10\", \"Topic10\"], \"logprob\": [30.0, 29.0, 28.0, 27.0, 26.0, 25.0, 24.0, 23.0, 22.0, 21.0, 20.0, 19.0, 18.0, 17.0, 16.0, 15.0, 14.0, 13.0, 12.0, 11.0, 10.0, 9.0, 8.0, 7.0, 6.0, 5.0, 4.0, 3.0, 2.0, 1.0, -4.536, -4.8156, -4.8166, -4.8175, -5.2051, -5.2051, -5.2051, -5.2051, -5.2051, -5.2056, -5.2057, -5.2061, -5.2067, -5.207, -5.2071, -4.8166, -5.8517, -5.8517, -5.8517, -5.8517, -5.8517, -5.8517, -5.8517, -5.8517, -5.8517, -5.8517, -5.8517, -5.8517, -5.8517, -5.8517, -4.8156, -5.2051, -5.2051, -5.2051, -4.8166, -3.8553, -4.8167, -4.8168, -4.5368, -5.2051, -5.2081, -4.5363, -4.8175, -5.2065, -5.2048, -5.2048, -5.205, -5.2051, -5.2051, -5.2051, -5.2055, -4.6182, -4.6182, -4.6182, -5.0076, -5.0076, -5.0078, -4.6182, -5.6543, -5.6543, -5.6543, -5.6543, -5.6543, -5.6543, -5.6543, -5.6543, -5.6543, -5.6543, -5.6543, -5.6543, -5.6543, -5.6543, -5.6543, -5.6543, -5.6543, -5.6543, -5.6543, -5.6543, -5.6543, -5.6543, -5.6543, -5.0076, -5.0076, -4.6196, -5.0076, -4.6173, -4.6182, -5.0093, -5.0076, -4.6163, -4.6158, -5.0076, -5.0015, -4.6201, -5.0055, -5.0076, -5.0041, -4.6175, -5.0076, -5.0107, -5.0065, -5.0051, -5.0076, -5.6456, -4.9057, -4.512, -4.513, -4.5145, -5.5497, -5.5497, -5.5497, -5.5497, -5.5497, -5.5497, -5.5497, -5.5497, -5.5497, -5.5497, -5.5497, -5.5497, -5.5497, -5.5497, -5.5497, -5.5497, -5.5497, -5.5497, -5.5497, -5.5497, -5.5497, -5.5497, -5.5499, -5.55, -5.55, -5.55, -4.233, -4.903, -4.9042, -4.9035, -4.2351, -4.5144, -4.9064, -4.0157, -4.9041, -4.2336, -4.9046, -4.9035, -4.903, -4.514, -4.9046, -4.903, -4.9045, -4.9037, -4.9032, -5.5467, -5.5475, -5.5478, -5.5495, -5.5497, -5.5497, -5.5497, -4.5012, -4.8906, -4.8952, -4.8906, -5.5373, -5.5373, -5.5373, -5.5373, -5.5373, -5.5373, -5.5373, -5.5373, -5.5373, -5.5373, -5.5373, -5.5373, -5.5373, -5.5373, -5.5373, -5.5373, -5.5373, -5.5373, -5.5373, -5.5373, -5.5373, -5.5373, -5.5373, -5.5373, -5.5373, -5.5373, -4.8906, -4.5012, -4.8906, -4.5053, -4.5012, -4.5012, -4.8906, -4.8873, -4.5003, -4.8906, -4.8906, -4.8906, -4.8906, -4.5012, -4.8906, -4.8906, -4.5012, -4.8946, -4.8906, -4.8906, -4.8906, -4.8898, -5.5342, -5.5343, -5.5349, -5.5354, -4.78, -4.7807, -5.4266, -5.4266, -5.4266, -5.4266, -5.4266, -5.4266, -5.4266, -5.4266, -5.4266, -5.4266, -5.4266, -5.4266, -5.4266, -5.4266, -5.4266, -5.4266, -5.4266, -5.4266, -5.4266, -5.4266, -5.4266, -5.4266, -5.4266, -5.4266, -5.4266, -5.4266, -5.4266, -5.4266, -4.3923, -4.78, -4.7816, -4.3905, -4.9444, -4.7809, -4.782, -4.78, -5.4254, -5.4254, -5.4256, -5.4266, -5.4266, -5.4266, -5.4266, -5.4266, -5.4266, -5.4266, -5.4266, -5.4266, -5.4266, -5.4266, -5.4266, -5.4266, -5.4266, -5.3246, -5.3246, -5.3246, -5.3246, -5.3246, -5.3246, -5.3246, -5.3246, -5.3246, -5.3246, -5.3246, -5.3246, -5.3246, -5.3246, -5.3246, -5.3246, -5.3246, -5.3246, -5.3246, -5.3246, -5.3246, -5.3246, -5.3246, -5.3246, -5.3246, -5.3246, -5.3246, -5.3246, -5.3246, -5.3246, -4.2896, -4.6787, -4.6787, -4.6791, -4.6805, -4.6779, -4.6779, -4.6779, -4.6795, -4.6779, -4.6788, -4.6779, -4.2885, -4.6788, -4.6789, -4.6787, -4.6779, -5.3237, -5.3246, -5.3246, -5.3246, -5.3246, -5.3246, -5.3246, -5.3246, -5.3246, -5.3246, -4.1884, -4.1884, -4.5775, -4.1884, -4.1884, -4.1884, -5.2216, -5.2216, -5.2216, -5.2216, -5.2216, -5.2216, -5.2216, -5.2216, -5.2216, -5.2216, -5.2216, -5.2217, -5.2217, -5.2217, -5.2217, -5.2217, -5.2217, -5.2217, -5.2217, -5.2217, -5.2218, -5.2233, -5.2233, -5.2234, -3.6906, -4.5751, -4.5787, -4.5786, -4.5779, -4.5751, -5.2203, -5.2215, -5.2216, -5.2216, -5.2216, -5.2216, -5.2216, -5.2216, -5.2216, -5.2216, -5.2216, -5.2216, -5.2216, -5.2216, -5.2098, -5.2098, -5.2098, -5.2098, -5.2098, -5.2098, -5.2098, -5.2098, -5.2098, -5.2098, -5.2098, -5.2098, -5.2098, -5.2098, -5.2098, -5.2098, -5.2098, -5.2098, -5.2098, -5.2098, -5.2098, -5.2098, -5.2098, -5.2098, -5.2098, -5.2098, -5.2098, -5.2098, -5.2098, -5.2098, -4.562, -4.5633, -4.1738, -4.5639, -4.5633, -4.5618, -4.5634, -4.5618, -5.2026, -5.2068, -5.2078, -5.208, -5.2084, -5.2098, -5.2098, -5.2098, -5.2098, -5.2098, -5.2098, -5.2098, -5.2098, -3.9822, -4.3699, -5.0165, -5.0165, -5.0165, -5.0165, -5.0165, -5.0165, -5.0165, -5.0169, -5.017, -5.017, -5.017, -5.017, -5.0171, -5.0171, -5.0171, -5.0171, -5.0171, -5.0171, -5.0172, -5.0173, -5.0173, -5.0173, -5.0203, -5.0205, -5.0206, -5.0206, -5.0207, -5.0207, -4.3722, -4.3719, -4.3699, -4.3675, -4.3699, -4.3671, -4.3699, -5.0077, -5.0084, -5.0134, -5.015, -5.0161, -5.0165, -5.0165, -5.0165, -5.0165, -5.0165, -5.0165, -5.0165, -5.0165, -3.8861, -4.2761, -4.9221, -4.9221, -4.9221, -4.9221, -4.9221, -4.9221, -4.9221, -4.9221, -4.9221, -4.9221, -4.9221, -4.9221, -4.9221, -4.9221, -4.9221, -4.9221, -4.9221, -4.9221, -4.9226, -4.9228, -4.9228, -4.9228, -4.2757, -4.2755, -4.9221, -4.9221, -4.9221, -4.9221, -4.2755, -4.9126, -4.9211, -4.9221, -4.9221, -4.9221, -4.9221, -4.9221, -4.9221, -4.9221, -4.9221, -4.9221], \"loglift\": [30.0, 29.0, 28.0, 27.0, 26.0, 25.0, 24.0, 23.0, 22.0, 21.0, 20.0, 19.0, 18.0, 17.0, 16.0, 15.0, 14.0, 13.0, 12.0, 11.0, 10.0, 9.0, 8.0, 7.0, 6.0, 5.0, 4.0, 3.0, 2.0, 1.0, 1.5158, 1.4703, 1.4695, 1.4688, 1.3869, 1.3869, 1.3869, 1.3869, 1.3869, 1.3864, 1.3863, 1.386, 1.3853, 1.3851, 1.3849, 1.2586, 1.1835, 1.1835, 1.1835, 1.1835, 1.1835, 1.1835, 1.1835, 1.1835, 1.1835, 1.1835, 1.1835, 1.1835, 1.1835, 1.1835, 1.1494, 1.1537, 1.1, 1.1, 1.0191, 0.8608, 0.8557, 0.8195, 0.6165, 0.8989, 0.8935, 0.5365, 0.621, 0.738, 0.5621, -0.2409, -0.4084, 0.2357, 0.3697, 0.477, 0.6161, 1.7265, 1.7265, 1.7265, 1.6374, 1.6374, 1.6373, 1.5069, 1.422, 1.422, 1.422, 1.422, 1.422, 1.422, 1.422, 1.422, 1.422, 1.422, 1.422, 1.422, 1.422, 1.422, 1.422, 1.422, 1.422, 1.422, 1.422, 1.422, 1.422, 1.422, 1.422, 1.3962, 1.3771, 1.3407, 1.317, 1.2034, 1.0828, 1.203, 1.1706, 0.8222, 0.7528, 0.9794, 0.9259, 0.3439, 0.7004, 0.6682, 0.6138, 0.0986, 0.4331, 0.2637, 0.1468, -0.0935, -0.2111, 0.2996, 1.7683, 1.7039, 1.6588, 1.6087, 1.5488, 1.5488, 1.5488, 1.5488, 1.5488, 1.5488, 1.5488, 1.5488, 1.5488, 1.5488, 1.5488, 1.5488, 1.5488, 1.5488, 1.5488, 1.5488, 1.5488, 1.5488, 1.5488, 1.5488, 1.5488, 1.5488, 1.5485, 1.5485, 1.5485, 1.5485, 1.516, 1.4772, 1.4618, 1.4421, 1.3027, 1.1942, 1.2471, 0.7809, 1.0692, 0.4825, 1.0228, 0.9328, 0.9174, 0.4499, 0.8013, 0.5377, 0.37, 0.169, 0.0084, 0.3477, 0.0704, 0.1832, 0.8805, 0.6788, -0.1811, 0.6005, 1.8859, 1.7925, 1.7881, 1.5988, 1.5683, 1.5683, 1.5683, 1.5683, 1.5683, 1.5683, 1.5683, 1.5683, 1.5683, 1.5683, 1.5683, 1.5683, 1.5683, 1.5683, 1.5683, 1.5683, 1.5683, 1.5683, 1.5683, 1.5683, 1.5683, 1.5683, 1.5683, 1.5683, 1.5683, 1.5683, 1.5395, 1.4767, 1.4821, 1.3273, 1.2746, 1.1897, 1.3314, 1.2663, 1.0744, 1.2133, 1.177, 1.0538, 0.9029, 0.4104, 0.8403, 0.7818, 0.2954, 0.7417, 0.5903, 0.1821, 0.0733, -0.1737, 0.1485, 0.1716, 1.1437, 0.4379, 1.9336, 1.933, 1.7021, 1.7021, 1.7021, 1.7021, 1.7021, 1.7021, 1.7021, 1.7021, 1.7021, 1.7021, 1.7021, 1.7021, 1.7021, 1.7021, 1.7021, 1.7021, 1.7021, 1.7021, 1.7021, 1.7021, 1.7021, 1.7021, 1.7021, 1.7021, 1.7021, 1.7021, 1.7021, 1.7021, 1.6645, 1.6773, 1.5926, 1.4403, 1.4407, 1.0396, 0.9, 0.6607, 0.3682, -0.4615, -0.3529, 1.3358, 1.2717, 0.8049, 0.3044, 1.2717, 0.5932, 0.2744, -0.1521, 1.0648, 1.3875, 0.6666, 1.3871, 1.2717, 0.9224, 1.8366, 1.8366, 1.8366, 1.8366, 1.8366, 1.8366, 1.8366, 1.8366, 1.8366, 1.8366, 1.8366, 1.8366, 1.8366, 1.8366, 1.8366, 1.8366, 1.8366, 1.8366, 1.8366, 1.8366, 1.8366, 1.8366, 1.8366, 1.8366, 1.8366, 1.8366, 1.8366, 1.8366, 1.8366, 1.8366, 1.8036, 1.812, 1.7748, 1.7624, 1.7607, 1.7598, 1.5472, 1.5003, 1.4936, 1.4921, 1.4914, 1.309, 0.8648, 1.2156, 1.0297, 1.0033, 0.6906, 1.2914, -0.0501, -0.4129, 0.1564, 0.4959, 0.3663, 0.8972, 1.3467, 1.05, 1.0859, 2.335, 2.335, 2.2259, 2.0744, 2.0648, 2.0466, 1.9746, 1.9746, 1.9746, 1.9746, 1.9746, 1.9746, 1.9746, 1.9746, 1.9746, 1.9746, 1.9746, 1.9746, 1.9746, 1.9746, 1.9746, 1.9745, 1.9745, 1.9745, 1.9745, 1.9745, 1.9745, 1.9728, 1.9727, 1.9726, 1.2211, 1.3222, 1.1272, 1.0393, 0.9031, 0.2215, -0.1476, 0.5992, -0.2577, 0.9285, 1.2868, 0.8352, 1.1371, 1.5151, 1.4997, 1.2697, 1.0068, 1.5201, 1.6414, 1.5201, 1.9936, 1.9936, 1.9936, 1.9936, 1.9936, 1.9936, 1.9936, 1.9936, 1.9936, 1.9936, 1.9936, 1.9936, 1.9936, 1.9936, 1.9936, 1.9936, 1.9936, 1.9936, 1.9936, 1.9936, 1.9936, 1.9936, 1.9936, 1.9936, 1.9936, 1.9936, 1.9936, 1.9936, 1.9936, 1.9936, 1.9329, 1.9191, 1.1007, 1.3334, 1.273, 1.1209, 0.4005, 0.2348, 0.4733, 0.4656, -0.0546, -0.2964, 1.554, 1.1728, 1.5526, 1.2814, 1.5315, 1.2808, 1.0186, 0.3649, 1.6584, 2.6797, 2.5563, 2.2689, 2.2689, 2.2689, 2.2689, 2.2689, 2.2689, 2.2688, 2.2684, 2.2682, 2.2682, 2.2682, 2.2682, 2.2681, 2.2681, 2.2681, 2.2681, 2.2681, 2.2681, 2.2679, 2.2679, 2.2679, 2.2678, 2.2642, 2.264, 2.2638, 2.2638, 2.2637, 2.2636, 1.7063, 1.377, 1.1111, 0.907, 0.7028, 0.5968, 0.5418, 1.7695, 1.7687, 1.0798, 0.686, 1.8218, 1.5986, 1.8214, 1.7291, 0.1368, 1.8464, 1.7593, 1.2056, 1.4013, 2.8462, 2.7101, 2.406, 2.406, 2.406, 2.406, 2.406, 2.406, 2.406, 2.406, 2.406, 2.406, 2.406, 2.406, 2.406, 2.406, 2.406, 2.406, 2.406, 2.406, 2.4054, 2.4052, 2.4052, 2.4052, 2.3859, 2.3102, 1.9689, 1.9689, 1.943, 1.9427, 1.4913, -0.001, 0.2322, 0.5588, -0.1256, 1.1455, -0.206, 0.8995, 1.5799, 1.8959, 1.8791, 1.5673]}, \"token.table\": {\"Topic\": [9, 7, 9, 1, 3, 2, 9, 8, 1, 2, 9, 5, 3, 7, 9, 2, 3, 4, 1, 2, 3, 5, 6, 8, 9, 1, 4, 7, 4, 2, 7, 9, 5, 4, 5, 6, 9, 1, 3, 5, 5, 2, 9, 3, 2, 7, 7, 1, 2, 5, 6, 9, 9, 8, 4, 4, 7, 1, 3, 6, 5, 5, 7, 8, 8, 7, 9, 3, 9, 5, 8, 4, 4, 6, 3, 1, 4, 7, 8, 9, 2, 3, 4, 8, 5, 4, 3, 8, 9, 3, 9, 6, 2, 6, 4, 6, 1, 2, 3, 4, 6, 2, 1, 3, 8, 1, 3, 4, 5, 8, 9, 1, 5, 1, 2, 3, 4, 5, 7, 8, 9, 1, 6, 5, 8, 6, 4, 4, 9, 4, 5, 5, 8, 9, 1, 2, 8, 2, 2, 8, 9, 1, 2, 1, 2, 3, 4, 3, 8, 4, 5, 8, 7, 7, 8, 5, 1, 3, 4, 6, 7, 2, 8, 9, 9, 5, 7, 8, 6, 9, 7, 3, 2, 8, 3, 1, 9, 4, 1, 3, 4, 4, 2, 2, 3, 4, 5, 1, 1, 1, 4, 6, 6, 1, 3, 6, 1, 2, 3, 7, 1, 2, 3, 7, 3, 3, 8, 3, 7, 2, 7, 5, 6, 1, 9, 2, 3, 8, 4, 8, 8, 4, 6, 2, 4, 6, 3, 4, 5, 6, 3, 7, 1, 3, 6, 1, 3, 7, 8, 1, 6, 2, 3, 6, 1, 7, 5, 7, 8, 5, 1, 4, 7, 2, 4, 8, 3, 4, 9, 10, 9, 6, 6, 2, 6, 6, 5, 4, 6, 5, 8, 10, 5, 9, 3, 3, 3, 7, 3, 4, 7, 1, 2, 4, 7, 8, 3, 4, 6, 4, 5, 2, 3, 9, 9, 4, 8, 4, 5, 8, 2, 4, 5, 8, 3, 1, 1, 2, 1, 4, 5, 6, 6, 9, 9, 3, 4, 5, 9, 1, 7, 1, 2, 3, 4, 8, 6, 1, 2, 3, 7, 5, 6, 9, 3, 5, 6, 7, 1, 9, 7, 2, 5, 5, 6, 4, 1, 6, 9, 3, 4, 2, 4, 5, 6, 8, 1, 7, 1, 2, 4, 7, 1, 6, 8, 3, 7, 8, 2, 3, 4, 6, 7, 8, 10, 7, 1, 5, 6, 1, 4, 5, 7, 8, 5, 6, 2, 7, 7, 2, 8, 1, 1, 4, 6, 3, 6, 6, 1, 2, 3, 5, 1, 3, 2, 6, 4, 5, 3, 2, 7, 1, 1, 2, 3, 4, 5, 6, 7, 8, 2, 5, 6, 1, 6, 5, 4, 6, 5, 6, 7, 8, 4, 8, 2, 3, 5, 7, 9, 2, 9, 9, 2, 1, 1, 2, 9, 4, 7, 2, 1, 4, 1, 4, 6, 9, 8, 7, 1, 3, 6, 1, 1, 3, 4, 8, 10, 6, 6, 9, 2, 5, 3, 6, 7, 3, 3, 7, 6, 1, 2, 2, 3, 4, 7, 1, 6, 7, 8, 4, 4, 5, 7, 4, 2, 4, 1, 2, 3, 6, 8, 9, 2, 9, 1, 1, 5, 8, 1, 3, 5, 6, 2, 1, 2, 3, 4, 6, 7, 8, 9, 5, 7, 4, 3, 4, 7, 8, 8, 7, 1, 2, 4, 6, 5, 8, 1, 2, 3, 6, 7, 9, 8, 3, 6, 9, 1, 2, 1, 2, 3, 4, 5, 2, 1, 5, 4, 7, 3, 4, 3, 4, 8, 1, 2, 4, 6, 7, 9, 8, 9, 9, 3, 1, 2, 5, 1, 3, 3, 4, 7, 5, 2, 5, 1, 2, 3, 5, 8, 9, 4, 7, 6, 1, 2, 8, 4, 7, 5, 1, 5, 1, 2, 3, 4, 5, 7, 8, 9, 5, 4, 2, 1, 2, 3, 8, 1, 9, 2, 3, 6, 3, 2, 1, 3, 1, 2, 9, 6, 6, 1, 2, 3, 4, 5, 6, 7, 8, 6, 7, 1, 3, 5, 6, 1, 3, 2, 6, 7, 8, 5, 9, 2, 3, 6, 8, 8, 5, 8, 5, 1, 2, 4, 6, 7, 2, 10, 2, 4, 1, 3, 4, 9, 9, 1, 3, 4, 7, 7, 2], \"Freq\": [0.9349904120717659, 0.8554246358671467, 0.9342272267271333, 0.7281451526380438, 0.7757115044732024, 0.7587072822889325, 0.9351026135952772, 0.8615519425093606, 0.39274251926859555, 0.39274251926859555, 0.39274251926859555, 0.7994993250740348, 0.775711506860058, 0.8552285361405291, 0.934979290384932, 0.7300584612340784, 0.7756986428598002, 0.7812014445947328, 0.12518368364398172, 0.12518368364398172, 0.12518368364398172, 0.12518368364398172, 0.12518368364398172, 0.25036736728796344, 0.12518368364398172, 0.2529570390395992, 0.5059140780791984, 0.2529570390395992, 0.7812013948513559, 0.7587072844003955, 0.6129133370478766, 0.6129133370478766, 0.7994993136884886, 0.7812014024234105, 0.7994993149885141, 0.8259277201439734, 0.9349829231619818, 0.3653626194511759, 0.3653626194511759, 0.7994993160335306, 0.799499319232273, 0.492909735704643, 0.9342956164729892, 0.775711511200795, 0.7300584590347242, 0.8554246275295986, 0.577525880201736, 0.1917767308088873, 0.3835534616177746, 0.1917767308088873, 0.1917767308088873, 0.1917767308088873, 0.9351028226891186, 0.861551997383962, 0.7812014417361172, 0.7812013964759665, 0.855424569572811, 0.3065503008652474, 0.3065503008652474, 0.3065503008652474, 0.7994993118810947, 0.4226634651424891, 0.4226634651424891, 0.4226634651424891, 0.8615520307892905, 0.6130154665004196, 0.6130154665004196, 0.641840092535218, 0.320920046267609, 0.7994993214859921, 0.8615519459862641, 0.7812014097670806, 0.7812014872289033, 0.825927675048503, 0.77571152216076, 0.3727335315269738, 0.1863667657634869, 0.1863667657634869, 0.1863667657634869, 0.9349348459571812, 0.21876110188860357, 0.21876110188860357, 0.43752220377720713, 0.21876110188860357, 0.7994992875987352, 0.7812014957717202, 0.5427286603380734, 0.5427286603380734, 0.9349769564336878, 0.7756948007829695, 0.9342066975346327, 0.8259277386707986, 0.3090519635292234, 0.3090519635292234, 0.7812014858131825, 0.825927729754048, 0.42973908103490566, 0.14324636034496854, 0.21486954051745283, 0.07162318017248427, 0.07162318017248427, 0.49290973322911125, 0.9350017771672731, 0.7756949927129586, 0.8615519459862641, 0.19760960309244133, 0.19760960309244133, 0.19760960309244133, 0.19760960309244133, 0.19760960309244133, 0.19760960309244133, 0.7281451526380438, 0.7994993381756523, 0.3069349474266075, 0.1023116491422025, 0.1023116491422025, 0.1023116491422025, 0.1023116491422025, 0.1023116491422025, 0.1023116491422025, 0.1023116491422025, 0.5060239435572043, 0.5060239435572043, 0.55430901468791, 0.55430901468791, 0.8259277308711307, 0.7812014898790052, 0.7812014933509598, 0.9342307310493613, 0.42722900782030704, 0.42722900782030704, 0.42420240890238126, 0.42420240890238126, 0.9351028982234063, 0.37914798754579937, 0.37914798754579937, 0.37914798754579937, 0.7587072823332603, 0.7587072860224483, 0.861551999533916, 0.9349457191658009, 0.6883568117317264, 0.7587072881342979, 0.4327251424383868, 0.2163625712191934, 0.2163625712191934, 0.2163625712191934, 0.7756953318753831, 0.8615519703449875, 0.7812014859204147, 0.7994993472023886, 0.8615519966626284, 0.8554245577175291, 0.8552104479166013, 0.8615519494631676, 0.7994993579025019, 0.572547198735846, 0.286273599367923, 0.286273599367923, 0.8259276642243277, 0.8554246166637012, 0.7587072860224483, 0.6161776715284168, 0.6161776715284168, 0.9351029644140294, 0.5474884164083249, 0.27374420820416245, 0.27374420820416245, 0.8259276889631055, 0.9349484537847164, 0.8554136181166732, 0.7757114745012899, 0.38727098624331086, 0.38727098624331086, 0.5073734878600283, 0.9348367268757252, 0.9349748050468301, 0.7812013987148962, 0.9349212782726611, 0.7757114759440281, 0.7812014445947328, 0.7812014898790052, 0.7587072881342979, 0.31976706235749813, 0.31976706235749813, 0.7617158251684205, 0.7994993276095246, 0.7281451526380438, 0.8170983240586577, 0.4892558497644833, 0.24462792488224164, 0.24462792488224164, 0.8259277417161237, 0.29251007660915124, 0.5850201532183025, 0.8259277125238079, 0.30051221283192076, 0.30051221283192076, 0.30051221283192076, 0.30051221283192076, 0.32578421021317494, 0.16289210510658747, 0.48867631531976247, 0.16289210510658747, 0.7757114871193383, 0.7757114988672144, 0.8615520278449457, 0.586005406417275, 0.8729183838844634, 0.33312210703274625, 0.6662442140654925, 0.7994993276095246, 0.8259277234602272, 0.7281451526380438, 0.9351029159082257, 0.37290235742381467, 0.37290235742381467, 0.8615519376873332, 0.7812014113108606, 0.8615519945744632, 0.8615520083667324, 0.40202127653525016, 0.40202127653525016, 0.7587072849852945, 0.7812014906204241, 0.8259277170456599, 0.38644619166243804, 0.19322309583121902, 0.19322309583121902, 0.19322309583121902, 0.33635120192374945, 0.6727024038474989, 0.30658799595262, 0.30658799595262, 0.30658799595262, 0.23335739379263887, 0.23335739379263887, 0.23335739379263887, 0.23335739379263887, 0.7281451526380438, 0.8259277455453011, 0.7587072832811464, 0.6141360914983957, 0.3070680457491978, 0.3271156175458826, 0.6542312350917652, 0.4227043957633509, 0.4227043957633509, 0.4227043957633509, 0.7994993191409502, 0.438865347116523, 0.2194326735582615, 0.2194326735582615, 0.7587072821170366, 0.4219062141099516, 0.8615519758719403, 0.3229121257360124, 0.3229121257360124, 0.3229121257360124, 0.5378416251422435, 0.9351028423378198, 0.8259276787865023, 0.8259277455453011, 0.7587072860224483, 0.8259277233102363, 0.8259277423499852, 0.7994993279275865, 0.40214662656201416, 0.40214662656201416, 0.7994993250740348, 0.5011335456413544, 0.5011335456413544, 0.583506185146401, 0.583506185146401, 0.7757115315322171, 0.7757115056362418, 0.7757115096786367, 0.855424604374825, 0.7757115417249636, 0.7812014955898902, 0.8554109356854483, 0.3740335515282435, 0.18701677576412176, 0.18701677576412176, 0.18701677576412176, 0.18701677576412176, 0.5097097116229025, 0.5097097116229025, 0.8259276724249243, 0.5198671134867474, 0.5198671134867474, 0.20118421279147136, 0.6035526383744141, 0.20118421279147136, 0.9349842374818821, 0.7812014980106505, 0.8615519827705229, 0.5198670978495976, 0.5198670978495976, 0.861551954992055, 0.7587072816028877, 0.5121415152705521, 0.5543362605698127, 0.5543362605698127, 0.7757114689468114, 0.9349393611372699, 0.35780380848883214, 0.35780380848883214, 0.21834851433489938, 0.21834851433489938, 0.43669702866979876, 0.21834851433489938, 0.47838427896621716, 0.47838427896621716, 0.9350234482196139, 0.32598255890606187, 0.32598255890606187, 0.32598255890606187, 0.32598255890606187, 0.7281451526380438, 0.8729184336038408, 0.3765844196169023, 0.18829220980845116, 0.18829220980845116, 0.18829220980845116, 0.18829220980845116, 0.8259276667269683, 0.2404960011198461, 0.4809920022396922, 0.2404960011198461, 0.6303759133775486, 0.28386438619874144, 0.5677287723974829, 0.28386438619874144, 0.3227999954954056, 0.3227999954954056, 0.3227999954954056, 0.3227999954954056, 0.5450481334572781, 0.5450481334572781, 0.8554246229056458, 0.7587072844003955, 0.7994993250740348, 0.5279232565613252, 0.8259276780938275, 0.7812014980106505, 0.9349443626357028, 0.5977816696258598, 0.5977816696258598, 0.37824773312558607, 0.37824773312558607, 0.26377050899285825, 0.26377050899285825, 0.26377050899285825, 0.26377050899285825, 0.26377050899285825, 0.7404315264638612, 0.3702157632319306, 0.48962676593669263, 0.24481338296834632, 0.24481338296834632, 0.24481338296834632, 0.7281451526380438, 0.42240132386688023, 0.42240132386688023, 0.540290718124638, 0.540290718124638, 0.8615519541219864, 0.23269670270790127, 0.23269670270790127, 0.23269670270790127, 0.23269670270790127, 0.85540665699683, 0.8615520270834931, 0.6933871200757431, 0.855412662455099, 0.9348892803214793, 0.40698003844830194, 0.40698003844830194, 0.3380404671673125, 0.3380404671673125, 0.16902023358365625, 0.16902023358365625, 0.16902023358365625, 0.7994993495964877, 0.825927664737251, 0.5319862837127033, 0.5319862837127033, 0.8552257760540656, 0.7300584432341433, 0.8615519595606239, 0.6885144815698122, 0.3074789063996158, 0.3074789063996158, 0.3074789063996158, 0.7757114898892378, 0.8259276921584211, 0.8259277125238079, 0.2949836269078604, 0.2949836269078604, 0.1474918134539302, 0.1474918134539302, 0.5576235880637579, 0.27881179403187895, 0.37994215008083737, 0.37994215008083737, 0.78120141887681, 0.7994993399762353, 0.7757115412462635, 0.5762488639396788, 0.855409029482072, 0.6886545368426709, 0.1552462827211941, 0.07762314136059704, 0.23286942408179112, 0.1552462827211941, 0.07762314136059704, 0.07762314136059704, 0.07762314136059704, 0.07762314136059704, 0.3898656178456835, 0.3898656178456835, 0.3898656178456835, 0.7281451526380438, 0.825927739726406, 0.7994993147410413, 0.7812014445947328, 0.8259276667269683, 0.7994993173335562, 0.4299868914639827, 0.4299868914639827, 0.4299868914639827, 0.4189508424199758, 0.4189508424199758, 0.43232676255738495, 0.21616338127869247, 0.21616338127869247, 0.21616338127869247, 0.5013027336954046, 0.5617540260431486, 0.5617540260431486, 0.9349852539358303, 0.7587072881342979, 0.9348366669626008, 0.7281451526380438, 0.5624665843106519, 0.5624665843106519, 0.5120680961658561, 0.8554246200913254, 0.7587072855645054, 0.5738909298818148, 0.2869454649409074, 0.27972708537194674, 0.27972708537194674, 0.27972708537194674, 0.27972708537194674, 0.8615519759799243, 0.8554246003065202, 0.37611793589883835, 0.37611793589883835, 0.37611793589883835, 0.7281451526380438, 0.40965552559880736, 0.20482776279940368, 0.20482776279940368, 0.20482776279940368, 0.20482776279940368, 0.6141235619226515, 0.5977762018806455, 0.5977762018806455, 0.7587072881342979, 0.7994993066669428, 0.7757115174966646, 0.825927741813584, 0.8554092330712738, 0.7757114705485151, 0.7757114776682038, 0.8554109296719664, 0.8259276490366194, 0.7281451526380438, 0.7587072849030528, 0.1927152782857337, 0.1927152782857337, 0.1927152782857337, 0.1927152782857337, 0.9348367163313479, 0.8259277270184756, 0.8554245948621432, 0.8615519920752479, 0.7812014916312996, 0.5198671100366923, 0.5198671100366923, 0.8554115152015552, 0.7812014445947328, 0.5861162477405198, 0.2930581238702599, 0.33269408589437466, 0.11089802863145821, 0.11089802863145821, 0.22179605726291643, 0.11089802863145821, 0.11089802863145821, 0.7587072827019357, 0.9349974831134501, 0.7281451526380438, 0.3759998271264523, 0.3759998271264523, 0.8615519683432327, 0.3763384933458619, 0.18816924667293095, 0.18816924667293095, 0.18816924667293095, 0.7587072827912034, 0.08708936055720812, 0.08708936055720812, 0.08708936055720812, 0.17417872111441624, 0.08708936055720812, 0.26126808167162435, 0.08708936055720812, 0.08708936055720812, 0.7994993452814904, 0.8554246139791115, 0.7812014898790052, 0.3249872965000816, 0.3249872965000816, 0.3249872965000816, 0.3249872965000816, 0.8615519492999587, 0.8554127489747931, 0.3595081352170032, 0.1797540676085016, 0.1797540676085016, 0.1797540676085016, 0.5542940184130797, 0.5542940184130797, 0.17648132398024147, 0.17648132398024147, 0.17648132398024147, 0.17648132398024147, 0.17648132398024147, 0.17648132398024147, 0.8615520230229173, 0.40063565636747644, 0.40063565636747644, 0.9351029264467545, 0.7017177258245204, 0.3508588629122602, 0.2103629724422761, 0.2103629724422761, 0.2103629724422761, 0.2103629724422761, 0.2103629724422761, 0.7587072881342979, 0.7281451526380438, 0.7994992970622495, 0.3975896424221978, 0.3975896424221978, 0.30152349599475836, 0.30152349599475836, 0.3975595735755675, 0.3975595735755675, 0.3975595735755675, 0.15389425450301691, 0.15389425450301691, 0.15389425450301691, 0.15389425450301691, 0.15389425450301691, 0.15389425450301691, 0.8615519730507841, 0.9349520024041071, 0.9350019583638334, 0.7757114556353432, 0.36662545887144504, 0.36662545887144504, 0.36662545887144504, 0.9348366751421368, 0.7757115061444482, 0.2767194259710929, 0.2767194259710929, 0.2767194259710929, 0.7994993011588014, 0.4929192285279571, 0.7994993114917947, 0.29565247236111186, 0.14782623618055593, 0.14782623618055593, 0.14782623618055593, 0.14782623618055593, 0.934995225511678, 0.5429483562394436, 0.5429483562394436, 0.8259277145658792, 0.7017177691020567, 0.35085888455102837, 0.861551990330942, 0.542948336247033, 0.542948336247033, 0.7994993150798371, 0.3801017093046689, 0.3801017093046689, 0.18352755234553153, 0.18352755234553153, 0.18352755234553153, 0.09176377617276577, 0.09176377617276577, 0.09176377617276577, 0.09176377617276577, 0.09176377617276577, 0.527907339875499, 0.7812014445947328, 0.7587072855645054, 0.21955980717873458, 0.21955980717873458, 0.21955980717873458, 0.21955980717873458, 0.9348365514304212, 0.6529511439435833, 0.2552644367172538, 0.2552644367172538, 0.2552644367172538, 0.7757115060679649, 0.7587072881342979, 0.7281451526380438, 0.7757114999576498, 0.9350350131140283, 0.5625266860335462, 0.5625266860335462, 0.6143060787832175, 0.8259277282546608, 0.13753291033580692, 0.27506582067161384, 0.13753291033580692, 0.13753291033580692, 0.13753291033580692, 0.13753291033580692, 0.13753291033580692, 0.8615519661781709, 0.8259277145658792, 0.8554129153975855, 0.21610814074036594, 0.21610814074036594, 0.21610814074036594, 0.21610814074036594, 0.4993971598067106, 0.2496985799033553, 0.3238981361476552, 0.3238981361476552, 0.3238981361476552, 0.8615519523179499, 0.583743584819212, 0.583743584819212, 0.4970815518405007, 0.24854077592025034, 0.24854077592025034, 0.8615519767336411, 0.861552000829253, 0.40855112164143637, 0.40855112164143637, 0.7994993286620773, 0.18984087858613252, 0.18984087858613252, 0.37968175717226504, 0.18984087858613252, 0.18984087858613252, 0.4645348065353453, 0.4645348065353453, 0.37543132083184944, 0.37543132083184944, 0.4133171222097822, 0.2066585611048911, 0.4133171222097822, 0.9342105371173074, 0.934262679307348, 0.25179745183435814, 0.25179745183435814, 0.25179745183435814, 0.25179745183435814, 0.6303767627236945, 0.7587072244670177], \"Term\": [\"abhor\", \"ableism\", \"access\", \"accessible\", \"accuse\", \"act\", \"action\", \"activist\", \"actually\", \"actually\", \"actually\", \"ad\", \"adylady\", \"ain\", \"air\", \"alcohol\", \"alone\", \"alternative\", \"amp\", \"amp\", \"amp\", \"amp\", \"amp\", \"amp\", \"amp\", \"animal\", \"animal\", \"animal\", \"anti\", \"appal\", \"apparently\", \"apparently\", \"applemusic\", \"appreciate\", \"archie\", \"armed\", \"arrogantly\", \"as\", \"as\", \"asap\", \"ask\", \"attack\", \"ausfedpolice\", \"australian\", \"autistic\", \"awareness\", \"away\", \"bad\", \"bad\", \"bad\", \"bad\", \"bad\", \"ballon\", \"barnaby\", \"base\", \"basket\", \"beautiful\", \"behaviour\", \"behaviour\", \"behaviour\", \"believe\", \"bit\", \"bit\", \"bit\", \"blanket\", \"blatant\", \"blatant\", \"block\", \"block\", \"blood\", \"blower\", \"bother\", \"boycott\", \"brittany\", \"brodie\", \"call\", \"call\", \"call\", \"call\", \"campaign\", \"can\", \"can\", \"can\", \"can\", \"cancel\", \"capitalism\", \"care\", \"care\", \"catapult\", \"celebrate\", \"certificate\", \"character\", \"charge\", \"charge\", \"cheap\", \"chicken\", \"child\", \"child\", \"child\", \"child\", \"child\", \"chronic\", \"church\", \"clergy\", \"climate\", \"co\", \"co\", \"co\", \"co\", \"co\", \"co\", \"coach\", \"colonial\", \"com\", \"com\", \"com\", \"com\", \"com\", \"com\", \"com\", \"com\", \"comment\", \"comment\", \"common\", \"common\", \"condone\", \"confront\", \"consent\", \"constitution\", \"continue\", \"continue\", \"country\", \"country\", \"coupdelecrivai\", \"court\", \"court\", \"court\", \"cptsd\", \"crakeka\", \"cross\", \"current\", \"customer\", \"dark\", \"day\", \"day\", \"day\", \"day\", \"declare\", \"defense\", \"degrade\", \"democracy\", \"depp\", \"deputy\", \"despicable\", \"diabolical\", \"dictatorship\", \"die\", \"die\", \"die\", \"direct\", \"disable\", \"dismiss\", \"do\", \"do\", \"doesn\", \"dog\", \"dog\", \"dog\", \"dominate\", \"dostribution\", \"downright\", \"dozen\", \"drug\", \"drug\", \"dv\", \"elderly\", \"election\", \"empathy\", \"end\", \"engage\", \"epicvoiceguy\", \"equate\", \"escape\", \"even\", \"even\", \"ever\", \"evil\", \"expensive\", \"experience\", \"face\", \"face\", \"face\", \"fact\", \"family\", \"family\", \"famous\", \"far\", \"far\", \"far\", \"far\", \"feel\", \"feel\", \"feel\", \"feel\", \"fellow\", \"fest\", \"fill\", \"finally\", \"financier\", \"find\", \"find\", \"forbid\", \"force\", \"free\", \"freedom\", \"friend\", \"friend\", \"frighten\", \"frontline\", \"fun\", \"funny\", \"future\", \"future\", \"gaol\", \"gaslighte\", \"gender\", \"get\", \"get\", \"get\", \"get\", \"girl\", \"girl\", \"give\", \"give\", \"give\", \"go\", \"go\", \"go\", \"go\", \"ground\", \"group\", \"gt\", \"guess\", \"guess\", \"guilty\", \"guilty\", \"hand\", \"hand\", \"hand\", \"happy\", \"hate\", \"hate\", \"hate\", \"hatred\", \"healthcare\", \"hear\", \"here\", \"here\", \"here\", \"hero\", \"hi\", \"higgin\", \"high\", \"hit\", \"home\", \"horse\", \"house\", \"how\", \"how\", \"hug\", \"ignore\", \"ignore\", \"illegal\", \"illegal\", \"impact\", \"implement\", \"indigenous\", \"inexcusable\", \"information\", \"intimidate\", \"iso\", \"just\", \"just\", \"just\", \"just\", \"just\", \"keep\", \"keep\", \"kidcowboy\", \"kind\", \"kind\", \"know\", \"know\", \"know\", \"last\", \"law\", \"lay\", \"learn\", \"learn\", \"leave\", \"let\", \"level\", \"lie\", \"lie\", \"like\", \"likely\", \"little\", \"little\", \"live\", \"live\", \"live\", \"live\", \"look\", \"look\", \"lordmcbain\", \"lot\", \"lot\", \"lot\", \"lot\", \"low\", \"lure\", \"make\", \"make\", \"make\", \"make\", \"make\", \"male\", \"many\", \"many\", \"many\", \"mask\", \"matter\", \"matter\", \"matter\", \"may\", \"may\", \"may\", \"may\", \"meagrebone\", \"meagrebone\", \"medical\", \"mental\", \"merry\", \"military\", \"misogyny\", \"misuse\", \"mobile\", \"money\", \"money\", \"moral\", \"moral\", \"more\", \"more\", \"more\", \"more\", \"more\", \"moron\", \"moron\", \"most\", \"most\", \"most\", \"most\", \"mrglangford\", \"much\", \"much\", \"name\", \"name\", \"necessity\", \"need\", \"need\", \"need\", \"need\", \"negative\", \"neglect\", \"neighbour\", \"new\", \"next\", \"no\", \"no\", \"now\", \"now\", \"now\", \"now\", \"now\", \"occupation\", \"offensive\", \"often\", \"often\", \"ok\", \"old\", \"once\", \"online\", \"only\", \"only\", \"only\", \"open\", \"openly\", \"orchestrate\", \"other\", \"other\", \"other\", \"other\", \"own\", \"own\", \"pain\", \"pain\", \"palaszczuk\", \"pancasila\", \"pass\", \"path\", \"patient\", \"pedo\", \"people\", \"people\", \"people\", \"people\", \"people\", \"people\", \"people\", \"people\", \"person\", \"person\", \"person\", \"physical\", \"pile\", \"pixie\", \"plant\", \"platform\", \"plight\", \"pm\", \"pm\", \"pm\", \"point\", \"point\", \"poor\", \"poor\", \"poor\", \"poor\", \"power\", \"ppl\", \"ppl\", \"preference\", \"pregnancy\", \"pretty\", \"pricy\", \"process\", \"process\", \"product\", \"professional\", \"profit\", \"protect\", \"protect\", \"public\", \"public\", \"public\", \"public\", \"quiet\", \"raise\", \"rape\", \"rape\", \"rape\", \"rapid\", \"re\", \"re\", \"re\", \"re\", \"re\", \"reality\", \"really\", \"really\", \"recently\", \"recommend\", \"recommendation\", \"regard\", \"relax\", \"religious\", \"respect\", \"respectful\", \"responsible\", \"retail\", \"rewinde\", \"right\", \"right\", \"right\", \"right\", \"risk\", \"roost\", \"rot\", \"rru\", \"ruin\", \"safe\", \"safe\", \"sake\", \"sale\", \"same\", \"same\", \"say\", \"say\", \"say\", \"say\", \"say\", \"say\", \"scapegoate\", \"scare\", \"scared\", \"school\", \"school\", \"sector\", \"see\", \"see\", \"see\", \"see\", \"selective\", \"sexual\", \"sexual\", \"sexual\", \"sexual\", \"sexual\", \"sexual\", \"sexual\", \"sexual\", \"shameful\", \"sharing\", \"shell\", \"shit\", \"shit\", \"shit\", \"shit\", \"shock\", \"shop\", \"should\", \"should\", \"should\", \"should\", \"silence\", \"silence\", \"so\", \"so\", \"so\", \"so\", \"so\", \"so\", \"society\", \"speak\", \"speak\", \"speech\", \"staff\", \"staff\", \"status\", \"status\", \"status\", \"status\", \"status\", \"stay\", \"stock\", \"subscription\", \"suffer\", \"suffer\", \"support\", \"support\", \"sure\", \"sure\", \"sure\", \"survivor\", \"survivor\", \"survivor\", \"survivor\", \"survivor\", \"survivor\", \"swimming\", \"swinging\", \"tactic\", \"teenager\", \"tell\", \"tell\", \"tell\", \"test\", \"testify\", \"thank\", \"thank\", \"thank\", \"thankyou\", \"thread\", \"threat\", \"time\", \"time\", \"time\", \"time\", \"time\", \"together\", \"too\", \"too\", \"tool\", \"torture\", \"torture\", \"trash\", \"trauma\", \"trauma\", \"truth\", \"try\", \"try\", \"twitter\", \"twitter\", \"twitter\", \"twitter\", \"twitter\", \"twitter\", \"twitter\", \"twitter\", \"unfortunately\", \"unfounded\", \"unhinged\", \"use\", \"use\", \"use\", \"use\", \"ve\", \"verbal\", \"very\", \"very\", \"very\", \"veteran\", \"vile\", \"violence\", \"virtually\", \"voice\", \"voter\", \"voter\", \"wait\", \"walk\", \"want\", \"want\", \"want\", \"want\", \"want\", \"want\", \"want\", \"warrior\", \"watch\", \"wear\", \"well\", \"well\", \"well\", \"well\", \"when\", \"when\", \"where\", \"where\", \"where\", \"whistle\", \"white\", \"white\", \"will\", \"will\", \"will\", \"win\", \"wire\", \"wish\", \"wish\", \"witch\", \"woman\", \"woman\", \"woman\", \"woman\", \"woman\", \"work\", \"work\", \"worker\", \"worker\", \"would\", \"would\", \"would\", \"wscsexn\", \"xc\", \"year\", \"year\", \"year\", \"year\", \"yesterday\", \"yet\"]}, \"R\": 30, \"lambda.step\": 0.01, \"plot.opts\": {\"xlab\": \"PC1\", \"ylab\": \"PC2\"}, \"topic.order\": [10, 5, 7, 3, 8, 9, 4, 6, 2, 1]};\n",
              "\n",
              "function LDAvis_load_lib(url, callback){\n",
              "  var s = document.createElement('script');\n",
              "  s.src = url;\n",
              "  s.async = true;\n",
              "  s.onreadystatechange = s.onload = callback;\n",
              "  s.onerror = function(){console.warn(\"failed to load library \" + url);};\n",
              "  document.getElementsByTagName(\"head\")[0].appendChild(s);\n",
              "}\n",
              "\n",
              "if(typeof(LDAvis) !== \"undefined\"){\n",
              "   // already loaded: just create the visualization\n",
              "   !function(LDAvis){\n",
              "       new LDAvis(\"#\" + \"ldavis_el2411402231686249767911553352\", ldavis_el2411402231686249767911553352_data);\n",
              "   }(LDAvis);\n",
              "}else if(typeof define === \"function\" && define.amd){\n",
              "   // require.js is available: use it to load d3/LDAvis\n",
              "   require.config({paths: {d3: \"https://d3js.org/d3.v5\"}});\n",
              "   require([\"d3\"], function(d3){\n",
              "      window.d3 = d3;\n",
              "      LDAvis_load_lib(\"https://cdn.jsdelivr.net/gh/bmabey/pyLDAvis@3.3.1/pyLDAvis/js/ldavis.v3.0.0.js\", function(){\n",
              "        new LDAvis(\"#\" + \"ldavis_el2411402231686249767911553352\", ldavis_el2411402231686249767911553352_data);\n",
              "      });\n",
              "    });\n",
              "}else{\n",
              "    // require.js not available: dynamically load d3 & LDAvis\n",
              "    LDAvis_load_lib(\"https://d3js.org/d3.v5.js\", function(){\n",
              "         LDAvis_load_lib(\"https://cdn.jsdelivr.net/gh/bmabey/pyLDAvis@3.3.1/pyLDAvis/js/ldavis.v3.0.0.js\", function(){\n",
              "                 new LDAvis(\"#\" + \"ldavis_el2411402231686249767911553352\", ldavis_el2411402231686249767911553352_data);\n",
              "            })\n",
              "         });\n",
              "}\n",
              "</script>"
            ],
            "text/plain": [
              "PreparedData(topic_coordinates=              x         y  topics  cluster       Freq\n",
              "topic                                                \n",
              "9     -0.192378 -0.088290       1        1  18.788048\n",
              "4     -0.058442  0.190954       2        1  14.308431\n",
              "6     -0.158835  0.084455       3        1  12.363648\n",
              "2      0.085362 -0.159221       4        1  12.048968\n",
              "7      0.196577 -0.051385       5        1  10.317036\n",
              "8      0.153219  0.082221       6        1   8.736770\n",
              "3      0.053580  0.130403       7        1   7.336984\n",
              "5     -0.034109 -0.157658       8        1   7.143478\n",
              "1     -0.064350 -0.010538       9        1   4.916373\n",
              "0      0.019376 -0.020940      10        1   4.040264, topic_info=           Term       Freq      Total Category  logprob  loglift\n",
              "64       sexual  11.000000  11.000000  Default  30.0000  30.0000\n",
              "333        know   4.000000   4.000000  Default  29.0000  29.0000\n",
              "51          amp   7.000000   7.000000  Default  28.0000  28.0000\n",
              "170    survivor   6.000000   6.000000  Default  27.0000  27.0000\n",
              "492        hero   1.000000   1.000000  Default  26.0000  26.0000\n",
              "..          ...        ...        ...      ...      ...      ...\n",
              "158         day   0.459063   4.621871  Topic10  -4.9221   0.8995\n",
              "126    continue   0.459063   2.340665  Topic10  -4.9221   1.5799\n",
              "160     finally   0.459063   1.706469  Topic10  -4.9221   1.8959\n",
              "166        path   0.459063   1.735361  Topic10  -4.9221   1.8791\n",
              "252  healthcare   0.459063   2.370195  Topic10  -4.9221   1.5673\n",
              "\n",
              "[551 rows x 6 columns], token_table=      Topic      Freq        Term\n",
              "term                             \n",
              "172       9  0.934990       abhor\n",
              "548       7  0.855425     ableism\n",
              "322       9  0.934227      access\n",
              "688       1  0.728145  accessible\n",
              "765       3  0.775712      accuse\n",
              "...     ...       ...         ...\n",
              "141       3  0.251797        year\n",
              "141       4  0.251797        year\n",
              "141       7  0.251797        year\n",
              "171       7  0.630377   yesterday\n",
              "30        2  0.758707         yet\n",
              "\n",
              "[680 rows x 3 columns], R=30, lambda_step=0.01, plot_opts={'xlab': 'PC1', 'ylab': 'PC2'}, topic_order=[10, 5, 7, 3, 8, 9, 4, 6, 2, 1])"
            ]
          },
          "metadata": {},
          "execution_count": 24
        }
      ]
    },
    {
      "cell_type": "markdown",
      "source": [
        "<h1> Link for coherence: https://towardsdatascience.com/evaluate-topic-model-in-python-latent-dirichlet-allocation-lda-7d57484bb5d0 </h1>"
      ],
      "metadata": {
        "id": "OIRxL8eqbb8H"
      }
    },
    {
      "cell_type": "code",
      "source": [
        "#Finding out coherence of the model\n",
        "coherence_model_lda = CoherenceModel(model=new_model,texts=df['cleaned_text2'],\\\n",
        "                                     dictionary=id2word , coherence='c_v')\n",
        "print('\\nCoherence Score: ', coherence_model_lda.get_coherence())"
      ],
      "metadata": {
        "colab": {
          "base_uri": "https://localhost:8080/"
        },
        "id": "9ohrPlSmSM8Z",
        "outputId": "ce3fd8a1-9f39-4f37-a191-494f6645ff67"
      },
      "execution_count": null,
      "outputs": [
        {
          "output_type": "stream",
          "name": "stdout",
          "text": [
            "\n",
            "Coherence Score:  0.4022286847203561\n"
          ]
        }
      ]
    },
    {
      "cell_type": "code",
      "source": [
        "%%time\n",
        "# Computing coherence score via coherence model for different sizes of topics in the new_model created above, to use further for graphical visualizations\n",
        "def calculate_topic_cv(ldamodel,texts,dictionary,topic_range):\n",
        "  cv_score =[]\n",
        "  topic_num = []\n",
        "  for i in range(2,topic_range):\n",
        "    topic_num.append(i)\n",
        "    Lda = gensim.models.ldamodel.LdaModel\n",
        "    ldamodel = Lda(corpus=corpus[:-1],id2word=id2word,num_topics=i,random_state=100,update_every=1,chunksize=100,passes=10,alpha=\"auto\")\n",
        "    cv_score.append(CoherenceModel(model=ldamodel,texts=texts, dictionary=dictionary, coherence='c_v').get_coherence())\n",
        "    clear_output()\n",
        "  return topic_num,cv_score\n",
        "\n",
        "topic_num,cv_score = calculate_topic_cv(lda_model,df['cleaned_text2'],id2word,10)\n",
        "print(topic_num)\n",
        "print(cv_score)"
      ],
      "metadata": {
        "colab": {
          "base_uri": "https://localhost:8080/"
        },
        "id": "oAyQHfK0SM-m",
        "outputId": "480fcd7a-f316-4568-bc4d-f70efeaf6f24"
      },
      "execution_count": null,
      "outputs": [
        {
          "output_type": "stream",
          "name": "stdout",
          "text": [
            "[2, 3, 4, 5, 6, 7, 8, 9]\n",
            "[0.46901106947436355, 0.4395316237368392, 0.38957431214713867, 0.40811339347161935, 0.43757231064206015, 0.39997093507552145, 0.42028814309387597, 0.40057362070628577]\n",
            "CPU times: user 7.78 s, sys: 374 ms, total: 8.16 s\n",
            "Wall time: 7.75 s\n"
          ]
        }
      ]
    },
    {
      "cell_type": "markdown",
      "source": [
        "<h2> Zipping values found above into Topic and Coherence Score </h2>"
      ],
      "metadata": {
        "id": "lQ4sCq7cdrSE"
      }
    },
    {
      "cell_type": "code",
      "source": [
        "pd.DataFrame(zip(topic_num,cv_score),columns=['Topic','Coherence_Score']).set_index('Topic').sort_values('Coherence_Score',ascending=False)"
      ],
      "metadata": {
        "colab": {
          "base_uri": "https://localhost:8080/",
          "height": 332
        },
        "id": "5r4BCemLSNA8",
        "outputId": "18a22191-6f5b-4895-c97d-ed177d723fd7"
      },
      "execution_count": null,
      "outputs": [
        {
          "output_type": "execute_result",
          "data": {
            "text/html": [
              "\n",
              "  <div id=\"df-f57292c4-c258-4813-86d6-d2249a1e1bce\">\n",
              "    <div class=\"colab-df-container\">\n",
              "      <div>\n",
              "<style scoped>\n",
              "    .dataframe tbody tr th:only-of-type {\n",
              "        vertical-align: middle;\n",
              "    }\n",
              "\n",
              "    .dataframe tbody tr th {\n",
              "        vertical-align: top;\n",
              "    }\n",
              "\n",
              "    .dataframe thead th {\n",
              "        text-align: right;\n",
              "    }\n",
              "</style>\n",
              "<table border=\"1\" class=\"dataframe\">\n",
              "  <thead>\n",
              "    <tr style=\"text-align: right;\">\n",
              "      <th></th>\n",
              "      <th>Coherence_Score</th>\n",
              "    </tr>\n",
              "    <tr>\n",
              "      <th>Topic</th>\n",
              "      <th></th>\n",
              "    </tr>\n",
              "  </thead>\n",
              "  <tbody>\n",
              "    <tr>\n",
              "      <th>2</th>\n",
              "      <td>0.469011</td>\n",
              "    </tr>\n",
              "    <tr>\n",
              "      <th>3</th>\n",
              "      <td>0.439532</td>\n",
              "    </tr>\n",
              "    <tr>\n",
              "      <th>6</th>\n",
              "      <td>0.437572</td>\n",
              "    </tr>\n",
              "    <tr>\n",
              "      <th>8</th>\n",
              "      <td>0.420288</td>\n",
              "    </tr>\n",
              "    <tr>\n",
              "      <th>5</th>\n",
              "      <td>0.408113</td>\n",
              "    </tr>\n",
              "    <tr>\n",
              "      <th>9</th>\n",
              "      <td>0.400574</td>\n",
              "    </tr>\n",
              "    <tr>\n",
              "      <th>7</th>\n",
              "      <td>0.399971</td>\n",
              "    </tr>\n",
              "    <tr>\n",
              "      <th>4</th>\n",
              "      <td>0.389574</td>\n",
              "    </tr>\n",
              "  </tbody>\n",
              "</table>\n",
              "</div>\n",
              "      <button class=\"colab-df-convert\" onclick=\"convertToInteractive('df-f57292c4-c258-4813-86d6-d2249a1e1bce')\"\n",
              "              title=\"Convert this dataframe to an interactive table.\"\n",
              "              style=\"display:none;\">\n",
              "        \n",
              "  <svg xmlns=\"http://www.w3.org/2000/svg\" height=\"24px\"viewBox=\"0 0 24 24\"\n",
              "       width=\"24px\">\n",
              "    <path d=\"M0 0h24v24H0V0z\" fill=\"none\"/>\n",
              "    <path d=\"M18.56 5.44l.94 2.06.94-2.06 2.06-.94-2.06-.94-.94-2.06-.94 2.06-2.06.94zm-11 1L8.5 8.5l.94-2.06 2.06-.94-2.06-.94L8.5 2.5l-.94 2.06-2.06.94zm10 10l.94 2.06.94-2.06 2.06-.94-2.06-.94-.94-2.06-.94 2.06-2.06.94z\"/><path d=\"M17.41 7.96l-1.37-1.37c-.4-.4-.92-.59-1.43-.59-.52 0-1.04.2-1.43.59L10.3 9.45l-7.72 7.72c-.78.78-.78 2.05 0 2.83L4 21.41c.39.39.9.59 1.41.59.51 0 1.02-.2 1.41-.59l7.78-7.78 2.81-2.81c.8-.78.8-2.07 0-2.86zM5.41 20L4 18.59l7.72-7.72 1.47 1.35L5.41 20z\"/>\n",
              "  </svg>\n",
              "      </button>\n",
              "      \n",
              "  <style>\n",
              "    .colab-df-container {\n",
              "      display:flex;\n",
              "      flex-wrap:wrap;\n",
              "      gap: 12px;\n",
              "    }\n",
              "\n",
              "    .colab-df-convert {\n",
              "      background-color: #E8F0FE;\n",
              "      border: none;\n",
              "      border-radius: 50%;\n",
              "      cursor: pointer;\n",
              "      display: none;\n",
              "      fill: #1967D2;\n",
              "      height: 32px;\n",
              "      padding: 0 0 0 0;\n",
              "      width: 32px;\n",
              "    }\n",
              "\n",
              "    .colab-df-convert:hover {\n",
              "      background-color: #E2EBFA;\n",
              "      box-shadow: 0px 1px 2px rgba(60, 64, 67, 0.3), 0px 1px 3px 1px rgba(60, 64, 67, 0.15);\n",
              "      fill: #174EA6;\n",
              "    }\n",
              "\n",
              "    [theme=dark] .colab-df-convert {\n",
              "      background-color: #3B4455;\n",
              "      fill: #D2E3FC;\n",
              "    }\n",
              "\n",
              "    [theme=dark] .colab-df-convert:hover {\n",
              "      background-color: #434B5C;\n",
              "      box-shadow: 0px 1px 3px 1px rgba(0, 0, 0, 0.15);\n",
              "      filter: drop-shadow(0px 1px 2px rgba(0, 0, 0, 0.3));\n",
              "      fill: #FFFFFF;\n",
              "    }\n",
              "  </style>\n",
              "\n",
              "      <script>\n",
              "        const buttonEl =\n",
              "          document.querySelector('#df-f57292c4-c258-4813-86d6-d2249a1e1bce button.colab-df-convert');\n",
              "        buttonEl.style.display =\n",
              "          google.colab.kernel.accessAllowed ? 'block' : 'none';\n",
              "\n",
              "        async function convertToInteractive(key) {\n",
              "          const element = document.querySelector('#df-f57292c4-c258-4813-86d6-d2249a1e1bce');\n",
              "          const dataTable =\n",
              "            await google.colab.kernel.invokeFunction('convertToInteractive',\n",
              "                                                     [key], {});\n",
              "          if (!dataTable) return;\n",
              "\n",
              "          const docLinkHtml = 'Like what you see? Visit the ' +\n",
              "            '<a target=\"_blank\" href=https://colab.research.google.com/notebooks/data_table.ipynb>data table notebook</a>'\n",
              "            + ' to learn more about interactive tables.';\n",
              "          element.innerHTML = '';\n",
              "          dataTable['output_type'] = 'display_data';\n",
              "          await google.colab.output.renderOutput(dataTable, element);\n",
              "          const docLink = document.createElement('div');\n",
              "          docLink.innerHTML = docLinkHtml;\n",
              "          element.appendChild(docLink);\n",
              "        }\n",
              "      </script>\n",
              "    </div>\n",
              "  </div>\n",
              "  "
            ],
            "text/plain": [
              "       Coherence_Score\n",
              "Topic                 \n",
              "2             0.469011\n",
              "3             0.439532\n",
              "6             0.437572\n",
              "8             0.420288\n",
              "5             0.408113\n",
              "9             0.400574\n",
              "7             0.399971\n",
              "4             0.389574"
            ]
          },
          "metadata": {},
          "execution_count": 27
        }
      ]
    },
    {
      "cell_type": "markdown",
      "source": [
        "<h2> Using a graph to show TOPIC VS CV_SCORE </H2>\n"
      ],
      "metadata": {
        "id": "xN9rPpKSd5_v"
      }
    },
    {
      "cell_type": "code",
      "source": [
        "import matplotlib.pyplot as plt\n",
        "\n",
        "plt.figure(figsize = (16,8))\n",
        "plt.plot(topic_num,cv_score,color='RED', marker='*', linestyle='dashed')\n",
        "plt.xticks(range(2,10))\n",
        "plt.xlabel('Number of topics')\n",
        "plt.ylabel('Coherence score')\n",
        "plt.show()"
      ],
      "metadata": {
        "colab": {
          "base_uri": "https://localhost:8080/",
          "height": 497
        },
        "id": "st-H7M77SNDN",
        "outputId": "514e885f-b8df-4f3e-8115-a822492a658a"
      },
      "execution_count": null,
      "outputs": [
        {
          "output_type": "display_data",
          "data": {
            "image/png": "[encoded data removed]",
            "text/plain": [
              "<Figure size 1152x576 with 1 Axes>"
            ]
          },
          "metadata": {
            "needs_background": "light"
          }
        }
      ]
    },
    {
      "cell_type": "markdown",
      "source": [
        "<h2> Dropping down number of topics for easy evaluation </h2>"
      ],
      "metadata": {
        "id": "D1coQArPeKsv"
      }
    },
    {
      "cell_type": "code",
      "source": [
        "# Creating LDA model with number of topics as 2\n",
        "Lda2 = gensim.models.ldamodel.LdaModel\n",
        "ldamodel2 = Lda2(corpus=corpus,id2word=id2word,num_topics=2,random_state=100,update_every=1,chunksize=100,passes=10,alpha=\"auto\")\n",
        "clear_output()"
      ],
      "metadata": {
        "id": "UXRDrrMbPj0K"
      },
      "execution_count": null,
      "outputs": []
    },
    {
      "cell_type": "code",
      "source": [
        "print(CoherenceModel(model=ldamodel2,texts=df['cleaned_text2'],dictionary=id2word , coherence='c_v').get_coherence())"
      ],
      "metadata": {
        "colab": {
          "base_uri": "https://localhost:8080/"
        },
        "id": "ZhCniR7uPj2Y",
        "outputId": "eebef1ce-e19d-41ba-d27c-64f04e49ee26"
      },
      "execution_count": null,
      "outputs": [
        {
          "output_type": "stream",
          "name": "stdout",
          "text": [
            "0.45748796567432415\n"
          ]
        }
      ]
    },
    {
      "cell_type": "code",
      "source": [
        "ldamodel2.print_topics()"
      ],
      "metadata": {
        "colab": {
          "base_uri": "https://localhost:8080/"
        },
        "id": "8_ue4xgPPj4j",
        "outputId": "1d45ce32-c5fa-45ea-a03c-93cd53dd4e32"
      },
      "execution_count": null,
      "outputs": [
        {
          "output_type": "execute_result",
          "data": {
            "text/plain": [
              "[(0,\n",
              "  '0.010*\"people\" + 0.010*\"child\" + 0.009*\"sexual\" + 0.005*\"right\" + 0.005*\"amp\" + 0.005*\"com\" + 0.005*\"time\" + 0.005*\"year\" + 0.005*\"feel\" + 0.005*\"can\"'),\n",
              " (1,\n",
              "  '0.010*\"twitter\" + 0.008*\"say\" + 0.007*\"child\" + 0.007*\"com\" + 0.007*\"sexual\" + 0.006*\"survivor\" + 0.006*\"know\" + 0.006*\"people\" + 0.005*\"amp\" + 0.005*\"call\"')]"
            ]
          },
          "metadata": {},
          "execution_count": 36
        }
      ]
    },
    {
      "cell_type": "code",
      "source": [
        "vis2 = gensim_models.prepare(ldamodel2, corpus, id2word, mds=\"mmds\", R=30)\n",
        "vis2"
      ],
      "metadata": {
        "colab": {
          "base_uri": "https://localhost:8080/",
          "height": 916
        },
        "id": "NYb4ExOGPj6o",
        "outputId": "a9888722-2a96-49e7-c917-b9469537c476"
      },
      "execution_count": null,
      "outputs": [
        {
          "output_type": "stream",
          "name": "stderr",
          "text": [
            "/usr/local/lib/python3.7/dist-packages/pyLDAvis/_prepare.py:247: FutureWarning: In a future version of pandas all arguments of DataFrame.drop except for the argument 'labels' will be keyword-only\n",
            "  by='saliency', ascending=False).head(R).drop('saliency', 1)\n"
          ]
        },
        {
          "output_type": "execute_result",
          "data": {
            "text/html": [
              "\n",
              "<link rel=\"stylesheet\" type=\"text/css\" href=\"https://cdn.jsdelivr.net/gh/bmabey/pyLDAvis@3.3.1/pyLDAvis/js/ldavis.v1.0.0.css\">\n",
              "\n",
              "\n",
              "<div id=\"ldavis_el2411402231548848166426287299\"></div>\n",
              "<script type=\"text/javascript\">\n",
              "\n",
              "var ldavis_el2411402231548848166426287299_data = {\"mdsDat\": {\"x\": [-0.003476787335283782, 0.003476787335283782], \"y\": [-0.061358263558305356, 0.061358263558305356], \"topics\": [1, 2], \"cluster\": [1, 1], \"Freq\": [51.719811910765266, 48.28018808923473]}, \"tinfo\": {\"Term\": [\"know\", \"year\", \"public\", \"girl\", \"guilty\", \"find\", \"protect\", \"support\", \"right\", \"experience\", \"lot\", \"even\", \"own\", \"twitter\", \"call\", \"make\", \"way\", \"bad\", \"financier\", \"lure\", \"hero\", \"can\", \"work\", \"continue\", \"suffer\", \"alcohol\", \"again\", \"how\", \"why\", \"look\", \"know\", \"public\", \"experience\", \"lot\", \"even\", \"own\", \"again\", \"how\", \"why\", \"look\", \"age\", \"worker\", \"power\", \"good\", \"pedo\", \"actually\", \"crime\", \"torture\", \"online\", \"sure\", \"autistic\", \"verbal\", \"meagrebone\", \"screenshot\", \"really\", \"course\", \"comment\", \"change\", \"bloody\", \"don\", \"call\", \"make\", \"way\", \"bad\", \"twitter\", \"hate\", \"need\", \"say\", \"matter\", \"survivor\", \"com\", \"co\", \"see\", \"dog\", \"will\", \"most\", \"want\", \"sexual\", \"now\", \"so\", \"child\", \"amp\", \"other\", \"people\", \"status\", \"woman\", \"time\", \"re\", \"get\", \"year\", \"girl\", \"guilty\", \"find\", \"protect\", \"support\", \"financier\", \"lure\", \"hero\", \"work\", \"continue\", \"suffer\", \"alcohol\", \"away\", \"mask\", \"instead\", \"name\", \"choose\", \"today\", \"product\", \"chronic\", \"church\", \"too\", \"deal\", \"silence\", \"yesterday\", \"risk\", \"elderly\", \"citizen\", \"innocent\", \"right\", \"can\", \"animal\", \"people\", \"take\", \"thank\", \"face\", \"child\", \"sexual\", \"feel\", \"go\", \"use\", \"live\", \"day\", \"poor\", \"well\", \"family\", \"time\", \"amp\", \"com\", \"just\", \"should\", \"other\", \"want\", \"say\"], \"Freq\": [5.0, 3.0, 3.0, 3.0, 3.0, 3.0, 3.0, 3.0, 5.0, 3.0, 3.0, 3.0, 3.0, 10.0, 5.0, 5.0, 5.0, 5.0, 2.0, 2.0, 2.0, 4.0, 2.0, 2.0, 2.0, 2.0, 2.0, 2.0, 2.0, 2.0, 4.792406523403477, 3.525400226442322, 2.8820082276171095, 2.880579969621056, 2.876447921366262, 2.87537846552363, 2.2446217502802357, 2.2445622003940398, 2.2437378947138233, 2.2432261789725043, 2.242680273706618, 2.2424349356896713, 2.241710005056136, 2.2414319803508667, 2.241302172870231, 2.2390558083934704, 2.2389025190965115, 2.2388296315386436, 2.238787176414731, 2.237997811677204, 2.235879563990304, 1.6037004142413043, 1.6036944028963256, 1.6036433064640059, 1.6035069240747997, 1.6032134952980226, 1.6031661559563146, 1.6028479303815002, 1.6026553794876484, 1.602623632071979, 4.1862668294118075, 4.168881644024094, 4.164342327146988, 4.162503607001601, 8.045366959771252, 3.5239969530988366, 3.5230704545539813, 6.10279406711311, 2.9082188188518048, 4.826491225142261, 5.487694087721497, 3.531208312819014, 3.526347013276481, 2.8896046891249907, 2.8856060175869134, 2.878894726627159, 4.168795606649086, 5.475726251286854, 3.53917747771558, 3.5233905586741017, 5.500740584870771, 4.1919261350002746, 3.5350435509154803, 4.77671578588166, 2.9172258800298643, 2.9001951761413687, 2.8871702822631122, 2.8870846205971645, 2.88470901220336, 3.4410020342394017, 2.8176383016816375, 2.8173514106385613, 2.816779557526415, 2.8162978401087315, 2.8141843860432343, 2.1922945649873373, 2.191366027045352, 2.1908914994398727, 2.190240207670933, 2.1899005328846015, 2.1850628414387936, 2.183270473864661, 1.5658634130374656, 1.5656689373854047, 1.565656311373729, 1.5656510505355308, 1.5654776182362629, 1.5654081751720463, 1.5653567943189772, 1.5652001967019435, 1.5648975231442728, 1.5648570146901464, 1.564729351683203, 1.5644971733573882, 1.5644938414931961, 1.5638585076001248, 1.5637099766016618, 1.563534089244568, 1.563505329995751, 4.059129479177207, 3.4329459373451976, 2.825792250166329, 7.86952582689758, 2.8190536425182313, 2.8173461498003634, 2.8121002173103737, 7.789182305934397, 6.560180358321397, 3.44009296139875, 2.827393649313866, 2.824238023201302, 2.816125109254557, 2.812101795561833, 2.8119383588551417, 2.811253573083007, 2.1980287032621217, 3.44763945843282, 4.053605248346531, 4.041632983497574, 2.8279104389862044, 2.806783263504708, 2.814949311917255, 2.822763760976888, 2.8142333118384775], \"Total\": [5.0, 3.0, 3.0, 3.0, 3.0, 3.0, 3.0, 3.0, 5.0, 3.0, 3.0, 3.0, 3.0, 10.0, 5.0, 5.0, 5.0, 5.0, 2.0, 2.0, 2.0, 4.0, 2.0, 2.0, 2.0, 2.0, 2.0, 2.0, 2.0, 2.0, 5.126029088030732, 3.8429066735726796, 3.2011141449209983, 3.2010806885724064, 3.2009838566567597, 3.200958852557747, 2.5594622018931688, 2.5594606965884266, 2.559441430673492, 2.559429231519094, 2.55941642452396, 2.559410936888534, 2.5593936985934547, 2.559387330420646, 2.5593841556994734, 2.5593317141924836, 2.5593282711035372, 2.5593262514202313, 2.559325137716493, 2.559306858417711, 2.5592573038313047, 1.9177272333865645, 1.9177273377659914, 1.9177260439352812, 1.9177228265129675, 1.9177157626954469, 1.917714850250838, 1.917707474453061, 1.917702691642567, 1.9177020270125857, 5.111823980474148, 5.111416484439087, 5.111310037508436, 5.111267279843283, 10.84269579558867, 4.46958895427145, 4.469567232216052, 8.917027378951587, 3.8284434089551587, 7.0069725779555, 9.529327071219072, 5.0964728671082495, 5.096358772594515, 3.8280071411352834, 3.827913502111106, 3.827756163378692, 6.991559367625974, 12.03590660960825, 5.723374560548221, 5.723004878569165, 13.289922890805169, 8.245531383346805, 6.349992862832735, 12.646241612779239, 4.45536888443328, 5.081685206998479, 6.334809740695932, 5.081378304099825, 5.081322023906341, 3.767951221227162, 3.141156443077306, 3.1411632860746193, 3.141177139907027, 3.1411887284866653, 3.1412390298681028, 2.5144085407305, 2.514430851976898, 2.5144421631511493, 2.5144578958566917, 2.5144660102519256, 2.514582160186781, 2.514625060931036, 1.887686636930912, 1.8876913340449062, 1.8876916465140245, 1.8876919978299278, 1.8876960176166155, 1.8876977479376753, 1.887698708053191, 1.8877026556143603, 1.8877099185503419, 1.8877108555020263, 1.887713892284739, 1.887719373421933, 1.8877195873120058, 1.8877347701765412, 1.8877383543842212, 1.8877426430037767, 1.8877433299526294, 5.036627429487405, 4.409899485225755, 3.782714869450384, 12.646241612779239, 3.782876628347077, 3.7829179673817093, 3.783043735193858, 13.289922890805169, 12.03590660960825, 5.693236168895478, 4.424430675500716, 4.424506898732372, 4.42470147569178, 4.424797999709361, 4.424801941389424, 4.42481822872544, 3.1560254747520737, 6.334809740695932, 8.245531383346805, 9.529327071219072, 5.066172561987944, 5.066680217085103, 6.349992862832735, 6.991559367625974, 8.917027378951587], \"Category\": [\"Default\", \"Default\", \"Default\", \"Default\", \"Default\", \"Default\", \"Default\", \"Default\", \"Default\", \"Default\", \"Default\", \"Default\", \"Default\", \"Default\", \"Default\", \"Default\", \"Default\", \"Default\", \"Default\", \"Default\", \"Default\", \"Default\", \"Default\", \"Default\", \"Default\", \"Default\", \"Default\", \"Default\", \"Default\", \"Default\", \"Topic1\", \"Topic1\", \"Topic1\", \"Topic1\", \"Topic1\", \"Topic1\", \"Topic1\", \"Topic1\", \"Topic1\", \"Topic1\", \"Topic1\", \"Topic1\", \"Topic1\", \"Topic1\", \"Topic1\", \"Topic1\", \"Topic1\", \"Topic1\", \"Topic1\", \"Topic1\", \"Topic1\", \"Topic1\", \"Topic1\", \"Topic1\", \"Topic1\", \"Topic1\", \"Topic1\", \"Topic1\", \"Topic1\", \"Topic1\", \"Topic1\", \"Topic1\", \"Topic1\", \"Topic1\", \"Topic1\", \"Topic1\", \"Topic1\", \"Topic1\", \"Topic1\", \"Topic1\", \"Topic1\", \"Topic1\", \"Topic1\", \"Topic1\", \"Topic1\", \"Topic1\", \"Topic1\", \"Topic1\", \"Topic1\", \"Topic1\", \"Topic1\", \"Topic1\", \"Topic1\", \"Topic1\", \"Topic1\", \"Topic1\", \"Topic1\", \"Topic1\", \"Topic1\", \"Topic2\", \"Topic2\", \"Topic2\", \"Topic2\", \"Topic2\", \"Topic2\", \"Topic2\", \"Topic2\", \"Topic2\", \"Topic2\", \"Topic2\", \"Topic2\", \"Topic2\", \"Topic2\", \"Topic2\", \"Topic2\", \"Topic2\", \"Topic2\", \"Topic2\", \"Topic2\", \"Topic2\", \"Topic2\", \"Topic2\", \"Topic2\", \"Topic2\", \"Topic2\", \"Topic2\", \"Topic2\", \"Topic2\", \"Topic2\", \"Topic2\", \"Topic2\", \"Topic2\", \"Topic2\", \"Topic2\", \"Topic2\", \"Topic2\", \"Topic2\", \"Topic2\", \"Topic2\", \"Topic2\", \"Topic2\", \"Topic2\", \"Topic2\", \"Topic2\", \"Topic2\", \"Topic2\", \"Topic2\", \"Topic2\", \"Topic2\", \"Topic2\", \"Topic2\", \"Topic2\", \"Topic2\", \"Topic2\"], \"logprob\": [30.0, 29.0, 28.0, 27.0, 26.0, 25.0, 24.0, 23.0, 22.0, 21.0, 20.0, 19.0, 18.0, 17.0, 16.0, 15.0, 14.0, 13.0, 12.0, 11.0, 10.0, 9.0, 8.0, 7.0, 6.0, 5.0, 4.0, 3.0, 2.0, 1.0, -5.1261, -5.4331, -5.6346, -5.6351, -5.6366, -5.6369, -5.8846, -5.8846, -5.885, -5.8852, -5.8854, -5.8855, -5.8859, -5.886, -5.8861, -5.8871, -5.8871, -5.8872, -5.8872, -5.8875, -5.8885, -6.2208, -6.2208, -6.2208, -6.2209, -6.2211, -6.2211, -6.2213, -6.2214, -6.2215, -5.2613, -5.2655, -5.2666, -5.267, -4.608, -5.4335, -5.4338, -4.8844, -5.6256, -5.119, -4.9906, -5.4315, -5.4328, -5.632, -5.6334, -5.6357, -5.2655, -4.9928, -5.4292, -5.4337, -4.9882, -5.26, -5.4304, -5.1294, -5.6225, -5.6283, -5.6328, -5.6329, -5.6337, -5.3885, -5.5884, -5.5885, -5.5887, -5.5889, -5.5896, -5.8393, -5.8398, -5.84, -5.8403, -5.8404, -5.8426, -5.8435, -6.1759, -6.176, -6.176, -6.176, -6.1761, -6.1761, -6.1762, -6.1763, -6.1765, -6.1765, -6.1766, -6.1767, -6.1767, -6.1771, -6.1772, -6.1773, -6.1774, -5.2233, -5.3909, -5.5855, -4.5613, -5.5879, -5.5885, -5.5904, -4.5716, -4.7433, -5.3888, -5.5849, -5.5861, -5.5889, -5.5904, -5.5904, -5.5907, -5.8367, -5.3866, -5.2247, -5.2276, -5.5848, -5.5923, -5.5893, -5.5866, -5.5896], \"loglift\": [30.0, 29.0, 28.0, 27.0, 26.0, 25.0, 24.0, 23.0, 22.0, 21.0, 20.0, 19.0, 18.0, 17.0, 16.0, 15.0, 14.0, 13.0, 12.0, 11.0, 10.0, 9.0, 8.0, 7.0, 6.0, 5.0, 4.0, 3.0, 2.0, 1.0, 0.592, 0.5731, 0.5543, 0.5538, 0.5524, 0.5521, 0.5281, 0.528, 0.5277, 0.5275, 0.5272, 0.5271, 0.5268, 0.5267, 0.5266, 0.5256, 0.5256, 0.5255, 0.5255, 0.5252, 0.5242, 0.4805, 0.4805, 0.4805, 0.4804, 0.4802, 0.4802, 0.48, 0.4799, 0.4798, 0.4596, 0.4555, 0.4544, 0.454, 0.3609, 0.4216, 0.4214, 0.2801, 0.3844, 0.2865, 0.1075, 0.2924, 0.2911, 0.3781, 0.3767, 0.3745, 0.1423, -0.1282, 0.1787, 0.1743, -0.2228, -0.0172, 0.0736, -0.3143, 0.2359, 0.0985, -0.1265, 0.094, 0.0932, 0.6374, 0.6195, 0.6194, 0.6191, 0.619, 0.6182, 0.5911, 0.5906, 0.5904, 0.5901, 0.5899, 0.5877, 0.5868, 0.5412, 0.5411, 0.5411, 0.5411, 0.541, 0.5409, 0.5409, 0.5408, 0.5406, 0.5406, 0.5405, 0.5403, 0.5403, 0.5399, 0.5398, 0.5397, 0.5397, 0.5124, 0.4777, 0.4365, 0.2538, 0.4341, 0.4334, 0.4316, 0.1939, 0.1213, 0.2244, 0.2804, 0.2792, 0.2763, 0.2749, 0.2748, 0.2746, 0.3664, 0.1198, 0.0181, -0.1296, 0.1451, 0.1375, -0.0854, -0.1788, -0.4251]}, \"token.table\": {\"Topic\": [1, 1, 1, 2, 1, 2, 1, 2, 1, 2, 1, 2, 1, 1, 2, 1, 2, 1, 1, 2, 2, 2, 2, 2, 1, 2, 1, 2, 1, 2, 1, 1, 1, 2, 2, 1, 2, 1, 2, 1, 1, 1, 2, 1, 2, 1, 2, 2, 2, 1, 2, 2, 1, 2, 1, 2, 1, 2, 2, 1, 2, 2, 1, 2, 1, 1, 2, 1, 1, 2, 1, 2, 2, 1, 2, 1, 1, 2, 2, 1, 2, 1, 2, 1, 1, 2, 1, 1, 1, 2, 1, 2, 1, 2, 2, 1, 1, 2, 1, 1, 2, 2, 1, 2, 1, 1, 2, 1, 2, 1, 2, 2, 1, 2, 1, 2, 2, 2, 1, 1, 2, 1, 2, 1, 2, 1, 2, 2, 2, 1, 1, 2, 1, 2, 1, 1, 2, 1, 2, 1, 2, 1, 1, 2, 1, 2, 2, 1, 2, 2], \"Freq\": [0.7814539978968834, 0.7814141574431734, 0.7814281337090313, 0.7953471994984028, 0.48511124559887703, 0.48511124559887703, 0.2643603957771464, 0.7930811873314391, 0.7814767186581532, 1.059497885333178, 0.7825847839682225, 0.19564619599205563, 1.0429145293043016, 0.7824995569642011, 0.1956248892410503, 0.2267625380919101, 0.6802876142757303, 1.0429119282493329, 0.4514698880722016, 0.6019598507629355, 1.059492620281722, 1.0594888946369003, 1.0594848182690542, 1.0594664518557462, 0.7848565280932437, 0.39242826404662184, 0.524696021306818, 0.4197568170454544, 1.042907917065146, 0.7953975085945262, 1.0429074208520341, 0.7814550491944651, 0.4519980347422341, 0.6779970521133512, 1.0594825879992644, 0.7836975975729975, 0.2612325325243325, 1.0429148907537105, 1.059468858782815, 0.9372118493385108, 0.9371737039617618, 0.2643374145260195, 0.7930122435780586, 0.3168542231360019, 0.6337084462720038, 0.3512940515144679, 0.5269410772717019, 0.7954156882631924, 0.9550559762728931, 0.5903975355007526, 0.3935983570005017, 0.9550622690606843, 0.45203556043369547, 0.6780533406505432, 0.7814370166751163, 0.9550601884657116, 0.8949368814278372, 0.2237342203569593, 0.7954050521860323, 0.7814146170190671, 1.0594660663164348, 1.059495073622524, 0.39477534085716354, 0.5921630112857453, 0.9754138952654385, 0.4520078949930311, 0.6780118424895467, 0.781424223561338, 0.937183498907026, 0.7954086303178941, 0.7825619399587919, 0.19564048498969797, 1.0594952490005032, 0.7836082918145436, 0.2612027639381812, 1.0429011260432102, 0.7837489829425168, 0.26124966098083896, 1.0594948764412735, 0.8949412308128014, 0.22373530770320035, 0.6988883844109016, 0.3494441922054508, 0.7814560059314933, 0.6299219678517242, 0.4724414758887931, 0.93721917031293, 0.7814379859882367, 0.395374384983078, 0.6325990159729248, 0.45199763209559246, 0.6779964481433887, 0.7814350723372976, 1.0594911102432372, 0.9550524528481019, 1.0408787773868247, 0.5903909963915696, 0.39359399759437974, 1.0429035793648234, 0.19854555731984597, 0.7941822292793839, 1.0594708703770708, 0.6728699761719746, 0.3364349880859873, 1.0429018296564863, 0.7848740990351495, 0.39243704951757474, 0.41542362882813544, 0.5815930803593896, 0.39473578641412943, 0.5921036796211941, 1.0594795117107538, 0.698933529653055, 0.3494667648265275, 0.6733449188644675, 0.44889661257631164, 0.7953607687455484, 0.9550371593740088, 0.7814615873129407, 0.7135749347343534, 0.28542997389374136, 0.2643490915105388, 0.7930472745316165, 0.2643462027520875, 0.7930386082562625, 0.4735738124426172, 0.4735738124426172, 1.059491649118624, 1.059484292401397, 0.7814556658769675, 0.737823890923398, 0.27668395909627425, 0.4520277729870877, 0.6780416594806316, 1.0429011828069772, 0.5721184344828391, 0.42908882586212926, 0.7825782374081623, 0.1956445593520406, 0.4519959683352001, 0.6779939525028001, 0.7814204990319781, 0.7837167685073058, 0.2612389228357686, 0.5903553403639428, 0.39357022690929516, 0.7954000754180803, 0.7814298091698366, 0.7961886510364504, 1.0594793916653027], \"Term\": [\"actually\", \"again\", \"age\", \"alcohol\", \"amp\", \"amp\", \"animal\", \"animal\", \"autistic\", \"away\", \"bad\", \"bad\", \"bloody\", \"call\", \"call\", \"can\", \"can\", \"change\", \"child\", \"child\", \"choose\", \"chronic\", \"church\", \"citizen\", \"co\", \"co\", \"com\", \"com\", \"comment\", \"continue\", \"course\", \"crime\", \"day\", \"day\", \"deal\", \"dog\", \"dog\", \"don\", \"elderly\", \"even\", \"experience\", \"face\", \"face\", \"family\", \"family\", \"feel\", \"feel\", \"financier\", \"find\", \"get\", \"get\", \"girl\", \"go\", \"go\", \"good\", \"guilty\", \"hate\", \"hate\", \"hero\", \"how\", \"innocent\", \"instead\", \"just\", \"just\", \"know\", \"live\", \"live\", \"look\", \"lot\", \"lure\", \"make\", \"make\", \"mask\", \"matter\", \"matter\", \"meagrebone\", \"most\", \"most\", \"name\", \"need\", \"need\", \"now\", \"now\", \"online\", \"other\", \"other\", \"own\", \"pedo\", \"people\", \"people\", \"poor\", \"poor\", \"power\", \"product\", \"protect\", \"public\", \"re\", \"re\", \"really\", \"right\", \"right\", \"risk\", \"say\", \"say\", \"screenshot\", \"see\", \"see\", \"sexual\", \"sexual\", \"should\", \"should\", \"silence\", \"so\", \"so\", \"status\", \"status\", \"suffer\", \"support\", \"sure\", \"survivor\", \"survivor\", \"take\", \"take\", \"thank\", \"thank\", \"time\", \"time\", \"today\", \"too\", \"torture\", \"twitter\", \"twitter\", \"use\", \"use\", \"verbal\", \"want\", \"want\", \"way\", \"way\", \"well\", \"well\", \"why\", \"will\", \"will\", \"woman\", \"woman\", \"work\", \"worker\", \"year\", \"yesterday\"]}, \"R\": 30, \"lambda.step\": 0.01, \"plot.opts\": {\"xlab\": \"PC1\", \"ylab\": \"PC2\"}, \"topic.order\": [2, 1]};\n",
              "\n",
              "function LDAvis_load_lib(url, callback){\n",
              "  var s = document.createElement('script');\n",
              "  s.src = url;\n",
              "  s.async = true;\n",
              "  s.onreadystatechange = s.onload = callback;\n",
              "  s.onerror = function(){console.warn(\"failed to load library \" + url);};\n",
              "  document.getElementsByTagName(\"head\")[0].appendChild(s);\n",
              "}\n",
              "\n",
              "if(typeof(LDAvis) !== \"undefined\"){\n",
              "   // already loaded: just create the visualization\n",
              "   !function(LDAvis){\n",
              "       new LDAvis(\"#\" + \"ldavis_el2411402231548848166426287299\", ldavis_el2411402231548848166426287299_data);\n",
              "   }(LDAvis);\n",
              "}else if(typeof define === \"function\" && define.amd){\n",
              "   // require.js is available: use it to load d3/LDAvis\n",
              "   require.config({paths: {d3: \"https://d3js.org/d3.v5\"}});\n",
              "   require([\"d3\"], function(d3){\n",
              "      window.d3 = d3;\n",
              "      LDAvis_load_lib(\"https://cdn.jsdelivr.net/gh/bmabey/pyLDAvis@3.3.1/pyLDAvis/js/ldavis.v3.0.0.js\", function(){\n",
              "        new LDAvis(\"#\" + \"ldavis_el2411402231548848166426287299\", ldavis_el2411402231548848166426287299_data);\n",
              "      });\n",
              "    });\n",
              "}else{\n",
              "    // require.js not available: dynamically load d3 & LDAvis\n",
              "    LDAvis_load_lib(\"https://d3js.org/d3.v5.js\", function(){\n",
              "         LDAvis_load_lib(\"https://cdn.jsdelivr.net/gh/bmabey/pyLDAvis@3.3.1/pyLDAvis/js/ldavis.v3.0.0.js\", function(){\n",
              "                 new LDAvis(\"#\" + \"ldavis_el2411402231548848166426287299\", ldavis_el2411402231548848166426287299_data);\n",
              "            })\n",
              "         });\n",
              "}\n",
              "</script>"
            ],
            "text/plain": [
              "PreparedData(topic_coordinates=              x         y  topics  cluster       Freq\n",
              "topic                                                \n",
              "1     -0.003477 -0.061358       1        1  51.719812\n",
              "0      0.003477  0.061358       2        1  48.280188, topic_info=       Term      Freq     Total Category  logprob  loglift\n",
              "333    know  5.000000  5.000000  Default  30.0000  30.0000\n",
              "141    year  3.000000  3.000000  Default  29.0000  29.0000\n",
              "189  public  3.000000  3.000000  Default  28.0000  28.0000\n",
              "144    girl  3.000000  3.000000  Default  27.0000  27.0000\n",
              "145  guilty  3.000000  3.000000  Default  26.0000  26.0000\n",
              "..      ...       ...       ...      ...      ...      ...\n",
              "115    just  2.827910  5.066173   Topic2  -5.5848   0.1451\n",
              "246  should  2.806783  5.066680   Topic2  -5.5923   0.1375\n",
              "21    other  2.814949  6.349993   Topic2  -5.5893  -0.0854\n",
              "119    want  2.822764  6.991559   Topic2  -5.5866  -0.1788\n",
              "44      say  2.814233  8.917027   Topic2  -5.5896  -0.4251\n",
              "\n",
              "[144 rows x 6 columns], token_table=      Topic      Freq       Term\n",
              "term                            \n",
              "9         1  0.781454   actually\n",
              "578       1  0.781414      again\n",
              "681       1  0.781428        age\n",
              "50        2  0.795347    alcohol\n",
              "51        1  0.485111        amp\n",
              "...     ...       ...        ...\n",
              "361       2  0.393570      woman\n",
              "499       2  0.795400       work\n",
              "256       1  0.781430     worker\n",
              "141       2  0.796189       year\n",
              "171       2  1.059479  yesterday\n",
              "\n",
              "[150 rows x 3 columns], R=30, lambda_step=0.01, plot_opts={'xlab': 'PC1', 'ylab': 'PC2'}, topic_order=[2, 1])"
            ]
          },
          "metadata": {},
          "execution_count": 37
        }
      ]
    },
    {
      "cell_type": "code",
      "source": [
        "# Creating a lookup table for topics\n",
        "topic_data = pd.DataFrame((ldamodel2.print_topics()),columns=['TopicNumber','TopKeywords'])\n",
        "topic_data['TopicName'] = ['child amp', 'survival'] #enter selected topics names here\n",
        "topic_data = topic_data[['TopicNumber','TopicName','TopKeywords']]\n",
        "topic_data['TopKeywords'] = topic_data.TopKeywords.str.replace(r'[^a-z]',' ',regex=True).apply(lambda x: x.split())\n",
        "topic_data.style.set_properties(subset=['TopKeywords'], **{'width': '300px'}) #space between columns"
      ],
      "metadata": {
        "colab": {
          "base_uri": "https://localhost:8080/",
          "height": 147
        },
        "id": "uvoP0kvZPj8o",
        "outputId": "73bc9b68-ff52-4284-86d5-cf2ca9c44bef"
      },
      "execution_count": null,
      "outputs": [
        {
          "output_type": "execute_result",
          "data": {
            "text/html": [
              "<style type=\"text/css\">\n",
              "#T_2f010_row0_col2, #T_2f010_row1_col2 {\n",
              "  width: 300px;\n",
              "}\n",
              "</style>\n",
              "<table id=\"T_2f010_\" class=\"dataframe\">\n",
              "  <thead>\n",
              "    <tr>\n",
              "      <th class=\"blank level0\" >&nbsp;</th>\n",
              "      <th class=\"col_heading level0 col0\" >TopicNumber</th>\n",
              "      <th class=\"col_heading level0 col1\" >TopicName</th>\n",
              "      <th class=\"col_heading level0 col2\" >TopKeywords</th>\n",
              "    </tr>\n",
              "  </thead>\n",
              "  <tbody>\n",
              "    <tr>\n",
              "      <th id=\"T_2f010_level0_row0\" class=\"row_heading level0 row0\" >0</th>\n",
              "      <td id=\"T_2f010_row0_col0\" class=\"data row0 col0\" >0</td>\n",
              "      <td id=\"T_2f010_row0_col1\" class=\"data row0 col1\" >child amp</td>\n",
              "      <td id=\"T_2f010_row0_col2\" class=\"data row0 col2\" >['people', 'child', 'sexual', 'right', 'amp', 'com', 'time', 'year', 'feel', 'can']</td>\n",
              "    </tr>\n",
              "    <tr>\n",
              "      <th id=\"T_2f010_level0_row1\" class=\"row_heading level0 row1\" >1</th>\n",
              "      <td id=\"T_2f010_row1_col0\" class=\"data row1 col0\" >1</td>\n",
              "      <td id=\"T_2f010_row1_col1\" class=\"data row1 col1\" >survival</td>\n",
              "      <td id=\"T_2f010_row1_col2\" class=\"data row1 col2\" >['twitter', 'say', 'child', 'com', 'sexual', 'survivor', 'know', 'people', 'amp', 'call']</td>\n",
              "    </tr>\n",
              "  </tbody>\n",
              "</table>\n"
            ],
            "text/plain": [
              "<pandas.io.formats.style.Styler at 0x7f883f3fa6d0>"
            ]
          },
          "metadata": {},
          "execution_count": 39
        }
      ]
    },
    {
      "cell_type": "code",
      "source": [
        "df.isnull().sum()"
      ],
      "metadata": {
        "id": "H0FC6lVXeg8n",
        "colab": {
          "base_uri": "https://localhost:8080/"
        },
        "outputId": "52eb9ade-06fb-47db-ddbd-bbe8ff29dc84"
      },
      "execution_count": null,
      "outputs": [
        {
          "output_type": "execute_result",
          "data": {
            "text/plain": [
              "url                  0\n",
              "date                 0\n",
              "content              0\n",
              "renderedContent      0\n",
              "user                 0\n",
              "replyCount           0\n",
              "retweetCount         0\n",
              "likeCount            0\n",
              "quoteCount           0\n",
              "lang                 0\n",
              "outlinks            76\n",
              "tcooutlinks         76\n",
              "media               93\n",
              "retweetedTweet     100\n",
              "quotedTweet         85\n",
              "coordinates          0\n",
              "place                0\n",
              "cleaned_text         0\n",
              "cleaned_text1        0\n",
              "cleaned_text2        0\n",
              "LabelFromVADER       0\n",
              "dtype: int64"
            ]
          },
          "metadata": {},
          "execution_count": 40
        }
      ]
    },
    {
      "cell_type": "code",
      "source": [
        "#Creating new columns and inserting topic numbers and names\n",
        "for y,sent in enumerate(ldamodel2[corpus]):\n",
        "  topic_num =[]\n",
        "  topic_details = sorted(sent,key=lambda x: x[1], reverse=True)[:2] # Getting top 2 topics in descending order\n",
        "  topic_num.append(topic_details[0][0]) # Appending top topic\n",
        "  if len(topic_details) > 1:\n",
        "    if topic_details[1][1] > 0.35: # Appending second topic only if it has more than 35% influence on current row\n",
        "      topic_num.append(topic_details[1][0])\n",
        "  df.loc[y,'TopicNumber'] = ','.join(str(x) for x in sorted(topic_num))"
      ],
      "metadata": {
        "id": "Ah24lwnKeg-6"
      },
      "execution_count": null,
      "outputs": []
    },
    {
      "cell_type": "code",
      "source": [
        "#df.dropna(inplace = True)"
      ],
      "metadata": {
        "id": "LaMuWFyzehBA"
      },
      "execution_count": null,
      "outputs": []
    },
    {
      "cell_type": "code",
      "source": [
        "for index,topic_num in enumerate(df.TopicNumber):\n",
        "  topic_name_list=[]\n",
        "  for single_topic_num in (topic_num).split(','):\n",
        "    single_topic_num=int(single_topic_num)\n",
        "    topic_name_list.append(topic_data.loc[topic_data.TopicNumber == single_topic_num,'TopicName'][single_topic_num])\n",
        "  # Extracting topic names from lookup table\n",
        "  df.loc[index,'TopicName'] =' & '.join(topic_name_list)"
      ],
      "metadata": {
        "id": "hu23oMvUehDX"
      },
      "execution_count": null,
      "outputs": []
    },
    {
      "cell_type": "code",
      "source": [
        "df.head()"
      ],
      "metadata": {
        "id": "G3tDwuhoehFQ",
        "colab": {
          "base_uri": "https://localhost:8080/",
          "height": 565
        },
        "outputId": "e324e921-862b-4e76-e487-422f638abde4"
      },
      "execution_count": null,
      "outputs": [
        {
          "output_type": "execute_result",
          "data": {
            "text/html": [
              "\n",
              "  <div id=\"df-e8c83f79-b904-4e75-bb26-5d10654e9c73\">\n",
              "    <div class=\"colab-df-container\">\n",
              "      <div>\n",
              "<style scoped>\n",
              "    .dataframe tbody tr th:only-of-type {\n",
              "        vertical-align: middle;\n",
              "    }\n",
              "\n",
              "    .dataframe tbody tr th {\n",
              "        vertical-align: top;\n",
              "    }\n",
              "\n",
              "    .dataframe thead th {\n",
              "        text-align: right;\n",
              "    }\n",
              "</style>\n",
              "<table border=\"1\" class=\"dataframe\">\n",
              "  <thead>\n",
              "    <tr style=\"text-align: right;\">\n",
              "      <th></th>\n",
              "      <th>url</th>\n",
              "      <th>date</th>\n",
              "      <th>content</th>\n",
              "      <th>renderedContent</th>\n",
              "      <th>user</th>\n",
              "      <th>replyCount</th>\n",
              "      <th>retweetCount</th>\n",
              "      <th>likeCount</th>\n",
              "      <th>quoteCount</th>\n",
              "      <th>lang</th>\n",
              "      <th>outlinks</th>\n",
              "      <th>tcooutlinks</th>\n",
              "      <th>media</th>\n",
              "      <th>retweetedTweet</th>\n",
              "      <th>quotedTweet</th>\n",
              "      <th>coordinates</th>\n",
              "      <th>place</th>\n",
              "      <th>cleaned_text</th>\n",
              "      <th>cleaned_text1</th>\n",
              "      <th>cleaned_text2</th>\n",
              "      <th>LabelFromVADER</th>\n",
              "      <th>TopicNumber</th>\n",
              "      <th>TopicName</th>\n",
              "    </tr>\n",
              "  </thead>\n",
              "  <tbody>\n",
              "    <tr>\n",
              "      <th>0</th>\n",
              "      <td>https://twitter.com/martyps/status/14766877858...</td>\n",
              "      <td>2021-12-30 22:52:58+00:00</td>\n",
              "      <td>@TrakkyD @NSWHealth abuse was hurled at scient...</td>\n",
              "      <td>@TrakkyD @NSWHealth abuse was hurled at scient...</td>\n",
              "      <td>{'username': 'martyps', 'id': 17335098, 'displ...</td>\n",
              "      <td>0</td>\n",
              "      <td>0</td>\n",
              "      <td>0</td>\n",
              "      <td>0</td>\n",
              "      <td>en</td>\n",
              "      <td>NaN</td>\n",
              "      <td>NaN</td>\n",
              "      <td>NaN</td>\n",
              "      <td>NaN</td>\n",
              "      <td>NaN</td>\n",
              "      <td>{'longitude': 150.520928608, 'latitude': -34.1...</td>\n",
              "      <td>{'fullName': 'Sydney, New South Wales', 'name'...</td>\n",
              "      <td>trakkyd nswhealth abuse was hurled at scienti...</td>\n",
              "      <td>trakkyd abuse hurl scientist much more knowled...</td>\n",
              "      <td>[trakkyd, abuse, hurl, scientist, much, more, ...</td>\n",
              "      <td>neg</td>\n",
              "      <td>0</td>\n",
              "      <td>child amp</td>\n",
              "    </tr>\n",
              "    <tr>\n",
              "      <th>1</th>\n",
              "      <td>https://twitter.com/AlliC19/status/14766814294...</td>\n",
              "      <td>2021-12-30 22:27:42+00:00</td>\n",
              "      <td>@crakeka1 It is interesting as many attack oth...</td>\n",
              "      <td>@crakeka1 It is interesting as many attack oth...</td>\n",
              "      <td>{'username': 'AlliC19', 'id': 1903049988, 'dis...</td>\n",
              "      <td>1</td>\n",
              "      <td>0</td>\n",
              "      <td>1</td>\n",
              "      <td>0</td>\n",
              "      <td>en</td>\n",
              "      <td>NaN</td>\n",
              "      <td>NaN</td>\n",
              "      <td>NaN</td>\n",
              "      <td>NaN</td>\n",
              "      <td>NaN</td>\n",
              "      <td>{'longitude': 144.593741856, 'latitude': -38.4...</td>\n",
              "      <td>{'fullName': 'Melbourne, Victoria', 'name': 'M...</td>\n",
              "      <td>crakeka1 it is interesting as many attack oth...</td>\n",
              "      <td>crakeka1 interesting many attack other politic...</td>\n",
              "      <td>[crakeka, interesting, many, attack, other, po...</td>\n",
              "      <td>neg</td>\n",
              "      <td>1</td>\n",
              "      <td>survival</td>\n",
              "    </tr>\n",
              "    <tr>\n",
              "      <th>2</th>\n",
              "      <td>https://twitter.com/mikjcal/status/14766793839...</td>\n",
              "      <td>2021-12-30 22:19:35+00:00</td>\n",
              "      <td>@chadfelixg No wonder LGBTQ would feel mentall...</td>\n",
              "      <td>@chadfelixg No wonder LGBTQ would feel mentall...</td>\n",
              "      <td>{'username': 'mikjcal', 'id': 8096509038001561...</td>\n",
              "      <td>0</td>\n",
              "      <td>0</td>\n",
              "      <td>1</td>\n",
              "      <td>0</td>\n",
              "      <td>en</td>\n",
              "      <td>NaN</td>\n",
              "      <td>NaN</td>\n",
              "      <td>NaN</td>\n",
              "      <td>NaN</td>\n",
              "      <td>NaN</td>\n",
              "      <td>{'longitude': 144.593741856, 'latitude': -38.4...</td>\n",
              "      <td>{'fullName': 'Melbourne, Victoria', 'name': 'M...</td>\n",
              "      <td>chadfelixg no wonder lgbtq would feel mentall...</td>\n",
              "      <td>wonder would feel mentally fuke when re hate w...</td>\n",
              "      <td>[wonder, would, feel, mentally, fuke, when, re...</td>\n",
              "      <td>neg</td>\n",
              "      <td>1</td>\n",
              "      <td>survival</td>\n",
              "    </tr>\n",
              "    <tr>\n",
              "      <th>3</th>\n",
              "      <td>https://twitter.com/AweCentiQue/status/1476483...</td>\n",
              "      <td>2021-12-30 09:20:47+00:00</td>\n",
              "      <td>@thesayno7 @Anne_Ruston @JElliotMP @JulianHill...</td>\n",
              "      <td>@thesayno7 @Anne_Ruston @JElliotMP @JulianHill...</td>\n",
              "      <td>{'username': 'AweCentiQue', 'id': 140039824775...</td>\n",
              "      <td>0</td>\n",
              "      <td>1</td>\n",
              "      <td>1</td>\n",
              "      <td>0</td>\n",
              "      <td>en</td>\n",
              "      <td>NaN</td>\n",
              "      <td>NaN</td>\n",
              "      <td>NaN</td>\n",
              "      <td>NaN</td>\n",
              "      <td>NaN</td>\n",
              "      <td>{'longitude': 152.668522848, 'latitude': -27.7...</td>\n",
              "      <td>{'fullName': 'Brisbane, Queensland', 'name': '...</td>\n",
              "      <td>thesayno7 anne ruston jelliotmp julianhillmp ...</td>\n",
              "      <td>thesayno7 immoral act claim sexual assault inf...</td>\n",
              "      <td>[thesayno, immoral, act, claim, sexual, assaul...</td>\n",
              "      <td>neg</td>\n",
              "      <td>0</td>\n",
              "      <td>child amp</td>\n",
              "    </tr>\n",
              "    <tr>\n",
              "      <th>4</th>\n",
              "      <td>https://twitter.com/Kuvlotik/status/1476424899...</td>\n",
              "      <td>2021-12-30 05:28:21+00:00</td>\n",
              "      <td>@marie19705 @ScottMorrisonMP 2/\\ndivides inste...</td>\n",
              "      <td>@marie19705 @ScottMorrisonMP 2/\\ndivides inste...</td>\n",
              "      <td>{'username': 'Kuvlotik', 'id': 93730228, 'disp...</td>\n",
              "      <td>1</td>\n",
              "      <td>0</td>\n",
              "      <td>1</td>\n",
              "      <td>0</td>\n",
              "      <td>en</td>\n",
              "      <td>NaN</td>\n",
              "      <td>NaN</td>\n",
              "      <td>NaN</td>\n",
              "      <td>NaN</td>\n",
              "      <td>NaN</td>\n",
              "      <td>{'longitude': 151.468376, 'latitude': -30.6589...</td>\n",
              "      <td>{'fullName': 'Uralla, New South Wales', 'name'...</td>\n",
              "      <td>marie19705 scottmorrisonmp 2 divides instead ...</td>\n",
              "      <td>scottmorrisonmp divide instead unify go missin...</td>\n",
              "      <td>[scottmorrisonmp, divide, instead, unify, go, ...</td>\n",
              "      <td>neg</td>\n",
              "      <td>0</td>\n",
              "      <td>child amp</td>\n",
              "    </tr>\n",
              "  </tbody>\n",
              "</table>\n",
              "</div>\n",
              "      <button class=\"colab-df-convert\" onclick=\"convertToInteractive('df-e8c83f79-b904-4e75-bb26-5d10654e9c73')\"\n",
              "              title=\"Convert this dataframe to an interactive table.\"\n",
              "              style=\"display:none;\">\n",
              "        \n",
              "  <svg xmlns=\"http://www.w3.org/2000/svg\" height=\"24px\"viewBox=\"0 0 24 24\"\n",
              "       width=\"24px\">\n",
              "    <path d=\"M0 0h24v24H0V0z\" fill=\"none\"/>\n",
              "    <path d=\"M18.56 5.44l.94 2.06.94-2.06 2.06-.94-2.06-.94-.94-2.06-.94 2.06-2.06.94zm-11 1L8.5 8.5l.94-2.06 2.06-.94-2.06-.94L8.5 2.5l-.94 2.06-2.06.94zm10 10l.94 2.06.94-2.06 2.06-.94-2.06-.94-.94-2.06-.94 2.06-2.06.94z\"/><path d=\"M17.41 7.96l-1.37-1.37c-.4-.4-.92-.59-1.43-.59-.52 0-1.04.2-1.43.59L10.3 9.45l-7.72 7.72c-.78.78-.78 2.05 0 2.83L4 21.41c.39.39.9.59 1.41.59.51 0 1.02-.2 1.41-.59l7.78-7.78 2.81-2.81c.8-.78.8-2.07 0-2.86zM5.41 20L4 18.59l7.72-7.72 1.47 1.35L5.41 20z\"/>\n",
              "  </svg>\n",
              "      </button>\n",
              "      \n",
              "  <style>\n",
              "    .colab-df-container {\n",
              "      display:flex;\n",
              "      flex-wrap:wrap;\n",
              "      gap: 12px;\n",
              "    }\n",
              "\n",
              "    .colab-df-convert {\n",
              "      background-color: #E8F0FE;\n",
              "      border: none;\n",
              "      border-radius: 50%;\n",
              "      cursor: pointer;\n",
              "      display: none;\n",
              "      fill: #1967D2;\n",
              "      height: 32px;\n",
              "      padding: 0 0 0 0;\n",
              "      width: 32px;\n",
              "    }\n",
              "\n",
              "    .colab-df-convert:hover {\n",
              "      background-color: #E2EBFA;\n",
              "      box-shadow: 0px 1px 2px rgba(60, 64, 67, 0.3), 0px 1px 3px 1px rgba(60, 64, 67, 0.15);\n",
              "      fill: #174EA6;\n",
              "    }\n",
              "\n",
              "    [theme=dark] .colab-df-convert {\n",
              "      background-color: #3B4455;\n",
              "      fill: #D2E3FC;\n",
              "    }\n",
              "\n",
              "    [theme=dark] .colab-df-convert:hover {\n",
              "      background-color: #434B5C;\n",
              "      box-shadow: 0px 1px 3px 1px rgba(0, 0, 0, 0.15);\n",
              "      filter: drop-shadow(0px 1px 2px rgba(0, 0, 0, 0.3));\n",
              "      fill: #FFFFFF;\n",
              "    }\n",
              "  </style>\n",
              "\n",
              "      <script>\n",
              "        const buttonEl =\n",
              "          document.querySelector('#df-e8c83f79-b904-4e75-bb26-5d10654e9c73 button.colab-df-convert');\n",
              "        buttonEl.style.display =\n",
              "          google.colab.kernel.accessAllowed ? 'block' : 'none';\n",
              "\n",
              "        async function convertToInteractive(key) {\n",
              "          const element = document.querySelector('#df-e8c83f79-b904-4e75-bb26-5d10654e9c73');\n",
              "          const dataTable =\n",
              "            await google.colab.kernel.invokeFunction('convertToInteractive',\n",
              "                                                     [key], {});\n",
              "          if (!dataTable) return;\n",
              "\n",
              "          const docLinkHtml = 'Like what you see? Visit the ' +\n",
              "            '<a target=\"_blank\" href=https://colab.research.google.com/notebooks/data_table.ipynb>data table notebook</a>'\n",
              "            + ' to learn more about interactive tables.';\n",
              "          element.innerHTML = '';\n",
              "          dataTable['output_type'] = 'display_data';\n",
              "          await google.colab.output.renderOutput(dataTable, element);\n",
              "          const docLink = document.createElement('div');\n",
              "          docLink.innerHTML = docLinkHtml;\n",
              "          element.appendChild(docLink);\n",
              "        }\n",
              "      </script>\n",
              "    </div>\n",
              "  </div>\n",
              "  "
            ],
            "text/plain": [
              "                                                 url  ...  TopicName\n",
              "0  https://twitter.com/martyps/status/14766877858...  ...  child amp\n",
              "1  https://twitter.com/AlliC19/status/14766814294...  ...   survival\n",
              "2  https://twitter.com/mikjcal/status/14766793839...  ...   survival\n",
              "3  https://twitter.com/AweCentiQue/status/1476483...  ...  child amp\n",
              "4  https://twitter.com/Kuvlotik/status/1476424899...  ...  child amp\n",
              "\n",
              "[5 rows x 23 columns]"
            ]
          },
          "metadata": {},
          "execution_count": 44
        }
      ]
    },
    {
      "cell_type": "code",
      "source": [
        "#df.dropna(inplace = True)\n"
      ],
      "metadata": {
        "id": "x267LG9jehHR"
      },
      "execution_count": null,
      "outputs": []
    },
    {
      "cell_type": "code",
      "source": [
        "range(df.shape[0])"
      ],
      "metadata": {
        "id": "CyGoElTpemgY",
        "colab": {
          "base_uri": "https://localhost:8080/"
        },
        "outputId": "3693dfcc-629e-4958-a191-844a41a475cc"
      },
      "execution_count": null,
      "outputs": [
        {
          "output_type": "execute_result",
          "data": {
            "text/plain": [
              "range(0, 100)"
            ]
          },
          "metadata": {},
          "execution_count": 47
        }
      ]
    },
    {
      "cell_type": "code",
      "source": [
        "df['label'] = df.TopicName.str.cat(df.LabelFromVADER, sep='_')"
      ],
      "metadata": {
        "id": "SDWdEH3hemjB"
      },
      "execution_count": null,
      "outputs": []
    },
    {
      "cell_type": "code",
      "source": [
        "df['label'] = df['label'].str.replace('information_data_neg', 'accident_event_neg')\n",
        "df['label'] = df['label'].str.replace('accident_event_data_neg', 'information_neg')"
      ],
      "metadata": {
        "id": "4Xs_AMqPemk7"
      },
      "execution_count": null,
      "outputs": []
    },
    {
      "cell_type": "code",
      "source": [
        "df.label.unique()"
      ],
      "metadata": {
        "id": "KQL3_R_cemnM",
        "colab": {
          "base_uri": "https://localhost:8080/"
        },
        "outputId": "fa1da384-6510-47c0-f308-b715c5ff0379"
      },
      "execution_count": null,
      "outputs": [
        {
          "output_type": "execute_result",
          "data": {
            "text/plain": [
              "array(['child amp_neg', 'survival_neg', 'child amp_pos'], dtype=object)"
            ]
          },
          "metadata": {},
          "execution_count": 50
        }
      ]
    },
    {
      "cell_type": "code",
      "source": [
        "for i in df[df.label == 'accident_event_data & information_data_pos']['renderedContent'][:20]:\n",
        "  print(i)\n",
        "  print()"
      ],
      "metadata": {
        "id": "aXuXSrVlPj-y"
      },
      "execution_count": null,
      "outputs": []
    },
    {
      "cell_type": "code",
      "source": [
        "df.to_csv('Tweets_with_Labels.csv')"
      ],
      "metadata": {
        "id": "LIK4-SXoewMQ"
      },
      "execution_count": null,
      "outputs": []
    },
    {
      "cell_type": "code",
      "source": [],
      "metadata": {
        "id": "rYPGRYAxewOc"
      },
      "execution_count": null,
      "outputs": []
    },
    {
      "cell_type": "code",
      "source": [],
      "metadata": {
        "id": "RdW9_C3IewQR"
      },
      "execution_count": null,
      "outputs": []
    },
    {
      "cell_type": "code",
      "source": [],
      "metadata": {
        "id": "T2mfI7fjewSm"
      },
      "execution_count": null,
      "outputs": []
    }
  ]
}