{
  "nbformat": 4,
  "nbformat_minor": 0,
  "metadata": {
    "colab": {
      "provenance": [],
      "include_colab_link": true
    },
    "kernelspec": {
      "name": "python3",
      "display_name": "Python 3"
    },
    "language_info": {
      "name": "python"
    }
  },
  "cells": [
    {
      "cell_type": "markdown",
      "metadata": {
        "id": "view-in-github",
        "colab_type": "text"
      },
      "source": [
        "<a href=\"https://colab.research.google.com/github/Hjhirp/Tweet-Topic-Modelling/blob/main/Notebook/Tweet_topic_modelling.ipynb\" target=\"_parent\"><img src=\"https://colab.research.google.com/assets/colab-badge.svg\" alt=\"Open In Colab\"/></a>"
      ]
    },
    {
      "cell_type": "markdown",
      "source": [
        "## **Loading Required Libraries**"
      ],
      "metadata": {
        "id": "NYUPS1iARDtn"
      }
    },
    {
      "cell_type": "code",
      "source": [
        "!pip install pyspellchecker"
      ],
      "metadata": {
        "id": "bQ8gMDL-4EaO",
        "colab": {
          "base_uri": "https://localhost:8080/"
        },
        "outputId": "43db32d4-b5f4-4458-83ca-463b3deb1a2e"
      },
      "execution_count": null,
      "outputs": [
        {
          "output_type": "stream",
          "name": "stdout",
          "text": [
            "Collecting pyspellchecker\n",
            "  Downloading pyspellchecker-0.6.2-py3-none-any.whl (2.7 MB)\n",
            "\u001b[K     |████████████████████████████████| 2.7 MB 5.2 MB/s \n",
            "\u001b[?25hInstalling collected packages: pyspellchecker\n",
            "Successfully installed pyspellchecker-0.6.2\n"
          ]
        }
      ]
    },
    {
      "cell_type": "code",
      "source": [
        "!pip install pyLDAvis"
      ],
      "metadata": {
        "id": "n5dQiDbE1kMB",
        "colab": {
          "base_uri": "https://localhost:8080/",
          "height": 971
        },
        "outputId": "a1e346f4-443a-402a-b35a-2ba438909b4c"
      },
      "execution_count": null,
      "outputs": [
        {
          "output_type": "stream",
          "name": "stdout",
          "text": [
            "Collecting pyLDAvis\n",
            "  Downloading pyLDAvis-3.3.1.tar.gz (1.7 MB)\n",
            "\u001b[K     |████████████████████████████████| 1.7 MB 5.2 MB/s \n",
            "\u001b[?25h  Installing build dependencies ... \u001b[?25l\u001b[?25hdone\n",
            "  Getting requirements to build wheel ... \u001b[?25l\u001b[?25hdone\n",
            "  Installing backend dependencies ... \u001b[?25l\u001b[?25hdone\n",
            "    Preparing wheel metadata ... \u001b[?25l\u001b[?25hdone\n",
            "Requirement already satisfied: setuptools in /usr/local/lib/python3.7/dist-packages (from pyLDAvis) (57.4.0)\n",
            "Requirement already satisfied: scikit-learn in /usr/local/lib/python3.7/dist-packages (from pyLDAvis) (1.0.1)\n",
            "Requirement already satisfied: future in /usr/local/lib/python3.7/dist-packages (from pyLDAvis) (0.16.0)\n",
            "Requirement already satisfied: joblib in /usr/local/lib/python3.7/dist-packages (from pyLDAvis) (1.1.0)\n",
            "Collecting numpy>=1.20.0\n",
            "  Downloading numpy-1.21.5-cp37-cp37m-manylinux_2_12_x86_64.manylinux2010_x86_64.whl (15.7 MB)\n",
            "\u001b[K     |████████████████████████████████| 15.7 MB 48.5 MB/s \n",
            "\u001b[?25hRequirement already satisfied: sklearn in /usr/local/lib/python3.7/dist-packages (from pyLDAvis) (0.0)\n",
            "Requirement already satisfied: scipy in /usr/local/lib/python3.7/dist-packages (from pyLDAvis) (1.4.1)\n",
            "Requirement already satisfied: jinja2 in /usr/local/lib/python3.7/dist-packages (from pyLDAvis) (2.11.3)\n",
            "Collecting pandas>=1.2.0\n",
            "  Downloading pandas-1.3.5-cp37-cp37m-manylinux_2_17_x86_64.manylinux2014_x86_64.whl (11.3 MB)\n",
            "\u001b[K     |████████████████████████████████| 11.3 MB 46.4 MB/s \n",
            "\u001b[?25hRequirement already satisfied: gensim in /usr/local/lib/python3.7/dist-packages (from pyLDAvis) (3.6.0)\n",
            "Collecting funcy\n",
            "  Downloading funcy-1.17-py2.py3-none-any.whl (33 kB)\n",
            "Requirement already satisfied: numexpr in /usr/local/lib/python3.7/dist-packages (from pyLDAvis) (2.7.3)\n",
            "Requirement already satisfied: pytz>=2017.3 in /usr/local/lib/python3.7/dist-packages (from pandas>=1.2.0->pyLDAvis) (2018.9)\n",
            "Requirement already satisfied: python-dateutil>=2.7.3 in /usr/local/lib/python3.7/dist-packages (from pandas>=1.2.0->pyLDAvis) (2.8.2)\n",
            "Requirement already satisfied: six>=1.5 in /usr/local/lib/python3.7/dist-packages (from python-dateutil>=2.7.3->pandas>=1.2.0->pyLDAvis) (1.15.0)\n",
            "Requirement already satisfied: smart-open>=1.2.1 in /usr/local/lib/python3.7/dist-packages (from gensim->pyLDAvis) (5.2.1)\n",
            "Requirement already satisfied: MarkupSafe>=0.23 in /usr/local/lib/python3.7/dist-packages (from jinja2->pyLDAvis) (2.0.1)\n",
            "Requirement already satisfied: threadpoolctl>=2.0.0 in /usr/local/lib/python3.7/dist-packages (from scikit-learn->pyLDAvis) (3.0.0)\n",
            "Building wheels for collected packages: pyLDAvis\n",
            "  Building wheel for pyLDAvis (PEP 517) ... \u001b[?25l\u001b[?25hdone\n",
            "  Created wheel for pyLDAvis: filename=pyLDAvis-3.3.1-py2.py3-none-any.whl size=136897 sha256=e0677bd869d884fc9b6cb8143c5b85d6fbf5a85f619ce701e902e711441d545d\n",
            "  Stored in directory: /root/.cache/pip/wheels/c9/21/f6/17bcf2667e8a68532ba2fbf6d5c72fdf4c7f7d9abfa4852d2f\n",
            "Successfully built pyLDAvis\n",
            "Installing collected packages: numpy, pandas, funcy, pyLDAvis\n",
            "  Attempting uninstall: numpy\n",
            "    Found existing installation: numpy 1.19.5\n",
            "    Uninstalling numpy-1.19.5:\n",
            "      Successfully uninstalled numpy-1.19.5\n",
            "  Attempting uninstall: pandas\n",
            "    Found existing installation: pandas 1.1.5\n",
            "    Uninstalling pandas-1.1.5:\n",
            "      Successfully uninstalled pandas-1.1.5\n",
            "\u001b[31mERROR: pip's dependency resolver does not currently take into account all the packages that are installed. This behaviour is the source of the following dependency conflicts.\n",
            "yellowbrick 1.3.post1 requires numpy<1.20,>=1.16.0, but you have numpy 1.21.5 which is incompatible.\n",
            "google-colab 1.0.0 requires pandas~=1.1.0; python_version >= \"3.0\", but you have pandas 1.3.5 which is incompatible.\n",
            "datascience 0.10.6 requires folium==0.2.1, but you have folium 0.8.3 which is incompatible.\n",
            "albumentations 0.1.12 requires imgaug<0.2.7,>=0.2.5, but you have imgaug 0.2.9 which is incompatible.\u001b[0m\n",
            "Successfully installed funcy-1.17 numpy-1.21.5 pandas-1.3.5 pyLDAvis-3.3.1\n"
          ]
        },
        {
          "output_type": "display_data",
          "data": {
            "application/vnd.colab-display-data+json": {
              "pip_warning": {
                "packages": [
                  "numpy",
                  "pandas"
                ]
              }
            }
          },
          "metadata": {}
        }
      ]
    },
    {
      "cell_type": "code",
      "source": [
        "import pandas as pd\n",
        "import numpy as np\n",
        "import matplotlib.pyplot as plt\n",
        "import seaborn as sns\n",
        "\n",
        "import nltk\n",
        "from nltk.corpus import stopwords\n",
        "nltk.download('stopwords')\n",
        "\n",
        "from nltk.stem import WordNetLemmatizer\n",
        "\n",
        "from nltk.corpus import wordnet\n",
        "import string\n",
        "nltk.download('punkt')\n",
        "\n",
        "nltk.download('averaged_perceptron_tagger')\n",
        "nltk.download('wordnet')\n",
        "from spellchecker import SpellChecker\n",
        "\n",
        "#Visualizing the LDA model\n",
        "import pyLDAvis\n",
        "import pyLDAvis.sklearn\n",
        "pyLDAvis.enable_notebook()\n",
        "\n",
        "from sklearn.feature_extraction.text import TfidfVectorizer\n",
        "\n",
        "import gensim\n",
        "from gensim.corpora import Dictionary\n",
        "\n",
        "from IPython.display import clear_output\n",
        "\n",
        "import pyLDAvis.gensim_models as gensim_models\n",
        "from gensim.models.coherencemodel import CoherenceModel"
      ],
      "metadata": {
        "id": "rcUDd07h3GM5",
        "colab": {
          "base_uri": "https://localhost:8080/"
        },
        "outputId": "44916c28-2209-4cb2-9918-af69902254cf"
      },
      "execution_count": null,
      "outputs": [
        {
          "output_type": "stream",
          "name": "stdout",
          "text": [
            "[nltk_data] Downloading package stopwords to /root/nltk_data...\n",
            "[nltk_data]   Package stopwords is already up-to-date!\n",
            "[nltk_data] Downloading package punkt to /root/nltk_data...\n",
            "[nltk_data]   Package punkt is already up-to-date!\n",
            "[nltk_data] Downloading package averaged_perceptron_tagger to\n",
            "[nltk_data]     /root/nltk_data...\n",
            "[nltk_data]   Package averaged_perceptron_tagger is already up-to-\n",
            "[nltk_data]       date!\n",
            "[nltk_data] Downloading package wordnet to /root/nltk_data...\n",
            "[nltk_data]   Package wordnet is already up-to-date!\n"
          ]
        },
        {
          "output_type": "stream",
          "name": "stderr",
          "text": [
            "/usr/local/lib/python3.7/dist-packages/past/types/oldstr.py:5: DeprecationWarning: Using or importing the ABCs from 'collections' instead of from 'collections.abc' is deprecated since Python 3.3,and in 3.9 it will stop working\n",
            "  from collections import Iterable\n",
            "/usr/local/lib/python3.7/dist-packages/past/builtins/misc.py:4: DeprecationWarning: Using or importing the ABCs from 'collections' instead of from 'collections.abc' is deprecated since Python 3.3,and in 3.9 it will stop working\n",
            "  from collections import Mapping\n",
            "/usr/local/lib/python3.7/dist-packages/scipy/sparse/sparsetools.py:21: DeprecationWarning: `scipy.sparse.sparsetools` is deprecated!\n",
            "scipy.sparse.sparsetools is a private module for scipy.sparse, and should not be used.\n",
            "  _deprecated()\n"
          ]
        }
      ]
    },
    {
      "cell_type": "markdown",
      "source": [
        "## **Loading Data**"
      ],
      "metadata": {
        "id": "FzRDIN3yRI_3"
      }
    },
    {
      "cell_type": "code",
      "source": [
        "f1 = pd.read_csv(\"Reddit_HYD\")\n",
        "# df1 =\n",
        "print(f\"Shape of the Data: {f1.shape}\")\n",
        "f1.head()"
      ],
      "metadata": {
        "colab": {
          "base_uri": "https://localhost:8080/",
          "height": 276
        },
        "id": "uDAKqn1q3OVa",
        "outputId": "a8e432e6-2f4f-40b3-a68d-73b6eb29d7ca"
      },
      "execution_count": null,
      "outputs": [
        {
          "output_type": "error",
          "ename": "FileNotFoundError",
          "evalue": "ignored",
          "traceback": [
            "\u001b[0;31m---------------------------------------------------------------------------\u001b[0m",
            "\u001b[0;31mFileNotFoundError\u001b[0m                         Traceback (most recent call last)",
            "\u001b[0;32m<ipython-input-11-fa40f744472d>\u001b[0m in \u001b[0;36m<module>\u001b[0;34m()\u001b[0m\n\u001b[0;32m----> 1\u001b[0;31m \u001b[0mf1\u001b[0m \u001b[0;34m=\u001b[0m \u001b[0mpd\u001b[0m\u001b[0;34m.\u001b[0m\u001b[0mread_csv\u001b[0m\u001b[0;34m(\u001b[0m\u001b[0;34m\"Reddit_HYD\"\u001b[0m\u001b[0;34m)\u001b[0m\u001b[0;34m\u001b[0m\u001b[0;34m\u001b[0m\u001b[0m\n\u001b[0m\u001b[1;32m      2\u001b[0m \u001b[0;31m# df1 =\u001b[0m\u001b[0;34m\u001b[0m\u001b[0;34m\u001b[0m\u001b[0;34m\u001b[0m\u001b[0m\n\u001b[1;32m      3\u001b[0m \u001b[0mprint\u001b[0m\u001b[0;34m(\u001b[0m\u001b[0;34mf\"Shape of the Data: {f1.shape}\"\u001b[0m\u001b[0;34m)\u001b[0m\u001b[0;34m\u001b[0m\u001b[0;34m\u001b[0m\u001b[0m\n\u001b[1;32m      4\u001b[0m \u001b[0mf1\u001b[0m\u001b[0;34m.\u001b[0m\u001b[0mhead\u001b[0m\u001b[0;34m(\u001b[0m\u001b[0;34m)\u001b[0m\u001b[0;34m\u001b[0m\u001b[0;34m\u001b[0m\u001b[0m\n",
            "\u001b[0;32m/usr/local/lib/python3.7/dist-packages/pandas/io/parsers.py\u001b[0m in \u001b[0;36mread_csv\u001b[0;34m(filepath_or_buffer, sep, delimiter, header, names, index_col, usecols, squeeze, prefix, mangle_dupe_cols, dtype, engine, converters, true_values, false_values, skipinitialspace, skiprows, skipfooter, nrows, na_values, keep_default_na, na_filter, verbose, skip_blank_lines, parse_dates, infer_datetime_format, keep_date_col, date_parser, dayfirst, cache_dates, iterator, chunksize, compression, thousands, decimal, lineterminator, quotechar, quoting, doublequote, escapechar, comment, encoding, dialect, error_bad_lines, warn_bad_lines, delim_whitespace, low_memory, memory_map, float_precision)\u001b[0m\n",
            "\u001b[0;32m/usr/local/lib/python3.7/dist-packages/pandas/io/parsers.py\u001b[0m in \u001b[0;36m_read\u001b[0;34m(filepath_or_buffer, kwds)\u001b[0m\n",
            "\u001b[0;32m/usr/local/lib/python3.7/dist-packages/pandas/io/parsers.py\u001b[0m in \u001b[0;36m__init__\u001b[0;34m(self, f, engine, **kwds)\u001b[0m\n",
            "\u001b[0;32m/usr/local/lib/python3.7/dist-packages/pandas/io/parsers.py\u001b[0m in \u001b[0;36m_make_engine\u001b[0;34m(self, engine)\u001b[0m\n",
            "\u001b[0;32m/usr/local/lib/python3.7/dist-packages/pandas/io/parsers.py\u001b[0m in \u001b[0;36m__init__\u001b[0;34m(self, src, **kwds)\u001b[0m\n",
            "\u001b[0;32m/usr/local/lib/python3.7/dist-packages/pandas/_libs/parsers.pyx\u001b[0m in \u001b[0;36mpandas._libs.parsers.TextReader.__cinit__\u001b[0;34m()\u001b[0m\n",
            "\u001b[0;32m/usr/local/lib/python3.7/dist-packages/pandas/_libs/parsers.pyx\u001b[0m in \u001b[0;36mpandas._libs.parsers.TextReader._setup_parser_source\u001b[0;34m()\u001b[0m\n",
            "\u001b[0;31mFileNotFoundError\u001b[0m: [Errno 2] No such file or directory: 'Reddit_HYD'"
          ]
        }
      ]
    },
    {
      "cell_type": "code",
      "source": [
        "df = pd.concat((f1,f2, f3,f4), axis =0).drop('Unnamed: 0', axis =1)\n",
        "df.head()"
      ],
      "metadata": {
        "colab": {
          "base_uri": "https://localhost:8080/",
          "height": 206
        },
        "id": "9K9UaF6u-WYA",
        "outputId": "28a4bc66-6d1f-431b-e97c-f0940be4e8dc"
      },
      "execution_count": null,
      "outputs": [
        {
          "output_type": "execute_result",
          "data": {
            "text/html": [
              "\n",
              "  <div id=\"df-168674db-2b04-411a-ba6f-5a7157eeedb3\">\n",
              "    <div class=\"colab-df-container\">\n",
              "      <div>\n",
              "<style scoped>\n",
              "    .dataframe tbody tr th:only-of-type {\n",
              "        vertical-align: middle;\n",
              "    }\n",
              "\n",
              "    .dataframe tbody tr th {\n",
              "        vertical-align: top;\n",
              "    }\n",
              "\n",
              "    .dataframe thead th {\n",
              "        text-align: right;\n",
              "    }\n",
              "</style>\n",
              "<table border=\"1\" class=\"dataframe\">\n",
              "  <thead>\n",
              "    <tr style=\"text-align: right;\">\n",
              "      <th></th>\n",
              "      <th>Datetime</th>\n",
              "      <th>Tweet Id</th>\n",
              "      <th>Text</th>\n",
              "      <th>Username</th>\n",
              "    </tr>\n",
              "  </thead>\n",
              "  <tbody>\n",
              "    <tr>\n",
              "      <th>0</th>\n",
              "      <td>2021-05-24 09:35:23+00:00</td>\n",
              "      <td>1396761739748732932</td>\n",
              "      <td>#Hyderabad needs lot over #footbridge (#pedest...</td>\n",
              "      <td>rg_pavan</td>\n",
              "    </tr>\n",
              "    <tr>\n",
              "      <th>1</th>\n",
              "      <td>2021-05-15 18:08:43+00:00</td>\n",
              "      <td>1393629433181851649</td>\n",
              "      <td>@SonuSood @flyspicejet I belong to very poor  ...</td>\n",
              "      <td>EinsteinKing7</td>\n",
              "    </tr>\n",
              "    <tr>\n",
              "      <th>2</th>\n",
              "      <td>2021-05-13 11:48:56+00:00</td>\n",
              "      <td>1392809078309593090</td>\n",
              "      <td>@overcover06 @BufferedStart Hyderabad traffic ...</td>\n",
              "      <td>sricharannch</td>\n",
              "    </tr>\n",
              "    <tr>\n",
              "      <th>3</th>\n",
              "      <td>2021-05-12 11:27:18+00:00</td>\n",
              "      <td>1392441248049295361</td>\n",
              "      <td>@SoodFoundation @SonuSood \\n*Help manoj*\\nPati...</td>\n",
              "      <td>PrAvEeN_GaLi97</td>\n",
              "    </tr>\n",
              "    <tr>\n",
              "      <th>4</th>\n",
              "      <td>2021-05-12 09:57:26+00:00</td>\n",
              "      <td>1392418630990581761</td>\n",
              "      <td>BETHALA MANOJ BABU \\nHe met with an road accid...</td>\n",
              "      <td>Vineeth029</td>\n",
              "    </tr>\n",
              "  </tbody>\n",
              "</table>\n",
              "</div>\n",
              "      <button class=\"colab-df-convert\" onclick=\"convertToInteractive('df-168674db-2b04-411a-ba6f-5a7157eeedb3')\"\n",
              "              title=\"Convert this dataframe to an interactive table.\"\n",
              "              style=\"display:none;\">\n",
              "        \n",
              "  <svg xmlns=\"http://www.w3.org/2000/svg\" height=\"24px\"viewBox=\"0 0 24 24\"\n",
              "       width=\"24px\">\n",
              "    <path d=\"M0 0h24v24H0V0z\" fill=\"none\"/>\n",
              "    <path d=\"M18.56 5.44l.94 2.06.94-2.06 2.06-.94-2.06-.94-.94-2.06-.94 2.06-2.06.94zm-11 1L8.5 8.5l.94-2.06 2.06-.94-2.06-.94L8.5 2.5l-.94 2.06-2.06.94zm10 10l.94 2.06.94-2.06 2.06-.94-2.06-.94-.94-2.06-.94 2.06-2.06.94z\"/><path d=\"M17.41 7.96l-1.37-1.37c-.4-.4-.92-.59-1.43-.59-.52 0-1.04.2-1.43.59L10.3 9.45l-7.72 7.72c-.78.78-.78 2.05 0 2.83L4 21.41c.39.39.9.59 1.41.59.51 0 1.02-.2 1.41-.59l7.78-7.78 2.81-2.81c.8-.78.8-2.07 0-2.86zM5.41 20L4 18.59l7.72-7.72 1.47 1.35L5.41 20z\"/>\n",
              "  </svg>\n",
              "      </button>\n",
              "      \n",
              "  <style>\n",
              "    .colab-df-container {\n",
              "      display:flex;\n",
              "      flex-wrap:wrap;\n",
              "      gap: 12px;\n",
              "    }\n",
              "\n",
              "    .colab-df-convert {\n",
              "      background-color: #E8F0FE;\n",
              "      border: none;\n",
              "      border-radius: 50%;\n",
              "      cursor: pointer;\n",
              "      display: none;\n",
              "      fill: #1967D2;\n",
              "      height: 32px;\n",
              "      padding: 0 0 0 0;\n",
              "      width: 32px;\n",
              "    }\n",
              "\n",
              "    .colab-df-convert:hover {\n",
              "      background-color: #E2EBFA;\n",
              "      box-shadow: 0px 1px 2px rgba(60, 64, 67, 0.3), 0px 1px 3px 1px rgba(60, 64, 67, 0.15);\n",
              "      fill: #174EA6;\n",
              "    }\n",
              "\n",
              "    [theme=dark] .colab-df-convert {\n",
              "      background-color: #3B4455;\n",
              "      fill: #D2E3FC;\n",
              "    }\n",
              "\n",
              "    [theme=dark] .colab-df-convert:hover {\n",
              "      background-color: #434B5C;\n",
              "      box-shadow: 0px 1px 3px 1px rgba(0, 0, 0, 0.15);\n",
              "      filter: drop-shadow(0px 1px 2px rgba(0, 0, 0, 0.3));\n",
              "      fill: #FFFFFF;\n",
              "    }\n",
              "  </style>\n",
              "\n",
              "      <script>\n",
              "        const buttonEl =\n",
              "          document.querySelector('#df-168674db-2b04-411a-ba6f-5a7157eeedb3 button.colab-df-convert');\n",
              "        buttonEl.style.display =\n",
              "          google.colab.kernel.accessAllowed ? 'block' : 'none';\n",
              "\n",
              "        async function convertToInteractive(key) {\n",
              "          const element = document.querySelector('#df-168674db-2b04-411a-ba6f-5a7157eeedb3');\n",
              "          const dataTable =\n",
              "            await google.colab.kernel.invokeFunction('convertToInteractive',\n",
              "                                                     [key], {});\n",
              "          if (!dataTable) return;\n",
              "\n",
              "          const docLinkHtml = 'Like what you see? Visit the ' +\n",
              "            '<a target=\"_blank\" href=https://colab.research.google.com/notebooks/data_table.ipynb>data table notebook</a>'\n",
              "            + ' to learn more about interactive tables.';\n",
              "          element.innerHTML = '';\n",
              "          dataTable['output_type'] = 'display_data';\n",
              "          await google.colab.output.renderOutput(dataTable, element);\n",
              "          const docLink = document.createElement('div');\n",
              "          docLink.innerHTML = docLinkHtml;\n",
              "          element.appendChild(docLink);\n",
              "        }\n",
              "      </script>\n",
              "    </div>\n",
              "  </div>\n",
              "  "
            ],
            "text/plain": [
              "                    Datetime  ...        Username\n",
              "0  2021-05-24 09:35:23+00:00  ...        rg_pavan\n",
              "1  2021-05-15 18:08:43+00:00  ...   EinsteinKing7\n",
              "2  2021-05-13 11:48:56+00:00  ...    sricharannch\n",
              "3  2021-05-12 11:27:18+00:00  ...  PrAvEeN_GaLi97\n",
              "4  2021-05-12 09:57:26+00:00  ...      Vineeth029\n",
              "\n",
              "[5 rows x 4 columns]"
            ]
          },
          "metadata": {},
          "execution_count": 99
        }
      ]
    },
    {
      "cell_type": "markdown",
      "source": [
        "## **Checking Missing Values**"
      ],
      "metadata": {
        "id": "thIPc_4KRL9W"
      }
    },
    {
      "cell_type": "code",
      "source": [
        "print(f\"Number of Null Values: {df.isnull().sum().sum()}\")"
      ],
      "metadata": {
        "colab": {
          "base_uri": "https://localhost:8080/"
        },
        "id": "wzJapD0v3Xha",
        "outputId": "f99ecdd3-f6bd-47f7-a8d6-cd2aa51e82d1"
      },
      "execution_count": null,
      "outputs": [
        {
          "output_type": "stream",
          "name": "stdout",
          "text": [
            "Number of Null Values: 0\n"
          ]
        }
      ]
    },
    {
      "cell_type": "markdown",
      "source": [
        "## **Text Preprocessing:**\n",
        "- Processing texts using regex\n",
        "- Redefining English Stopwords\n",
        "- Only selecting Nouns and Tokenization\n",
        "- Lemmatization, Checking & correcting spellings and selected words which are more than 3 characters\n",
        "- Dropping rows who doesn't have any words after preprocessing"
      ],
      "metadata": {
        "id": "SFWyAhC8RYcs"
      }
    },
    {
      "cell_type": "code",
      "source": [
        "import re\n",
        "\n",
        "def decontracted(phrase):\n",
        "    # specific\n",
        "    phrase = re.sub(r\"won\\'t\", \"will not\", phrase)\n",
        "    phrase = re.sub(r\"can\\'t\", \"can not\", phrase)\n",
        "\n",
        "    # general\n",
        "    phrase = re.sub(r\"n\\'t\", \" not\", phrase)\n",
        "    phrase = re.sub(r\"\\'re\", \" are\", phrase)\n",
        "    phrase = re.sub(r\"\\'s\", \" is\", phrase)\n",
        "    phrase = re.sub(r\"\\'d\", \" would\", phrase)\n",
        "    phrase = re.sub(r\"\\'ll\", \" will\", phrase)\n",
        "    phrase = re.sub(r\"\\'t\", \" not\", phrase)\n",
        "    phrase = re.sub(r\"\\'ve\", \" have\", phrase)\n",
        "    phrase = re.sub(r\"\\'m\", \" am\", phrase)\n",
        "    return phrase.lower()\n",
        "\n",
        "# df['cleaned_text'] = df['Text'].apply(lambda x: decontracted(x))"
      ],
      "metadata": {
        "id": "1-9NNN2p5eck"
      },
      "execution_count": null,
      "outputs": []
    },
    {
      "cell_type": "code",
      "source": [
        "df.head()"
      ],
      "metadata": {
        "colab": {
          "base_uri": "https://localhost:8080/",
          "height": 206
        },
        "id": "papse0EQAhhm",
        "outputId": "c7770b56-49ad-4773-aed7-bdad8e7b4f27"
      },
      "execution_count": null,
      "outputs": [
        {
          "output_type": "execute_result",
          "data": {
            "text/html": [
              "\n",
              "  <div id=\"df-1f963165-2331-4564-a1b7-e64317b863e6\">\n",
              "    <div class=\"colab-df-container\">\n",
              "      <div>\n",
              "<style scoped>\n",
              "    .dataframe tbody tr th:only-of-type {\n",
              "        vertical-align: middle;\n",
              "    }\n",
              "\n",
              "    .dataframe tbody tr th {\n",
              "        vertical-align: top;\n",
              "    }\n",
              "\n",
              "    .dataframe thead th {\n",
              "        text-align: right;\n",
              "    }\n",
              "</style>\n",
              "<table border=\"1\" class=\"dataframe\">\n",
              "  <thead>\n",
              "    <tr style=\"text-align: right;\">\n",
              "      <th></th>\n",
              "      <th>Datetime</th>\n",
              "      <th>Tweet Id</th>\n",
              "      <th>Text</th>\n",
              "      <th>Username</th>\n",
              "    </tr>\n",
              "  </thead>\n",
              "  <tbody>\n",
              "    <tr>\n",
              "      <th>0</th>\n",
              "      <td>2021-05-24 09:35:23+00:00</td>\n",
              "      <td>1396761739748732932</td>\n",
              "      <td>#Hyderabad needs lot over #footbridge (#pedest...</td>\n",
              "      <td>rg_pavan</td>\n",
              "    </tr>\n",
              "    <tr>\n",
              "      <th>1</th>\n",
              "      <td>2021-05-15 18:08:43+00:00</td>\n",
              "      <td>1393629433181851649</td>\n",
              "      <td>@SonuSood @flyspicejet I belong to very poor  ...</td>\n",
              "      <td>EinsteinKing7</td>\n",
              "    </tr>\n",
              "    <tr>\n",
              "      <th>2</th>\n",
              "      <td>2021-05-13 11:48:56+00:00</td>\n",
              "      <td>1392809078309593090</td>\n",
              "      <td>@overcover06 @BufferedStart Hyderabad traffic ...</td>\n",
              "      <td>sricharannch</td>\n",
              "    </tr>\n",
              "    <tr>\n",
              "      <th>3</th>\n",
              "      <td>2021-05-12 11:27:18+00:00</td>\n",
              "      <td>1392441248049295361</td>\n",
              "      <td>@SoodFoundation @SonuSood \\n*Help manoj*\\nPati...</td>\n",
              "      <td>PrAvEeN_GaLi97</td>\n",
              "    </tr>\n",
              "    <tr>\n",
              "      <th>4</th>\n",
              "      <td>2021-05-12 09:57:26+00:00</td>\n",
              "      <td>1392418630990581761</td>\n",
              "      <td>BETHALA MANOJ BABU \\nHe met with an road accid...</td>\n",
              "      <td>Vineeth029</td>\n",
              "    </tr>\n",
              "  </tbody>\n",
              "</table>\n",
              "</div>\n",
              "      <button class=\"colab-df-convert\" onclick=\"convertToInteractive('df-1f963165-2331-4564-a1b7-e64317b863e6')\"\n",
              "              title=\"Convert this dataframe to an interactive table.\"\n",
              "              style=\"display:none;\">\n",
              "        \n",
              "  <svg xmlns=\"http://www.w3.org/2000/svg\" height=\"24px\"viewBox=\"0 0 24 24\"\n",
              "       width=\"24px\">\n",
              "    <path d=\"M0 0h24v24H0V0z\" fill=\"none\"/>\n",
              "    <path d=\"M18.56 5.44l.94 2.06.94-2.06 2.06-.94-2.06-.94-.94-2.06-.94 2.06-2.06.94zm-11 1L8.5 8.5l.94-2.06 2.06-.94-2.06-.94L8.5 2.5l-.94 2.06-2.06.94zm10 10l.94 2.06.94-2.06 2.06-.94-2.06-.94-.94-2.06-.94 2.06-2.06.94z\"/><path d=\"M17.41 7.96l-1.37-1.37c-.4-.4-.92-.59-1.43-.59-.52 0-1.04.2-1.43.59L10.3 9.45l-7.72 7.72c-.78.78-.78 2.05 0 2.83L4 21.41c.39.39.9.59 1.41.59.51 0 1.02-.2 1.41-.59l7.78-7.78 2.81-2.81c.8-.78.8-2.07 0-2.86zM5.41 20L4 18.59l7.72-7.72 1.47 1.35L5.41 20z\"/>\n",
              "  </svg>\n",
              "      </button>\n",
              "      \n",
              "  <style>\n",
              "    .colab-df-container {\n",
              "      display:flex;\n",
              "      flex-wrap:wrap;\n",
              "      gap: 12px;\n",
              "    }\n",
              "\n",
              "    .colab-df-convert {\n",
              "      background-color: #E8F0FE;\n",
              "      border: none;\n",
              "      border-radius: 50%;\n",
              "      cursor: pointer;\n",
              "      display: none;\n",
              "      fill: #1967D2;\n",
              "      height: 32px;\n",
              "      padding: 0 0 0 0;\n",
              "      width: 32px;\n",
              "    }\n",
              "\n",
              "    .colab-df-convert:hover {\n",
              "      background-color: #E2EBFA;\n",
              "      box-shadow: 0px 1px 2px rgba(60, 64, 67, 0.3), 0px 1px 3px 1px rgba(60, 64, 67, 0.15);\n",
              "      fill: #174EA6;\n",
              "    }\n",
              "\n",
              "    [theme=dark] .colab-df-convert {\n",
              "      background-color: #3B4455;\n",
              "      fill: #D2E3FC;\n",
              "    }\n",
              "\n",
              "    [theme=dark] .colab-df-convert:hover {\n",
              "      background-color: #434B5C;\n",
              "      box-shadow: 0px 1px 3px 1px rgba(0, 0, 0, 0.15);\n",
              "      filter: drop-shadow(0px 1px 2px rgba(0, 0, 0, 0.3));\n",
              "      fill: #FFFFFF;\n",
              "    }\n",
              "  </style>\n",
              "\n",
              "      <script>\n",
              "        const buttonEl =\n",
              "          document.querySelector('#df-1f963165-2331-4564-a1b7-e64317b863e6 button.colab-df-convert');\n",
              "        buttonEl.style.display =\n",
              "          google.colab.kernel.accessAllowed ? 'block' : 'none';\n",
              "\n",
              "        async function convertToInteractive(key) {\n",
              "          const element = document.querySelector('#df-1f963165-2331-4564-a1b7-e64317b863e6');\n",
              "          const dataTable =\n",
              "            await google.colab.kernel.invokeFunction('convertToInteractive',\n",
              "                                                     [key], {});\n",
              "          if (!dataTable) return;\n",
              "\n",
              "          const docLinkHtml = 'Like what you see? Visit the ' +\n",
              "            '<a target=\"_blank\" href=https://colab.research.google.com/notebooks/data_table.ipynb>data table notebook</a>'\n",
              "            + ' to learn more about interactive tables.';\n",
              "          element.innerHTML = '';\n",
              "          dataTable['output_type'] = 'display_data';\n",
              "          await google.colab.output.renderOutput(dataTable, element);\n",
              "          const docLink = document.createElement('div');\n",
              "          docLink.innerHTML = docLinkHtml;\n",
              "          element.appendChild(docLink);\n",
              "        }\n",
              "      </script>\n",
              "    </div>\n",
              "  </div>\n",
              "  "
            ],
            "text/plain": [
              "                    Datetime  ...        Username\n",
              "0  2021-05-24 09:35:23+00:00  ...        rg_pavan\n",
              "1  2021-05-15 18:08:43+00:00  ...   EinsteinKing7\n",
              "2  2021-05-13 11:48:56+00:00  ...    sricharannch\n",
              "3  2021-05-12 11:27:18+00:00  ...  PrAvEeN_GaLi97\n",
              "4  2021-05-12 09:57:26+00:00  ...      Vineeth029\n",
              "\n",
              "[5 rows x 4 columns]"
            ]
          },
          "metadata": {},
          "execution_count": 103
        }
      ]
    },
    {
      "cell_type": "markdown",
      "source": [
        "## **Redifining English Stopwords**"
      ],
      "metadata": {
        "id": "5QsUr_fzRhNW"
      }
    },
    {
      "cell_type": "code",
      "source": [
        "# Remove words like 'nor', 'not', 'no' from stop_words\n",
        "stop_words = stopwords.words('english')\n",
        "\n",
        "for i in ['nor', 'not', 'no']:\n",
        "  stop_words.remove(i)\n",
        "\n",
        "punc = list(string.punctuation)\n",
        "\n",
        "\"\"\"IF you have some custom stop words. Please add here.\"\"\"\n",
        "stop_words += punc + ['hyderabad', 'https', 'garu']"
      ],
      "metadata": {
        "id": "JGex3lDq6uV-"
      },
      "execution_count": null,
      "outputs": []
    },
    {
      "cell_type": "markdown",
      "source": [
        "## **Only selecting Nouns and Tokenization**"
      ],
      "metadata": {
        "id": "6hRvpLWIRpqt"
      }
    },
    {
      "cell_type": "code",
      "source": [
        "lemmaObject = WordNetLemmatizer()\n",
        "def only_noun(docs):\n",
        "  noun_docs = []\n",
        "  for word in docs:\n",
        "    # if nltk.pos_tag(word.split())[0][1]  in ['NN', 'NNP', 'NNPS', 'NNS',]:\n",
        "   noun_docs.append(word.lower())\n",
        "  return \" \".join(noun_docs)\n",
        "\n",
        "df['cleaned_text'] = df.Text.apply(lambda x: nltk.word_tokenize(x))\n",
        "df.cleaned_text = df.cleaned_text.apply(only_noun)\n",
        "df['cleaned_text'] = df['cleaned_text'].apply(lambda x: decontracted(x))\n",
        "df.cleaned_text.head()"
      ],
      "metadata": {
        "colab": {
          "base_uri": "https://localhost:8080/"
        },
        "id": "ZHPZuyK99igV",
        "outputId": "52ddc652-75b8-4950-cb3f-47f58f8f4405"
      },
      "execution_count": null,
      "outputs": [
        {
          "output_type": "execute_result",
          "data": {
            "text/plain": [
              "0    # hyderabad needs lot over # footbridge ( # pe...\n",
              "1    @ sonusood @ flyspicejet i belong to very poor...\n",
              "2    @ overcover06 @ bufferedstart hyderabad traffi...\n",
              "3    @ soodfoundation @ sonusood *help manoj* patie...\n",
              "4    bethala manoj babu he met with an road acciden...\n",
              "Name: cleaned_text, dtype: object"
            ]
          },
          "metadata": {},
          "execution_count": 105
        }
      ]
    },
    {
      "cell_type": "markdown",
      "source": [
        "## **Lemmatization, Checking & correcting spellings and selected words which are more than 3 characters**"
      ],
      "metadata": {
        "id": "WfuFeHmQSlrc"
      }
    },
    {
      "cell_type": "code",
      "source": [
        "spell = SpellChecker(distance=1)\n",
        "def Preprocessing(docs):\n",
        "  temp_docs = []\n",
        "  lemma_word = lemmaObject.lemmatize(docs)\n",
        "  # print(lemma_word)\n",
        "  vocab = spell.correction(lemma_word)\n",
        "  # print(vocab)\n",
        "  for word in vocab.split():\n",
        "    if word not in stop_words and len(word) > 3:\n",
        "      temp_docs.append(word)\n",
        "\n",
        "  return temp_docs"
      ],
      "metadata": {
        "id": "2XHtWWDjhWMJ"
      },
      "execution_count": null,
      "outputs": []
    },
    {
      "cell_type": "code",
      "source": [
        "# df['org_review'] = df.review\n",
        "df['cleaned_text'] = df.cleaned_text.apply(Preprocessing)"
      ],
      "metadata": {
        "id": "hedO--eDlGl0"
      },
      "execution_count": null,
      "outputs": []
    },
    {
      "cell_type": "code",
      "source": [
        "df.head()"
      ],
      "metadata": {
        "colab": {
          "base_uri": "https://localhost:8080/",
          "height": 206
        },
        "id": "EAV-ezv0EvpK",
        "outputId": "a1f4f237-6fea-4738-d267-be724d6a0009"
      },
      "execution_count": null,
      "outputs": [
        {
          "output_type": "execute_result",
          "data": {
            "text/html": [
              "\n",
              "  <div id=\"df-28d42608-7163-41fd-bfa1-19c6b1b63076\">\n",
              "    <div class=\"colab-df-container\">\n",
              "      <div>\n",
              "<style scoped>\n",
              "    .dataframe tbody tr th:only-of-type {\n",
              "        vertical-align: middle;\n",
              "    }\n",
              "\n",
              "    .dataframe tbody tr th {\n",
              "        vertical-align: top;\n",
              "    }\n",
              "\n",
              "    .dataframe thead th {\n",
              "        text-align: right;\n",
              "    }\n",
              "</style>\n",
              "<table border=\"1\" class=\"dataframe\">\n",
              "  <thead>\n",
              "    <tr style=\"text-align: right;\">\n",
              "      <th></th>\n",
              "      <th>Datetime</th>\n",
              "      <th>Tweet Id</th>\n",
              "      <th>Text</th>\n",
              "      <th>Username</th>\n",
              "      <th>cleaned_text</th>\n",
              "    </tr>\n",
              "  </thead>\n",
              "  <tbody>\n",
              "    <tr>\n",
              "      <th>0</th>\n",
              "      <td>2021-05-24 09:35:23+00:00</td>\n",
              "      <td>1396761739748732932</td>\n",
              "      <td>#Hyderabad needs lot over #footbridge (#pedest...</td>\n",
              "      <td>rg_pavan</td>\n",
              "      <td>[needs, footbridge, pedestrian, bridge, accide...</td>\n",
              "    </tr>\n",
              "    <tr>\n",
              "      <th>1</th>\n",
              "      <td>2021-05-15 18:08:43+00:00</td>\n",
              "      <td>1393629433181851649</td>\n",
              "      <td>@SonuSood @flyspicejet I belong to very poor  ...</td>\n",
              "      <td>EinsteinKing7</td>\n",
              "      <td>[sonusood, flyspicejet, belong, poor, backgrou...</td>\n",
              "    </tr>\n",
              "    <tr>\n",
              "      <th>2</th>\n",
              "      <td>2021-05-13 11:48:56+00:00</td>\n",
              "      <td>1392809078309593090</td>\n",
              "      <td>@overcover06 @BufferedStart Hyderabad traffic ...</td>\n",
              "      <td>sricharannch</td>\n",
              "      <td>[overcover06, bufferedstart, traffic, rule, te...</td>\n",
              "    </tr>\n",
              "    <tr>\n",
              "      <th>3</th>\n",
              "      <td>2021-05-12 11:27:18+00:00</td>\n",
              "      <td>1392441248049295361</td>\n",
              "      <td>@SoodFoundation @SonuSood \\n*Help manoj*\\nPati...</td>\n",
              "      <td>PrAvEeN_GaLi97</td>\n",
              "      <td>[soodfoundation, sonusood, *help, manoj*, pati...</td>\n",
              "    </tr>\n",
              "    <tr>\n",
              "      <th>4</th>\n",
              "      <td>2021-05-12 09:57:26+00:00</td>\n",
              "      <td>1392418630990581761</td>\n",
              "      <td>BETHALA MANOJ BABU \\nHe met with an road accid...</td>\n",
              "      <td>Vineeth029</td>\n",
              "      <td>[bethala, manoj, babu, road, accident, severe,...</td>\n",
              "    </tr>\n",
              "  </tbody>\n",
              "</table>\n",
              "</div>\n",
              "      <button class=\"colab-df-convert\" onclick=\"convertToInteractive('df-28d42608-7163-41fd-bfa1-19c6b1b63076')\"\n",
              "              title=\"Convert this dataframe to an interactive table.\"\n",
              "              style=\"display:none;\">\n",
              "        \n",
              "  <svg xmlns=\"http://www.w3.org/2000/svg\" height=\"24px\"viewBox=\"0 0 24 24\"\n",
              "       width=\"24px\">\n",
              "    <path d=\"M0 0h24v24H0V0z\" fill=\"none\"/>\n",
              "    <path d=\"M18.56 5.44l.94 2.06.94-2.06 2.06-.94-2.06-.94-.94-2.06-.94 2.06-2.06.94zm-11 1L8.5 8.5l.94-2.06 2.06-.94-2.06-.94L8.5 2.5l-.94 2.06-2.06.94zm10 10l.94 2.06.94-2.06 2.06-.94-2.06-.94-.94-2.06-.94 2.06-2.06.94z\"/><path d=\"M17.41 7.96l-1.37-1.37c-.4-.4-.92-.59-1.43-.59-.52 0-1.04.2-1.43.59L10.3 9.45l-7.72 7.72c-.78.78-.78 2.05 0 2.83L4 21.41c.39.39.9.59 1.41.59.51 0 1.02-.2 1.41-.59l7.78-7.78 2.81-2.81c.8-.78.8-2.07 0-2.86zM5.41 20L4 18.59l7.72-7.72 1.47 1.35L5.41 20z\"/>\n",
              "  </svg>\n",
              "      </button>\n",
              "      \n",
              "  <style>\n",
              "    .colab-df-container {\n",
              "      display:flex;\n",
              "      flex-wrap:wrap;\n",
              "      gap: 12px;\n",
              "    }\n",
              "\n",
              "    .colab-df-convert {\n",
              "      background-color: #E8F0FE;\n",
              "      border: none;\n",
              "      border-radius: 50%;\n",
              "      cursor: pointer;\n",
              "      display: none;\n",
              "      fill: #1967D2;\n",
              "      height: 32px;\n",
              "      padding: 0 0 0 0;\n",
              "      width: 32px;\n",
              "    }\n",
              "\n",
              "    .colab-df-convert:hover {\n",
              "      background-color: #E2EBFA;\n",
              "      box-shadow: 0px 1px 2px rgba(60, 64, 67, 0.3), 0px 1px 3px 1px rgba(60, 64, 67, 0.15);\n",
              "      fill: #174EA6;\n",
              "    }\n",
              "\n",
              "    [theme=dark] .colab-df-convert {\n",
              "      background-color: #3B4455;\n",
              "      fill: #D2E3FC;\n",
              "    }\n",
              "\n",
              "    [theme=dark] .colab-df-convert:hover {\n",
              "      background-color: #434B5C;\n",
              "      box-shadow: 0px 1px 3px 1px rgba(0, 0, 0, 0.15);\n",
              "      filter: drop-shadow(0px 1px 2px rgba(0, 0, 0, 0.3));\n",
              "      fill: #FFFFFF;\n",
              "    }\n",
              "  </style>\n",
              "\n",
              "      <script>\n",
              "        const buttonEl =\n",
              "          document.querySelector('#df-28d42608-7163-41fd-bfa1-19c6b1b63076 button.colab-df-convert');\n",
              "        buttonEl.style.display =\n",
              "          google.colab.kernel.accessAllowed ? 'block' : 'none';\n",
              "\n",
              "        async function convertToInteractive(key) {\n",
              "          const element = document.querySelector('#df-28d42608-7163-41fd-bfa1-19c6b1b63076');\n",
              "          const dataTable =\n",
              "            await google.colab.kernel.invokeFunction('convertToInteractive',\n",
              "                                                     [key], {});\n",
              "          if (!dataTable) return;\n",
              "\n",
              "          const docLinkHtml = 'Like what you see? Visit the ' +\n",
              "            '<a target=\"_blank\" href=https://colab.research.google.com/notebooks/data_table.ipynb>data table notebook</a>'\n",
              "            + ' to learn more about interactive tables.';\n",
              "          element.innerHTML = '';\n",
              "          dataTable['output_type'] = 'display_data';\n",
              "          await google.colab.output.renderOutput(dataTable, element);\n",
              "          const docLink = document.createElement('div');\n",
              "          docLink.innerHTML = docLinkHtml;\n",
              "          element.appendChild(docLink);\n",
              "        }\n",
              "      </script>\n",
              "    </div>\n",
              "  </div>\n",
              "  "
            ],
            "text/plain": [
              "                    Datetime  ...                                       cleaned_text\n",
              "0  2021-05-24 09:35:23+00:00  ...  [needs, footbridge, pedestrian, bridge, accide...\n",
              "1  2021-05-15 18:08:43+00:00  ...  [sonusood, flyspicejet, belong, poor, backgrou...\n",
              "2  2021-05-13 11:48:56+00:00  ...  [overcover06, bufferedstart, traffic, rule, te...\n",
              "3  2021-05-12 11:27:18+00:00  ...  [soodfoundation, sonusood, *help, manoj*, pati...\n",
              "4  2021-05-12 09:57:26+00:00  ...  [bethala, manoj, babu, road, accident, severe,...\n",
              "\n",
              "[5 rows x 5 columns]"
            ]
          },
          "metadata": {},
          "execution_count": 108
        }
      ]
    },
    {
      "cell_type": "markdown",
      "source": [
        "## **Dropping rows who doesn't have any words after preprocessing**"
      ],
      "metadata": {
        "id": "RchgnB_yTGi3"
      }
    },
    {
      "cell_type": "code",
      "source": [
        "df = df[df['cleaned_text'].map(lambda x: len(x)) > 1].reset_index(drop=True)"
      ],
      "metadata": {
        "id": "iqXZjhxlKcY7"
      },
      "execution_count": null,
      "outputs": []
    },
    {
      "cell_type": "code",
      "source": [
        "df.head()"
      ],
      "metadata": {
        "colab": {
          "base_uri": "https://localhost:8080/",
          "height": 206
        },
        "id": "N-_WQ1aiKRC8",
        "outputId": "e7bdff69-52f1-41d4-f9cf-13bdc9c2ca01"
      },
      "execution_count": null,
      "outputs": [
        {
          "output_type": "execute_result",
          "data": {
            "text/html": [
              "\n",
              "  <div id=\"df-64290644-2026-4716-93c1-6a93906d82ff\">\n",
              "    <div class=\"colab-df-container\">\n",
              "      <div>\n",
              "<style scoped>\n",
              "    .dataframe tbody tr th:only-of-type {\n",
              "        vertical-align: middle;\n",
              "    }\n",
              "\n",
              "    .dataframe tbody tr th {\n",
              "        vertical-align: top;\n",
              "    }\n",
              "\n",
              "    .dataframe thead th {\n",
              "        text-align: right;\n",
              "    }\n",
              "</style>\n",
              "<table border=\"1\" class=\"dataframe\">\n",
              "  <thead>\n",
              "    <tr style=\"text-align: right;\">\n",
              "      <th></th>\n",
              "      <th>Datetime</th>\n",
              "      <th>Tweet Id</th>\n",
              "      <th>Text</th>\n",
              "      <th>Username</th>\n",
              "      <th>cleaned_text</th>\n",
              "    </tr>\n",
              "  </thead>\n",
              "  <tbody>\n",
              "    <tr>\n",
              "      <th>0</th>\n",
              "      <td>2021-05-24 09:35:23+00:00</td>\n",
              "      <td>1396761739748732932</td>\n",
              "      <td>#Hyderabad needs lot over #footbridge (#pedest...</td>\n",
              "      <td>rg_pavan</td>\n",
              "      <td>[needs, footbridge, pedestrian, bridge, accide...</td>\n",
              "    </tr>\n",
              "    <tr>\n",
              "      <th>1</th>\n",
              "      <td>2021-05-15 18:08:43+00:00</td>\n",
              "      <td>1393629433181851649</td>\n",
              "      <td>@SonuSood @flyspicejet I belong to very poor  ...</td>\n",
              "      <td>EinsteinKing7</td>\n",
              "      <td>[sonusood, flyspicejet, belong, poor, backgrou...</td>\n",
              "    </tr>\n",
              "    <tr>\n",
              "      <th>2</th>\n",
              "      <td>2021-05-13 11:48:56+00:00</td>\n",
              "      <td>1392809078309593090</td>\n",
              "      <td>@overcover06 @BufferedStart Hyderabad traffic ...</td>\n",
              "      <td>sricharannch</td>\n",
              "      <td>[overcover06, bufferedstart, traffic, rule, te...</td>\n",
              "    </tr>\n",
              "    <tr>\n",
              "      <th>3</th>\n",
              "      <td>2021-05-12 11:27:18+00:00</td>\n",
              "      <td>1392441248049295361</td>\n",
              "      <td>@SoodFoundation @SonuSood \\n*Help manoj*\\nPati...</td>\n",
              "      <td>PrAvEeN_GaLi97</td>\n",
              "      <td>[soodfoundation, sonusood, *help, manoj*, pati...</td>\n",
              "    </tr>\n",
              "    <tr>\n",
              "      <th>4</th>\n",
              "      <td>2021-05-12 09:57:26+00:00</td>\n",
              "      <td>1392418630990581761</td>\n",
              "      <td>BETHALA MANOJ BABU \\nHe met with an road accid...</td>\n",
              "      <td>Vineeth029</td>\n",
              "      <td>[bethala, manoj, babu, road, accident, severe,...</td>\n",
              "    </tr>\n",
              "  </tbody>\n",
              "</table>\n",
              "</div>\n",
              "      <button class=\"colab-df-convert\" onclick=\"convertToInteractive('df-64290644-2026-4716-93c1-6a93906d82ff')\"\n",
              "              title=\"Convert this dataframe to an interactive table.\"\n",
              "              style=\"display:none;\">\n",
              "        \n",
              "  <svg xmlns=\"http://www.w3.org/2000/svg\" height=\"24px\"viewBox=\"0 0 24 24\"\n",
              "       width=\"24px\">\n",
              "    <path d=\"M0 0h24v24H0V0z\" fill=\"none\"/>\n",
              "    <path d=\"M18.56 5.44l.94 2.06.94-2.06 2.06-.94-2.06-.94-.94-2.06-.94 2.06-2.06.94zm-11 1L8.5 8.5l.94-2.06 2.06-.94-2.06-.94L8.5 2.5l-.94 2.06-2.06.94zm10 10l.94 2.06.94-2.06 2.06-.94-2.06-.94-.94-2.06-.94 2.06-2.06.94z\"/><path d=\"M17.41 7.96l-1.37-1.37c-.4-.4-.92-.59-1.43-.59-.52 0-1.04.2-1.43.59L10.3 9.45l-7.72 7.72c-.78.78-.78 2.05 0 2.83L4 21.41c.39.39.9.59 1.41.59.51 0 1.02-.2 1.41-.59l7.78-7.78 2.81-2.81c.8-.78.8-2.07 0-2.86zM5.41 20L4 18.59l7.72-7.72 1.47 1.35L5.41 20z\"/>\n",
              "  </svg>\n",
              "      </button>\n",
              "      \n",
              "  <style>\n",
              "    .colab-df-container {\n",
              "      display:flex;\n",
              "      flex-wrap:wrap;\n",
              "      gap: 12px;\n",
              "    }\n",
              "\n",
              "    .colab-df-convert {\n",
              "      background-color: #E8F0FE;\n",
              "      border: none;\n",
              "      border-radius: 50%;\n",
              "      cursor: pointer;\n",
              "      display: none;\n",
              "      fill: #1967D2;\n",
              "      height: 32px;\n",
              "      padding: 0 0 0 0;\n",
              "      width: 32px;\n",
              "    }\n",
              "\n",
              "    .colab-df-convert:hover {\n",
              "      background-color: #E2EBFA;\n",
              "      box-shadow: 0px 1px 2px rgba(60, 64, 67, 0.3), 0px 1px 3px 1px rgba(60, 64, 67, 0.15);\n",
              "      fill: #174EA6;\n",
              "    }\n",
              "\n",
              "    [theme=dark] .colab-df-convert {\n",
              "      background-color: #3B4455;\n",
              "      fill: #D2E3FC;\n",
              "    }\n",
              "\n",
              "    [theme=dark] .colab-df-convert:hover {\n",
              "      background-color: #434B5C;\n",
              "      box-shadow: 0px 1px 3px 1px rgba(0, 0, 0, 0.15);\n",
              "      filter: drop-shadow(0px 1px 2px rgba(0, 0, 0, 0.3));\n",
              "      fill: #FFFFFF;\n",
              "    }\n",
              "  </style>\n",
              "\n",
              "      <script>\n",
              "        const buttonEl =\n",
              "          document.querySelector('#df-64290644-2026-4716-93c1-6a93906d82ff button.colab-df-convert');\n",
              "        buttonEl.style.display =\n",
              "          google.colab.kernel.accessAllowed ? 'block' : 'none';\n",
              "\n",
              "        async function convertToInteractive(key) {\n",
              "          const element = document.querySelector('#df-64290644-2026-4716-93c1-6a93906d82ff');\n",
              "          const dataTable =\n",
              "            await google.colab.kernel.invokeFunction('convertToInteractive',\n",
              "                                                     [key], {});\n",
              "          if (!dataTable) return;\n",
              "\n",
              "          const docLinkHtml = 'Like what you see? Visit the ' +\n",
              "            '<a target=\"_blank\" href=https://colab.research.google.com/notebooks/data_table.ipynb>data table notebook</a>'\n",
              "            + ' to learn more about interactive tables.';\n",
              "          element.innerHTML = '';\n",
              "          dataTable['output_type'] = 'display_data';\n",
              "          await google.colab.output.renderOutput(dataTable, element);\n",
              "          const docLink = document.createElement('div');\n",
              "          docLink.innerHTML = docLinkHtml;\n",
              "          element.appendChild(docLink);\n",
              "        }\n",
              "      </script>\n",
              "    </div>\n",
              "  </div>\n",
              "  "
            ],
            "text/plain": [
              "                    Datetime  ...                                       cleaned_text\n",
              "0  2021-05-24 09:35:23+00:00  ...  [needs, footbridge, pedestrian, bridge, accide...\n",
              "1  2021-05-15 18:08:43+00:00  ...  [sonusood, flyspicejet, belong, poor, backgrou...\n",
              "2  2021-05-13 11:48:56+00:00  ...  [overcover06, bufferedstart, traffic, rule, te...\n",
              "3  2021-05-12 11:27:18+00:00  ...  [soodfoundation, sonusood, *help, manoj*, pati...\n",
              "4  2021-05-12 09:57:26+00:00  ...  [bethala, manoj, babu, road, accident, severe,...\n",
              "\n",
              "[5 rows x 5 columns]"
            ]
          },
          "metadata": {},
          "execution_count": 111
        }
      ]
    },
    {
      "cell_type": "markdown",
      "source": [
        "## **Separating Features and Labels**"
      ],
      "metadata": {
        "id": "gJgomACwTJLM"
      }
    },
    {
      "cell_type": "code",
      "source": [
        "features = df['cleaned_text'].values\n",
        "# labels = df['sentiment'].values"
      ],
      "metadata": {
        "id": "e9zZ_k7n2EB-"
      },
      "execution_count": null,
      "outputs": []
    },
    {
      "cell_type": "markdown",
      "source": [
        "## **Document Term Matrix (BoW)**"
      ],
      "metadata": {
        "id": "sBgznz8NTZZg"
      }
    },
    {
      "cell_type": "code",
      "source": [
        "np.random.seed(100)\n",
        "dictionary = Dictionary(features)\n",
        "print(dictionary)"
      ],
      "metadata": {
        "colab": {
          "base_uri": "https://localhost:8080/"
        },
        "id": "WcCYn9LQyYOs",
        "outputId": "ff8e5de6-ee76-49d6-da8f-842c679cfeb0"
      },
      "execution_count": null,
      "outputs": [
        {
          "output_type": "stream",
          "name": "stdout",
          "text": [
            "Dictionary(11177 unique tokens: ['//t.co/pcpxlkl4xv', 'accidents', 'area', 'beeramguda', 'bridge']...)\n"
          ]
        }
      ]
    },
    {
      "cell_type": "code",
      "source": [
        "doc_term_matrix = df['cleaned_text'].apply(lambda x: dictionary.doc2bow(x))\n",
        "doc_term_matrix[:10]"
      ],
      "metadata": {
        "colab": {
          "base_uri": "https://localhost:8080/"
        },
        "id": "DLDVB_lAyyi2",
        "outputId": "b6e3b790-b9f7-4dae-bb16-1398af76a023"
      },
      "execution_count": null,
      "outputs": [
        {
          "output_type": "execute_result",
          "data": {
            "text/plain": [
              "0    [(0, 1), (1, 1), (2, 2), (3, 1), (4, 1), (5, 1...\n",
              "1    [(15, 1), (20, 1), (21, 1), (22, 1), (23, 1), ...\n",
              "2    [(1, 1), (15, 1), (43, 1), (44, 1), (45, 1), (...\n",
              "3    [(15, 1), (27, 1), (38, 1), (52, 1), (53, 1), ...\n",
              "4    [(15, 1), (20, 1), (27, 1), (42, 1), (56, 1), ...\n",
              "5    [(15, 1), (20, 1), (27, 1), (42, 1), (56, 1), ...\n",
              "6    [(9, 1), (15, 1), (20, 1), (27, 1), (42, 1), (...\n",
              "7    [(1, 1), (15, 1), (92, 1), (93, 1), (94, 1), (...\n",
              "8    [(1, 1), (15, 1), (93, 1), (94, 1), (95, 1), (...\n",
              "9    [(1, 1), (15, 4), (20, 3), (23, 1), (47, 1), (...\n",
              "Name: cleaned_text, dtype: object"
            ]
          },
          "metadata": {},
          "execution_count": 114
        }
      ]
    },
    {
      "cell_type": "markdown",
      "source": [
        "## **Latent Dirichlet Allocation(LDA)**"
      ],
      "metadata": {
        "id": "HxW-mNABTpX5"
      }
    },
    {
      "cell_type": "code",
      "source": [
        "Lda = gensim.models.ldamodel.LdaModel\n",
        "ldamodel = Lda(corpus=doc_term_matrix, num_topics=12, id2word=dictionary, passes=10,random_state=45)\n",
        "clear_output()"
      ],
      "metadata": {
        "id": "CP6hDoaxzI7N"
      },
      "execution_count": null,
      "outputs": []
    },
    {
      "cell_type": "code",
      "source": [
        "ldamodel.print_topics()"
      ],
      "metadata": {
        "colab": {
          "base_uri": "https://localhost:8080/"
        },
        "id": "Bce57SDvzhr6",
        "outputId": "3a1f78cd-bc11-4f1d-a878-b0152dd32072"
      },
      "execution_count": null,
      "outputs": [
        {
          "output_type": "execute_result",
          "data": {
            "text/plain": [
              "[(0,\n",
              "  '0.033*\"roads\" + 0.016*\"selling\" + 0.016*\"taking\" + 0.015*\"irregularities\" + 0.015*\"kindly\" + 0.014*\"investigate\" + 0.012*\"depot\" + 0.012*\"paying\" + 0.010*\"receipts\" + 0.010*\"issuing\"'),\n",
              " (1,\n",
              "  '0.017*\"importance\" + 0.014*\"road\" + 0.013*\"hihyderabad\" + 0.012*\"70mm\" + 0.011*\"hyderabad_zone\" + 0.011*\"news\" + 0.011*\"withcitizen\" + 0.011*\"hicyberabad\" + 0.010*\"swachhhyd\" + 0.010*\"hydwatch\"'),\n",
              " (2,\n",
              "  '0.032*\"awareness\" + 0.021*\"masks\" + 0.017*\"covid19\" + 0.016*\"physical\" + 0.016*\"created\" + 0.015*\"spread\" + 0.014*\"face\" + 0.014*\"avert\" + 0.012*\"distancing\" + 0.011*\"free\"'),\n",
              " (3,\n",
              "  '0.041*\"roads\" + 0.012*\"till\" + 0.011*\"sangam\" + 0.011*\"time\" + 0.010*\"people\" + 0.008*\"city\" + 0.007*\"please\" + 0.007*\"release\" + 0.007*\"sultan\" + 0.007*\"telangana\"'),\n",
              " (4,\n",
              "  '0.047*\"roads\" + 0.017*\"please\" + 0.017*\"save\" + 0.016*\"industry\" + 0.012*\"pawankalyan\" + 0.011*\"vakeelsaab\" + 0.011*\"confirmed\" + 0.010*\"ktrtrs\" + 0.010*\"road\" + 0.007*\"35mm\"'),\n",
              " (5,\n",
              "  '0.070*\"traffic\" + 0.058*\"hydtpwebringawareness\" + 0.058*\"today\" + 0.051*\"police\" + 0.051*\"conducted\" + 0.049*\"program\" + 0.038*\"connection\" + 0.038*\"observation\" + 0.030*\"addlcptrhyd\" + 0.029*\"nationalroadsafetymonth\"'),\n",
              " (6,\n",
              "  '0.035*\"roads\" + 0.010*\"powerstar\" + 0.010*\"celebrations\" + 0.009*\"dumping\" + 0.009*\"gadda\" + 0.009*\"\\'nizam\" + 0.008*\"noticed\" + 0.008*\"company\" + 0.008*\"place\" + 0.008*\"vakeelsaabtrailer\"'),\n",
              " (7,\n",
              "  '0.033*\"roads\" + 0.017*\"hospital\" + 0.017*\"telangana\" + 0.015*\"oxygen\" + 0.013*\"ktrtrs\" + 0.013*\"available\" + 0.012*\"ghmc\" + 0.012*\"maintain\" + 0.011*\"verified\" + 0.010*\"contact\"'),\n",
              " (8,\n",
              "  '0.031*\"roads\" + 0.021*\"city\" + 0.012*\"pedestrians\" + 0.011*\"nampally\" + 0.010*\"drive\" + 0.009*\"bazar\" + 0.009*\"ktrtrs\" + 0.009*\"proper\" + 0.008*\"area\" + 0.007*\"many\"'),\n",
              " (9,\n",
              "  '0.029*\"roads\" + 0.024*\"along\" + 0.013*\"particularly\" + 0.013*\"book\" + 0.011*\"sandhya\" + 0.011*\"charminar\" + 0.010*\"list\" + 0.010*\"junction\" + 0.010*\"march\" + 0.010*\"alwaysramcharan\"'),\n",
              " (10,\n",
              "  '0.022*\"road\" + 0.017*\"roads\" + 0.017*\"please\" + 0.016*\"need\" + 0.015*\"blood\" + 0.014*\"number\" + 0.008*\"ktrtrs\" + 0.008*\"adda\" + 0.008*\"hospital\" + 0.006*\"take\"'),\n",
              " (11,\n",
              "  '0.105*\"awareness\" + 0.079*\"safety\" + 0.035*\"drivers\" + 0.024*\"road\" + 0.023*\"roads\" + 0.023*\"helmet\" + 0.020*\"show\" + 0.018*\"tickets\" + 0.016*\"book\" + 0.011*\"aadi\"')]"
            ]
          },
          "metadata": {},
          "execution_count": 116
        }
      ]
    },
    {
      "cell_type": "code",
      "source": [
        "pyLDAvis.enable_notebook()\n",
        "vis = gensim_models.prepare(ldamodel,doc_term_matrix,dictionary)\n",
        "vis"
      ],
      "metadata": {
        "colab": {
          "base_uri": "https://localhost:8080/",
          "height": 916
        },
        "id": "r4z5-YMNzmbp",
        "outputId": "4a13e4db-a37d-456e-b212-01e3f79625ff"
      },
      "execution_count": null,
      "outputs": [
        {
          "output_type": "stream",
          "name": "stderr",
          "text": [
            "/usr/local/lib/python3.7/dist-packages/pyLDAvis/_prepare.py:247: FutureWarning: In a future version of pandas all arguments of DataFrame.drop except for the argument 'labels' will be keyword-only\n",
            "  by='saliency', ascending=False).head(R).drop('saliency', 1)\n"
          ]
        },
        {
          "output_type": "execute_result",
          "data": {
            "text/html": [
              "\n",
              "<link rel=\"stylesheet\" type=\"text/css\" href=\"https://cdn.jsdelivr.net/gh/bmabey/pyLDAvis@3.3.1/pyLDAvis/js/ldavis.v1.0.0.css\">\n",
              "\n",
              "\n",
              "<div id=\"ldavis_el1791403571988327201492916444\"></div>\n",
              "<script type=\"text/javascript\">\n",
              "\n",
              "var ldavis_el1791403571988327201492916444_data = {\"mdsDat\": {\"x\": [-0.05143924562031043, -0.09661076411954943, 0.38332685571129, -0.04957792099382044, -0.02708826099348722, -0.07592576169618526, -0.08066120494940247, -0.0520412480361425, 0.042348137330205614, 0.11177135241056813, -0.03869779103685226, -0.06540414800631471], \"y\": [-0.05514365804786135, -0.05515927225552481, -0.13324366213485941, -0.006246228681374365, -0.05458248782410556, -0.033670496515157605, -0.0715380474544051, -0.007508961740840239, 0.10949304339647987, 0.2630908039902856, 0.047658221022347014, -0.0031492537549842516], \"topics\": [1, 2, 3, 4, 5, 6, 7, 8, 9, 10, 11, 12], \"cluster\": [1, 1, 1, 1, 1, 1, 1, 1, 1, 1, 1, 1], \"Freq\": [13.84681769959247, 12.71081069180218, 9.948267719125887, 9.812475333075254, 8.034102121606608, 7.741359463100847, 7.502727356540347, 7.335412510358598, 7.287513265150129, 5.974654032973641, 5.69614853843855, 4.10971126823549]}, \"tinfo\": {\"Term\": [\"awareness\", \"traffic\", \"safety\", \"today\", \"hydtpwebringawareness\", \"conducted\", \"program\", \"police\", \"connection\", \"observation\", \"roads\", \"nationalroadsafetymonth\", \"addlcptrhyd\", \"sensitized\", \"drivers\", \"road\", \"blood\", \"hospital\", \"along\", \"tickets\", \"importance\", \"masks\", \"helmet\", \"oxygen\", \"need\", \"rules\", \"book\", \"please\", \"show\", \"number\", \"blood\", \"adda\", \"units\", \"bloodmatters\", \"fobs\", \"primary\", \"causing\", \"component\", \"travel\", \"using\", \"walking\", \"security\", \"released\", \"banjara\", \"needful\", \"number\", \"riding\", \"starts\", \"santhosh\", \"tsmaudonline\", \"powered\", \"injuries\", \"roadsafety\", \"houses\", \"kids\", \"secondary\", \"o+ve\", \"severe\", \"highly\", \"funds\", \"type\", \"house\", \"need\", \"signals\", \"group\", \"years\", \"take\", \"please\", \"road\", \"cybtraffic\", \"twitter\", \"help\", \"accidents\", \"patient\", \"hospital\", \"roads\", \"accident\", \"ktrtrs\", \"name\", \"people\", \"ghmconline\", \"contact\", \"city\", \"traffic\", \"beds\", \"verified\", \"oxygen\", \"ventilator\", \"supraja\", \"covid19indiahelp\", \"9182327901\", \"trolleys\", \"swachh\", \"footpath\", \"nagole\", \"madina\", \"situated\", \"commissioner\", \"bowenpally\", \"malla\", \"spo2\", \"oxygenbeds\", \"multispeciality\", \"1-1-216\", \"scene\", \"spotted\", \"raichur\", \"becomes\", \"zc_slp\", \"growth\", \"crimes\", \"leaving\", \"21/05/2021\", \"500068\", \"maintain\", \"removal\", \"moosarambagh\", \"ghmc\", \"times\", \"empty\", \"location\", \"available\", \"hello\", \"hospital\", \"friends\", \"contact\", \"telangana\", \"name\", \"colony\", \"prabhas\", \"request\", \"roads\", \"ktrtrs\", \"last\", \"ktroffice\", \"garbage\", \"also\", \"numbers\", \"lamborghini\", \"india\", \"illegal\", \"program\", \"sensitized\", \"nationalroadsafetymonth\", \"conducted\", \"sudarshan\", \"connection\", \"observation\", \"commuters\", \"wearing\", \"rules\", \"bahadurpura\", \"mirchowk\", \"nationalroadsafetymonth2021\", \"bhimavaram\", \"padmalaya\", \"sarat\", \"trimulgherry\", \"polite\", \"regulations\", \"uniform\", \"stores\", \"today\", \"rawe\", \"block/obstruct\", \"mahankali\", \"panjagutta\", \"marredpally\", \"young\", \"felicitated\", \"roses\", \"hydtpwebringawareness\", \"traffic\", \"police\", \"wear\", \"addlcptrhyd\", \"auto\", \"welovekalyanbabu\", \"vizag\", \"road\", \"theatres\", \"pedestrian\", \"vakeelsaabtrailer\", \"special\", \"35mm\", \"stop\", \"roads\", \"importance\", \"hyderabad_zone\", \"withcitizen\", \"hicyberabad\", \"hydwatch\", \"pandarajath\", \"aveervani\", \"royal_sukanya\", \"saivamshirv\", \"sai_koushika\", \"hitechcity\", \"janamantemanam\", \"distributed\", \"strictroadrules\", \"train\", \"stations\", \"spandana_adv\", \"airhyderabad\", \"respective\", \"king\", \"citizen_ts\", \"trending\", \"terminating\", \"satyahari7\", \"rail\", \"phase\", \"terminal\", \"decision\", \"locality\", \"11:45\", \"swachhhyd\", \"amksocialwork\", \"hihyderabad\", \"70mm\", \"bookmyshow\", \"start\", \"news\", \"tickets\", \"accidents\", \"road\", \"lockdown\", \"ktrtrs\", \"roads\", \"confirmed\", \"vakeelsaab\", \"pawankalyan\", \"outdoor\", \"hoardings\", \"vakeelsaabonapril9th\", \"sudharshan\", \"save\", \"theater\", \"visits\", \"floor\", \"yoursanjali\", \"kajaguda\", \"+91-8008725353\", \"magnifique\", \"raidurgam\", \"ananyanagalla\", \"interiors\", \"sriramvenu\", \"vakeelsaabjusticeserved\", \"shrutihaasan\", \"i_nivethathomas\", \"svc_official\", \"cell\", \"triple\", \"mbnr\", \"maintaining\", \"bayviewprojoffl\", \"boneykapoor\", \"adityamusic\", \"tiger\", \"families\", \"industry\", \"blockbuster\", \"sunday\", \"station\", \"suffering\", \"roads\", \"crossing\", \"team\", \"please\", \"35mm\", \"phone\", \"ktrtrs\", \"near\", \"road\", \"people\", \"driving\", \"many\", \"gachibowli\", \"city\", \"police\", \"ktroffice\", \"sangam\", \"sultan\", \"9:30\", \"mgbs\", \"aadhi\", \"ramesh\", \"recruitment\", \"nallakunta\", \"bikes\", \"signs\", \"single\", \"sanitation\", \"solution\", \"pride\", \"hungama\", \"media\", \"shivaratri\", \"patches\", \"anywhere\", \"litter\", \"tough\", \"extends\", \"announced\", \"disaster\", \"personnel\", \"hygiene\", \"tomorrow\", \"essential\", \"properly\", \"sarkaruvaaripaata\", \"anna\", \"seeing\", \"sudershan\", \"till\", \"full\", \"theatre\", \"experience\", \"record\", \"never\", \"motorway\", \"release\", \"kuda\", \"time\", \"feel\", \"roads\", \"south\", \"people\", \"whole\", \"city\", \"please\", \"telangana\", \"main\", \"work\", \"show\", \"look\", \"lockdown\", \"special\", \"ghmconline\", \"ktrtrs\", \"nampally\", \"bazar\", \"proper\", \"heavy\", \"photo\", \"entering\", \"gated\", \"statue\", \"improper\", \"pedestrians\", \"patrol\", \"digging\", \"laid\", \"basic\", \"felt\", \"asif\", \"kapilmishra_ind\", \"resorts\", \"trees\", \"overall\", \"stns.\", \"mayor\", \"part\", \"brother\", \"kishanreddybjp\", \"technology\", \"hyderabadrains\", \"gurinchi\", \"roam\", \"actually\", \"curfew\", \"posted\", \"drive\", \"sharma\", \"well\", \"area\", \"city\", \"developed\", \"community\", \"fungus\", \"think\", \"night\", \"small\", \"roads\", \"arvindkumar_ias\", \"many\", \"garbage\", \"places\", \"good\", \"ktrtrs\", \"like\", \"days\", \"high\", \"help\", \"even\", \"water\", \"request\", \"ghmconline\", \"also\", \"gadda\", \"powerstar\", \"'nizam\", \"noticed\", \"dumping\", \"kannada\", \"waste\", \"shankar\", \"land\", \"concentration\", \"releasing\", \"passing\", \"urine\", \"complaint\", \"penalize\", \"zero\", \"ideal\", \"punishable\", \"gutka\", \"celestial\", \"narasimha\", \"version\", \"rash\", \"negligent\", \"realestate\", \"cabinet\", \"distributors\", \"roberrt\", \"termination\", \"theatre..\", \"patience\", \"spitting\", \"responsible\", \"necklace\", \"celebrations\", \"world\", \"focus\", \"collection\", \"must\", \"littering\", \"class\", \"vakeelsaabtrailer\", \"place\", \"follow\", \"company\", \"roads\", \"35mm\", \"lockdown\", \"make\", \"days\", \"city\", \"telangana\", \"citizens\", \"people\", \"request\", \"driving\", \"spread\", \"face\", \"avert\", \"distancing\", \"adulterated\", \"physical\", \"displaying\", \"placards\", \"line\", \"technical\", \"requires\", \"tsrtc\", \"might\", \"masks\", \"citizen\", \"lightweight\", \"politicians\", \"setting\", \"congested\", \"passenger\", \"grab\", \"developing\", \"exit\", \"penalty\", \"insptr_begumpet\", \"blow\", \"balamrai\", \"sangeeth\", \"1,010.77\", \"completes\", \"mask\", \"limits\", \"covid19\", \"created\", \"free\", \"timings\", \"came\", \"major\", \"vehicles\", \"market\", \"film\", \"awareness\", \"borabanda\", \"staff\", \"back\", \"centre\", \"stop\", \"drivers\", \"telangana\", \"please\", \"hydtpwebringawareness\", \"lockdown\", \"ktrtrs\", \"road\", \"roads\", \"addlcptrhyd\", \"safety\", \"powder\", \"helmet\", \"aadispecialshowonmarch27\", \"tarak9999\", \"aadi\", \"carnival\", \"komarambheemntr\", \"taxes\", \"baghlingampally\", \"500027\", \"goshamahal\", \"concrete\", \"cracking\", \"seat\", \"jubilee\", \"drtamilisaiguv\", \"budget\", \"goverdhan\", \"9247388000\", \"flooring\", \"government/judiciary\", \"1lakh\", \"bother\", \"economical\", \"popular\", \"mass\", \"madam\", \"asphalt\", \"carriageway\", \"drivers\", \"awareness\", \"evening\", \"online\", \"show\", \"tickets\", \"ready\", \"book\", \"hills\", \"company\", \"footpaths\", \"road\", \"hydtp\", \"roads\", \"available\", \"created\", \"addlcptrhyd\", \"please\", \"along\", \"particularly\", \"list\", \"alwaysramcharan\", \"nose\", \"ramcharan\", \"magadheera\", \"ssrajamouli\", \"falaknuma\", \"ips.\", \"mskajalaggarwal\", \"junction\", \"regarding\", \"sale\", \"geethaarts\", \"property\", \"officials\", \"kumar\", \"anil\", \"acp_trf5\", \"9:30pm\", \"euphoria\", \"naik\", \"ramulu\", \"residential\", \"screening\", \"electricity\", \"born\", \"rrrmovie\", \"everywhere\", \"distance\", \"sandhya\", \"shamshabad\", \"march\", \"immediately\", \"charminar\", \"book\", \"cross\", \"staff\", \"roads\", \"place\", \"also\", \"public\", \"near\", \"road\", \"show\", \"selling\", \"irregularities\", \"investigate\", \"depot\", \"applicable\", \"issuing\", \"receipts\", \"opened\", \"//t.co/lmfv8ekcw8\", \"also.lot\", \"bookings\", \"temple\", \"gaushala\", \"wilddogonapril2nd\", \"vakeelsaabbookings\", \"demolished\", \"rider\", \"abandoned\", \"sunny\", \"birthday\", \"connecting\", \"wilddog\", \"20th\", \"paying\", \"hero\", \"graveyard\", \"riders\", \"29th\", \"allegedly\", \"allotted\", \"taking\", \"kindly\", \"star\", \"first\", \"roads\", \"zooming\", \"70mm\", \"sandhya\", \"lamborghini\", \"april\", \"prabhas\", \"india\"], \"Freq\": [366.0, 342.0, 204.0, 266.0, 280.0, 216.0, 209.0, 261.0, 161.0, 161.0, 1033.0, 125.0, 159.0, 116.0, 110.0, 431.0, 90.0, 144.0, 58.0, 81.0, 72.0, 71.0, 59.0, 80.0, 113.0, 72.0, 73.0, 238.0, 72.0, 83.0, 89.46323379876623, 46.32165552916697, 34.112591449668486, 28.448102539989787, 23.527674104787724, 21.521087038045405, 20.261363216116127, 20.261194012843625, 20.193290283413017, 26.332554023927834, 16.520735982895186, 15.92967074486367, 15.929583414142378, 15.887698781486138, 14.591525299758406, 79.37001843468414, 14.01984065914069, 14.001292432664187, 13.390459067143148, 12.11102442851019, 12.07234647077632, 11.422921113700179, 10.848761192950898, 10.176107228554113, 9.591623861368578, 9.552504474129437, 9.552431471104608, 9.546761796933353, 8.961736024096057, 8.919991939319392, 29.7470706047988, 20.75199403103647, 93.7216162231232, 14.690644303880143, 20.377212876077515, 25.786791597565554, 37.80907709690485, 97.8852284403702, 126.61166490545168, 28.166122557284236, 18.163398194968924, 34.86046718503149, 31.65639580978932, 27.60306591902148, 44.026192081822224, 98.85348597999379, 30.272779714284844, 49.00341823488333, 32.15655795421297, 31.53501975262129, 25.526567880801398, 25.391792016085418, 22.152348969635725, 22.1843188363405, 54.89987508211573, 57.347478955641776, 79.45083898390347, 32.24593983824781, 32.22581566201693, 27.186506988663776, 20.25972068712817, 16.48035254187609, 16.48035254187609, 16.47959722765555, 35.3820771323917, 15.927958559689044, 15.850463070142677, 13.369636644259375, 12.129373116308361, 10.810085934053003, 9.551251446510369, 9.550168578942113, 9.54585276609489, 8.921326275846134, 8.330912932334071, 8.330914184928135, 8.330892890829048, 8.33089664861124, 8.330895396017176, 8.330875980809186, 8.330866586353705, 8.330806461838637, 8.29239942265084, 8.291114261141262, 62.13918235000436, 32.226953017426965, 16.48036757300486, 62.82465693591812, 26.01576493644824, 11.452855830545667, 32.88835024024412, 67.70407197701236, 15.854885979782365, 93.7864974643541, 19.643637307167243, 56.18846869942888, 93.00887704872241, 51.358350750314116, 27.7088988378319, 31.390235213859707, 36.32158280484392, 179.9825354409413, 71.4860242238183, 30.631173231878996, 26.54107532978529, 26.396313033818494, 26.727338572277755, 18.851246302333852, 20.06040040411344, 23.91766486901234, 20.900002931809897, 208.05248287881284, 115.60332469239214, 123.45071943886158, 213.59504883780798, 56.671705986571716, 158.96195746692507, 158.96195746692507, 37.92858050765659, 45.5968952744108, 70.1021397791811, 24.983300249774672, 19.326330469021748, 40.96216407101499, 15.860172895275486, 15.860172895275486, 15.860172895275486, 12.534040791686595, 11.39496612512654, 10.262999051866545, 9.317358762414758, 17.246358483545865, 245.30005203040778, 9.091695126032079, 7.989746605440754, 7.987191793283519, 12.742677575595419, 7.953539544812549, 6.848435742974846, 6.8482847678895755, 6.8482847678895755, 245.8316725592368, 296.0097989568267, 213.61928328006695, 25.787044546584053, 127.72661619673168, 43.67705295437565, 17.283914026185688, 16.13643867452381, 95.46178170222665, 16.13931406364782, 22.418994308605647, 21.055585370699447, 20.29135537120762, 21.05627162108704, 17.29015498328199, 23.704756956228895, 71.27442867767229, 44.59560065623273, 44.017074411759054, 44.01652903731835, 42.24945396297061, 41.082066434976696, 41.08186143607345, 40.496976357695374, 40.496964753983875, 40.49688739590718, 40.49687966009951, 39.9116580740878, 33.618926646226335, 27.036582050830972, 29.871074810658595, 26.450799618763227, 25.280375786259, 21.183820816273258, 19.410415917299883, 14.800272940322786, 12.990158733029357, 12.441154264574731, 12.385811329530569, 11.216426029205982, 14.253125065708861, 9.496696031748014, 9.460815421824567, 9.469995891576446, 8.89172976363566, 8.284447588102221, 42.8363078044006, 40.47550949141228, 54.85733905722385, 51.81594438546553, 26.616993776784653, 28.090216460995574, 44.23855445324308, 34.522728131590675, 29.79185047036247, 59.45397918191368, 24.512357065015028, 30.463011077727497, 27.390187753359577, 36.32682368198482, 37.72931096529678, 41.03626778535294, 23.437514328344836, 23.696812235437797, 21.047074387800613, 16.645193340718464, 56.28590143790788, 21.902337075147525, 14.087512544314302, 13.689309624831393, 12.390470249092235, 11.992241994404212, 11.567882850816297, 11.567874933564699, 11.567865432862781, 10.679404917839419, 10.281515521519799, 10.255357713964473, 10.255363256040592, 9.830974818621764, 9.830967693095326, 9.830514034578748, 9.442283685208944, 8.597146370930984, 8.17270172102581, 8.172665301668458, 8.133422652396773, 8.133424235847091, 7.284612525102403, 11.727801040673052, 17.43927784151569, 54.06535938285995, 13.291067119090492, 13.148431497747469, 19.379261002028816, 18.580516406940887, 160.34696920191098, 23.269255313929367, 16.285606024180662, 58.35374821173209, 24.69992959638127, 17.30447713235425, 35.50842688497982, 17.73207997392195, 33.39419451749201, 22.820030458246954, 17.632100920739763, 18.71037516765472, 13.724691822223791, 17.654558996623244, 18.516803116429454, 14.714527201886108, 36.55285716785959, 23.675880447723117, 16.37660782790792, 11.225988024226998, 10.798996798540157, 10.798934242653369, 8.637434583427352, 8.223540424379411, 8.223512960819358, 7.795839723391185, 14.351809564602085, 6.46329482068666, 6.074256327802239, 5.6482370069906285, 5.648236625552294, 13.066405099852915, 5.22034329820536, 5.2196300085206335, 5.207793595575862, 5.193936322337145, 4.780333582176439, 5.868546252795682, 5.523623773315711, 4.353152018760894, 4.340532131477926, 4.340363535734264, 8.528079264553885, 3.926902309195501, 3.9268550108420754, 3.922574509857053, 7.975948038852765, 6.421520457215115, 14.76387739690646, 38.63116207491654, 17.400054176592405, 15.21934223135555, 14.145086770818553, 15.046909218052287, 18.173110671008114, 8.218249111809081, 24.163921641655797, 8.02108592555421, 34.531481169287105, 6.500675777426297, 135.20313055597632, 10.576096442131712, 32.45387505725818, 9.581087847006074, 25.329797064284975, 24.511367717154027, 21.795691559879565, 11.325371019294332, 11.666695772407282, 13.029844998408214, 11.235057864934703, 13.648551708062625, 11.295853795250046, 12.05446293132422, 11.877857745522812, 34.774734264460854, 29.50295763191246, 27.18282358169965, 17.52553439221009, 14.503414485282635, 13.232458167648911, 11.489028289515572, 8.41055728031273, 7.9659657448197665, 38.45803619908577, 7.0919269956023205, 6.654162715258024, 6.653129828595398, 6.217792129515768, 6.217398050352433, 5.780709539581594, 5.343145625941358, 5.343017716569394, 5.342984075665207, 5.343086107418566, 5.339140509941755, 5.327592068118642, 16.250969995182228, 4.893186332989077, 4.892554179734571, 4.455949586384068, 4.019058860507841, 4.018994905821859, 4.01905368498412, 4.018959046836077, 6.526128391363749, 15.618136528986849, 33.193378129735486, 8.82389530677501, 16.665400796510188, 24.656134379777566, 68.11103965727835, 7.485652005243208, 7.394850398998559, 7.032942291113425, 12.596161536723583, 11.735507431209445, 8.786701775233558, 99.88727658379594, 12.984342081738104, 22.186682034047706, 17.2083990006757, 12.493057710593868, 13.63784067479132, 27.715337653527268, 12.916314997947909, 12.712795660581328, 8.990088027704454, 12.191996017016166, 10.10910797417878, 9.861861376253119, 10.824078480549147, 10.739250168039183, 10.712767752518824, 28.789483221435212, 30.75434291864274, 28.321189135033183, 26.217402037980275, 29.278659645583264, 23.215605022098316, 16.723122269399543, 16.355593703367397, 14.210047713801595, 13.35712768348148, 13.35710310582005, 13.301301694162381, 10.731717311959688, 10.730609148578191, 10.305331029783916, 10.304298768003894, 9.45278978459877, 9.452792676088349, 9.452782555874819, 9.452775327150869, 9.009969721395647, 8.639474487054523, 8.21299206285022, 8.212983388381481, 8.212949413378919, 8.172430247023406, 7.785692069967204, 7.785692069967204, 7.785692069967204, 7.785692069967204, 12.320515657384789, 12.451442305562589, 14.531176546545112, 13.405604952033267, 30.721550535317114, 15.022700860232044, 11.950204032631989, 15.357124762063934, 11.476760926160557, 12.968501363729603, 13.533764444683104, 24.505038776847794, 25.66885176679859, 17.502492925020572, 25.879618225256543, 107.53657934891956, 23.718877457948373, 23.346509984104266, 16.84158948897756, 17.13141794701868, 22.28676170413402, 21.396592059300865, 15.737987432293783, 17.288911601456586, 14.021816079384578, 13.395192698056052, 45.69174313974355, 43.773662196708194, 41.73593136249293, 37.98853308050988, 35.28336888616047, 50.48269978190017, 32.50110675103083, 32.50110675103083, 27.1258902565962, 14.75476886968782, 12.060206037179363, 7.415546321232378, 7.41554775753665, 63.99269268055588, 7.649230153883757, 5.4783172877780135, 5.478216387402817, 5.093240162279393, 5.093217540487089, 5.093203536520425, 5.093167987989662, 5.0931532658708605, 4.707639503873168, 4.70722333470999, 4.706973776842511, 4.706812551687837, 4.7057931347298885, 4.694474338904437, 4.639468194151275, 4.639468194151275, 26.458864806875667, 16.715048432271647, 52.04547351903277, 49.856764124829155, 35.37057840902447, 25.03886545972253, 6.544971420665664, 7.6828820448541775, 21.413629165093344, 12.383950456677166, 11.781726028701314, 99.33781403264102, 5.789453110212976, 11.342328234663947, 11.165538568732932, 7.831451922576251, 12.6340052854352, 18.043378531792307, 22.805522910227268, 22.200716725320223, 22.98006116920994, 14.645565219487345, 16.491216210630583, 17.389557027255883, 15.225098194402047, 13.171698716869745, 200.1010756389723, 24.49764650044628, 57.55393407653456, 24.07727244228012, 19.95913748901303, 28.307927137708077, 18.189224812869835, 18.156780917941145, 15.822629201956294, 8.608949013399368, 8.608949013399368, 8.107232651518892, 7.597829234393987, 7.096167628651511, 24.715521762325146, 11.32635424741592, 6.077111742290151, 5.080666019493172, 4.574491153795414, 7.14759070754192, 4.320649057721998, 4.313516334777862, 4.313505148039991, 4.3133900423950555, 3.819614498075977, 3.819606549604332, 18.436656613755314, 6.327184202088868, 3.5687651487709005, 3.5687651487709005, 89.75375558080604, 266.07198665295556, 17.75536072638257, 20.40052141845234, 50.43072810244877, 46.301201517374906, 18.780836033954866, 40.44526218075719, 16.725699223743796, 27.090070555089312, 12.637149070715838, 60.37104670519559, 14.554654856123964, 57.784790664549234, 19.558685244668137, 14.906776860211947, 17.93487960798006, 13.53694549973687, 57.42796786176364, 30.631425008610044, 25.270218692855487, 23.06496341617517, 23.064952189571265, 22.74719439268788, 18.9642824320213, 13.29049715176402, 12.969776654110513, 11.399805703156556, 11.399099549771028, 24.735297960705232, 8.558930425293164, 7.918490281724143, 7.6171238878699965, 7.60771150315734, 6.667029310115103, 14.094035712851849, 5.726059716012937, 5.724957824839813, 5.7248410681592174, 5.7240698004710495, 5.659853064813093, 5.659853064813093, 8.235240490907193, 22.69582369854645, 7.246434337572407, 4.775878693407987, 4.775779899293637, 4.772524184161635, 11.565325137807141, 26.969823239082636, 7.138422620087073, 24.365706933599597, 10.431956812658543, 26.040579271427436, 30.536968854007938, 21.559850801292253, 12.613147863871806, 70.0437831667229, 14.108998530534373, 13.29162879343749, 9.495958920095022, 10.100926924640493, 11.170135208480847, 8.534419942320946, 27.365255079338155, 26.7202068221933, 24.936087490929218, 20.236163221815232, 17.853048292112103, 17.853048292112103, 17.853048292112103, 16.36518032950449, 16.07619131025628, 16.07619131025628, 15.484973213380716, 11.61602987001153, 8.95695295268334, 7.175448261603271, 7.168718884078861, 5.985019919557319, 5.679977349774079, 5.393502937233207, 5.393502937233207, 5.089505656532208, 4.794073185405489, 10.738864257571455, 4.203170983719441, 20.22377203050945, 4.19242447236832, 3.9077871118526475, 3.907786301864982, 3.9077846818896513, 3.612086939802503, 3.612086939802503, 27.192228754199206, 25.558841647570716, 5.963686869418999, 12.156084286012412, 57.94565575813864, 5.393912385998083, 10.42185614500062, 7.9453569273621545, 7.4713918349468775, 5.984603990891118, 5.7550178470503734, 5.595565700202568], \"Total\": [366.0, 342.0, 204.0, 266.0, 280.0, 216.0, 209.0, 261.0, 161.0, 161.0, 1033.0, 125.0, 159.0, 116.0, 110.0, 431.0, 90.0, 144.0, 58.0, 81.0, 72.0, 71.0, 59.0, 80.0, 113.0, 72.0, 73.0, 238.0, 72.0, 83.0, 90.2756100712484, 47.04124638327813, 34.8405318997595, 29.171109684901445, 24.247250083033062, 22.241673200835205, 20.981452017312304, 20.98179306670537, 21.019701505817995, 27.434562359796267, 17.240589294576154, 16.649273103997675, 16.64923302314475, 16.61070702235751, 15.311895685018534, 83.37980587784695, 14.739922172343244, 14.720877261069, 14.11015817263854, 12.830899551808042, 12.792389393517688, 12.154811086611373, 11.570228004701335, 10.91269074594575, 10.311191126862564, 10.272593743459755, 10.272626389404198, 10.270390664586802, 9.681276089968712, 9.64197390366674, 33.46814930160499, 23.05044180279388, 113.22068047064505, 17.146715748050354, 25.323953717339318, 35.31119210678535, 58.6399813168632, 238.63847815472613, 431.0546753785854, 45.96157554872725, 24.188998897276534, 70.99073412435378, 65.70527711719033, 53.212699537664385, 144.31260990916013, 1033.904249604939, 77.29404675556212, 244.2839026469299, 97.71055129083462, 128.2103070346397, 76.49064353195493, 90.28483574361508, 171.2938164917306, 342.3316655175484, 55.62232911587156, 58.118485080069966, 80.6144737538879, 32.966425921020296, 32.94681298599492, 27.907771887348993, 20.979651672538935, 17.200308105231716, 17.2003138938718, 17.20012331700191, 36.96306477605561, 16.64754928675572, 16.570416174814056, 14.089472939341217, 12.848948114830286, 11.530798425367372, 10.2715018699675, 10.270986266989105, 10.270865193983868, 9.64150795387039, 9.050445588747701, 9.050446987890084, 9.05043525911433, 9.050441943989101, 9.050440795973664, 9.050431735178268, 9.05042946521296, 9.050391266703352, 9.01192915340511, 9.011266768131913, 70.76779737479414, 36.79088268654694, 18.337529105712367, 77.61910629009014, 30.401492707199527, 12.782531004355793, 41.01714871804295, 94.1936188561567, 18.709146089648012, 144.31260990916013, 24.114137421248024, 90.28483574361508, 213.3462094300177, 97.71055129083462, 42.52553333077835, 53.12021244659686, 72.59241736575368, 1033.904249604939, 244.2839026469299, 58.11892225229341, 54.506559925129686, 54.58721795314953, 74.93887053346567, 27.76115945133965, 36.11933784187306, 76.10918334008663, 43.93968561544676, 209.37566043901114, 116.972830071646, 125.01220167631082, 216.3065175731728, 57.52205043758633, 161.68961208796654, 161.68961208796654, 38.72625964189122, 46.954926178438804, 72.27036150461385, 25.878805849860857, 20.1734361587661, 43.295870020317984, 16.859214094748225, 16.859214094748225, 16.859214094748225, 13.337721657643753, 12.198655142378476, 11.059861116893881, 10.10965373265623, 18.7214549202848, 266.5413749370117, 9.949547120587841, 8.785305781998419, 8.786320427773463, 14.018514849865534, 8.821679701188508, 7.641140522502385, 7.6519731338531605, 7.6519731338531605, 280.24463769195864, 342.3316655175484, 261.3999667302957, 29.689396550462362, 159.64521641856507, 64.56496063527206, 22.756921610660598, 21.112744913259096, 431.0546753785854, 23.314184904059857, 51.12221277848248, 46.313472389422095, 42.448284061230176, 70.12834846755554, 34.21732738944036, 1033.904249604939, 72.00135932377658, 45.33263031891461, 44.750661610614905, 44.75043253164327, 42.98179302343161, 41.81086588212055, 41.81078223511646, 41.22568990783968, 41.22568100919998, 41.22563958766093, 41.22566391971643, 40.64034792041249, 34.34591887254159, 27.764411677138416, 30.676502013796583, 27.178504712549053, 26.00837904854815, 21.91141934190808, 20.13767490821598, 15.527200339072213, 13.717593022334402, 13.168109251688383, 13.114331149946768, 11.94373230232432, 15.220389404844399, 10.223767666355023, 10.187856241644688, 10.201039119367225, 9.633046394369408, 9.017663769789925, 47.07586851045108, 45.02515179298879, 65.92877993107238, 62.91923149754773, 32.36497300163468, 35.34156547992415, 68.19447540914938, 81.50948869565043, 65.70527711719033, 431.0546753785854, 99.3265462068824, 244.2839026469299, 1033.904249604939, 37.08024660971419, 38.58675652713019, 42.140153148813575, 24.208400179484844, 24.565299340661497, 21.954849889426608, 17.40036833573946, 59.02777447986801, 22.998867430413988, 14.841884912803925, 14.443551960334572, 13.144233170977401, 12.745854539848425, 12.321471293000656, 12.321464013938447, 12.321460776734412, 11.433472032679763, 11.03518965557673, 11.009181431652754, 11.00918774437117, 10.584753931876397, 10.584746422095536, 10.58464949844957, 10.200865355965934, 9.350591610734682, 8.92614754134996, 8.926153650030441, 8.887100043059922, 8.88710401104137, 8.038274991618751, 12.987730748835567, 19.55634557240669, 63.645683787623554, 14.899215204834892, 15.397344064869266, 31.1516505104615, 30.02040239762377, 1033.904249604939, 43.839230920133176, 24.296036651196758, 238.63847815472613, 70.12834846755554, 38.73754218644268, 244.2839026469299, 43.922346071807574, 431.0546753785854, 128.2103070346397, 61.746234428170084, 77.65541084647012, 25.778756700467387, 171.2938164917306, 261.3999667302957, 54.506559925129686, 37.3058385335839, 24.42889329533205, 17.129882503344408, 11.979005195488734, 11.551986396497428, 11.551947908324387, 9.390575604137071, 8.976561217183988, 8.976586445699079, 8.549578778973713, 15.860605973736785, 7.229371101606493, 6.828430677088744, 6.401212717338126, 6.401213035823914, 14.852732144280516, 5.973702217177931, 5.9735993129674085, 5.961160795416209, 5.947932144450569, 5.533882336322086, 6.810019545249328, 6.429888754610064, 5.106769071995449, 5.093778351237182, 5.093713786476355, 10.059547186763334, 4.679941705129065, 4.67991627355557, 4.677506595096331, 9.55316486591628, 7.694920869685984, 18.126606864830563, 50.82060195589861, 22.096395792952098, 19.314568474958477, 18.065976629097015, 19.665805486962594, 25.886357015560865, 10.239044842803933, 38.727385917527855, 10.109840273758838, 66.62071247575398, 7.884724916110776, 1033.904249604939, 18.003000585785756, 128.2103070346397, 16.347576537244752, 171.2938164917306, 238.63847815472613, 213.3462094300177, 29.456110443448107, 33.16289223352996, 72.67233061117867, 37.854491275630814, 99.3265462068824, 42.448284061230176, 76.49064353195493, 244.2839026469299, 35.526075044579386, 30.25443427628375, 27.99640562610424, 18.422790538961838, 15.262480060244304, 14.000270622846584, 12.240748896464765, 9.165949863769484, 8.717468397297452, 42.46716424115702, 7.843302290522105, 7.406304998254901, 7.4069883295489065, 6.969187011851768, 6.969363844575871, 6.532079242872713, 6.09499866456409, 6.094862009905901, 6.094836945033571, 6.09495968949731, 6.094400236923978, 6.081981251475569, 18.71813972721868, 5.644564937379377, 5.64485809383184, 5.207508198551636, 4.770417649805633, 4.770373551898445, 4.770448138080917, 4.770453495746996, 7.8223722258273165, 19.1252670083194, 42.1835630179792, 10.820118778116909, 23.591348300185565, 44.83079651976129, 171.2938164917306, 9.795831266764534, 9.719369699358321, 9.088067775384516, 21.575662186640308, 22.002199471692894, 13.873798549126334, 1033.904249604939, 28.491372086173243, 77.65541084647012, 54.58721795314953, 30.54750819683926, 40.88752343561364, 244.2839026469299, 44.47994400393309, 50.52859344077987, 17.822187065239955, 70.99073412435378, 30.398677920877475, 29.37886657066743, 72.59241736575368, 76.49064353195493, 74.93887053346567, 29.542569126064063, 31.58830948873052, 29.093175352613013, 26.970491533129692, 30.177792401692436, 23.972469497031273, 17.48484910030328, 17.10873551046044, 14.963192652199886, 14.110195143819109, 14.110187889152161, 14.056767419125203, 11.485688918335864, 11.4853084326546, 11.059186965204814, 11.059628707844142, 10.206304046443906, 10.206308027930561, 10.2063004136686, 10.206299255535377, 9.773631138585845, 9.392561259469575, 8.966064468885223, 8.96606547760015, 8.96606634281156, 8.927190771438788, 8.53970729334455, 8.53970729334455, 8.53970729334455, 8.53970729334455, 13.624453748087488, 14.486104166844758, 17.770725055087077, 16.162767186308013, 47.936534996437196, 19.457016732538317, 14.685661983580918, 20.47392982740192, 13.977673913546633, 16.785078088079814, 17.962883255189585, 46.313472389422095, 53.15495027368718, 28.541743636435378, 55.541213948247915, 1033.904249604939, 70.12834846755554, 99.3265462068824, 42.58044204157179, 50.52859344077987, 171.2938164917306, 213.3462094300177, 51.22972088495902, 128.2103070346397, 72.59241736575368, 61.746234428170084, 46.465533041091746, 44.54213629892813, 42.560518491828276, 38.75231121625727, 36.04337445590004, 51.634958327530484, 33.29870381008332, 33.29870381008332, 27.89950121573817, 15.529269954248898, 12.8201255321507, 8.175453135568002, 8.175469686082064, 71.11949768889305, 8.671962071864492, 6.238225904321333, 6.23829697636682, 5.8531351457519065, 5.85313913669293, 5.85315503075513, 5.853118605478549, 5.85317185716446, 5.467967319837495, 5.467827245673897, 5.467787024993277, 5.467721346140195, 5.467195268582646, 5.464193878622836, 5.43352899832026, 5.43352899832026, 31.34827245883605, 20.179286904436985, 68.22899976009633, 67.45574335656403, 47.992910808551265, 33.98680000564701, 8.07975923118282, 9.839579256254558, 34.07822335093415, 17.898975135896027, 17.42695832360971, 366.24783760893354, 7.0703925498531985, 24.664540581047532, 25.762338322526908, 12.768780923121234, 34.21732738944036, 110.13277456529657, 213.3462094300177, 238.63847815472613, 280.24463769195864, 99.3265462068824, 244.2839026469299, 431.0546753785854, 1033.904249604939, 159.64521641856507, 204.5239424121618, 25.279690449943928, 59.520993880215215, 24.995930785920383, 20.741162912882984, 29.457294023465714, 18.976319642939373, 18.968181468430924, 16.757940647208926, 9.391080312819932, 9.391080333359776, 8.889341643843636, 8.379955713331746, 7.878191268992734, 27.744113536032245, 12.730611334824227, 6.859653110239711, 5.864273461493759, 5.363118963197162, 8.420918654763963, 5.103748080392755, 5.0958327629288265, 5.095839654499064, 5.095919564226315, 4.6016657471829605, 4.601664917280421, 22.377102463810143, 7.696337626059558, 4.350788789112124, 4.350788789112124, 110.13277456529657, 366.24783760893354, 22.9325968768884, 26.891065004376355, 72.67233061117867, 81.50948869565043, 28.87493086249087, 73.4325525460242, 27.47780694743665, 55.541213948247915, 25.799849684321302, 431.0546753785854, 34.62526455920312, 1033.904249604939, 94.1936188561567, 67.45574335656403, 159.64521641856507, 238.63847815472613, 58.19965584268802, 31.4031526844148, 26.041949693670553, 23.836632435673373, 23.836623255135127, 23.525731081119268, 19.7422004750735, 14.066487720113, 13.741562175448605, 12.17274242492163, 12.174650252746995, 26.660942689222242, 9.330841287697943, 8.69292241022039, 8.390685104363058, 8.380850805909416, 7.439471904379874, 15.857136001680761, 6.498257008144884, 6.497869947534186, 6.4989157117793335, 6.499390496471459, 6.472051743127975, 6.472051743127975, 9.445315016216838, 26.10358037083946, 8.37346892438171, 5.54767169045943, 5.547851113211943, 5.550634125542379, 14.061960988329007, 35.64192953401774, 8.5624532073501, 41.07347572383799, 14.496146171687046, 51.08124020171103, 73.4325525460242, 52.90890298051582, 24.664540581047532, 1033.904249604939, 53.15495027368718, 74.93887053346567, 28.89084834005022, 43.922346071807574, 431.0546753785854, 72.67233061117867, 28.14205225552578, 27.54499100773273, 25.762076287695724, 21.01573315984809, 18.645243184796783, 18.645243184796783, 18.645243184796783, 17.148625744740727, 16.861401289952116, 16.861401289952116, 16.259695842188727, 12.391838848412949, 9.732614274388952, 7.950979050272489, 7.948398632034488, 6.759735161357636, 6.4553710539675775, 6.168794757233708, 6.168794757233708, 5.864328220218708, 5.568892085260129, 12.65189282099751, 4.97798612000005, 24.023594549087953, 4.990116102261159, 4.682457937248432, 4.6824576071664055, 4.682459733535649, 4.387134166711607, 4.387134166711607, 40.638650925558366, 63.59338653267342, 9.933664902484125, 42.7994581570744, 1033.904249604939, 9.967499006031186, 62.91923149754773, 35.64192953401774, 36.11933784187306, 20.48642169696428, 53.12021244659686, 76.10918334008663], \"Category\": [\"Default\", \"Default\", \"Default\", \"Default\", \"Default\", \"Default\", \"Default\", \"Default\", \"Default\", \"Default\", \"Default\", \"Default\", \"Default\", \"Default\", \"Default\", \"Default\", \"Default\", \"Default\", \"Default\", \"Default\", \"Default\", \"Default\", \"Default\", \"Default\", \"Default\", \"Default\", \"Default\", \"Default\", \"Default\", \"Default\", \"Topic1\", \"Topic1\", \"Topic1\", \"Topic1\", \"Topic1\", \"Topic1\", \"Topic1\", \"Topic1\", \"Topic1\", \"Topic1\", \"Topic1\", \"Topic1\", \"Topic1\", \"Topic1\", \"Topic1\", \"Topic1\", \"Topic1\", \"Topic1\", \"Topic1\", \"Topic1\", \"Topic1\", \"Topic1\", \"Topic1\", \"Topic1\", \"Topic1\", \"Topic1\", \"Topic1\", \"Topic1\", \"Topic1\", \"Topic1\", \"Topic1\", \"Topic1\", \"Topic1\", \"Topic1\", \"Topic1\", \"Topic1\", \"Topic1\", \"Topic1\", \"Topic1\", \"Topic1\", \"Topic1\", \"Topic1\", \"Topic1\", \"Topic1\", \"Topic1\", \"Topic1\", \"Topic1\", \"Topic1\", \"Topic1\", \"Topic1\", \"Topic1\", \"Topic1\", \"Topic1\", \"Topic1\", \"Topic2\", \"Topic2\", \"Topic2\", \"Topic2\", \"Topic2\", \"Topic2\", \"Topic2\", \"Topic2\", \"Topic2\", \"Topic2\", \"Topic2\", \"Topic2\", \"Topic2\", \"Topic2\", \"Topic2\", \"Topic2\", \"Topic2\", \"Topic2\", \"Topic2\", \"Topic2\", \"Topic2\", \"Topic2\", \"Topic2\", \"Topic2\", \"Topic2\", \"Topic2\", \"Topic2\", \"Topic2\", \"Topic2\", \"Topic2\", \"Topic2\", \"Topic2\", \"Topic2\", \"Topic2\", \"Topic2\", \"Topic2\", \"Topic2\", \"Topic2\", \"Topic2\", \"Topic2\", \"Topic2\", \"Topic2\", \"Topic2\", \"Topic2\", \"Topic2\", \"Topic2\", \"Topic2\", \"Topic2\", \"Topic2\", \"Topic2\", \"Topic2\", \"Topic2\", \"Topic2\", \"Topic2\", \"Topic2\", \"Topic2\", \"Topic2\", \"Topic3\", \"Topic3\", \"Topic3\", \"Topic3\", \"Topic3\", \"Topic3\", \"Topic3\", \"Topic3\", \"Topic3\", \"Topic3\", \"Topic3\", \"Topic3\", \"Topic3\", \"Topic3\", \"Topic3\", \"Topic3\", \"Topic3\", \"Topic3\", \"Topic3\", \"Topic3\", \"Topic3\", \"Topic3\", \"Topic3\", \"Topic3\", \"Topic3\", \"Topic3\", \"Topic3\", \"Topic3\", \"Topic3\", \"Topic3\", \"Topic3\", \"Topic3\", \"Topic3\", \"Topic3\", \"Topic3\", \"Topic3\", \"Topic3\", \"Topic3\", \"Topic3\", \"Topic3\", \"Topic3\", \"Topic3\", \"Topic3\", \"Topic3\", \"Topic3\", \"Topic3\", \"Topic4\", \"Topic4\", \"Topic4\", \"Topic4\", \"Topic4\", \"Topic4\", \"Topic4\", \"Topic4\", \"Topic4\", \"Topic4\", \"Topic4\", \"Topic4\", \"Topic4\", \"Topic4\", \"Topic4\", \"Topic4\", \"Topic4\", \"Topic4\", \"Topic4\", \"Topic4\", \"Topic4\", \"Topic4\", \"Topic4\", \"Topic4\", \"Topic4\", \"Topic4\", \"Topic4\", \"Topic4\", \"Topic4\", \"Topic4\", \"Topic4\", \"Topic4\", \"Topic4\", \"Topic4\", \"Topic4\", \"Topic4\", \"Topic4\", \"Topic4\", \"Topic4\", \"Topic4\", \"Topic4\", \"Topic4\", \"Topic4\", \"Topic5\", \"Topic5\", \"Topic5\", \"Topic5\", \"Topic5\", \"Topic5\", \"Topic5\", \"Topic5\", \"Topic5\", \"Topic5\", \"Topic5\", \"Topic5\", \"Topic5\", \"Topic5\", \"Topic5\", \"Topic5\", \"Topic5\", \"Topic5\", \"Topic5\", \"Topic5\", \"Topic5\", \"Topic5\", \"Topic5\", \"Topic5\", \"Topic5\", \"Topic5\", \"Topic5\", \"Topic5\", \"Topic5\", \"Topic5\", \"Topic5\", \"Topic5\", \"Topic5\", \"Topic5\", \"Topic5\", \"Topic5\", \"Topic5\", \"Topic5\", \"Topic5\", \"Topic5\", \"Topic5\", \"Topic5\", \"Topic5\", \"Topic5\", \"Topic5\", \"Topic5\", \"Topic5\", \"Topic5\", \"Topic5\", \"Topic5\", \"Topic5\", \"Topic5\", \"Topic5\", \"Topic6\", \"Topic6\", \"Topic6\", \"Topic6\", \"Topic6\", \"Topic6\", \"Topic6\", \"Topic6\", \"Topic6\", \"Topic6\", \"Topic6\", \"Topic6\", \"Topic6\", \"Topic6\", \"Topic6\", \"Topic6\", \"Topic6\", \"Topic6\", \"Topic6\", \"Topic6\", \"Topic6\", \"Topic6\", \"Topic6\", \"Topic6\", \"Topic6\", \"Topic6\", \"Topic6\", \"Topic6\", \"Topic6\", \"Topic6\", \"Topic6\", \"Topic6\", \"Topic6\", \"Topic6\", \"Topic6\", \"Topic6\", \"Topic6\", \"Topic6\", \"Topic6\", \"Topic6\", \"Topic6\", \"Topic6\", \"Topic6\", \"Topic6\", \"Topic6\", \"Topic6\", \"Topic6\", \"Topic6\", \"Topic6\", \"Topic6\", \"Topic6\", \"Topic6\", \"Topic6\", \"Topic6\", \"Topic6\", \"Topic6\", \"Topic6\", \"Topic6\", \"Topic6\", \"Topic7\", \"Topic7\", \"Topic7\", \"Topic7\", \"Topic7\", \"Topic7\", \"Topic7\", \"Topic7\", \"Topic7\", \"Topic7\", \"Topic7\", \"Topic7\", \"Topic7\", \"Topic7\", \"Topic7\", \"Topic7\", \"Topic7\", \"Topic7\", \"Topic7\", \"Topic7\", \"Topic7\", \"Topic7\", \"Topic7\", \"Topic7\", \"Topic7\", \"Topic7\", \"Topic7\", \"Topic7\", \"Topic7\", \"Topic7\", \"Topic7\", \"Topic7\", \"Topic7\", \"Topic7\", \"Topic7\", \"Topic7\", \"Topic7\", \"Topic7\", \"Topic7\", \"Topic7\", \"Topic7\", \"Topic7\", \"Topic7\", \"Topic7\", \"Topic7\", \"Topic7\", \"Topic7\", \"Topic7\", \"Topic7\", \"Topic7\", \"Topic7\", \"Topic7\", \"Topic7\", \"Topic7\", \"Topic7\", \"Topic7\", \"Topic7\", \"Topic7\", \"Topic7\", \"Topic8\", \"Topic8\", \"Topic8\", \"Topic8\", \"Topic8\", \"Topic8\", \"Topic8\", \"Topic8\", \"Topic8\", \"Topic8\", \"Topic8\", \"Topic8\", \"Topic8\", \"Topic8\", \"Topic8\", \"Topic8\", \"Topic8\", \"Topic8\", \"Topic8\", \"Topic8\", \"Topic8\", \"Topic8\", \"Topic8\", \"Topic8\", \"Topic8\", \"Topic8\", \"Topic8\", \"Topic8\", \"Topic8\", \"Topic8\", \"Topic8\", \"Topic8\", \"Topic8\", \"Topic8\", \"Topic8\", \"Topic8\", \"Topic8\", \"Topic8\", \"Topic8\", \"Topic8\", \"Topic8\", \"Topic8\", \"Topic8\", \"Topic8\", \"Topic8\", \"Topic8\", \"Topic8\", \"Topic8\", \"Topic8\", \"Topic8\", \"Topic8\", \"Topic8\", \"Topic8\", \"Topic8\", \"Topic8\", \"Topic8\", \"Topic9\", \"Topic9\", \"Topic9\", \"Topic9\", \"Topic9\", \"Topic9\", \"Topic9\", \"Topic9\", \"Topic9\", \"Topic9\", \"Topic9\", \"Topic9\", \"Topic9\", \"Topic9\", \"Topic9\", \"Topic9\", \"Topic9\", \"Topic9\", \"Topic9\", \"Topic9\", \"Topic9\", \"Topic9\", \"Topic9\", \"Topic9\", \"Topic9\", \"Topic9\", \"Topic9\", \"Topic9\", \"Topic9\", \"Topic9\", \"Topic9\", \"Topic9\", \"Topic9\", \"Topic9\", \"Topic9\", \"Topic9\", \"Topic9\", \"Topic9\", \"Topic9\", \"Topic9\", \"Topic9\", \"Topic9\", \"Topic9\", \"Topic9\", \"Topic9\", \"Topic9\", \"Topic9\", \"Topic9\", \"Topic9\", \"Topic9\", \"Topic9\", \"Topic9\", \"Topic9\", \"Topic9\", \"Topic9\", \"Topic9\", \"Topic10\", \"Topic10\", \"Topic10\", \"Topic10\", \"Topic10\", \"Topic10\", \"Topic10\", \"Topic10\", \"Topic10\", \"Topic10\", \"Topic10\", \"Topic10\", \"Topic10\", \"Topic10\", \"Topic10\", \"Topic10\", \"Topic10\", \"Topic10\", \"Topic10\", \"Topic10\", \"Topic10\", \"Topic10\", \"Topic10\", \"Topic10\", \"Topic10\", \"Topic10\", \"Topic10\", \"Topic10\", \"Topic10\", \"Topic10\", \"Topic10\", \"Topic10\", \"Topic10\", \"Topic10\", \"Topic10\", \"Topic10\", \"Topic10\", \"Topic10\", \"Topic10\", \"Topic10\", \"Topic10\", \"Topic10\", \"Topic10\", \"Topic10\", \"Topic10\", \"Topic10\", \"Topic10\", \"Topic10\", \"Topic11\", \"Topic11\", \"Topic11\", \"Topic11\", \"Topic11\", \"Topic11\", \"Topic11\", \"Topic11\", \"Topic11\", \"Topic11\", \"Topic11\", \"Topic11\", \"Topic11\", \"Topic11\", \"Topic11\", \"Topic11\", \"Topic11\", \"Topic11\", \"Topic11\", \"Topic11\", \"Topic11\", \"Topic11\", \"Topic11\", \"Topic11\", \"Topic11\", \"Topic11\", \"Topic11\", \"Topic11\", \"Topic11\", \"Topic11\", \"Topic11\", \"Topic11\", \"Topic11\", \"Topic11\", \"Topic11\", \"Topic11\", \"Topic11\", \"Topic11\", \"Topic11\", \"Topic11\", \"Topic11\", \"Topic11\", \"Topic11\", \"Topic11\", \"Topic11\", \"Topic11\", \"Topic12\", \"Topic12\", \"Topic12\", \"Topic12\", \"Topic12\", \"Topic12\", \"Topic12\", \"Topic12\", \"Topic12\", \"Topic12\", \"Topic12\", \"Topic12\", \"Topic12\", \"Topic12\", \"Topic12\", \"Topic12\", \"Topic12\", \"Topic12\", \"Topic12\", \"Topic12\", \"Topic12\", \"Topic12\", \"Topic12\", \"Topic12\", \"Topic12\", \"Topic12\", \"Topic12\", \"Topic12\", \"Topic12\", \"Topic12\", \"Topic12\", \"Topic12\", \"Topic12\", \"Topic12\", \"Topic12\", \"Topic12\", \"Topic12\", \"Topic12\", \"Topic12\", \"Topic12\", \"Topic12\", \"Topic12\"], \"logprob\": [30.0, 29.0, 28.0, 27.0, 26.0, 25.0, 24.0, 23.0, 22.0, 21.0, 20.0, 19.0, 18.0, 17.0, 16.0, 15.0, 14.0, 13.0, 12.0, 11.0, 10.0, 9.0, 8.0, 7.0, 6.0, 5.0, 4.0, 3.0, 2.0, 1.0, -4.1822, -4.8404, -5.1464, -5.3279, -5.5178, -5.607, -5.6673, -5.6673, -5.6707, -5.4052, -5.8714, -5.9078, -5.9078, -5.9105, -5.9956, -4.3019, -6.0355, -6.0369, -6.0815, -6.1819, -6.1851, -6.2404, -6.292, -6.356, -6.4151, -6.4192, -6.4192, -6.4198, -6.4831, -6.4877, -5.2833, -5.6434, -4.1357, -5.9888, -5.6616, -5.4262, -5.0435, -4.0922, -3.8349, -5.3379, -5.7766, -5.1247, -5.2211, -5.3581, -4.8912, -4.0824, -5.2658, -4.7841, -5.2054, -5.2249, -5.4363, -5.4416, -5.5781, -5.5766, -4.5849, -4.5413, -4.2153, -5.117, -5.1176, -5.2877, -5.5818, -5.7882, -5.7882, -5.7883, -5.0242, -5.8223, -5.8272, -5.9974, -6.0948, -6.2099, -6.3337, -6.3339, -6.3343, -6.402, -6.4704, -6.4704, -6.4704, -6.4704, -6.4704, -6.4704, -6.4704, -6.4705, -6.4751, -6.4752, -4.461, -5.1176, -5.7882, -4.4501, -5.3317, -6.1522, -5.0973, -4.3753, -5.8269, -4.0494, -5.6127, -4.5617, -4.0577, -4.6516, -5.2687, -5.1439, -4.998, -3.3976, -4.3209, -5.1684, -5.3117, -5.3172, -5.3047, -5.6538, -5.5917, -5.4158, -5.5507, -3.0076, -3.5952, -3.5295, -2.9813, -4.3081, -3.2767, -3.2767, -4.7097, -4.5255, -4.0954, -5.1272, -5.3839, -4.6327, -5.5816, -5.5816, -5.5816, -5.8169, -5.9122, -6.0168, -6.1135, -5.4978, -2.8429, -6.138, -6.2672, -6.2675, -5.8004, -6.2717, -6.4213, -6.4214, -6.4214, -2.8407, -2.655, -2.9812, -5.0955, -3.4955, -4.5685, -5.4956, -5.5643, -3.7866, -5.5641, -5.2355, -5.2982, -5.3352, -5.2982, -5.4952, -5.1797, -4.0651, -4.534, -4.547, -4.5471, -4.588, -4.616, -4.6161, -4.6304, -4.6304, -4.6304, -4.6304, -4.6449, -4.8165, -5.0344, -4.9347, -5.0563, -5.1016, -5.2784, -5.3658, -5.637, -5.7674, -5.8106, -5.8151, -5.9142, -5.6746, -6.0807, -6.0845, -6.0835, -6.1465, -6.2172, -4.5742, -4.6309, -4.3269, -4.3839, -5.0501, -4.9962, -4.542, -4.79, -4.9374, -4.2464, -5.1324, -4.9151, -5.0214, -4.5391, -4.5012, -4.4172, -4.9773, -4.9663, -5.0849, -5.3195, -4.1012, -5.0451, -5.4864, -5.515, -5.6147, -5.6474, -5.6834, -5.6834, -5.6834, -5.7633, -5.8013, -5.8039, -5.8039, -5.8461, -5.8461, -5.8462, -5.8865, -5.9802, -6.0309, -6.0309, -6.0357, -6.0357, -6.1459, -5.6697, -5.2729, -4.1415, -5.5446, -5.5554, -5.1675, -5.2095, -3.0543, -4.9845, -5.3414, -4.0651, -4.9249, -5.2807, -4.5619, -5.2563, -4.6233, -5.004, -5.2619, -5.2026, -5.5125, -5.2607, -5.213, -5.4428, -4.4958, -4.9301, -5.2987, -5.6763, -5.7151, -5.7151, -5.9384, -5.9875, -5.9875, -6.041, -5.4307, -6.2284, -6.2905, -6.3632, -6.3632, -5.5245, -6.442, -6.4421, -6.4444, -6.447, -6.53, -6.3249, -6.3855, -6.6236, -6.6265, -6.6266, -5.9512, -6.7267, -6.7267, -6.7278, -6.0181, -6.2349, -5.4024, -4.4405, -5.2381, -5.372, -5.4452, -5.3834, -5.1946, -5.9882, -4.9097, -6.0125, -4.5527, -6.2226, -3.1878, -5.7359, -4.6147, -5.8347, -4.8626, -4.8954, -5.0128, -5.6675, -5.6378, -5.5273, -5.6755, -5.4809, -5.6701, -5.6051, -5.6199, -4.5143, -4.6787, -4.7606, -5.1996, -5.3888, -5.4806, -5.6218, -5.9337, -5.9881, -4.4137, -6.1043, -6.168, -6.1681, -6.2358, -6.2359, -6.3087, -6.3874, -6.3874, -6.3874, -6.3874, -6.3882, -6.3903, -5.2751, -6.4754, -6.4755, -6.569, -6.6722, -6.6722, -6.6722, -6.6722, -6.1874, -5.3148, -4.5609, -5.8858, -5.2499, -4.8582, -3.8421, -6.0502, -6.0624, -6.1126, -5.5298, -5.6006, -5.89, -3.4592, -5.4995, -4.9637, -5.2178, -5.5381, -5.4504, -4.7412, -5.5047, -5.5206, -5.8671, -5.5624, -5.7498, -5.7746, -5.6815, -5.6893, -5.6918, -4.6807, -4.6146, -4.6971, -4.7743, -4.6638, -4.8959, -5.2239, -5.2461, -5.3867, -5.4486, -5.4486, -5.4528, -5.6675, -5.6676, -5.708, -5.7081, -5.7944, -5.7944, -5.7944, -5.7944, -5.8423, -5.8843, -5.935, -5.935, -5.935, -5.9399, -5.9884, -5.9884, -5.9884, -5.9884, -5.5294, -5.5188, -5.3644, -5.445, -4.6157, -5.3311, -5.5599, -5.3091, -5.6004, -5.4782, -5.4355, -4.8418, -4.7954, -5.1783, -4.7872, -3.3628, -4.8744, -4.8902, -5.2168, -5.1998, -4.9367, -4.9774, -5.2846, -5.1906, -5.4001, -5.4458, -4.2122, -4.2551, -4.3028, -4.3968, -4.4707, -4.1125, -4.5529, -4.5529, -4.7336, -5.3426, -5.5442, -6.0305, -6.0305, -3.8754, -5.9995, -6.3333, -6.3333, -6.4062, -6.4062, -6.4062, -6.4062, -6.4062, -6.4849, -6.485, -6.4851, -6.4851, -6.4853, -6.4877, -6.4995, -6.4995, -4.7585, -5.2178, -4.082, -4.125, -4.4682, -4.8137, -6.1554, -5.9951, -4.9701, -5.5177, -5.5676, -3.4356, -6.2781, -5.6056, -5.6213, -5.976, -5.4977, -5.1413, -4.9071, -4.934, -4.8995, -5.35, -5.2313, -5.1783, -5.3112, -5.4561, -2.5367, -4.6369, -3.7828, -4.6542, -4.8418, -4.4923, -4.9347, -4.9364, -5.074, -5.6827, -5.6827, -5.7427, -5.8076, -5.8759, -4.6281, -5.4084, -6.031, -6.21, -6.315, -5.8687, -6.3721, -6.3737, -6.3737, -6.3738, -6.4953, -6.4953, -4.9211, -5.9906, -6.5633, -6.5633, -3.3384, -2.2517, -4.9588, -4.8199, -3.9149, -4.0003, -4.9027, -4.1355, -5.0185, -4.5363, -5.2988, -3.735, -5.1576, -3.7788, -4.8621, -5.1337, -4.9487, -5.2301, -3.7372, -4.3657, -4.5581, -4.6494, -4.6494, -4.6633, -4.8452, -5.2007, -5.2251, -5.3542, -5.3542, -4.5795, -5.6408, -5.7186, -5.7574, -5.7586, -5.8906, -5.142, -6.0427, -6.0429, -6.0429, -6.0431, -6.0544, -6.0544, -5.6793, -4.6656, -5.8072, -6.2242, -6.2242, -6.2249, -5.3397, -4.493, -5.8223, -4.5946, -5.4429, -4.5281, -4.3688, -4.7169, -5.253, -3.5386, -5.1409, -5.2006, -5.5369, -5.4751, -5.3745, -5.6436, -4.152, -4.1759, -4.245, -4.4538, -4.5791, -4.5791, -4.5791, -4.6662, -4.684, -4.684, -4.7214, -5.0089, -5.2689, -5.4907, -5.4916, -5.6721, -5.7244, -5.7761, -5.7761, -5.8341, -5.8939, -5.0874, -6.0255, -4.4545, -6.028, -6.0983, -6.0983, -6.0983, -6.177, -6.177, -4.1584, -4.2203, -5.6756, -4.9635, -3.4018, -5.776, -5.1174, -5.3887, -5.4502, -5.6721, -5.7112, -5.7393], \"loglift\": [30.0, 29.0, 28.0, 27.0, 26.0, 25.0, 24.0, 23.0, 22.0, 21.0, 20.0, 19.0, 18.0, 17.0, 16.0, 15.0, 14.0, 13.0, 12.0, 11.0, 10.0, 9.0, 8.0, 7.0, 6.0, 5.0, 4.0, 3.0, 2.0, 1.0, 1.9681, 1.9617, 1.956, 1.952, 1.947, 1.9442, 1.9422, 1.9422, 1.937, 1.9361, 1.9345, 1.9329, 1.9329, 1.9326, 1.9289, 1.9278, 1.927, 1.927, 1.9248, 1.9194, 1.9192, 1.915, 1.9127, 1.9072, 1.9048, 1.9044, 1.9044, 1.9041, 1.8999, 1.8993, 1.8593, 1.8721, 1.7881, 1.8225, 1.7598, 1.6628, 1.5382, 1.086, 0.752, 1.4874, 1.6906, 1.2659, 1.2469, 1.3207, 0.7899, -0.3703, 1.0397, 0.3707, 0.8657, 0.5745, 0.8797, 0.7086, -0.0683, -0.7593, 2.0496, 2.0494, 2.0482, 2.0406, 2.0406, 2.0365, 2.0278, 2.02, 2.02, 2.0199, 2.019, 2.0185, 2.0183, 2.0103, 2.0051, 1.9982, 1.99, 1.99, 1.9895, 1.9851, 1.9799, 1.9799, 1.9799, 1.9799, 1.9799, 1.9799, 1.9799, 1.9799, 1.9795, 1.9794, 1.9327, 1.9303, 1.9559, 1.8513, 1.9069, 1.9529, 1.8418, 1.7325, 1.8972, 1.6318, 1.8577, 1.5885, 1.2325, 1.4195, 1.6344, 1.5367, 1.3703, 0.3145, 0.8339, 1.4222, 1.3431, 1.3361, 1.0317, 1.6757, 1.4746, 0.9052, 1.3196, 2.3014, 2.296, 2.2952, 2.2952, 2.2929, 2.2908, 2.2908, 2.287, 2.2784, 2.2773, 2.2726, 2.2649, 2.2524, 2.2467, 2.2467, 2.2467, 2.2456, 2.2396, 2.233, 2.2262, 2.2257, 2.2247, 2.2176, 2.2129, 2.2124, 2.2123, 2.2042, 2.1982, 2.1968, 2.1968, 2.1768, 2.1624, 2.1059, 2.1669, 2.0847, 1.9169, 2.0327, 2.039, 0.8003, 1.94, 1.4835, 1.5195, 1.5697, 1.1046, 1.6252, -1.4676, 2.3114, 2.3051, 2.305, 2.305, 2.3043, 2.3039, 2.3039, 2.3037, 2.3037, 2.3037, 2.3037, 2.3034, 2.3001, 2.295, 2.2949, 2.2944, 2.2931, 2.2877, 2.2847, 2.2736, 2.267, 2.2647, 2.2644, 2.2587, 2.2559, 2.2477, 2.2475, 2.2472, 2.2414, 2.2367, 2.2271, 2.215, 2.1377, 2.1274, 2.126, 2.0919, 1.8887, 1.4624, 1.5306, 0.3405, 0.9223, 0.2397, -1.3094, 2.5009, 2.499, 2.4949, 2.4891, 2.4855, 2.4792, 2.4771, 2.4739, 2.4726, 2.4693, 2.4678, 2.4624, 2.4605, 2.4584, 2.4584, 2.4584, 2.4532, 2.4507, 2.4505, 2.4505, 2.4476, 2.4476, 2.4476, 2.4442, 2.4375, 2.4333, 2.4333, 2.4329, 2.4329, 2.423, 2.4194, 2.4069, 2.3583, 2.4073, 2.3636, 2.0468, 2.0417, 0.6577, 1.8881, 2.1214, 1.113, 1.4779, 1.7156, 0.5929, 1.6144, -0.0364, 0.7954, 1.2682, 1.0983, 1.8911, 0.2491, -0.1259, 1.212, 2.5382, 2.5273, 2.5136, 2.4937, 2.4912, 2.4912, 2.475, 2.471, 2.471, 2.4663, 2.4586, 2.4466, 2.4416, 2.4334, 2.4334, 2.4305, 2.4238, 2.4237, 2.4235, 2.423, 2.4122, 2.4098, 2.4067, 2.3989, 2.3986, 2.3985, 2.3934, 2.3832, 2.3832, 2.3826, 2.3782, 2.3777, 2.3534, 2.2844, 2.3197, 2.3203, 2.3139, 2.2909, 2.2048, 2.3387, 2.0869, 2.3272, 1.9014, 2.3656, 0.5243, 2.0267, 1.1847, 2.0243, 0.6472, 0.2828, 0.2774, 1.6027, 1.5139, 0.8399, 1.3439, 0.5738, 1.2347, 0.7109, -0.4651, 2.5685, 2.5648, 2.5604, 2.54, 2.5389, 2.5335, 2.5265, 2.5039, 2.4998, 2.4907, 2.4892, 2.4828, 2.4826, 2.4758, 2.4757, 2.4677, 2.4582, 2.4582, 2.4582, 2.4582, 2.4576, 2.4575, 2.4486, 2.4471, 2.4469, 2.434, 2.4185, 2.4185, 2.4185, 2.4185, 2.4087, 2.3873, 2.3502, 2.386, 2.2424, 1.992, 1.6677, 2.3209, 2.3166, 2.3335, 2.0517, 1.9614, 2.1331, 0.2528, 1.804, 1.3371, 1.4355, 1.6958, 1.4919, 0.4136, 1.3534, 1.21, 1.9056, 0.8281, 1.4889, 1.4983, 0.6868, 0.6266, 0.6447, 2.5866, 2.5857, 2.5856, 2.5841, 2.5822, 2.5804, 2.5679, 2.5674, 2.5608, 2.5576, 2.5576, 2.5572, 2.5446, 2.5445, 2.5419, 2.5417, 2.5358, 2.5358, 2.5358, 2.5358, 2.5311, 2.5289, 2.5247, 2.5247, 2.5247, 2.5241, 2.52, 2.52, 2.52, 2.52, 2.5119, 2.4611, 2.4112, 2.4254, 2.1675, 2.3538, 2.4063, 2.3249, 2.4153, 2.3545, 2.3293, 1.9759, 1.8845, 2.1234, 1.8488, 0.3492, 1.5284, 1.1645, 1.6849, 1.5308, 0.5731, 0.3128, 1.4322, 0.6088, 0.9682, 1.0843, 2.6022, 2.6016, 2.5994, 2.5991, 2.5977, 2.5964, 2.5948, 2.5948, 2.5909, 2.5678, 2.5579, 2.5215, 2.5214, 2.5134, 2.4935, 2.4891, 2.4891, 2.4799, 2.4799, 2.4799, 2.4799, 2.4799, 2.4693, 2.4692, 2.4692, 2.4692, 2.469, 2.4672, 2.461, 2.461, 2.4494, 2.4307, 2.3483, 2.3167, 2.3138, 2.3135, 2.4083, 2.3716, 2.1544, 2.2507, 2.2275, 1.3142, 2.4191, 1.8422, 1.7829, 2.1302, 1.6227, 0.8101, 0.3831, 0.2442, 0.118, 0.7047, -0.0765, -0.5914, -1.5991, 0.1241, 2.7958, 2.7862, 2.784, 2.7802, 2.7792, 2.7778, 2.7753, 2.7739, 2.7602, 2.7307, 2.7307, 2.7255, 2.7197, 2.7131, 2.7021, 2.7008, 2.6965, 2.6742, 2.6586, 2.6537, 2.6511, 2.651, 2.651, 2.6509, 2.6314, 2.6314, 2.6239, 2.6218, 2.6195, 2.6195, 2.613, 2.4981, 2.5618, 2.5414, 2.4523, 2.2521, 2.3875, 2.2212, 2.3212, 2.0997, 2.1039, 0.8519, 1.951, -0.0667, 1.2457, 1.308, 0.6314, -0.0519, 2.852, 2.8405, 2.8353, 2.8325, 2.8325, 2.8317, 2.8252, 2.8086, 2.8076, 2.7998, 2.7996, 2.7904, 2.779, 2.7721, 2.7687, 2.7686, 2.7558, 2.7475, 2.7389, 2.7387, 2.7386, 2.7384, 2.7313, 2.7313, 2.7283, 2.7255, 2.7208, 2.7156, 2.7155, 2.7143, 2.6699, 2.5866, 2.6835, 2.3432, 2.5364, 2.1916, 1.988, 1.9676, 2.1948, 0.1734, 1.539, 1.1358, 1.7527, 1.3956, -0.7876, 0.7235, 3.1638, 3.1614, 3.1592, 3.154, 3.1484, 3.1484, 3.1484, 3.1451, 3.1441, 3.1441, 3.143, 3.1272, 3.1088, 3.0892, 3.0886, 3.0701, 3.0639, 3.0575, 3.0575, 3.0501, 3.042, 3.0279, 3.0226, 3.0196, 3.0176, 3.011, 3.011, 3.011, 2.9974, 2.9974, 2.79, 2.2803, 2.6816, 1.9331, 0.3102, 2.5778, 1.3939, 1.6909, 1.6161, 1.9612, 0.9693, 0.5816]}, \"token.table\": {\"Topic\": [8, 5, 12, 9, 2, 4, 10, 12, 2, 12, 3, 5, 8, 10, 2, 4, 12, 2, 10, 6, 11, 6, 10, 10, 12, 1, 4, 5, 7, 8, 9, 11, 1, 4, 5, 9, 11, 7, 1, 3, 9, 10, 5, 9, 4, 12, 12, 11, 2, 3, 4, 5, 6, 7, 8, 9, 10, 11, 12, 11, 1, 4, 5, 11, 6, 9, 6, 6, 12, 2, 4, 11, 12, 1, 2, 3, 4, 5, 6, 7, 8, 1, 3, 5, 7, 9, 7, 10, 2, 3, 10, 2, 10, 11, 12, 4, 9, 9, 10, 1, 2, 6, 7, 8, 9, 11, 10, 3, 9, 1, 7, 5, 7, 2, 2, 3, 6, 12, 3, 5, 6, 1, 1, 9, 5, 4, 10, 11, 12, 4, 12, 7, 9, 11, 10, 2, 7, 10, 8, 1, 9, 10, 10, 1, 6, 8, 11, 12, 8, 5, 1, 5, 9, 2, 5, 6, 8, 9, 11, 9, 4, 1, 3, 7, 8, 10, 1, 2, 3, 5, 6, 7, 8, 9, 11, 12, 1, 8, 9, 6, 8, 1, 2, 6, 7, 8, 2, 4, 6, 7, 8, 3, 5, 8, 10, 8, 9, 1, 8, 10, 3, 10, 5, 9, 12, 3, 10, 1, 2, 5, 1, 2, 3, 4, 8, 9, 2, 10, 3, 9, 10, 2, 2, 3, 5, 7, 8, 11, 1, 5, 10, 6, 7, 1, 5, 8, 9, 10, 1, 2, 3, 4, 5, 6, 7, 8, 4, 12, 12, 4, 5, 7, 9, 7, 6, 9, 9, 11, 9, 4, 8, 2, 5, 7, 7, 9, 10, 1, 2, 5, 6, 8, 9, 10, 10, 8, 10, 11, 2, 4, 7, 6, 11, 1, 4, 5, 7, 8, 11, 3, 9, 10, 11, 9, 2, 4, 6, 6, 9, 11, 1, 5, 2, 6, 3, 7, 9, 11, 12, 1, 2, 4, 6, 12, 5, 10, 1, 1, 6, 8, 3, 4, 8, 10, 2, 1, 7, 10, 1, 6, 9, 1, 2, 6, 9, 11, 1, 2, 7, 1, 2, 5, 8, 2, 6, 7, 7, 12, 11, 2, 3, 6, 7, 1, 2, 3, 4, 5, 6, 7, 1, 2, 4, 6, 7, 8, 10, 11, 10, 10, 10, 9, 12, 1, 2, 12, 2, 7, 8, 7, 2, 4, 6, 10, 11, 12, 1, 2, 3, 4, 7, 9, 12, 12, 4, 4, 6, 7, 8, 12, 1, 2, 4, 11, 1, 10, 4, 5, 1, 2, 7, 11, 1, 3, 1, 6, 4, 7, 3, 4, 5, 6, 8, 9, 10, 12, 3, 9, 10, 4, 6, 5, 8, 1, 2, 8, 10, 4, 9, 11, 4, 7, 1, 2, 4, 5, 6, 7, 8, 9, 11, 12, 4, 5, 1, 9, 5, 12, 11, 12, 12, 4, 3, 10, 8, 11, 5, 8, 7, 1, 1, 2, 6, 10, 12, 4, 7, 10, 2, 4, 5, 1, 2, 4, 5, 6, 7, 8, 9, 11, 2, 6, 7, 9, 11, 7, 2, 8, 12, 8, 1, 2, 4, 5, 6, 9, 10, 2, 9, 2, 4, 5, 6, 7, 9, 11, 12, 2, 5, 9, 9, 11, 6, 7, 8, 4, 1, 2, 2, 4, 5, 6, 7, 8, 9, 10, 1, 4, 6, 7, 9, 4, 10, 2, 11, 5, 3, 1, 3, 6, 8, 2, 7, 5, 6, 8, 9, 1, 4, 6, 8, 9, 10, 2, 1, 2, 3, 4, 5, 6, 7, 11, 5, 10, 11, 5, 6, 9, 3, 3, 9, 6, 9, 10, 11, 7, 5, 6, 9, 6, 9, 3, 2, 3, 1, 6, 11, 2, 7, 8, 9, 2, 6, 11, 6, 1, 2, 5, 7, 8, 7, 8, 3, 10, 3, 10, 1, 2, 3, 5, 7, 11, 12, 6, 8, 1, 2, 7, 1, 8, 2, 4, 6, 7, 2, 4, 6, 9, 2, 5, 6, 7, 9, 11, 8, 1, 2, 2, 5, 1, 3, 10, 11, 2, 4, 10, 12, 5, 7, 2, 2, 3, 4, 3, 10, 2, 7, 11, 9, 8, 6, 8, 9, 1, 2, 7, 7, 5, 6, 12, 1, 3, 5, 10, 7, 8, 8, 9, 1, 3, 4, 5, 6, 7, 8, 9, 10, 11, 6, 4, 2, 5, 10, 11, 7, 9, 9, 1, 2, 3, 5, 6, 8, 11, 4, 5, 6, 7, 10, 1, 2, 4, 5, 6, 7, 9, 10, 1, 3, 4, 5, 6, 7, 9, 10, 3, 9, 10, 5, 7, 10, 1, 8, 2, 8, 9, 11, 12, 6, 1, 3, 7, 6, 11, 2, 4, 5, 6, 7, 8, 9, 11, 8, 2, 5, 4, 11, 6, 11, 8, 3, 1, 10, 11, 8, 12, 3, 6, 9, 6, 11, 3, 5, 6, 11, 1, 8, 2, 6, 1, 2, 7, 8, 9, 5, 11, 7, 4, 2, 3, 8, 12, 12, 1, 1, 2, 3, 4, 5, 6, 7, 8, 9, 10, 11, 12, 1, 2, 3, 4, 5, 6, 7, 8, 9, 10, 11, 12, 1, 7, 8, 3, 4, 11, 3, 8, 9, 10, 4, 4, 11, 11, 12, 6, 9, 6, 1, 3, 6, 4, 5, 10, 2, 5, 11, 10, 11, 1, 1, 6, 7, 12, 3, 10, 9, 1, 7, 11, 8, 2, 7, 6, 6, 10, 11, 5, 1, 4, 6, 6, 7, 2, 6, 7, 6, 2, 6, 9, 4, 3, 5, 6, 11, 6, 8, 2, 2, 9, 5, 11, 9, 11, 1, 12, 2, 4, 6, 1, 1, 3, 5, 4, 7, 7, 3, 6, 8, 9, 3, 4, 4, 3, 3, 6, 5, 1, 4, 5, 6, 4, 5, 9, 12, 2, 5, 2, 4, 7, 1, 3, 4, 10, 2, 7, 11, 12, 10, 10, 1, 5, 11, 9, 7, 1, 2, 3, 4, 5, 6, 7, 8, 9, 10, 11, 12, 12, 4, 4, 8, 5, 1, 6, 12, 8, 3, 5, 1, 4, 7, 4, 10, 3, 5, 3, 4, 6, 1, 2, 4, 5, 6, 7, 8, 11, 2, 6, 9, 1, 4, 9, 3, 4, 9, 10, 11, 2, 6, 6, 1, 3, 5, 6, 7, 9, 10, 4, 1, 7, 4, 3, 5, 2, 1, 9, 1, 4, 7, 1, 8, 3, 1, 8, 1, 5, 12, 5, 5, 3, 8, 2, 6, 8, 9, 10, 11, 2, 2, 8, 5, 1, 3, 4, 9, 1, 8, 1, 2, 5, 7, 9, 11, 3, 10, 3, 9, 1, 7, 8, 3, 5, 5, 6, 7, 3, 12, 12, 4, 1, 5, 6, 7, 11, 5, 8, 11, 1, 6, 7, 9, 3, 5, 2, 8, 2, 12], \"Freq\": [0.9624250244477068, 0.9739096666821542, 0.9489128290621116, 0.9202122601251814, 0.933463939775845, 0.8871477362907231, 0.7849540549158452, 0.8035377969273967, 0.8877122604739123, 0.8542518735082993, 0.29945094186433785, 0.3564892165051641, 0.3422296478449575, 0.9583561933795255, 0.8877775129565325, 0.8264563752980152, 0.15893391832654138, 0.953304674079921, 0.8312632251874198, 0.9340402654178269, 0.9232309305266039, 0.9522171878020225, 0.9505285847944882, 0.9601562832586588, 0.810531099958684, 0.38812820985907537, 0.2070017119248402, 0.16818889093893266, 0.012937606995302513, 0.03881282098590754, 0.0905632489671176, 0.07762564197181508, 0.4870232864694502, 0.4565843310651096, 0.015219477702170319, 0.04565843310651096, 0.9233795148942435, 0.8384947057058876, 0.9778652467072331, 0.8017778601295751, 0.08143056391940996, 0.11275001158072148, 0.870833606376825, 0.9710522538011351, 0.9584043677095401, 0.9117569347094336, 0.9117569347094336, 0.9793872347642286, 0.36029366079039754, 0.06672104829451807, 0.026688419317807226, 0.05337683863561445, 0.026688419317807226, 0.14678630624793973, 0.1067536772712289, 0.013344209658903613, 0.026688419317807226, 0.17347472556574697, 0.9489128290621116, 0.9649013996448053, 0.08883923408833173, 0.8883923408833173, 0.962087454148592, 0.9233245149398722, 0.8374188148413881, 0.10467735185517352, 0.9331421162921606, 0.8387628134179359, 0.9653936836113294, 0.34168973496417265, 0.29287691568357654, 0.09762563856119218, 0.29287691568357654, 0.06691828459210196, 0.022306094864033985, 0.022306094864033985, 0.11153047432016992, 0.06691828459210196, 0.11153047432016992, 0.5576523716008496, 0.04461218972806797, 0.3158851027875792, 0.07019668950835094, 0.1052950342625264, 0.4562784818042811, 0.03509834475417547, 0.9185436638030264, 0.919373519121412, 0.2942772645263604, 0.6814841915347293, 0.015488277080334756, 0.7219172681309013, 0.2123286082737945, 0.03184929124106917, 0.03184929124106917, 0.9806082978654369, 0.9868300830983556, 0.270308763176122, 0.7262841515641257, 0.15526540913804981, 0.038816352284512454, 0.07763270456902491, 0.11644905685353735, 0.15526540913804981, 0.426979875129637, 0.038816352284512454, 0.9583561954756088, 0.9660414837160818, 0.9145457139115931, 0.9632341343727563, 0.8609325578143372, 0.9001811570971712, 0.9915901823197137, 0.8839347348460969, 0.988811523613563, 0.9490359343015949, 0.8912073702396096, 0.8526125776455137, 0.9106114458067522, 0.8725291783007078, 0.06711762910005445, 0.9858698260777009, 0.9598537835018461, 0.9144577207705782, 0.9001807551774764, 0.02723587742297928, 0.5447175484595855, 0.4221561000561788, 0.9225264817734034, 0.8342352084964288, 0.15448800157341275, 0.141434862767381, 0.8486091766042858, 0.901279001170656, 0.7849417459569532, 0.9339285903216912, 0.8858078621594119, 0.8526205390712442, 0.896138573132637, 0.12376606423377384, 0.8663624496364168, 0.9485506325088364, 0.919373519121412, 0.953222874350999, 0.08344366150572405, 0.6466883766693614, 0.1668873230114481, 0.08344366150572405, 0.881808359197273, 0.8822780897442575, 0.23494803599987463, 0.0783160119999582, 0.6265280959996656, 0.019576658594254406, 0.03915331718850881, 0.019576658594254406, 0.17618992734828967, 0.21534324453679848, 0.5089931234506145, 0.9225132598256373, 0.9476881242091052, 0.2147191085561738, 0.2732788654351303, 0.019519918959652164, 0.3123187033544346, 0.19519918959652163, 0.12843429173674856, 0.017513767055011165, 0.03502753411002233, 0.105082602330067, 0.14594805879175973, 0.39697871991358646, 0.12843429173674856, 0.011675844703340777, 0.011675844703340777, 0.017513767055011165, 0.1113407002421055, 0.7793849016947386, 0.1113407002421055, 0.19537040684033583, 0.7326390256512594, 0.14109170491360845, 0.6584279562635061, 0.04703056830453615, 0.11757642076134038, 0.023515284152268074, 0.9226746845654429, 0.10288733024179754, 0.10288733024179754, 0.7202113116925828, 0.10288733024179754, 0.9812463261722905, 0.03600929576122618, 0.46812084489594036, 0.4861254927765534, 0.9577452851614512, 0.9202122601251814, 0.9532073801517319, 0.9213196463618419, 0.9546589831343295, 0.9893368096391615, 0.00924613840784263, 0.9708673294143846, 0.8542424642966953, 0.8978446562529223, 0.9833655851279842, 0.01236937842928282, 0.2769014286185706, 0.6202592001055981, 0.08860845715794259, 0.029313048806699615, 0.11725219522679846, 0.04396957321004942, 0.014656524403349807, 0.014656524403349807, 0.7621392689741899, 0.9674724341658927, 0.8885288210189628, 0.029649069159733494, 0.7412267289933373, 0.2223680186980012, 0.8839359536196061, 0.11340246465154559, 0.018900410775257597, 0.20790451852783357, 0.18900410775257598, 0.056701232325772795, 0.41580903705566713, 0.3877805254150284, 0.5246442402673913, 0.06843185742618148, 0.12783845758429593, 0.8948692030900716, 0.6092045293424535, 0.19581574157436005, 0.06527191385812002, 0.04351460923874668, 0.08702921847749336, 0.13853542169552147, 0.11874464716758984, 0.05937232358379492, 0.01979077452793164, 0.01979077452793164, 0.05937232358379492, 0.25728006886311133, 0.3364431669748379, 0.8822630611143342, 0.8876087386232674, 0.9516679645614881, 0.10208424101717813, 0.10208424101717813, 0.714589687120247, 0.854237688900224, 0.9451406607815049, 0.7832741100307903, 0.991029566442377, 0.14222767376896708, 0.8533660426138026, 0.9805866748938148, 0.989928384975656, 0.9368002585094254, 0.0948236638591943, 0.11852957982399288, 0.7822952268383531, 0.018159898430727548, 0.16343908587654793, 0.8171954293827397, 0.1619531958929914, 0.03239063917859828, 0.29151575260738455, 0.03239063917859828, 0.21053915466088882, 0.12956255671439312, 0.12956255671439312, 0.8746797984643759, 0.960971551993764, 0.8692504453303052, 0.835973724058082, 0.8605494480124183, 0.07823176800112894, 0.9285534794438706, 0.8547115011317619, 0.9231634879082001, 0.19737700486899354, 0.06579233495633119, 0.032896167478165594, 0.3289616747816559, 0.16448083739082794, 0.16448083739082794, 0.1308181544421346, 0.08721210296142305, 0.7849089266528075, 0.9007979785573466, 0.914416584360383, 0.11070533528637501, 0.055352667643187504, 0.774937347004625, 0.8810547400242928, 0.9878286866330394, 0.9460350893165903, 0.05113429788288076, 0.8692830640089729, 0.12682750643040322, 0.8877925450128226, 0.9147967298828115, 0.8609107134892506, 0.688588322595724, 0.22952944086524132, 0.05738236021631033, 0.14018869066005335, 0.11682390888337779, 0.3504717266501334, 0.09345912710670223, 0.2803773813201067, 0.9692906591430784, 0.78373774273204, 0.9898029639572994, 0.06809362772464972, 0.06809362772464972, 0.8171235326957966, 0.21021841119547485, 0.035036401865912475, 0.6306552335864246, 0.10510920559773743, 0.9302258887983892, 0.3488392417057122, 0.11627974723523739, 0.5038789046860287, 0.20836410693844024, 0.04167282138768805, 0.7292743742845408, 0.16587779733209218, 0.8293889866604609, 0.7693562406871055, 0.13576874835654804, 0.04525624945218268, 0.933418829994696, 0.11003439066646815, 0.7702407346652771, 0.15516652127476255, 0.3103330425495251, 0.5430828244616689, 0.981634328289161, 0.4763019801140071, 0.18319306927461812, 0.3114282177668508, 0.8986378278846072, 0.9247258492184569, 0.9534382354356372, 0.8116558281996529, 0.038650277533316804, 0.02576685168887787, 0.11595083259995041, 0.33991085444506913, 0.11766144961560085, 0.026146988803466855, 0.13073494401733426, 0.09151446081213399, 0.15688193282080112, 0.1438084384190677, 0.29348806167966196, 0.12228669236652583, 0.024457338473305165, 0.07337201541991549, 0.3424027386262723, 0.09782935389322066, 0.024457338473305165, 0.024457338473305165, 0.8999541608956435, 0.9322933230292, 0.7849551164824732, 0.8542454607565912, 0.8542522012168962, 0.7897660935269359, 0.11846491402904039, 0.07897660935269359, 0.883935731917039, 0.8385087575391527, 0.8818082591363777, 0.9770506787195083, 0.8551967002306421, 0.10689958752883026, 0.05344979376441513, 0.9744460940407651, 0.01680079472484078, 0.01680079472484078, 0.4930220884698958, 0.23946787154252083, 0.014086345384854166, 0.056345381539416664, 0.16903614461824998, 0.014086345384854166, 0.014086345384854166, 0.8015845559560207, 0.9832307200357754, 0.05610983637077743, 0.05610983637077743, 0.504988527336997, 0.1683295091123323, 0.11221967274155487, 0.9296295154029727, 0.15167882691678597, 0.8342335480423227, 0.015167882691678597, 0.3639300625093328, 0.6186811062658658, 0.9702693952460459, 0.9769878912191479, 0.3048936612517541, 0.6513637308560201, 0.02771760556834128, 0.01385880278417064, 0.9110454445803572, 0.04338311640858843, 0.9163642801584174, 0.9373223428780522, 0.9926624527062613, 0.8385010063349435, 0.08664193727301425, 0.02888064575767142, 0.02888064575767142, 0.1732838745460285, 0.08664193727301425, 0.11552258303068567, 0.4332096863650713, 0.02888064575767142, 0.8778044854881402, 0.08207115108222449, 0.03568310916618456, 0.9771579323622823, 0.7852816565037223, 0.9447557457895368, 0.8818079452704324, 0.20482622654077656, 0.47792786192847864, 0.2731016353877021, 0.04551693923128368, 0.20695155556994932, 0.06898385185664978, 0.6898385185664978, 0.986092494180927, 0.917697619928295, 0.039417056764290664, 0.3153364541143253, 0.052556075685720884, 0.013139018921430221, 0.10511215137144177, 0.118251170292872, 0.10511215137144177, 0.15766822705716266, 0.026278037842860442, 0.07883411352858133, 0.14140786090116808, 0.8484471654070085, 0.9049914409707769, 0.9144467363386648, 0.9061919470451886, 0.9704186774705073, 0.9036583225058111, 0.9802145149519296, 0.9653936836113294, 0.9842435423617312, 0.0785508231850994, 0.8640590550360934, 0.0375080510714369, 0.9377012767859224, 0.9414825787069359, 0.959433904081025, 0.8203447244491884, 0.9698200602593959, 0.31449811199666605, 0.06289962239933321, 0.15724905599833303, 0.06289962239933321, 0.4088475455956659, 0.9660466582796913, 0.8857618591800422, 0.9489576019692618, 0.4953532205497329, 0.22015698691099242, 0.2751962336387405, 0.20058628288258937, 0.29064543029926215, 0.12280792829546287, 0.14736951395455544, 0.049123171318185145, 0.11462073307576534, 0.004093597609848763, 0.0654975617575802, 0.004093597609848763, 0.09891353106691567, 0.7913082485353253, 0.06306309032690431, 0.06306309032690431, 0.8828832645766602, 0.9450534668827144, 0.5537200069269832, 0.2214880027707933, 0.19380200242444415, 0.9356292019632403, 0.06882440081452401, 0.5333891063125611, 0.22367930264720304, 0.10323660122178602, 0.017206100203631003, 0.017206100203631003, 0.034412200407262006, 0.8839396844015163, 0.8015099287341307, 0.2697845122947752, 0.022482042691231267, 0.11241021345615633, 0.1348922561473876, 0.29226655498600645, 0.044964085382462535, 0.022482042691231267, 0.0674461280736938, 0.09911153002935122, 0.04955576501467561, 0.8424480052494854, 0.9677592366694083, 0.9599895666059214, 0.8406282853554422, 0.17873017833205654, 0.7744974394389117, 0.9342838839913167, 0.17066032668723227, 0.8045415400969522, 0.1409492279218094, 0.25169504986037394, 0.020135603988829916, 0.1409492279218094, 0.04027120797765983, 0.231559445871544, 0.15101702991622434, 0.03020340598324487, 0.5283388925867084, 0.052833889258670844, 0.2905863909226896, 0.07925083388800626, 0.052833889258670844, 0.12993192978099496, 0.7795915786859698, 0.9611024256122257, 0.9624053825200184, 0.9739102420317264, 0.9105062882423555, 0.10184644051221932, 0.03394881350407311, 0.3734369485448042, 0.4413345755529504, 0.8761047015726813, 0.1130457679448621, 0.8962426946317149, 0.10163036182307765, 0.10163036182307765, 0.8130428945846212, 0.32878944719107506, 0.1409097630818893, 0.023484960513648217, 0.3992443287320197, 0.09393984205459287, 0.023484960513648217, 0.9539668975394078, 0.12877402734718205, 0.16740623555133666, 0.012877402734718204, 0.03863220820415461, 0.24467065195964588, 0.11589662461246383, 0.2833028601638005, 0.012877402734718204, 0.2678127381758414, 0.12173306280720063, 0.584318701474563, 0.22347648229188732, 0.05586912057297183, 0.670429446875662, 0.9068567745575928, 0.12759873786513973, 0.8293917961234082, 0.08436505030233135, 0.8998938698915344, 0.8043936890002131, 0.13406561483336887, 0.8221005283084248, 0.896243307982573, 0.8752598426819428, 0.0673276802063033, 0.9182732472762075, 0.8562199199291038, 0.9418326085089773, 0.872527585792123, 0.054532974112007686, 0.09766535993860857, 0.7813228795088686, 0.903516714783494, 0.9736278113997128, 0.07154266197545486, 0.7869692817300035, 0.07154266197545486, 0.9468911793989748, 0.027054033697113566, 0.9270630455590533, 0.8912098749669818, 0.3274978963607756, 0.5219497723249861, 0.10234309261274237, 0.020468618522548474, 0.020468618522548474, 0.9851918613604445, 0.9208450648877483, 0.9839039577790899, 0.00799921916893569, 0.9469725398925908, 0.04619378243378492, 0.09106981656809719, 0.045534908284048596, 0.13660472485214578, 0.40981417455643737, 0.06830236242607289, 0.227674541420243, 0.022767454142024298, 0.12374118719560984, 0.8043177167714639, 0.830237016852867, 0.13248463034886174, 0.035329234759696466, 0.9796304983109505, 0.8922531315420723, 0.1931519370220533, 0.07726077480882132, 0.6953469732793919, 0.03863038740441066, 0.2346231113884827, 0.6452135563183274, 0.07331972230890085, 0.02932788892356034, 0.22725000772912682, 0.09090000309165072, 0.04545000154582536, 0.5454000185499044, 0.04545000154582536, 0.9649017712710255, 0.9640165426003612, 0.9474716229939003, 0.03597993505040128, 0.684409454630438, 0.2881724019496581, 0.9734608873067357, 0.9833655851279842, 0.01236937842928282, 0.9409270026114163, 0.1859353654898488, 0.03718707309796976, 0.7437414619593952, 0.9330193706575586, 0.9500834350669364, 0.8203499702575361, 0.9799729046322772, 0.973616334405971, 0.9490359343015949, 0.9806063360561184, 0.9273450247209815, 0.07133423267084472, 0.05342411236229133, 0.8547857977966613, 0.9871620315174635, 0.8542401446275955, 0.9248214480885985, 0.8370163009002073, 0.8807692566525452, 0.07339743805437876, 0.5261901809770311, 0.3382651163423771, 0.13154754524425777, 0.892481220373062, 0.9729437825062657, 0.12487723241707366, 0.832514882780491, 0.29341452931617923, 0.4303413096637296, 0.2347316234529434, 0.019560968621078617, 0.8948089819280264, 0.07064281436273892, 0.9042256027918415, 0.9144400097782829, 0.2495899178476679, 0.007799684932739622, 0.07799684932739621, 0.1793927534530113, 0.2495899178476679, 0.062397479461916976, 0.13259464385657357, 0.023399054798218865, 0.007799684932739622, 0.007799684932739622, 0.7852717028860269, 0.8803016944152331, 0.258147508478217, 0.4388507644129689, 0.2323327576303953, 0.0258147508478217, 0.9828022667870334, 0.9683362128974787, 0.991029566442377, 0.11287753951620431, 0.01881292325270072, 0.01881292325270072, 0.05643876975810216, 0.03762584650540144, 0.4891360045702187, 0.26338092553781006, 0.03273589431767367, 0.19641536590604197, 0.22915126022371565, 0.39283073181208394, 0.13094357727069467, 0.41066302784775427, 0.04190439059670962, 0.01676175623868385, 0.2430454654609158, 0.10476097649177406, 0.029333073417696736, 0.09218965931276117, 0.05866614683539347, 0.01147666557699032, 0.8186688111586429, 0.007651110384660214, 0.07268554865427203, 0.015302220769320429, 0.02677888634631075, 0.04590666230796128, 0.007651110384660214, 0.9017387467398505, 0.8015007972435446, 0.8692506020981632, 0.15686055513342712, 0.8365896273782779, 0.9493787136168526, 0.9380577490926584, 0.9813757210103186, 0.5835820033883545, 0.1317765814102736, 0.09412612957876686, 0.05647567774726012, 0.11295135549452023, 0.9373223895135662, 0.9891342167177364, 0.993429702210244, 0.9644095160138993, 0.8547161457999755, 0.9545570235374105, 0.03461303691154476, 0.06922607382308953, 0.1038391107346343, 0.06922607382308953, 0.13845214764617905, 0.2076782214692686, 0.03461303691154476, 0.3115173322039029, 0.8818076012766437, 0.8839353877421001, 0.9739104979061087, 0.9198187791137611, 0.977652933321966, 0.9522203603492143, 0.9270630455590533, 0.8922532319238011, 0.9045637847552864, 0.31168905798805513, 0.6580102335303386, 0.03463211755422835, 0.8922530454410376, 0.9653936836113294, 0.10169936854739543, 0.7627452641054657, 0.10169936854739543, 0.9584077035741024, 0.9645432520501518, 0.9041704858956187, 0.33567977006463157, 0.6197164985808582, 0.025821520774202425, 0.9610052293554769, 0.9213201200527126, 0.8697807082432739, 0.10872258853040924, 0.13775543456027153, 0.49591956441697754, 0.1515309780162987, 0.19285760838438015, 0.9360282760029172, 0.1058725937973568, 0.8469807503788545, 0.8203631176347495, 0.94350515074847, 0.05627232411171307, 0.05627232411171307, 0.844084861675696, 0.9294585779561504, 0.854252261435978, 0.9498014871658161, 0.29462619768236786, 0.006959673961000815, 0.2203896754316925, 0.1368735878996827, 0.07655641357100897, 0.006959673961000815, 0.011599456601668025, 0.030158587164336868, 0.03943815244567129, 0.13919347922001632, 0.025518804523669655, 0.009279565281334421, 0.09575354781434402, 0.1740973596624437, 0.023212981288325822, 0.02611460394936655, 0.15475320858883881, 0.13057301974683275, 0.09672075536802427, 0.1044584157974662, 0.01450811330520364, 0.056098038113454075, 0.06770452875761698, 0.056098038113454075, 0.9507159232757009, 0.8384956474150335, 0.9368002585094254, 0.9147967298828115, 0.970268783601203, 0.901249852955271, 0.9685851646878935, 0.013836930924112764, 0.014668209328540736, 0.9778806219027157, 0.9702699679151183, 0.9702689930355194, 0.9202888996908897, 0.7575347449758684, 0.22445473925210915, 0.9918018587543991, 0.9150480585180428, 0.8299477113115268, 0.9213220603868719, 0.9490359343015949, 0.8551564639574009, 0.9209851427982304, 0.948705935357589, 0.03388235483419961, 0.8839343788714993, 0.11492676320185281, 0.8811051845475383, 0.9010920448956363, 0.07208736359165091, 0.9734639809314657, 0.9610029158665325, 0.7797351137991428, 0.12995585229985715, 0.9594183023627378, 0.9916832817411518, 0.008548993808113378, 0.8542430467591209, 0.9736727965452051, 0.11678895940027906, 0.8175227158019535, 0.935194771712816, 0.09242042721586796, 0.8317838449428117, 0.8370018822870078, 0.1788851395114099, 0.6880197673515765, 0.12384355812328378, 0.9447550754944442, 0.8748030946804233, 0.11664041262405644, 0.9357186133748119, 0.8826901080061051, 0.06304929342900752, 0.9655762312306283, 0.2883132536367907, 0.6487048206827791, 0.8786791993263758, 0.055546296031870855, 0.6110092563505793, 0.2777314801593543, 0.9612286853146106, 0.4711615661813489, 0.07067423492720233, 0.2591388613997419, 0.1649065481634721, 0.0690316725934335, 0.8283800711212019, 0.9735674613698573, 0.8839342422207842, 0.9899811105001195, 0.9083327459068634, 0.9241823729325067, 0.445984386526644, 0.5270724568042157, 0.3020033421149314, 0.6040066842298628, 0.056590588810676884, 0.7922682433494764, 0.14147647202669222, 0.9510302784076978, 0.09630308349127521, 0.2568082226434006, 0.6099195287780763, 0.9566383535439716, 0.8727955224391781, 0.8204252765853209, 0.49682430794540333, 0.08767487787271824, 0.02922495929090608, 0.37992447078177904, 0.9080490844533886, 0.05341465202666992, 0.972467931752797, 0.9909243423415031, 0.16550256881339617, 0.8275128440669809, 0.9769908126072754, 0.19986407645471546, 0.1665533970455962, 0.6329029087732656, 0.9824431958440785, 0.06494626578369513, 0.8443014551880366, 0.06494626578369513, 0.810531099958684, 0.9712623801762741, 0.944764396918839, 0.9302155820365898, 0.9134191542414939, 0.08496922365037152, 0.6480220345682866, 0.05115963430802262, 0.10231926861604523, 0.18758532579608295, 0.14764269638258326, 0.07382134819129163, 0.07382134819129163, 0.6643921337216246, 0.964266086911519, 0.9547712536304297, 0.24695385861234515, 0.6585436229662538, 0.04115897643539086, 0.9659179114144972, 0.768121690353271, 0.07030825642543387, 0.43591118983768995, 0.004687217095028924, 0.07030825642543387, 0.004687217095028924, 0.10311877609063633, 0.032810519665202466, 0.0984315589956074, 0.10780599318566525, 0.032810519665202466, 0.018748868380115698, 0.02343608547514462, 0.9683792814604644, 0.8834046914807148, 0.9150295095338284, 0.9368002585094254, 0.9565688426425263, 0.05177438995318531, 0.7766158492977797, 0.10354877990637062, 0.9368002585094254, 0.6862774772457866, 0.25735405396717, 0.2317425975966573, 0.1390455585579944, 0.6025307537513089, 0.4293978598085317, 0.564351472891213, 0.07699574462533852, 0.9239489355040623, 0.17709353399257394, 0.05903117799752464, 0.7674053139678204, 0.2251552023773255, 0.015010346825155034, 0.0900620809509302, 0.015010346825155034, 0.5253621388804262, 0.015010346825155034, 0.015010346825155034, 0.10507242777608523, 0.8552211646450772, 0.06578624343423671, 0.06578624343423671, 0.14711593910486526, 0.1176927512838922, 0.7355796955243262, 0.919181872074824, 0.0037517627431625468, 0.045021152917950565, 0.022510576458975282, 0.0075035254863250935, 0.09940805301016245, 0.894672477091462, 0.9035248124417272, 0.06426516216879812, 0.8646585455438291, 0.005842287469890737, 0.014605718674726844, 0.005842287469890737, 0.029211437349453688, 0.011684574939781475, 0.9779472244425935, 0.951488297512895, 0.8203664913586067, 0.9112925607342899, 0.9746792093648012, 0.9625059434386809, 0.9302158950939591, 0.935242299384149, 0.8562216532739826, 0.7441399322245883, 0.20670553672905229, 0.04134110734581046, 0.8963746315832686, 0.08963746315832687, 0.8902382057783221, 0.9758748832486883, 0.9577135579947229, 0.9477096685202264, 0.9847938365403258, 0.8806805400760663, 0.9083322250647281, 0.956508475610828, 0.4534317751738338, 0.5397997323498022, 0.02934425277110545, 0.08803275831331635, 0.08803275831331635, 0.6162293081932145, 0.1173770110844218, 0.02934425277110545, 0.9706845405887911, 0.9807550888752687, 0.9582050892589287, 0.9432764155125849, 0.04736475546445816, 0.7578360874313306, 0.09472951092891632, 0.04736475546445816, 0.9860451814920362, 0.9722703297282177, 0.03403807283016235, 0.2723045826412988, 0.0680761456603247, 0.3403807283016235, 0.03403807283016235, 0.23826650981113645, 0.8757335284942022, 0.10104617636471563, 0.9796629181183274, 0.021297019959094072, 0.169553683371651, 0.7206031543295167, 0.0847768416858255, 0.7470254672774486, 0.21971337272866134, 0.06117114654405782, 0.6117114654405782, 0.3058557327202891, 0.0790395567009836, 0.8694351237108195, 0.8803947231831912, 0.9832256868703624, 0.21107929762900834, 0.09046255612671787, 0.3618502245068715, 0.18092511225343574, 0.15077092687786312, 0.051395340495733965, 0.7709301074360095, 0.10279068099146793, 0.7363104570747097, 0.05663926592882382, 0.08495889889323573, 0.11327853185764764, 0.9160936092440269, 0.9129478946323107, 0.8839348469699971, 0.9041894862987044, 0.40130427879447583, 0.5016303484930948], \"Term\": [\"'nizam\", \"+91-8008725353\", \"//t.co/lmfv8ekcw8\", \"1,010.77\", \"1-1-216\", \"11:45\", \"1lakh\", \"20th\", \"21/05/2021\", \"29th\", \"35mm\", \"35mm\", \"35mm\", \"500027\", \"500068\", \"70mm\", \"70mm\", \"9182327901\", \"9247388000\", \"9:30\", \"9:30pm\", \"aadhi\", \"aadi\", \"aadispecialshowonmarch27\", \"abandoned\", \"accident\", \"accident\", \"accident\", \"accident\", \"accident\", \"accident\", \"accident\", \"accidents\", \"accidents\", \"accidents\", \"accidents\", \"acp_trf5\", \"actually\", \"adda\", \"addlcptrhyd\", \"addlcptrhyd\", \"addlcptrhyd\", \"adityamusic\", \"adulterated\", \"airhyderabad\", \"allegedly\", \"allotted\", \"along\", \"also\", \"also\", \"also\", \"also\", \"also\", \"also\", \"also\", \"also\", \"also\", \"also\", \"also.lot\", \"alwaysramcharan\", \"amksocialwork\", \"amksocialwork\", \"ananyanagalla\", \"anil\", \"anna\", \"anna\", \"announced\", \"anywhere\", \"applicable\", \"april\", \"april\", \"april\", \"april\", \"area\", \"area\", \"area\", \"area\", \"area\", \"area\", \"area\", \"area\", \"arvindkumar_ias\", \"arvindkumar_ias\", \"arvindkumar_ias\", \"arvindkumar_ias\", \"arvindkumar_ias\", \"asif\", \"asphalt\", \"auto\", \"auto\", \"auto\", \"available\", \"available\", \"available\", \"available\", \"aveervani\", \"avert\", \"awareness\", \"awareness\", \"back\", \"back\", \"back\", \"back\", \"back\", \"back\", \"back\", \"baghlingampally\", \"bahadurpura\", \"balamrai\", \"banjara\", \"basic\", \"bayviewprojoffl\", \"bazar\", \"becomes\", \"beds\", \"bhimavaram\", \"bikes\", \"birthday\", \"block/obstruct\", \"blockbuster\", \"blockbuster\", \"blood\", \"bloodmatters\", \"blow\", \"boneykapoor\", \"book\", \"book\", \"book\", \"bookings\", \"bookmyshow\", \"bookmyshow\", \"borabanda\", \"borabanda\", \"born\", \"bother\", \"bowenpally\", \"brother\", \"budget\", \"cabinet\", \"came\", \"came\", \"carnival\", \"carriageway\", \"causing\", \"celebrations\", \"celebrations\", \"celebrations\", \"celebrations\", \"celestial\", \"cell\", \"centre\", \"centre\", \"centre\", \"charminar\", \"charminar\", \"charminar\", \"charminar\", \"charminar\", \"charminar\", \"citizen\", \"citizen_ts\", \"citizens\", \"citizens\", \"citizens\", \"citizens\", \"citizens\", \"city\", \"city\", \"city\", \"city\", \"city\", \"city\", \"city\", \"city\", \"city\", \"city\", \"class\", \"class\", \"class\", \"collection\", \"collection\", \"colony\", \"colony\", \"colony\", \"colony\", \"colony\", \"commissioner\", \"community\", \"community\", \"community\", \"community\", \"commuters\", \"company\", \"company\", \"company\", \"complaint\", \"completes\", \"component\", \"concentration\", \"concrete\", \"conducted\", \"conducted\", \"confirmed\", \"congested\", \"connecting\", \"connection\", \"connection\", \"contact\", \"contact\", \"contact\", \"covid19\", \"covid19\", \"covid19\", \"covid19\", \"covid19\", \"covid19\", \"covid19indiahelp\", \"cracking\", \"created\", \"created\", \"created\", \"crimes\", \"cross\", \"cross\", \"cross\", \"cross\", \"cross\", \"cross\", \"crossing\", \"crossing\", \"crossing\", \"curfew\", \"curfew\", \"cybtraffic\", \"cybtraffic\", \"cybtraffic\", \"cybtraffic\", \"cybtraffic\", \"days\", \"days\", \"days\", \"days\", \"days\", \"days\", \"days\", \"days\", \"decision\", \"demolished\", \"depot\", \"developed\", \"developed\", \"developed\", \"developing\", \"digging\", \"disaster\", \"displaying\", \"distance\", \"distance\", \"distancing\", \"distributed\", \"distributors\", \"drive\", \"drive\", \"drive\", \"drivers\", \"drivers\", \"drivers\", \"driving\", \"driving\", \"driving\", \"driving\", \"driving\", \"driving\", \"driving\", \"drtamilisaiguv\", \"dumping\", \"economical\", \"electricity\", \"empty\", \"empty\", \"entering\", \"essential\", \"euphoria\", \"even\", \"even\", \"even\", \"even\", \"even\", \"even\", \"evening\", \"evening\", \"evening\", \"everywhere\", \"exit\", \"experience\", \"experience\", \"experience\", \"extends\", \"face\", \"falaknuma\", \"families\", \"families\", \"feel\", \"feel\", \"felicitated\", \"felt\", \"film\", \"film\", \"film\", \"first\", \"first\", \"first\", \"first\", \"first\", \"floor\", \"flooring\", \"fobs\", \"focus\", \"focus\", \"focus\", \"follow\", \"follow\", \"follow\", \"follow\", \"footpath\", \"footpaths\", \"footpaths\", \"footpaths\", \"free\", \"free\", \"free\", \"friends\", \"friends\", \"full\", \"full\", \"full\", \"funds\", \"fungus\", \"fungus\", \"gachibowli\", \"gachibowli\", \"gachibowli\", \"gadda\", \"garbage\", \"garbage\", \"garbage\", \"gated\", \"gaushala\", \"geethaarts\", \"ghmc\", \"ghmc\", \"ghmc\", \"ghmc\", \"ghmconline\", \"ghmconline\", \"ghmconline\", \"ghmconline\", \"ghmconline\", \"ghmconline\", \"ghmconline\", \"good\", \"good\", \"good\", \"good\", \"good\", \"good\", \"good\", \"good\", \"goshamahal\", \"goverdhan\", \"government/judiciary\", \"grab\", \"graveyard\", \"group\", \"group\", \"group\", \"growth\", \"gurinchi\", \"gutka\", \"heavy\", \"hello\", \"hello\", \"hello\", \"helmet\", \"helmet\", \"helmet\", \"help\", \"help\", \"help\", \"help\", \"help\", \"help\", \"help\", \"hero\", \"hicyberabad\", \"high\", \"high\", \"high\", \"high\", \"high\", \"highly\", \"hihyderabad\", \"hihyderabad\", \"hihyderabad\", \"hills\", \"hills\", \"hitechcity\", \"hoardings\", \"hospital\", \"hospital\", \"hospital\", \"hospital\", \"house\", \"house\", \"houses\", \"hungama\", \"hyderabad_zone\", \"hyderabadrains\", \"hydtp\", \"hydtp\", \"hydtp\", \"hydtp\", \"hydtp\", \"hydtp\", \"hydtp\", \"hydtp\", \"hydtpwebringawareness\", \"hydtpwebringawareness\", \"hydtpwebringawareness\", \"hydwatch\", \"hygiene\", \"i_nivethathomas\", \"ideal\", \"illegal\", \"illegal\", \"illegal\", \"illegal\", \"immediately\", \"immediately\", \"immediately\", \"importance\", \"improper\", \"india\", \"india\", \"india\", \"india\", \"india\", \"india\", \"india\", \"india\", \"india\", \"india\", \"industry\", \"industry\", \"injuries\", \"insptr_begumpet\", \"interiors\", \"investigate\", \"ips.\", \"irregularities\", \"issuing\", \"janamantemanam\", \"jubilee\", \"jubilee\", \"junction\", \"junction\", \"kajaguda\", \"kannada\", \"kapilmishra_ind\", \"kids\", \"kindly\", \"kindly\", \"kindly\", \"kindly\", \"kindly\", \"king\", \"kishanreddybjp\", \"komarambheemntr\", \"ktroffice\", \"ktroffice\", \"ktroffice\", \"ktrtrs\", \"ktrtrs\", \"ktrtrs\", \"ktrtrs\", \"ktrtrs\", \"ktrtrs\", \"ktrtrs\", \"ktrtrs\", \"ktrtrs\", \"kuda\", \"kuda\", \"kumar\", \"kumar\", \"kumar\", \"laid\", \"lamborghini\", \"lamborghini\", \"lamborghini\", \"land\", \"last\", \"last\", \"last\", \"last\", \"last\", \"last\", \"last\", \"leaving\", \"lightweight\", \"like\", \"like\", \"like\", \"like\", \"like\", \"like\", \"like\", \"like\", \"limits\", \"limits\", \"limits\", \"line\", \"list\", \"litter\", \"littering\", \"littering\", \"locality\", \"location\", \"location\", \"lockdown\", \"lockdown\", \"lockdown\", \"lockdown\", \"lockdown\", \"lockdown\", \"lockdown\", \"lockdown\", \"look\", \"look\", \"look\", \"look\", \"look\", \"madam\", \"madam\", \"madina\", \"magadheera\", \"magnifique\", \"mahankali\", \"main\", \"main\", \"main\", \"main\", \"maintain\", \"maintain\", \"maintaining\", \"major\", \"major\", \"major\", \"make\", \"make\", \"make\", \"make\", \"make\", \"make\", \"malla\", \"many\", \"many\", \"many\", \"many\", \"many\", \"many\", \"many\", \"many\", \"march\", \"march\", \"march\", \"market\", \"market\", \"market\", \"marredpally\", \"mask\", \"mask\", \"masks\", \"masks\", \"mass\", \"mass\", \"mayor\", \"mbnr\", \"media\", \"media\", \"mgbs\", \"might\", \"mirchowk\", \"moosarambagh\", \"moosarambagh\", \"motorway\", \"motorway\", \"mskajalaggarwal\", \"multispeciality\", \"must\", \"must\", \"must\", \"nagole\", \"nagole\", \"naik\", \"nallakunta\", \"name\", \"name\", \"name\", \"name\", \"name\", \"nampally\", \"narasimha\", \"nationalroadsafetymonth\", \"nationalroadsafetymonth\", \"nationalroadsafetymonth2021\", \"nationalroadsafetymonth2021\", \"near\", \"near\", \"near\", \"near\", \"near\", \"near\", \"near\", \"necklace\", \"necklace\", \"need\", \"need\", \"need\", \"needful\", \"negligent\", \"never\", \"never\", \"never\", \"never\", \"news\", \"news\", \"news\", \"news\", \"night\", \"night\", \"night\", \"night\", \"night\", \"nose\", \"noticed\", \"number\", \"number\", \"numbers\", \"numbers\", \"o+ve\", \"observation\", \"observation\", \"officials\", \"online\", \"online\", \"online\", \"opened\", \"outdoor\", \"overall\", \"oxygen\", \"oxygenbeds\", \"padmalaya\", \"pandarajath\", \"panjagutta\", \"panjagutta\", \"part\", \"part\", \"particularly\", \"passenger\", \"passing\", \"patches\", \"patience\", \"patience\", \"patient\", \"patient\", \"patient\", \"patrol\", \"pawankalyan\", \"paying\", \"paying\", \"pedestrian\", \"pedestrian\", \"pedestrian\", \"pedestrian\", \"pedestrians\", \"pedestrians\", \"penalize\", \"penalty\", \"people\", \"people\", \"people\", \"people\", \"people\", \"people\", \"people\", \"people\", \"people\", \"people\", \"personnel\", \"phase\", \"phone\", \"phone\", \"phone\", \"phone\", \"photo\", \"physical\", \"placards\", \"place\", \"place\", \"place\", \"place\", \"place\", \"place\", \"place\", \"places\", \"places\", \"places\", \"places\", \"places\", \"please\", \"please\", \"please\", \"please\", \"please\", \"please\", \"please\", \"please\", \"police\", \"police\", \"police\", \"police\", \"police\", \"police\", \"police\", \"police\", \"polite\", \"politicians\", \"popular\", \"posted\", \"posted\", \"powder\", \"powered\", \"powerstar\", \"prabhas\", \"prabhas\", \"prabhas\", \"prabhas\", \"prabhas\", \"pride\", \"primary\", \"program\", \"proper\", \"properly\", \"property\", \"public\", \"public\", \"public\", \"public\", \"public\", \"public\", \"public\", \"public\", \"punishable\", \"raichur\", \"raidurgam\", \"rail\", \"ramcharan\", \"ramesh\", \"ramulu\", \"rash\", \"rawe\", \"ready\", \"ready\", \"ready\", \"realestate\", \"receipts\", \"record\", \"record\", \"record\", \"recruitment\", \"regarding\", \"regulations\", \"release\", \"release\", \"release\", \"released\", \"releasing\", \"removal\", \"removal\", \"request\", \"request\", \"request\", \"request\", \"requires\", \"residential\", \"residential\", \"resorts\", \"respective\", \"responsible\", \"responsible\", \"responsible\", \"rider\", \"riders\", \"riding\", \"road\", \"road\", \"road\", \"road\", \"road\", \"road\", \"road\", \"road\", \"road\", \"road\", \"road\", \"road\", \"roads\", \"roads\", \"roads\", \"roads\", \"roads\", \"roads\", \"roads\", \"roads\", \"roads\", \"roads\", \"roads\", \"roads\", \"roadsafety\", \"roam\", \"roberrt\", \"roses\", \"royal_sukanya\", \"rrrmovie\", \"rules\", \"rules\", \"safety\", \"safety\", \"sai_koushika\", \"saivamshirv\", \"sale\", \"sandhya\", \"sandhya\", \"sangam\", \"sangeeth\", \"sanitation\", \"santhosh\", \"sarat\", \"sarkaruvaaripaata\", \"satyahari7\", \"save\", \"save\", \"scene\", \"screening\", \"screening\", \"seat\", \"seat\", \"secondary\", \"security\", \"seeing\", \"seeing\", \"selling\", \"sensitized\", \"sensitized\", \"setting\", \"severe\", \"shamshabad\", \"shamshabad\", \"shankar\", \"sharma\", \"sharma\", \"shivaratri\", \"show\", \"show\", \"show\", \"shrutihaasan\", \"signals\", \"signals\", \"signs\", \"single\", \"single\", \"situated\", \"small\", \"small\", \"solution\", \"south\", \"south\", \"south\", \"spandana_adv\", \"special\", \"special\", \"special\", \"special\", \"spitting\", \"spitting\", \"spo2\", \"spotted\", \"spread\", \"sriramvenu\", \"ssrajamouli\", \"staff\", \"staff\", \"star\", \"star\", \"start\", \"start\", \"start\", \"starts\", \"station\", \"station\", \"station\", \"stations\", \"statue\", \"stns.\", \"stop\", \"stop\", \"stop\", \"stop\", \"stores\", \"stores\", \"strictroadrules\", \"sudarshan\", \"sudershan\", \"sudershan\", \"sudharshan\", \"suffering\", \"suffering\", \"suffering\", \"sultan\", \"sunday\", \"sunday\", \"sunday\", \"sunny\", \"supraja\", \"svc_official\", \"swachh\", \"swachhhyd\", \"swachhhyd\", \"take\", \"take\", \"take\", \"take\", \"taking\", \"taking\", \"taking\", \"taking\", \"tarak9999\", \"taxes\", \"team\", \"team\", \"team\", \"technical\", \"technology\", \"telangana\", \"telangana\", \"telangana\", \"telangana\", \"telangana\", \"telangana\", \"telangana\", \"telangana\", \"telangana\", \"telangana\", \"telangana\", \"telangana\", \"temple\", \"terminal\", \"terminating\", \"termination\", \"theater\", \"theatre\", \"theatre\", \"theatre\", \"theatre..\", \"theatres\", \"theatres\", \"think\", \"think\", \"think\", \"tickets\", \"tickets\", \"tiger\", \"tiger\", \"till\", \"till\", \"till\", \"time\", \"time\", \"time\", \"time\", \"time\", \"time\", \"time\", \"time\", \"times\", \"times\", \"times\", \"timings\", \"timings\", \"timings\", \"today\", \"today\", \"today\", \"today\", \"today\", \"tomorrow\", \"tomorrow\", \"tough\", \"traffic\", \"traffic\", \"traffic\", \"traffic\", \"traffic\", \"traffic\", \"traffic\", \"train\", \"travel\", \"trees\", \"trending\", \"trimulgherry\", \"triple\", \"trolleys\", \"tsmaudonline\", \"tsrtc\", \"twitter\", \"twitter\", \"twitter\", \"type\", \"type\", \"uniform\", \"units\", \"urine\", \"using\", \"vakeelsaab\", \"vakeelsaabbookings\", \"vakeelsaabjusticeserved\", \"vakeelsaabonapril9th\", \"vakeelsaabtrailer\", \"vakeelsaabtrailer\", \"vehicles\", \"vehicles\", \"vehicles\", \"vehicles\", \"vehicles\", \"vehicles\", \"ventilator\", \"verified\", \"version\", \"visits\", \"vizag\", \"vizag\", \"vizag\", \"vizag\", \"walking\", \"waste\", \"water\", \"water\", \"water\", \"water\", \"water\", \"water\", \"wear\", \"wear\", \"wearing\", \"wearing\", \"well\", \"well\", \"well\", \"welovekalyanbabu\", \"welovekalyanbabu\", \"whole\", \"whole\", \"whole\", \"wilddog\", \"wilddog\", \"wilddogonapril2nd\", \"withcitizen\", \"work\", \"work\", \"work\", \"work\", \"work\", \"world\", \"world\", \"world\", \"years\", \"years\", \"years\", \"years\", \"young\", \"yoursanjali\", \"zc_slp\", \"zero\", \"zooming\", \"zooming\"]}, \"R\": 30, \"lambda.step\": 0.01, \"plot.opts\": {\"xlab\": \"PC1\", \"ylab\": \"PC2\"}, \"topic.order\": [11, 8, 6, 2, 5, 4, 9, 7, 3, 12, 10, 1]};\n",
              "\n",
              "function LDAvis_load_lib(url, callback){\n",
              "  var s = document.createElement('script');\n",
              "  s.src = url;\n",
              "  s.async = true;\n",
              "  s.onreadystatechange = s.onload = callback;\n",
              "  s.onerror = function(){console.warn(\"failed to load library \" + url);};\n",
              "  document.getElementsByTagName(\"head\")[0].appendChild(s);\n",
              "}\n",
              "\n",
              "if(typeof(LDAvis) !== \"undefined\"){\n",
              "   // already loaded: just create the visualization\n",
              "   !function(LDAvis){\n",
              "       new LDAvis(\"#\" + \"ldavis_el1791403571988327201492916444\", ldavis_el1791403571988327201492916444_data);\n",
              "   }(LDAvis);\n",
              "}else if(typeof define === \"function\" && define.amd){\n",
              "   // require.js is available: use it to load d3/LDAvis\n",
              "   require.config({paths: {d3: \"https://d3js.org/d3.v5\"}});\n",
              "   require([\"d3\"], function(d3){\n",
              "      window.d3 = d3;\n",
              "      LDAvis_load_lib(\"https://cdn.jsdelivr.net/gh/bmabey/pyLDAvis@3.3.1/pyLDAvis/js/ldavis.v3.0.0.js\", function(){\n",
              "        new LDAvis(\"#\" + \"ldavis_el1791403571988327201492916444\", ldavis_el1791403571988327201492916444_data);\n",
              "      });\n",
              "    });\n",
              "}else{\n",
              "    // require.js not available: dynamically load d3 & LDAvis\n",
              "    LDAvis_load_lib(\"https://d3js.org/d3.v5.js\", function(){\n",
              "         LDAvis_load_lib(\"https://cdn.jsdelivr.net/gh/bmabey/pyLDAvis@3.3.1/pyLDAvis/js/ldavis.v3.0.0.js\", function(){\n",
              "                 new LDAvis(\"#\" + \"ldavis_el1791403571988327201492916444\", ldavis_el1791403571988327201492916444_data);\n",
              "            })\n",
              "         });\n",
              "}\n",
              "</script>"
            ],
            "text/plain": [
              "PreparedData(topic_coordinates=              x         y  topics  cluster       Freq\n",
              "topic                                                \n",
              "10    -0.051439 -0.055144       1        1  13.846818\n",
              "7     -0.096611 -0.055159       2        1  12.710811\n",
              "5      0.383327 -0.133244       3        1   9.948268\n",
              "1     -0.049578 -0.006246       4        1   9.812475\n",
              "4     -0.027088 -0.054582       5        1   8.034102\n",
              "3     -0.075926 -0.033670       6        1   7.741359\n",
              "8     -0.080661 -0.071538       7        1   7.502727\n",
              "6     -0.052041 -0.007509       8        1   7.335413\n",
              "2      0.042348  0.109493       9        1   7.287513\n",
              "11     0.111771  0.263091      10        1   5.974654\n",
              "9     -0.038698  0.047658      11        1   5.696149\n",
              "0     -0.065404 -0.003149      12        1   4.109711, topic_info=                        Term        Freq       Total Category  logprob  loglift\n",
              "2641               awareness  366.000000  366.000000  Default  30.0000  30.0000\n",
              "51                   traffic  342.000000  342.000000  Default  29.0000  29.0000\n",
              "291                   safety  204.000000  204.000000  Default  28.0000  28.0000\n",
              "171                    today  266.000000  266.000000  Default  27.0000  27.0000\n",
              "10685  hydtpwebringawareness  280.000000  280.000000  Default  26.0000  26.0000\n",
              "...                      ...         ...         ...      ...      ...      ...\n",
              "6843                 sandhya    7.945357   35.641930  Topic12  -5.3887   1.6909\n",
              "9697             lamborghini    7.471392   36.119338  Topic12  -5.4502   1.6161\n",
              "276                    april    5.984604   20.486422  Topic12  -5.6721   1.9612\n",
              "4363                 prabhas    5.755018   53.120212  Topic12  -5.7112   0.9693\n",
              "318                    india    5.595566   76.109183  Topic12  -5.7393   0.5816\n",
              "\n",
              "[649 rows x 6 columns], token_table=       Topic      Freq               Term\n",
              "term                                     \n",
              "10153      8  0.962425             'nizam\n",
              "8733       5  0.973910     +91-8008725353\n",
              "10024     12  0.948913  //t.co/lmfv8ekcw8\n",
              "10098      9  0.920212           1,010.77\n",
              "7426       2  0.933464            1-1-216\n",
              "...      ...       ...                ...\n",
              "9525       5  0.912948        yoursanjali\n",
              "639        2  0.883935             zc_slp\n",
              "5226       8  0.904189               zero\n",
              "10189      2  0.401304            zooming\n",
              "10189     12  0.501630            zooming\n",
              "\n",
              "[1095 rows x 3 columns], R=30, lambda_step=0.01, plot_opts={'xlab': 'PC1', 'ylab': 'PC2'}, topic_order=[11, 8, 6, 2, 5, 4, 9, 7, 3, 12, 10, 1])"
            ]
          },
          "metadata": {},
          "execution_count": 144
        }
      ]
    },
    {
      "cell_type": "markdown",
      "source": [
        "### **Since some topics are overlapping, we need different number of topics**\n"
      ],
      "metadata": {
        "id": "wH_4rEOs4smD"
      }
    },
    {
      "cell_type": "code",
      "source": [
        "#Finding out coherence of the model\n",
        "coherence_model_lda = CoherenceModel(model=ldamodel,texts=df['cleaned_text'],\\\n",
        "                                     dictionary=dictionary , coherence='c_v')\n",
        "print('\\nCoherence Score: ', coherence_model_lda.get_coherence())"
      ],
      "metadata": {
        "colab": {
          "base_uri": "https://localhost:8080/"
        },
        "id": "dodW7PdN1MDr",
        "outputId": "820f13d0-bb01-4479-83da-0d8d8f4caa55"
      },
      "execution_count": null,
      "outputs": [
        {
          "output_type": "stream",
          "name": "stdout",
          "text": [
            "\n",
            "Coherence Score:  0.4568100208550427\n"
          ]
        }
      ]
    },
    {
      "cell_type": "code",
      "source": [
        "# Computing coherence score for different size of topic\n",
        "def calculate_topic_cv(ldamodel,texts,dictionary,topic_range):\n",
        "  cv_score =[]\n",
        "  topic_num = []\n",
        "  for i in range(2,topic_range):\n",
        "    topic_num.append(i)\n",
        "    Lda = gensim.models.ldamodel.LdaModel\n",
        "    ldamodel = Lda(doc_term_matrix, num_topics=i, id2word=dictionary, passes=10,random_state=45)\n",
        "    cv_score.append(CoherenceModel(model=ldamodel,texts=texts, dictionary=dictionary , coherence='c_v').get_coherence())\n",
        "    clear_output()\n",
        "  return topic_num,cv_score\n",
        "\n",
        "topic_num,cv_score = calculate_topic_cv(ldamodel,df['cleaned_text'],dictionary,15)"
      ],
      "metadata": {
        "id": "5s8JiKA7m88j"
      },
      "execution_count": null,
      "outputs": []
    },
    {
      "cell_type": "code",
      "source": [
        "pd.DataFrame(zip(topic_num,cv_score),columns=['Topic','Coherence_Score']).set_index('Topic').sort_values('Coherence_Score',ascending=False)"
      ],
      "metadata": {
        "colab": {
          "base_uri": "https://localhost:8080/",
          "height": 488
        },
        "id": "nbHMRqxm5hWH",
        "outputId": "468ab91b-b4b5-4f7f-d72d-d6b64eefc553"
      },
      "execution_count": null,
      "outputs": [
        {
          "output_type": "execute_result",
          "data": {
            "text/html": [
              "\n",
              "  <div id=\"df-c101cb8c-e1f0-4cb5-904f-411c82a799ea\">\n",
              "    <div class=\"colab-df-container\">\n",
              "      <div>\n",
              "<style scoped>\n",
              "    .dataframe tbody tr th:only-of-type {\n",
              "        vertical-align: middle;\n",
              "    }\n",
              "\n",
              "    .dataframe tbody tr th {\n",
              "        vertical-align: top;\n",
              "    }\n",
              "\n",
              "    .dataframe thead th {\n",
              "        text-align: right;\n",
              "    }\n",
              "</style>\n",
              "<table border=\"1\" class=\"dataframe\">\n",
              "  <thead>\n",
              "    <tr style=\"text-align: right;\">\n",
              "      <th></th>\n",
              "      <th>Coherence_Score</th>\n",
              "    </tr>\n",
              "    <tr>\n",
              "      <th>Topic</th>\n",
              "      <th></th>\n",
              "    </tr>\n",
              "  </thead>\n",
              "  <tbody>\n",
              "    <tr>\n",
              "      <th>2</th>\n",
              "      <td>0.565407</td>\n",
              "    </tr>\n",
              "    <tr>\n",
              "      <th>4</th>\n",
              "      <td>0.527396</td>\n",
              "    </tr>\n",
              "    <tr>\n",
              "      <th>14</th>\n",
              "      <td>0.495525</td>\n",
              "    </tr>\n",
              "    <tr>\n",
              "      <th>11</th>\n",
              "      <td>0.494160</td>\n",
              "    </tr>\n",
              "    <tr>\n",
              "      <th>8</th>\n",
              "      <td>0.476396</td>\n",
              "    </tr>\n",
              "    <tr>\n",
              "      <th>3</th>\n",
              "      <td>0.475464</td>\n",
              "    </tr>\n",
              "    <tr>\n",
              "      <th>9</th>\n",
              "      <td>0.469001</td>\n",
              "    </tr>\n",
              "    <tr>\n",
              "      <th>10</th>\n",
              "      <td>0.458947</td>\n",
              "    </tr>\n",
              "    <tr>\n",
              "      <th>12</th>\n",
              "      <td>0.456810</td>\n",
              "    </tr>\n",
              "    <tr>\n",
              "      <th>7</th>\n",
              "      <td>0.453807</td>\n",
              "    </tr>\n",
              "    <tr>\n",
              "      <th>5</th>\n",
              "      <td>0.444232</td>\n",
              "    </tr>\n",
              "    <tr>\n",
              "      <th>6</th>\n",
              "      <td>0.444193</td>\n",
              "    </tr>\n",
              "    <tr>\n",
              "      <th>13</th>\n",
              "      <td>0.442774</td>\n",
              "    </tr>\n",
              "  </tbody>\n",
              "</table>\n",
              "</div>\n",
              "      <button class=\"colab-df-convert\" onclick=\"convertToInteractive('df-c101cb8c-e1f0-4cb5-904f-411c82a799ea')\"\n",
              "              title=\"Convert this dataframe to an interactive table.\"\n",
              "              style=\"display:none;\">\n",
              "        \n",
              "  <svg xmlns=\"http://www.w3.org/2000/svg\" height=\"24px\"viewBox=\"0 0 24 24\"\n",
              "       width=\"24px\">\n",
              "    <path d=\"M0 0h24v24H0V0z\" fill=\"none\"/>\n",
              "    <path d=\"M18.56 5.44l.94 2.06.94-2.06 2.06-.94-2.06-.94-.94-2.06-.94 2.06-2.06.94zm-11 1L8.5 8.5l.94-2.06 2.06-.94-2.06-.94L8.5 2.5l-.94 2.06-2.06.94zm10 10l.94 2.06.94-2.06 2.06-.94-2.06-.94-.94-2.06-.94 2.06-2.06.94z\"/><path d=\"M17.41 7.96l-1.37-1.37c-.4-.4-.92-.59-1.43-.59-.52 0-1.04.2-1.43.59L10.3 9.45l-7.72 7.72c-.78.78-.78 2.05 0 2.83L4 21.41c.39.39.9.59 1.41.59.51 0 1.02-.2 1.41-.59l7.78-7.78 2.81-2.81c.8-.78.8-2.07 0-2.86zM5.41 20L4 18.59l7.72-7.72 1.47 1.35L5.41 20z\"/>\n",
              "  </svg>\n",
              "      </button>\n",
              "      \n",
              "  <style>\n",
              "    .colab-df-container {\n",
              "      display:flex;\n",
              "      flex-wrap:wrap;\n",
              "      gap: 12px;\n",
              "    }\n",
              "\n",
              "    .colab-df-convert {\n",
              "      background-color: #E8F0FE;\n",
              "      border: none;\n",
              "      border-radius: 50%;\n",
              "      cursor: pointer;\n",
              "      display: none;\n",
              "      fill: #1967D2;\n",
              "      height: 32px;\n",
              "      padding: 0 0 0 0;\n",
              "      width: 32px;\n",
              "    }\n",
              "\n",
              "    .colab-df-convert:hover {\n",
              "      background-color: #E2EBFA;\n",
              "      box-shadow: 0px 1px 2px rgba(60, 64, 67, 0.3), 0px 1px 3px 1px rgba(60, 64, 67, 0.15);\n",
              "      fill: #174EA6;\n",
              "    }\n",
              "\n",
              "    [theme=dark] .colab-df-convert {\n",
              "      background-color: #3B4455;\n",
              "      fill: #D2E3FC;\n",
              "    }\n",
              "\n",
              "    [theme=dark] .colab-df-convert:hover {\n",
              "      background-color: #434B5C;\n",
              "      box-shadow: 0px 1px 3px 1px rgba(0, 0, 0, 0.15);\n",
              "      filter: drop-shadow(0px 1px 2px rgba(0, 0, 0, 0.3));\n",
              "      fill: #FFFFFF;\n",
              "    }\n",
              "  </style>\n",
              "\n",
              "      <script>\n",
              "        const buttonEl =\n",
              "          document.querySelector('#df-c101cb8c-e1f0-4cb5-904f-411c82a799ea button.colab-df-convert');\n",
              "        buttonEl.style.display =\n",
              "          google.colab.kernel.accessAllowed ? 'block' : 'none';\n",
              "\n",
              "        async function convertToInteractive(key) {\n",
              "          const element = document.querySelector('#df-c101cb8c-e1f0-4cb5-904f-411c82a799ea');\n",
              "          const dataTable =\n",
              "            await google.colab.kernel.invokeFunction('convertToInteractive',\n",
              "                                                     [key], {});\n",
              "          if (!dataTable) return;\n",
              "\n",
              "          const docLinkHtml = 'Like what you see? Visit the ' +\n",
              "            '<a target=\"_blank\" href=https://colab.research.google.com/notebooks/data_table.ipynb>data table notebook</a>'\n",
              "            + ' to learn more about interactive tables.';\n",
              "          element.innerHTML = '';\n",
              "          dataTable['output_type'] = 'display_data';\n",
              "          await google.colab.output.renderOutput(dataTable, element);\n",
              "          const docLink = document.createElement('div');\n",
              "          docLink.innerHTML = docLinkHtml;\n",
              "          element.appendChild(docLink);\n",
              "        }\n",
              "      </script>\n",
              "    </div>\n",
              "  </div>\n",
              "  "
            ],
            "text/plain": [
              "       Coherence_Score\n",
              "Topic                 \n",
              "2             0.565407\n",
              "4             0.527396\n",
              "14            0.495525\n",
              "11            0.494160\n",
              "8             0.476396\n",
              "3             0.475464\n",
              "9             0.469001\n",
              "10            0.458947\n",
              "12            0.456810\n",
              "7             0.453807\n",
              "5             0.444232\n",
              "6             0.444193\n",
              "13            0.442774"
            ]
          },
          "metadata": {},
          "execution_count": 147
        }
      ]
    },
    {
      "cell_type": "code",
      "source": [
        "plt.figure(figsize = (16,8))\n",
        "plt.plot(topic_num,cv_score,color='green', marker='*', linestyle='dashed')\n",
        "plt.xticks(range(2,15))\n",
        "plt.xlabel('Number of topics')\n",
        "plt.ylabel('Coherence score')\n",
        "plt.show()"
      ],
      "metadata": {
        "colab": {
          "base_uri": "https://localhost:8080/",
          "height": 497
        },
        "id": "Dd04q5lg5rvX",
        "outputId": "352c0615-0f82-46a6-97e9-ff0e9ab81067"
      },
      "execution_count": null,
      "outputs": [
        {
          "output_type": "display_data",
          "data": {
            "image/png": "[encoded data removed]",
            "text/plain": [
              "<Figure size 1152x576 with 1 Axes>"
            ]
          },
          "metadata": {
            "needs_background": "light"
          }
        }
      ]
    },
    {
      "cell_type": "markdown",
      "source": [
        "### **Select the number of topics depending on the graph above and put the value in ``num_topic``**"
      ],
      "metadata": {
        "id": "3xH-AVAdNKSX"
      }
    },
    {
      "cell_type": "code",
      "source": [
        "# Creating LDA model with number of topics as 2\n",
        "Lda2 = gensim.models.ldamodel.LdaModel\n",
        "ldamodel2 = Lda2(doc_term_matrix, num_topics=2, id2word=dictionary, passes=10,random_state=45)\n",
        "clear_output()\n",
        "print(CoherenceModel(model=ldamodel2,texts=df['cleaned_text'],dictionary=dictionary , coherence='c_v').get_coherence())"
      ],
      "metadata": {
        "colab": {
          "base_uri": "https://localhost:8080/"
        },
        "id": "wt6Hw1lh51hm",
        "outputId": "dbbb1664-125d-4e2e-b0d5-4b447ad5e0eb"
      },
      "execution_count": null,
      "outputs": [
        {
          "output_type": "stream",
          "name": "stdout",
          "text": [
            "0.5654074262956892\n"
          ]
        }
      ]
    },
    {
      "cell_type": "code",
      "source": [
        "ldamodel2.print_topics()"
      ],
      "metadata": {
        "colab": {
          "base_uri": "https://localhost:8080/"
        },
        "id": "7A0-1dyW6GSP",
        "outputId": "e871279c-2979-40ed-a12c-c9f3c9405a8b"
      },
      "execution_count": null,
      "outputs": [
        {
          "output_type": "execute_result",
          "data": {
            "text/plain": [
              "[(0,\n",
              "  '0.028*\"traffic\" + 0.025*\"hydtpwebringawareness\" + 0.023*\"awareness\" + 0.023*\"today\" + 0.021*\"police\" + 0.020*\"conducted\" + 0.019*\"program\" + 0.019*\"roads\" + 0.015*\"observation\" + 0.015*\"connection\"'),\n",
              " (1,\n",
              "  '0.027*\"roads\" + 0.010*\"please\" + 0.009*\"ktrtrs\" + 0.009*\"road\" + 0.008*\"telangana\" + 0.006*\"city\" + 0.005*\"people\" + 0.004*\"book\" + 0.004*\"lockdown\" + 0.004*\"available\"')]"
            ]
          },
          "metadata": {},
          "execution_count": 124
        }
      ]
    },
    {
      "cell_type": "code",
      "source": [
        "vis2 = gensim_models.prepare(ldamodel2,doc_term_matrix,dictionary)\n",
        "vis2"
      ],
      "metadata": {
        "colab": {
          "base_uri": "https://localhost:8080/",
          "height": 916
        },
        "id": "sEemYzzk6KBW",
        "outputId": "1959d456-8ae1-4d92-b509-b41d353822c8"
      },
      "execution_count": null,
      "outputs": [
        {
          "output_type": "stream",
          "name": "stderr",
          "text": [
            "/usr/local/lib/python3.7/dist-packages/pyLDAvis/_prepare.py:247: FutureWarning: In a future version of pandas all arguments of DataFrame.drop except for the argument 'labels' will be keyword-only\n",
            "  by='saliency', ascending=False).head(R).drop('saliency', 1)\n"
          ]
        },
        {
          "output_type": "execute_result",
          "data": {
            "text/html": [
              "\n",
              "<link rel=\"stylesheet\" type=\"text/css\" href=\"https://cdn.jsdelivr.net/gh/bmabey/pyLDAvis@3.3.1/pyLDAvis/js/ldavis.v1.0.0.css\">\n",
              "\n",
              "\n",
              "<div id=\"ldavis_el1791403572138037288287126732\"></div>\n",
              "<script type=\"text/javascript\">\n",
              "\n",
              "var ldavis_el1791403572138037288287126732_data = {\"mdsDat\": {\"x\": [0.1626268543639488, -0.1626268543639488], \"y\": [0.0, 0.0], \"topics\": [1, 2], \"cluster\": [1, 1], \"Freq\": [71.01711152019958, 28.982888479800412]}, \"tinfo\": {\"Term\": [\"traffic\", \"hydtpwebringawareness\", \"awareness\", \"today\", \"conducted\", \"program\", \"police\", \"observation\", \"connection\", \"safety\", \"addlcptrhyd\", \"nationalroadsafetymonth\", \"sensitized\", \"drivers\", \"road\", \"rules\", \"please\", \"ktrtrs\", \"wearing\", \"nationalroadsafetymonth2021\", \"helmet\", \"auto\", \"created\", \"commuters\", \"along\", \"vakeelsaabtrailer\", \"masks\", \"sudarshan\", \"company\", \"lockdown\", \"please\", \"ktrtrs\", \"lockdown\", \"save\", \"oxygen\", \"request\", \"accidents\", \"garbage\", \"ghmconline\", \"last\", \"hihyderabad\", \"ktroffice\", \"news\", \"days\", \"online\", \"ready\", \"beds\", \"many\", \"make\", \"illegal\", \"amksocialwork\", \"swachhhyd\", \"hyderabad_zone\", \"hydwatch\", \"withcitizen\", \"hicyberabad\", \"carnival\", \"good\", \"verified\", \"pandarajath\", \"available\", \"people\", \"industry\", \"telangana\", \"contact\", \"help\", \"evening\", \"accident\", \"book\", \"roads\", \"ghmc\", \"name\", \"city\", \"hospital\", \"india\", \"tickets\", \"show\", \"road\", \"time\", \"awareness\", \"conducted\", \"program\", \"connection\", \"observation\", \"safety\", \"nationalroadsafetymonth\", \"hydtpwebringawareness\", \"sensitized\", \"drivers\", \"nationalroadsafetymonth2021\", \"along\", \"vakeelsaabtrailer\", \"bahadurpura\", \"physical\", \"wearing\", \"importance\", \"celebrations\", \"avert\", \"mirchowk\", \"welovekalyanbabu\", \"maintain\", \"theatres\", \"powder\", \"march\", \"distancing\", \"particularly\", \"irregularities\", \"wear\", \"selling\", \"addlcptrhyd\", \"rules\", \"traffic\", \"today\", \"helmet\", \"created\", \"police\", \"commuters\", \"blood\", \"masks\", \"company\", \"auto\", \"road\", \"roads\", \"sudarshan\", \"35mm\"], \"Freq\": [377.0, 303.0, 284.0, 312.0, 246.0, 238.0, 294.0, 183.0, 183.0, 174.0, 172.0, 142.0, 133.0, 88.0, 437.0, 82.0, 289.0, 268.0, 53.0, 48.0, 52.0, 68.0, 44.0, 45.0, 40.0, 37.0, 42.0, 90.0, 40.0, 124.0, 289.2302974219245, 268.00945909852913, 124.40544235931714, 81.45798277557765, 73.74567303864131, 77.26286284976081, 63.95408321635893, 61.19641811890299, 86.48615283376796, 59.98075027363135, 64.49189792957226, 57.11320645578183, 68.43855988708154, 66.81300147942453, 52.64294357959565, 52.658291118452574, 50.69867704629145, 94.2260713444346, 50.17273165633454, 47.28222951599522, 43.83404414314716, 47.23554304462516, 44.37882228598322, 42.08593287334103, 43.80361850466998, 43.80128103181169, 42.2653409136359, 47.30958984575406, 52.8548382935676, 40.93364623447966, 117.67391243908203, 154.5781018877593, 81.72274006809761, 234.44283097039198, 83.00292636331086, 71.38055641452038, 51.47617020775032, 81.97037222264086, 125.83611571702033, 820.5879588153255, 73.9708542562703, 82.95578499452827, 167.01060213775295, 106.43935303211441, 79.85146707345173, 104.36306127284766, 100.63535893604816, 261.29240191443455, 65.75603684375545, 283.90967036794086, 245.3825306183631, 237.79912590656753, 183.14295618742673, 183.14295618742673, 173.7987212361626, 141.62212969931295, 302.2271854223534, 132.53924254926523, 87.96334526351698, 48.217955290612935, 39.54892785261999, 36.53679904868296, 28.753570545397334, 28.748155312936387, 52.331635487115825, 26.3637222121504, 26.343509342885575, 23.560542551872558, 22.2651695360744, 22.26508099588121, 25.257929458717182, 21.82087199050891, 21.18644437654012, 26.749020571563072, 21.39634318517466, 21.176853474322897, 19.67450490433312, 32.07625264888262, 20.091572056289614, 166.89651620942251, 80.1474968393788, 349.0702257581275, 282.4448842608784, 49.64145881856652, 42.320107373397605, 252.35417400564668, 42.398631100216576, 30.348416483986234, 37.52810933232078, 35.888470624383245, 51.13590303421259, 176.697824199289, 227.189497363306, 50.13917466197856, 34.36734439309891], \"Total\": [377.0, 303.0, 284.0, 312.0, 246.0, 238.0, 294.0, 183.0, 183.0, 174.0, 172.0, 142.0, 133.0, 88.0, 437.0, 82.0, 289.0, 268.0, 53.0, 48.0, 52.0, 68.0, 44.0, 45.0, 40.0, 37.0, 42.0, 90.0, 40.0, 124.0, 289.51772905694975, 268.43278448912065, 124.66657610658363, 81.67243323739973, 73.96946723541248, 77.5042253130506, 64.17508449217216, 61.41045633776409, 86.79964248581695, 60.19851059458063, 64.74704898831607, 57.34527512186254, 68.72007215945818, 67.08870111489449, 52.861834439211314, 52.878032682419395, 50.91887851497648, 94.6363839149997, 50.393833075390475, 47.499897793522905, 44.047863354448744, 47.47063658108624, 44.6044530669835, 42.30021430997072, 44.028795093222584, 44.02733202171272, 42.48502678296507, 47.55651668531812, 53.130847194934134, 41.14772615737833, 118.37507999054924, 156.15456020602565, 82.28183050966003, 241.0440678875305, 84.3158955822007, 72.5003222742084, 51.92199859719032, 84.71820997797171, 135.50177084847925, 1047.7774561786314, 77.20170696979139, 87.72224454512325, 190.97236600313616, 117.50107994038179, 85.59439464376715, 118.16445953169168, 119.06864600532785, 437.99022611372357, 72.69864618801068, 284.5346368097013, 246.1107609051017, 238.5465648379775, 183.76255910438243, 183.76255910438243, 174.4899809385508, 142.243279814223, 303.6145042135327, 133.16125450887645, 88.63143674543858, 48.79529823794368, 40.17126698844716, 37.123763076288924, 29.33569002491009, 29.34478273939898, 53.45171265541088, 26.972602945586758, 26.988916752968965, 24.150697914463205, 22.849609976544166, 22.84975839853679, 25.929602273609472, 22.40753464857907, 21.761156682752244, 27.478490563101197, 21.985143095631383, 21.777268359146245, 20.247286903676287, 33.01455007736824, 20.699835616409537, 172.19243451062022, 82.64495361844018, 377.1221815429955, 312.3739357272728, 52.151663660212975, 44.77613612021735, 294.92912509667894, 45.79711936814601, 32.034215884352584, 42.39389632328188, 40.500410424902256, 68.12294290448718, 437.99022611372357, 1047.7774561786314, 90.16493314130022, 73.11621983226452], \"Category\": [\"Default\", \"Default\", \"Default\", \"Default\", \"Default\", \"Default\", \"Default\", \"Default\", \"Default\", \"Default\", \"Default\", \"Default\", \"Default\", \"Default\", \"Default\", \"Default\", \"Default\", \"Default\", \"Default\", \"Default\", \"Default\", \"Default\", \"Default\", \"Default\", \"Default\", \"Default\", \"Default\", \"Default\", \"Default\", \"Default\", \"Topic1\", \"Topic1\", \"Topic1\", \"Topic1\", \"Topic1\", \"Topic1\", \"Topic1\", \"Topic1\", \"Topic1\", \"Topic1\", \"Topic1\", \"Topic1\", \"Topic1\", \"Topic1\", \"Topic1\", \"Topic1\", \"Topic1\", \"Topic1\", \"Topic1\", \"Topic1\", \"Topic1\", \"Topic1\", \"Topic1\", \"Topic1\", \"Topic1\", \"Topic1\", \"Topic1\", \"Topic1\", \"Topic1\", \"Topic1\", \"Topic1\", \"Topic1\", \"Topic1\", \"Topic1\", \"Topic1\", \"Topic1\", \"Topic1\", \"Topic1\", \"Topic1\", \"Topic1\", \"Topic1\", \"Topic1\", \"Topic1\", \"Topic1\", \"Topic1\", \"Topic1\", \"Topic1\", \"Topic1\", \"Topic1\", \"Topic2\", \"Topic2\", \"Topic2\", \"Topic2\", \"Topic2\", \"Topic2\", \"Topic2\", \"Topic2\", \"Topic2\", \"Topic2\", \"Topic2\", \"Topic2\", \"Topic2\", \"Topic2\", \"Topic2\", \"Topic2\", \"Topic2\", \"Topic2\", \"Topic2\", \"Topic2\", \"Topic2\", \"Topic2\", \"Topic2\", \"Topic2\", \"Topic2\", \"Topic2\", \"Topic2\", \"Topic2\", \"Topic2\", \"Topic2\", \"Topic2\", \"Topic2\", \"Topic2\", \"Topic2\", \"Topic2\", \"Topic2\", \"Topic2\", \"Topic2\", \"Topic2\", \"Topic2\", \"Topic2\", \"Topic2\", \"Topic2\", \"Topic2\", \"Topic2\", \"Topic2\"], \"logprob\": [30.0, 29.0, 28.0, 27.0, 26.0, 25.0, 24.0, 23.0, 22.0, 21.0, 20.0, 19.0, 18.0, 17.0, 16.0, 15.0, 14.0, 13.0, 12.0, 11.0, 10.0, 9.0, 8.0, 7.0, 6.0, 5.0, 4.0, 3.0, 2.0, 1.0, -4.6437, -4.7199, -5.4873, -5.9108, -6.0103, -5.9637, -6.1527, -6.1968, -5.8509, -6.2169, -6.1443, -6.2658, -6.0849, -6.109, -6.3474, -6.3471, -6.385, -5.7652, -6.3954, -6.4547, -6.5305, -6.4557, -6.5181, -6.5712, -6.5312, -6.5312, -6.5669, -6.4542, -6.3433, -6.5989, -5.543, -5.2702, -5.9076, -4.8537, -5.892, -6.0429, -6.3698, -5.9045, -5.4759, -3.6009, -6.0072, -5.8926, -5.1928, -5.6433, -5.9307, -5.663, -5.6994, -4.7452, -6.1249, -3.766, -3.9119, -3.9432, -4.2044, -4.2044, -4.2568, -4.4615, -3.7035, -4.5278, -4.9377, -5.5389, -5.7371, -5.8163, -6.0559, -6.0561, -5.4571, -6.1427, -6.1434, -6.2551, -6.3116, -6.3116, -6.1855, -6.3318, -6.3613, -6.1282, -6.3514, -6.3618, -6.4353, -5.9466, -6.4144, -4.2973, -5.0308, -3.5594, -3.7712, -5.5098, -5.6694, -3.8838, -5.6676, -6.0019, -5.7896, -5.8343, -5.4802, -4.2402, -3.9889, -5.4999, -5.8776], \"loglift\": [30.0, 29.0, 28.0, 27.0, 26.0, 25.0, 24.0, 23.0, 22.0, 21.0, 20.0, 19.0, 18.0, 17.0, 16.0, 15.0, 14.0, 13.0, 12.0, 11.0, 10.0, 9.0, 8.0, 7.0, 6.0, 5.0, 4.0, 3.0, 2.0, 1.0, 0.3413, 0.3407, 0.3402, 0.3396, 0.3392, 0.3391, 0.3388, 0.3388, 0.3386, 0.3386, 0.3383, 0.3382, 0.3381, 0.3381, 0.3381, 0.3381, 0.3379, 0.3379, 0.3379, 0.3377, 0.3374, 0.3373, 0.3372, 0.3372, 0.3371, 0.3371, 0.3371, 0.337, 0.337, 0.337, 0.3363, 0.3321, 0.3354, 0.3145, 0.3266, 0.3267, 0.3336, 0.3093, 0.2682, 0.0978, 0.2995, 0.2864, 0.2082, 0.2434, 0.2728, 0.218, 0.1741, -0.1743, 0.2419, 1.2363, 1.2355, 1.2353, 1.2351, 1.2351, 1.2345, 1.2341, 1.2339, 1.2338, 1.2309, 1.2266, 1.2229, 1.2225, 1.2184, 1.2179, 1.2173, 1.2156, 1.2143, 1.2137, 1.2126, 1.2125, 1.2122, 1.2119, 1.2117, 1.2116, 1.2113, 1.2105, 1.2098, 1.2096, 1.2086, 1.2072, 1.2078, 1.1612, 1.1377, 1.1891, 1.1821, 1.0826, 1.1614, 1.1844, 1.1166, 1.1176, 0.9516, 0.3307, -0.2902, 0.6516, 0.4835]}, \"token.table\": {\"Topic\": [1, 2, 1, 2, 1, 1, 2, 1, 2, 1, 1, 2, 1, 2, 1, 2, 1, 2, 1, 2, 1, 1, 2, 1, 2, 1, 1, 2, 1, 2, 1, 2, 1, 2, 1, 2, 1, 2, 1, 2, 1, 2, 1, 1, 2, 1, 2, 1, 1, 1, 2, 1, 1, 1, 2, 1, 2, 1, 1, 1, 2, 1, 1, 2, 1, 1, 1, 2, 1, 2, 1, 2, 1, 2, 1, 1, 1, 1, 1, 2, 1, 1, 1, 2, 1, 2, 1, 2, 1, 2, 1, 2, 1, 2, 1, 1, 2, 1, 1, 1, 1, 2, 1, 2, 1, 2, 1, 1, 2, 1, 2, 1, 2, 1, 1, 1, 2, 1, 2, 1, 2, 1, 2, 1, 1, 2, 1, 2, 1, 2, 1, 2, 1, 1, 2, 1, 2, 1, 2, 1, 2, 1, 2, 1, 2, 1, 2, 1, 1, 2, 1, 2, 1, 2, 1], \"Freq\": [0.5333973787139115, 0.4650130993916151, 0.9679146906116348, 0.03541151307115737, 0.9972717684198216, 0.02903728037884044, 0.9698451646532708, 0.024893414496674694, 0.9957365798669877, 0.998913378520461, 0.2495488197542363, 0.7486464592627089, 0.9968314277753461, 0.008447723964197849, 0.041406670877247274, 0.9937601010539345, 0.0035145106100696166, 0.9981210132597711, 0.03408817038736299, 0.9885569412335268, 1.0015931514477419, 0.06243324348004157, 0.9364986522006236, 0.9298771463355684, 0.0737997735186959, 0.9885835829775316, 0.037052246637130894, 0.9633584125654032, 0.8744720688921952, 0.1256726326551658, 0.06550630348350332, 0.9170882487690465, 0.12345553903141877, 0.8888798810262151, 0.004063211199389984, 0.9954867438505463, 0.005441804929544822, 0.9958503021067024, 0.9843932680414001, 0.011860159855920484, 0.04466664999030496, 0.9379996497964042, 0.9986778531493317, 0.04548526228144986, 0.9551905079104471, 0.011282678434652195, 0.9928757022493931, 0.982242621199096, 0.9933161816042119, 0.9585280287773403, 0.03885924440989218, 0.9907874910205119, 0.9882977828464478, 0.05752453113569088, 0.958742185594848, 0.9793059916543001, 0.013793042135976059, 0.9993792033162663, 0.988462038038971, 0.9021193682116176, 0.09361616085214901, 0.9864485936846757, 0.0032936502904903973, 0.9946823877281, 0.992902770946483, 0.9894758132807799, 0.03707465690342724, 0.9639410794891082, 0.9346406424503579, 0.07009804818377685, 0.9965748147809261, 0.012153351399767393, 0.04938933323547812, 0.9877866647095623, 0.9939790135956483, 0.9983877360958561, 0.9967024002318339, 0.9946531289508285, 0.038565959841882186, 0.9641489960470547, 0.9921848954255714, 0.9932754836071158, 0.03639210085807351, 0.9825867231679849, 0.1179415065289505, 0.8963554496200238, 0.04376442315761762, 0.9628173094675876, 0.9461682202774214, 0.05699808555888081, 0.007030209098848474, 0.9982896920364833, 0.020493777804649026, 0.9837013346231532, 0.9895216617673607, 0.005441804929544822, 0.9958503021067024, 1.002613711049842, 1.000412775239956, 0.996409858546902, 0.045919441479445676, 0.9643082710683593, 0.9926062985000095, 0.012807823206451735, 0.03407760789645844, 0.9882506289972948, 0.9982117535301339, 0.14579774034152926, 0.8544425713038459, 0.04595343963460333, 0.9650222323266698, 0.004192053659121887, 0.997708770871009, 1.0023065782025804, 0.993494221624512, 0.5959037084362511, 0.40411860687056106, 0.7835633370031498, 0.21664905907395252, 0.024199904681823783, 0.9679961872729513, 0.005730988075195932, 0.9971919250840922, 0.991766704985449, 0.048309562381609564, 0.9661912476321913, 0.007509691942210867, 0.9987890283140454, 0.8482501765870475, 0.15117329879769165, 0.44363144968249213, 0.5545393121031152, 0.9900857326764024, 0.9707768461208628, 0.029040333003615554, 0.04462784575292013, 0.9818126065642427, 0.8801292741673077, 0.11847894075329142, 0.9078573461920201, 0.09628790035369911, 0.09603874257355574, 0.902764180191424, 0.07424649455897288, 0.9254295214671977, 0.02693692441536735, 0.9966662033685919, 0.9975372650382542, 0.030289675238842906, 0.969269607642973, 0.018708474440224894, 0.9728406708916946, 0.04376413888315056, 0.9628110554293123, 0.9993459940668007], \"Term\": [\"35mm\", \"35mm\", \"accident\", \"accident\", \"accidents\", \"addlcptrhyd\", \"addlcptrhyd\", \"along\", \"along\", \"amksocialwork\", \"auto\", \"auto\", \"available\", \"available\", \"avert\", \"avert\", \"awareness\", \"awareness\", \"bahadurpura\", \"bahadurpura\", \"beds\", \"blood\", \"blood\", \"book\", \"book\", \"carnival\", \"celebrations\", \"celebrations\", \"city\", \"city\", \"commuters\", \"commuters\", \"company\", \"company\", \"conducted\", \"conducted\", \"connection\", \"connection\", \"contact\", \"contact\", \"created\", \"created\", \"days\", \"distancing\", \"distancing\", \"drivers\", \"drivers\", \"evening\", \"garbage\", \"ghmc\", \"ghmc\", \"ghmconline\", \"good\", \"helmet\", \"helmet\", \"help\", \"help\", \"hicyberabad\", \"hihyderabad\", \"hospital\", \"hospital\", \"hyderabad_zone\", \"hydtpwebringawareness\", \"hydtpwebringawareness\", \"hydwatch\", \"illegal\", \"importance\", \"importance\", \"india\", \"india\", \"industry\", \"industry\", \"irregularities\", \"irregularities\", \"ktroffice\", \"ktrtrs\", \"last\", \"lockdown\", \"maintain\", \"maintain\", \"make\", \"many\", \"march\", \"march\", \"masks\", \"masks\", \"mirchowk\", \"mirchowk\", \"name\", \"name\", \"nationalroadsafetymonth\", \"nationalroadsafetymonth\", \"nationalroadsafetymonth2021\", \"nationalroadsafetymonth2021\", \"news\", \"observation\", \"observation\", \"online\", \"oxygen\", \"pandarajath\", \"particularly\", \"particularly\", \"people\", \"people\", \"physical\", \"physical\", \"please\", \"police\", \"police\", \"powder\", \"powder\", \"program\", \"program\", \"ready\", \"request\", \"road\", \"road\", \"roads\", \"roads\", \"rules\", \"rules\", \"safety\", \"safety\", \"save\", \"selling\", \"selling\", \"sensitized\", \"sensitized\", \"show\", \"show\", \"sudarshan\", \"sudarshan\", \"swachhhyd\", \"telangana\", \"telangana\", \"theatres\", \"theatres\", \"tickets\", \"tickets\", \"time\", \"time\", \"today\", \"today\", \"traffic\", \"traffic\", \"vakeelsaabtrailer\", \"vakeelsaabtrailer\", \"verified\", \"wear\", \"wear\", \"wearing\", \"wearing\", \"welovekalyanbabu\", \"welovekalyanbabu\", \"withcitizen\"]}, \"R\": 30, \"lambda.step\": 0.01, \"plot.opts\": {\"xlab\": \"PC1\", \"ylab\": \"PC2\"}, \"topic.order\": [2, 1]};\n",
              "\n",
              "function LDAvis_load_lib(url, callback){\n",
              "  var s = document.createElement('script');\n",
              "  s.src = url;\n",
              "  s.async = true;\n",
              "  s.onreadystatechange = s.onload = callback;\n",
              "  s.onerror = function(){console.warn(\"failed to load library \" + url);};\n",
              "  document.getElementsByTagName(\"head\")[0].appendChild(s);\n",
              "}\n",
              "\n",
              "if(typeof(LDAvis) !== \"undefined\"){\n",
              "   // already loaded: just create the visualization\n",
              "   !function(LDAvis){\n",
              "       new LDAvis(\"#\" + \"ldavis_el1791403572138037288287126732\", ldavis_el1791403572138037288287126732_data);\n",
              "   }(LDAvis);\n",
              "}else if(typeof define === \"function\" && define.amd){\n",
              "   // require.js is available: use it to load d3/LDAvis\n",
              "   require.config({paths: {d3: \"https://d3js.org/d3.v5\"}});\n",
              "   require([\"d3\"], function(d3){\n",
              "      window.d3 = d3;\n",
              "      LDAvis_load_lib(\"https://cdn.jsdelivr.net/gh/bmabey/pyLDAvis@3.3.1/pyLDAvis/js/ldavis.v3.0.0.js\", function(){\n",
              "        new LDAvis(\"#\" + \"ldavis_el1791403572138037288287126732\", ldavis_el1791403572138037288287126732_data);\n",
              "      });\n",
              "    });\n",
              "}else{\n",
              "    // require.js not available: dynamically load d3 & LDAvis\n",
              "    LDAvis_load_lib(\"https://d3js.org/d3.v5.js\", function(){\n",
              "         LDAvis_load_lib(\"https://cdn.jsdelivr.net/gh/bmabey/pyLDAvis@3.3.1/pyLDAvis/js/ldavis.v3.0.0.js\", function(){\n",
              "                 new LDAvis(\"#\" + \"ldavis_el1791403572138037288287126732\", ldavis_el1791403572138037288287126732_data);\n",
              "            })\n",
              "         });\n",
              "}\n",
              "</script>"
            ],
            "text/plain": [
              "PreparedData(topic_coordinates=              x    y  topics  cluster       Freq\n",
              "topic                                           \n",
              "1      0.162627  0.0       1        1  71.017112\n",
              "0     -0.162627  0.0       2        1  28.982888, topic_info=                        Term        Freq  ...  logprob  loglift\n",
              "51                   traffic  377.000000  ...  30.0000  30.0000\n",
              "10685  hydtpwebringawareness  303.000000  ...  29.0000  29.0000\n",
              "2641               awareness  284.000000  ...  28.0000  28.0000\n",
              "171                    today  312.000000  ...  27.0000  27.0000\n",
              "10462              conducted  246.000000  ...  26.0000  26.0000\n",
              "...                      ...         ...  ...      ...      ...\n",
              "592                     auto   51.135903  ...  -5.4802   0.9516\n",
              "15                      road  176.697824  ...  -4.2402   0.3307\n",
              "375                    roads  227.189497  ...  -3.9889  -0.2902\n",
              "5083               sudarshan   50.139175  ...  -5.4999   0.6516\n",
              "7229                    35mm   34.367344  ...  -5.8776   0.4835\n",
              "\n",
              "[125 rows x 6 columns], token_table=       Topic      Freq              Term\n",
              "term                                    \n",
              "7229       1  0.533397              35mm\n",
              "7229       2  0.465013              35mm\n",
              "20         1  0.967915          accident\n",
              "20         2  0.035412          accident\n",
              "1          1  0.997272         accidents\n",
              "...      ...       ...               ...\n",
              "3708       1  0.018708           wearing\n",
              "3708       2  0.972841           wearing\n",
              "10267      1  0.043764  welovekalyanbabu\n",
              "10267      2  0.962811  welovekalyanbabu\n",
              "110        1  0.999346       withcitizen\n",
              "\n",
              "[155 rows x 3 columns], R=30, lambda_step=0.01, plot_opts={'xlab': 'PC1', 'ylab': 'PC2'}, topic_order=[2, 1])"
            ]
          },
          "metadata": {},
          "execution_count": 125
        }
      ]
    },
    {
      "cell_type": "code",
      "source": [
        "df.head()"
      ],
      "metadata": {
        "colab": {
          "base_uri": "https://localhost:8080/",
          "height": 206
        },
        "id": "Cc5mCqI3J9pY",
        "outputId": "056c1676-198d-48b6-dbaf-29651174819a"
      },
      "execution_count": null,
      "outputs": [
        {
          "output_type": "execute_result",
          "data": {
            "text/html": [
              "\n",
              "  <div id=\"df-d2e48c85-65a1-4c72-9447-4c32852c6b8b\">\n",
              "    <div class=\"colab-df-container\">\n",
              "      <div>\n",
              "<style scoped>\n",
              "    .dataframe tbody tr th:only-of-type {\n",
              "        vertical-align: middle;\n",
              "    }\n",
              "\n",
              "    .dataframe tbody tr th {\n",
              "        vertical-align: top;\n",
              "    }\n",
              "\n",
              "    .dataframe thead th {\n",
              "        text-align: right;\n",
              "    }\n",
              "</style>\n",
              "<table border=\"1\" class=\"dataframe\">\n",
              "  <thead>\n",
              "    <tr style=\"text-align: right;\">\n",
              "      <th></th>\n",
              "      <th>Datetime</th>\n",
              "      <th>Tweet Id</th>\n",
              "      <th>Text</th>\n",
              "      <th>Username</th>\n",
              "      <th>cleaned_text</th>\n",
              "    </tr>\n",
              "  </thead>\n",
              "  <tbody>\n",
              "    <tr>\n",
              "      <th>0</th>\n",
              "      <td>2021-05-24 09:35:23+00:00</td>\n",
              "      <td>1396761739748732932</td>\n",
              "      <td>#Hyderabad needs lot over #footbridge (#pedest...</td>\n",
              "      <td>rg_pavan</td>\n",
              "      <td>[needs, footbridge, pedestrian, bridge, accide...</td>\n",
              "    </tr>\n",
              "    <tr>\n",
              "      <th>1</th>\n",
              "      <td>2021-05-15 18:08:43+00:00</td>\n",
              "      <td>1393629433181851649</td>\n",
              "      <td>@SonuSood @flyspicejet I belong to very poor  ...</td>\n",
              "      <td>EinsteinKing7</td>\n",
              "      <td>[sonusood, flyspicejet, belong, poor, backgrou...</td>\n",
              "    </tr>\n",
              "    <tr>\n",
              "      <th>2</th>\n",
              "      <td>2021-05-13 11:48:56+00:00</td>\n",
              "      <td>1392809078309593090</td>\n",
              "      <td>@overcover06 @BufferedStart Hyderabad traffic ...</td>\n",
              "      <td>sricharannch</td>\n",
              "      <td>[overcover06, bufferedstart, traffic, rule, te...</td>\n",
              "    </tr>\n",
              "    <tr>\n",
              "      <th>3</th>\n",
              "      <td>2021-05-12 11:27:18+00:00</td>\n",
              "      <td>1392441248049295361</td>\n",
              "      <td>@SoodFoundation @SonuSood \\n*Help manoj*\\nPati...</td>\n",
              "      <td>PrAvEeN_GaLi97</td>\n",
              "      <td>[soodfoundation, sonusood, *help, manoj*, pati...</td>\n",
              "    </tr>\n",
              "    <tr>\n",
              "      <th>4</th>\n",
              "      <td>2021-05-12 09:57:26+00:00</td>\n",
              "      <td>1392418630990581761</td>\n",
              "      <td>BETHALA MANOJ BABU \\nHe met with an road accid...</td>\n",
              "      <td>Vineeth029</td>\n",
              "      <td>[bethala, manoj, babu, road, accident, severe,...</td>\n",
              "    </tr>\n",
              "  </tbody>\n",
              "</table>\n",
              "</div>\n",
              "      <button class=\"colab-df-convert\" onclick=\"convertToInteractive('df-d2e48c85-65a1-4c72-9447-4c32852c6b8b')\"\n",
              "              title=\"Convert this dataframe to an interactive table.\"\n",
              "              style=\"display:none;\">\n",
              "        \n",
              "  <svg xmlns=\"http://www.w3.org/2000/svg\" height=\"24px\"viewBox=\"0 0 24 24\"\n",
              "       width=\"24px\">\n",
              "    <path d=\"M0 0h24v24H0V0z\" fill=\"none\"/>\n",
              "    <path d=\"M18.56 5.44l.94 2.06.94-2.06 2.06-.94-2.06-.94-.94-2.06-.94 2.06-2.06.94zm-11 1L8.5 8.5l.94-2.06 2.06-.94-2.06-.94L8.5 2.5l-.94 2.06-2.06.94zm10 10l.94 2.06.94-2.06 2.06-.94-2.06-.94-.94-2.06-.94 2.06-2.06.94z\"/><path d=\"M17.41 7.96l-1.37-1.37c-.4-.4-.92-.59-1.43-.59-.52 0-1.04.2-1.43.59L10.3 9.45l-7.72 7.72c-.78.78-.78 2.05 0 2.83L4 21.41c.39.39.9.59 1.41.59.51 0 1.02-.2 1.41-.59l7.78-7.78 2.81-2.81c.8-.78.8-2.07 0-2.86zM5.41 20L4 18.59l7.72-7.72 1.47 1.35L5.41 20z\"/>\n",
              "  </svg>\n",
              "      </button>\n",
              "      \n",
              "  <style>\n",
              "    .colab-df-container {\n",
              "      display:flex;\n",
              "      flex-wrap:wrap;\n",
              "      gap: 12px;\n",
              "    }\n",
              "\n",
              "    .colab-df-convert {\n",
              "      background-color: #E8F0FE;\n",
              "      border: none;\n",
              "      border-radius: 50%;\n",
              "      cursor: pointer;\n",
              "      display: none;\n",
              "      fill: #1967D2;\n",
              "      height: 32px;\n",
              "      padding: 0 0 0 0;\n",
              "      width: 32px;\n",
              "    }\n",
              "\n",
              "    .colab-df-convert:hover {\n",
              "      background-color: #E2EBFA;\n",
              "      box-shadow: 0px 1px 2px rgba(60, 64, 67, 0.3), 0px 1px 3px 1px rgba(60, 64, 67, 0.15);\n",
              "      fill: #174EA6;\n",
              "    }\n",
              "\n",
              "    [theme=dark] .colab-df-convert {\n",
              "      background-color: #3B4455;\n",
              "      fill: #D2E3FC;\n",
              "    }\n",
              "\n",
              "    [theme=dark] .colab-df-convert:hover {\n",
              "      background-color: #434B5C;\n",
              "      box-shadow: 0px 1px 3px 1px rgba(0, 0, 0, 0.15);\n",
              "      filter: drop-shadow(0px 1px 2px rgba(0, 0, 0, 0.3));\n",
              "      fill: #FFFFFF;\n",
              "    }\n",
              "  </style>\n",
              "\n",
              "      <script>\n",
              "        const buttonEl =\n",
              "          document.querySelector('#df-d2e48c85-65a1-4c72-9447-4c32852c6b8b button.colab-df-convert');\n",
              "        buttonEl.style.display =\n",
              "          google.colab.kernel.accessAllowed ? 'block' : 'none';\n",
              "\n",
              "        async function convertToInteractive(key) {\n",
              "          const element = document.querySelector('#df-d2e48c85-65a1-4c72-9447-4c32852c6b8b');\n",
              "          const dataTable =\n",
              "            await google.colab.kernel.invokeFunction('convertToInteractive',\n",
              "                                                     [key], {});\n",
              "          if (!dataTable) return;\n",
              "\n",
              "          const docLinkHtml = 'Like what you see? Visit the ' +\n",
              "            '<a target=\"_blank\" href=https://colab.research.google.com/notebooks/data_table.ipynb>data table notebook</a>'\n",
              "            + ' to learn more about interactive tables.';\n",
              "          element.innerHTML = '';\n",
              "          dataTable['output_type'] = 'display_data';\n",
              "          await google.colab.output.renderOutput(dataTable, element);\n",
              "          const docLink = document.createElement('div');\n",
              "          docLink.innerHTML = docLinkHtml;\n",
              "          element.appendChild(docLink);\n",
              "        }\n",
              "      </script>\n",
              "    </div>\n",
              "  </div>\n",
              "  "
            ],
            "text/plain": [
              "                    Datetime  ...                                       cleaned_text\n",
              "0  2021-05-24 09:35:23+00:00  ...  [needs, footbridge, pedestrian, bridge, accide...\n",
              "1  2021-05-15 18:08:43+00:00  ...  [sonusood, flyspicejet, belong, poor, backgrou...\n",
              "2  2021-05-13 11:48:56+00:00  ...  [overcover06, bufferedstart, traffic, rule, te...\n",
              "3  2021-05-12 11:27:18+00:00  ...  [soodfoundation, sonusood, *help, manoj*, pati...\n",
              "4  2021-05-12 09:57:26+00:00  ...  [bethala, manoj, babu, road, accident, severe,...\n",
              "\n",
              "[5 rows x 5 columns]"
            ]
          },
          "metadata": {},
          "execution_count": 126
        }
      ]
    },
    {
      "cell_type": "code",
      "source": [
        "# Creating a lookup table for topics\n",
        "topic_data = pd.DataFrame((ldamodel2.print_topics()),columns=['TopicNumber','TopKeywords'])\n",
        "topic_data['TopicName'] = ['road_topic', 'traffic_topic']\n",
        "topic_data = topic_data[['TopicNumber','TopicName','TopKeywords']]\n",
        "topic_data['TopKeywords'] = topic_data.TopKeywords.str.replace(r'[^a-z]',' ',regex=True).apply(lambda x: x.split())\n",
        "topic_data.style.set_properties(subset=['TopKeywords'], **{'width': '300px'})\n",
        "\n"
      ],
      "metadata": {
        "colab": {
          "base_uri": "https://localhost:8080/",
          "height": 164
        },
        "id": "7RnDYw8CGqNS",
        "outputId": "494c2764-357c-4041-b8d7-5449211e7555"
      },
      "execution_count": null,
      "outputs": [
        {
          "output_type": "execute_result",
          "data": {
            "text/html": [
              "<style type=\"text/css\">\n",
              "#T_b900a_row0_col2, #T_b900a_row1_col2 {\n",
              "  width: 300px;\n",
              "}\n",
              "</style>\n",
              "<table id=\"T_b900a_\" class=\"dataframe\">\n",
              "  <thead>\n",
              "    <tr>\n",
              "      <th class=\"blank level0\" >&nbsp;</th>\n",
              "      <th class=\"col_heading level0 col0\" >TopicNumber</th>\n",
              "      <th class=\"col_heading level0 col1\" >TopicName</th>\n",
              "      <th class=\"col_heading level0 col2\" >TopKeywords</th>\n",
              "    </tr>\n",
              "  </thead>\n",
              "  <tbody>\n",
              "    <tr>\n",
              "      <th id=\"T_b900a_level0_row0\" class=\"row_heading level0 row0\" >0</th>\n",
              "      <td id=\"T_b900a_row0_col0\" class=\"data row0 col0\" >0</td>\n",
              "      <td id=\"T_b900a_row0_col1\" class=\"data row0 col1\" >road_topic</td>\n",
              "      <td id=\"T_b900a_row0_col2\" class=\"data row0 col2\" >['traffic', 'hydtpwebringawareness', 'awareness', 'today', 'police', 'conducted', 'program', 'roads', 'observation', 'connection']</td>\n",
              "    </tr>\n",
              "    <tr>\n",
              "      <th id=\"T_b900a_level0_row1\" class=\"row_heading level0 row1\" >1</th>\n",
              "      <td id=\"T_b900a_row1_col0\" class=\"data row1 col0\" >1</td>\n",
              "      <td id=\"T_b900a_row1_col1\" class=\"data row1 col1\" >traffic_topic</td>\n",
              "      <td id=\"T_b900a_row1_col2\" class=\"data row1 col2\" >['roads', 'please', 'ktrtrs', 'road', 'telangana', 'city', 'people', 'book', 'lockdown', 'available']</td>\n",
              "    </tr>\n",
              "  </tbody>\n",
              "</table>\n"
            ],
            "text/plain": [
              "<pandas.io.formats.style.Styler at 0x7fa7778cb4d0>"
            ]
          },
          "metadata": {},
          "execution_count": 135
        }
      ]
    },
    {
      "cell_type": "code",
      "source": [
        "#Creating new columns and inserting topic numbers and names\n",
        "for index,sent in enumerate(ldamodel2[doc_term_matrix]):\n",
        "  topic_num =[]\n",
        "  topic_details = sorted(sent,key=lambda x: x[1], reverse=True)[:2] # Getting top 2 topics in descending order\n",
        "  topic_num.append(topic_details[0][0]) # Appending top topic\n",
        "  if len(topic_details) > 1:\n",
        "    if topic_details[1][1] > 0.35: # Appending second topic only if it has more than 35% influence on current row\n",
        "      topic_num.append(topic_details[1][0])\n",
        "  df.loc[index,'TopicNumber'] = ','.join(str(x) for x in sorted(topic_num))"
      ],
      "metadata": {
        "id": "TOOUkV1KLQ2H"
      },
      "execution_count": null,
      "outputs": []
    },
    {
      "cell_type": "code",
      "source": [
        "for index,topic_num in enumerate(df.TopicNumber):\n",
        "  topic_name_list=[]\n",
        "  for single_topic_num in topic_num.split(','):\n",
        "    single_topic_num=int(single_topic_num)\n",
        "    topic_name_list.append(topic_data.loc[topic_data.TopicNumber == single_topic_num,'TopicName'][single_topic_num])\n",
        "  # Extracting topic names from lookup table\n",
        "  df.loc[index,'TopicName'] =' & '.join(topic_name_list)"
      ],
      "metadata": {
        "id": "cZAvRhaZLaNy"
      },
      "execution_count": null,
      "outputs": []
    },
    {
      "cell_type": "code",
      "source": [
        "df.head()"
      ],
      "metadata": {
        "colab": {
          "base_uri": "https://localhost:8080/",
          "height": 206
        },
        "id": "0TDdFJjiLrCf",
        "outputId": "1975541f-50ff-41f2-e012-ddf514ccc519"
      },
      "execution_count": null,
      "outputs": [
        {
          "output_type": "execute_result",
          "data": {
            "text/html": [
              "\n",
              "  <div id=\"df-e54d8626-37d3-4e01-a2d0-ff16593beb6f\">\n",
              "    <div class=\"colab-df-container\">\n",
              "      <div>\n",
              "<style scoped>\n",
              "    .dataframe tbody tr th:only-of-type {\n",
              "        vertical-align: middle;\n",
              "    }\n",
              "\n",
              "    .dataframe tbody tr th {\n",
              "        vertical-align: top;\n",
              "    }\n",
              "\n",
              "    .dataframe thead th {\n",
              "        text-align: right;\n",
              "    }\n",
              "</style>\n",
              "<table border=\"1\" class=\"dataframe\">\n",
              "  <thead>\n",
              "    <tr style=\"text-align: right;\">\n",
              "      <th></th>\n",
              "      <th>Datetime</th>\n",
              "      <th>Tweet Id</th>\n",
              "      <th>Text</th>\n",
              "      <th>Username</th>\n",
              "      <th>cleaned_text</th>\n",
              "      <th>TopicNumber</th>\n",
              "      <th>TopicName</th>\n",
              "    </tr>\n",
              "  </thead>\n",
              "  <tbody>\n",
              "    <tr>\n",
              "      <th>0</th>\n",
              "      <td>2021-05-24 09:35:23+00:00</td>\n",
              "      <td>1396761739748732932</td>\n",
              "      <td>#Hyderabad needs lot over #footbridge (#pedest...</td>\n",
              "      <td>rg_pavan</td>\n",
              "      <td>[needs, footbridge, pedestrian, bridge, accide...</td>\n",
              "      <td>1</td>\n",
              "      <td>traffic_topic</td>\n",
              "    </tr>\n",
              "    <tr>\n",
              "      <th>1</th>\n",
              "      <td>2021-05-15 18:08:43+00:00</td>\n",
              "      <td>1393629433181851649</td>\n",
              "      <td>@SonuSood @flyspicejet I belong to very poor  ...</td>\n",
              "      <td>EinsteinKing7</td>\n",
              "      <td>[sonusood, flyspicejet, belong, poor, backgrou...</td>\n",
              "      <td>1</td>\n",
              "      <td>traffic_topic</td>\n",
              "    </tr>\n",
              "    <tr>\n",
              "      <th>2</th>\n",
              "      <td>2021-05-13 11:48:56+00:00</td>\n",
              "      <td>1392809078309593090</td>\n",
              "      <td>@overcover06 @BufferedStart Hyderabad traffic ...</td>\n",
              "      <td>sricharannch</td>\n",
              "      <td>[overcover06, bufferedstart, traffic, rule, te...</td>\n",
              "      <td>1</td>\n",
              "      <td>traffic_topic</td>\n",
              "    </tr>\n",
              "    <tr>\n",
              "      <th>3</th>\n",
              "      <td>2021-05-12 11:27:18+00:00</td>\n",
              "      <td>1392441248049295361</td>\n",
              "      <td>@SoodFoundation @SonuSood \\n*Help manoj*\\nPati...</td>\n",
              "      <td>PrAvEeN_GaLi97</td>\n",
              "      <td>[soodfoundation, sonusood, *help, manoj*, pati...</td>\n",
              "      <td>1</td>\n",
              "      <td>traffic_topic</td>\n",
              "    </tr>\n",
              "    <tr>\n",
              "      <th>4</th>\n",
              "      <td>2021-05-12 09:57:26+00:00</td>\n",
              "      <td>1392418630990581761</td>\n",
              "      <td>BETHALA MANOJ BABU \\nHe met with an road accid...</td>\n",
              "      <td>Vineeth029</td>\n",
              "      <td>[bethala, manoj, babu, road, accident, severe,...</td>\n",
              "      <td>1</td>\n",
              "      <td>traffic_topic</td>\n",
              "    </tr>\n",
              "  </tbody>\n",
              "</table>\n",
              "</div>\n",
              "      <button class=\"colab-df-convert\" onclick=\"convertToInteractive('df-e54d8626-37d3-4e01-a2d0-ff16593beb6f')\"\n",
              "              title=\"Convert this dataframe to an interactive table.\"\n",
              "              style=\"display:none;\">\n",
              "        \n",
              "  <svg xmlns=\"http://www.w3.org/2000/svg\" height=\"24px\"viewBox=\"0 0 24 24\"\n",
              "       width=\"24px\">\n",
              "    <path d=\"M0 0h24v24H0V0z\" fill=\"none\"/>\n",
              "    <path d=\"M18.56 5.44l.94 2.06.94-2.06 2.06-.94-2.06-.94-.94-2.06-.94 2.06-2.06.94zm-11 1L8.5 8.5l.94-2.06 2.06-.94-2.06-.94L8.5 2.5l-.94 2.06-2.06.94zm10 10l.94 2.06.94-2.06 2.06-.94-2.06-.94-.94-2.06-.94 2.06-2.06.94z\"/><path d=\"M17.41 7.96l-1.37-1.37c-.4-.4-.92-.59-1.43-.59-.52 0-1.04.2-1.43.59L10.3 9.45l-7.72 7.72c-.78.78-.78 2.05 0 2.83L4 21.41c.39.39.9.59 1.41.59.51 0 1.02-.2 1.41-.59l7.78-7.78 2.81-2.81c.8-.78.8-2.07 0-2.86zM5.41 20L4 18.59l7.72-7.72 1.47 1.35L5.41 20z\"/>\n",
              "  </svg>\n",
              "      </button>\n",
              "      \n",
              "  <style>\n",
              "    .colab-df-container {\n",
              "      display:flex;\n",
              "      flex-wrap:wrap;\n",
              "      gap: 12px;\n",
              "    }\n",
              "\n",
              "    .colab-df-convert {\n",
              "      background-color: #E8F0FE;\n",
              "      border: none;\n",
              "      border-radius: 50%;\n",
              "      cursor: pointer;\n",
              "      display: none;\n",
              "      fill: #1967D2;\n",
              "      height: 32px;\n",
              "      padding: 0 0 0 0;\n",
              "      width: 32px;\n",
              "    }\n",
              "\n",
              "    .colab-df-convert:hover {\n",
              "      background-color: #E2EBFA;\n",
              "      box-shadow: 0px 1px 2px rgba(60, 64, 67, 0.3), 0px 1px 3px 1px rgba(60, 64, 67, 0.15);\n",
              "      fill: #174EA6;\n",
              "    }\n",
              "\n",
              "    [theme=dark] .colab-df-convert {\n",
              "      background-color: #3B4455;\n",
              "      fill: #D2E3FC;\n",
              "    }\n",
              "\n",
              "    [theme=dark] .colab-df-convert:hover {\n",
              "      background-color: #434B5C;\n",
              "      box-shadow: 0px 1px 3px 1px rgba(0, 0, 0, 0.15);\n",
              "      filter: drop-shadow(0px 1px 2px rgba(0, 0, 0, 0.3));\n",
              "      fill: #FFFFFF;\n",
              "    }\n",
              "  </style>\n",
              "\n",
              "      <script>\n",
              "        const buttonEl =\n",
              "          document.querySelector('#df-e54d8626-37d3-4e01-a2d0-ff16593beb6f button.colab-df-convert');\n",
              "        buttonEl.style.display =\n",
              "          google.colab.kernel.accessAllowed ? 'block' : 'none';\n",
              "\n",
              "        async function convertToInteractive(key) {\n",
              "          const element = document.querySelector('#df-e54d8626-37d3-4e01-a2d0-ff16593beb6f');\n",
              "          const dataTable =\n",
              "            await google.colab.kernel.invokeFunction('convertToInteractive',\n",
              "                                                     [key], {});\n",
              "          if (!dataTable) return;\n",
              "\n",
              "          const docLinkHtml = 'Like what you see? Visit the ' +\n",
              "            '<a target=\"_blank\" href=https://colab.research.google.com/notebooks/data_table.ipynb>data table notebook</a>'\n",
              "            + ' to learn more about interactive tables.';\n",
              "          element.innerHTML = '';\n",
              "          dataTable['output_type'] = 'display_data';\n",
              "          await google.colab.output.renderOutput(dataTable, element);\n",
              "          const docLink = document.createElement('div');\n",
              "          docLink.innerHTML = docLinkHtml;\n",
              "          element.appendChild(docLink);\n",
              "        }\n",
              "      </script>\n",
              "    </div>\n",
              "  </div>\n",
              "  "
            ],
            "text/plain": [
              "                    Datetime             Tweet Id  ... TopicNumber      TopicName\n",
              "0  2021-05-24 09:35:23+00:00  1396761739748732932  ...           1  traffic_topic\n",
              "1  2021-05-15 18:08:43+00:00  1393629433181851649  ...           1  traffic_topic\n",
              "2  2021-05-13 11:48:56+00:00  1392809078309593090  ...           1  traffic_topic\n",
              "3  2021-05-12 11:27:18+00:00  1392441248049295361  ...           1  traffic_topic\n",
              "4  2021-05-12 09:57:26+00:00  1392418630990581761  ...           1  traffic_topic\n",
              "\n",
              "[5 rows x 7 columns]"
            ]
          },
          "metadata": {},
          "execution_count": 138
        }
      ]
    },
    {
      "cell_type": "code",
      "source": [
        "#Visualisation\n",
        "plt.figure(figsize=(18,8))\n",
        "ax = sns.barplot(x=df.TopicName.value_counts()[:6].index,y=df.TopicName.value_counts()[:6].values, palette = 'copper')\n",
        "# Labeling each bar\n",
        "for p in ax.patches:\n",
        "    ax.annotate(p.get_height(), (p.get_x() + p.get_width() / 2., p.get_height()+50),ha = 'center', va = 'center')\n",
        "# Labelling\n",
        "plt.xticks(size=15, weight = 'bold', color = 'brown')\n",
        "plt.yticks(size=15, weight = 'bold', color = 'brown')\n",
        "plt.xlabel('Topic Names',size=20, weight = 'bold', color = 'maroon')\n",
        "plt.ylabel('Count of topics',size=20, weight = 'bold', color = 'maroon')\n",
        "plt.title('Most talked topics in reviews',size=30, weight = 'bold')\n",
        "plt.show()\n",
        "\n"
      ],
      "metadata": {
        "colab": {
          "base_uri": "https://localhost:8080/",
          "height": 541
        },
        "id": "tqVnXP8MLvOp",
        "outputId": "d67a6c9d-d2bd-4b80-d5d9-214bb7b5e1a3"
      },
      "execution_count": null,
      "outputs": [
        {
          "output_type": "display_data",
          "data": {
            "image/png": "[encoded data removed]",
            "text/plain": [
              "<Figure size 1296x576 with 1 Axes>"
            ]
          },
          "metadata": {
            "needs_background": "light"
          }
        }
      ]
    },
    {
      "cell_type": "markdown",
      "source": [
        "## **Observations:**\n",
        "- Most reviews were about Batteries. Followed by Call and connectivity.\n"
      ],
      "metadata": {
        "id": "gA9tzhtfg0EY"
      }
    },
    {
      "cell_type": "code",
      "source": [
        "plt.figure(figsize=(18,8))\n",
        "ax = sns.barplot(y=df.TopicName.value_counts().index,x=df.TopicName.value_counts().values, palette = 'copper')\n",
        "plt.xticks(size=13, weight = 'bold', color = 'brown')\n",
        "plt.yticks(size=13, weight = 'bold', color = 'brown')\n",
        "plt.xlabel('Topic Names combined',size=15, weight = 'bold', color = 'maroon')\n",
        "plt.ylabel('Count of combined topics',size=15, weight = 'bold', color = 'maroon')\n",
        "plt.title('Most talked combined topics in reviews',size=25, weight = 'bold')\n",
        "\n",
        "plt.show();"
      ],
      "metadata": {
        "colab": {
          "base_uri": "https://localhost:8080/",
          "height": 530
        },
        "id": "xyxIaVSMMdJm",
        "outputId": "4a1a0916-b74a-47f9-cbb6-283d789e6a68"
      },
      "execution_count": null,
      "outputs": [
        {
          "output_type": "display_data",
          "data": {
            "image/png": "[encoded data removed]",
            "text/plain": [
              "<Figure size 1296x576 with 1 Axes>"
            ]
          },
          "metadata": {
            "needs_background": "light"
          }
        }
      ]
    }
  ]
}